{
  "cells": [
    {
      "cell_type": "markdown",
      "metadata": {
        "id": "Cs9E_R5yD48u"
      },
      "source": [
        "# **Assignment \\#2**: Machine Learning MC886/MO444\n",
        "University of Campinas (UNICAMP), Institute of Computing (IC)\n",
        "\n",
        "Prof. Sandra Avila, 2022s2\n",
        "\n"
      ]
    },
    {
      "cell_type": "code",
      "execution_count": 2,
      "metadata": {
        "colab": {
          "base_uri": "https://localhost:8080/"
        },
        "id": "tFS9Oum_RJX9",
        "outputId": "45094cce-bb6b-4ad6-966e-434b6c7b9db0"
      },
      "outputs": [
        {
          "name": "stdout",
          "output_type": "stream",
          "text": [
            "RA1: 213259 Arthur Baia\n",
            "RA2: 200025 José Afonso\n"
          ]
        }
      ],
      "source": [
        "# TODO: RA & Name\n",
        "print(f'RA1: 213259 ' + 'Arthur Baia')\n",
        "print(f'RA2: 200025 ' + 'José Afonso')\n"
      ]
    },
    {
      "cell_type": "markdown",
      "metadata": {
        "id": "IVGH2s7fD_03"
      },
      "source": [
        "## Objective\n",
        "\n",
        "Explore **linear regression** and **logistic regression** alternatives and come up with the best possible model for the problems, avoiding overfitting. In particular, predict the performance of students from public schools in the state of São Paulo based on socioeconomic data from SARESP (School Performance Assessment System of the State of São Paulo, or Sistema de Avaliação de Rendimento Escolar do Estado de São Paulo) 2021."
      ]
    },
    {
      "cell_type": "markdown",
      "metadata": {
        "id": "r3XDZRGqEwsk"
      },
      "source": [
        "### Dataset\n",
        "\n",
        "These data were aggregated from [Open Data Platform of the Secretary of Education of the State of São Paulo](https://dados.educacao.sp.gov.br/) (*Portal de Dados Abertos da Secretaria da Educação do Estado de São Paulo*). The dataset is based on two data sources: [SARESP questionnaire](https://dados.educacao.sp.gov.br/dataset/question%C3%A1rios-saresp) and [SARESP test](https://dados.educacao.sp.gov.br/dataset/profici%C3%AAncia-do-sistema-de-avalia%C3%A7%C3%A3o-de-rendimento-escolar-do-estado-de-s%C3%A3o-paulo-saresp-por), conducted in 2021 with students from the 5th and 9th year of Primary School and 3rd year of Highschool. The questionnaire comprehends 63 socio-economical questions, and it is available at the [link](https://dados.educacao.sp.gov.br/sites/default/files/Saresp_Quest_2021_Perguntas_Alunos.pdf ) ([English version](https://docs.google.com/document/d/1GUax3wwYxA43d3iNOiyCRImeCHgx8vUJrHlSzzYIXA4/edit?usp=sharing)), and the test is composed of questions of Portuguese, Mathematics, and Natural Sciences.\n",
        "\n",
        "\n",
        "**Data Dictionary**:\n",
        "\n",
        "- **CD_ALUNO**: Student ID;\n",
        "\n",
        "- **CODESC**: School ID;\n",
        "\n",
        "- **NOMESC**: School Name;\n",
        "\n",
        "- **RegiaoMetropolitana**: Metropolitan region;\n",
        "\n",
        "- **DE**: Name of the Education Board;\n",
        "\n",
        "- **CODMUN**: City ID;\n",
        "\n",
        "- **MUN**: City name;\n",
        "\n",
        "- **SERIE_ANO**: Scholar year;\n",
        "\n",
        "- **TURMA**: Class;\n",
        "\n",
        "- **TP_SEXO**: Sex (Female/Male);\n",
        "\n",
        "- **DT_NASCIMENTO**: Birth date;\n",
        "\n",
        "- **PERIODO**: Period of study (morning, afternoon, evening);\n",
        "\n",
        "- **Tem_Nec**: Whether student has any special needs (1 = yes, 0 = no);\n",
        "\n",
        "- **NEC_ESP_1** - **NEC_ESP_5**: Student disabilities;\n",
        "\n",
        "- **Tipo_PROVA**: Exam type (A = Enlarged, B = Braile, C = Common);\n",
        "\n",
        "- **QN**: Student answer to the question N (N= 1, ... , 63), see  questions in [questionnaire](https://dados.educacao.sp.gov.br/sites/default/files/Saresp_Quest_2021_Perguntas_Alunos.pdf ) ([English version](https://docs.google.com/document/d/1GUax3wwYxA43d3iNOiyCRImeCHgx8vUJrHlSzzYIXA4/edit?usp=sharing));\n",
        "\n",
        "- **porc_ACERT_lp**: Percentage of correct answers in the Portuguese test;\n",
        "\n",
        "- **porc_ACERT_MAT**: Percentage of correct answers in the Mathematics test;\n",
        "\n",
        "- **porc_ACERT_CIE**: Percentage of correct answers in the Natural Sciences test;\n",
        "\n",
        "- **nivel_profic_lp**: Proficiency level in the Portuguese test;\n",
        "\n",
        "- **nivel_profic_mat**: Proficiency level in the Mathematics test;\n",
        "\n",
        "- **nivel_profic_cie**:  Proficiency level in the Natural Sciences test.\n",
        "\n",
        "\n",
        "---\n",
        "\n",
        "\n",
        "\n",
        "You must respect the following training/test split:\n",
        "- SARESP_train.csv\n",
        "- SARESP_test.csv"
      ]
    },
    {
      "cell_type": "markdown",
      "metadata": {
        "id": "5FAA8hsZUseO"
      },
      "source": [
        "## Linear Regression\n",
        "\n",
        "This part of the assignment aims to predict students' performance on Portuguese, Mathematics, and Natural Sciences tests (target values: `porc_ACERT_lp`, `porc_ACERT_MAT`, and  `porc_ACERT_CIE`) based on their socioeconomic data. Then, at this point, you have to **drop the columns `nivel_profic_lp`, `nivel_profic_mat`** and **`nivel_profic_cie`**."
      ]
    },
    {
      "cell_type": "markdown",
      "metadata": {
        "id": "5d495CmpCltx"
      },
      "source": [
        "### Activities\n",
        "\n",
        "1. (3.5 points) Perform Linear Regression. You should implement your solution and compare it with ```sklearn.linear_model.SGDRegressor``` (linear model fitted by minimizing a regularized empirical loss with SGD, http://scikit-learn.org). Keep in mind that friends don't let friends use testing data for training :-)\n",
        "\n",
        "Note: Before we start an ML project, we always conduct a brief exploratory analysis :D \n",
        "\n",
        "Some factors to consider: Are there any outliers? Are there missing values? How will you handle categorical variables? Are there any features with low correlation with the target variables? What happens if you drop them?\n",
        "\n",
        "\n"
      ]
    },
    {
      "cell_type": "code",
      "execution_count": 64,
      "metadata": {
        "colab": {
          "base_uri": "https://localhost:8080/"
        },
        "id": "3y0QxxH1KgE1",
        "outputId": "c80087fa-d4a6-4cfb-dbb8-e0ff167ae8f2"
      },
      "outputs": [
        {
          "name": "stderr",
          "output_type": "stream",
          "text": [
            "e:\\anaconda\\lib\\site-packages\\IPython\\core\\interactiveshell.py:3165: DtypeWarning: Columns (78) have mixed types.Specify dtype option on import or set low_memory=False.\n",
            "  has_raised = await self.run_ast_nodes(code_ast.body, cell_name,\n"
          ]
        }
      ],
      "source": [
        "# TODO: Load and preprocess your dataset.\n",
        "\n",
        "import numpy as np\n",
        "import pandas as pd\n",
        "import matplotlib.pyplot as plt\n",
        "import seaborn as sns\n",
        "%matplotlib inline\n",
        "\n",
        "df = pd.read_csv(\"SARESP_train.csv\")\n"
      ]
    },
    {
      "cell_type": "code",
      "execution_count": 65,
      "metadata": {
        "colab": {
          "base_uri": "https://localhost:8080/",
          "height": 589
        },
        "id": "DAADl99uoJp1",
        "outputId": "aecc2d5c-d89c-4b7f-c957-cfe195d94a0d"
      },
      "outputs": [
        {
          "data": {
            "text/html": [
              "<div>\n",
              "<style scoped>\n",
              "    .dataframe tbody tr th:only-of-type {\n",
              "        vertical-align: middle;\n",
              "    }\n",
              "\n",
              "    .dataframe tbody tr th {\n",
              "        vertical-align: top;\n",
              "    }\n",
              "\n",
              "    .dataframe thead th {\n",
              "        text-align: right;\n",
              "    }\n",
              "</style>\n",
              "<table border=\"1\" class=\"dataframe\">\n",
              "  <thead>\n",
              "    <tr style=\"text-align: right;\">\n",
              "      <th></th>\n",
              "      <th>CD_ALUNO</th>\n",
              "      <th>NOMESC</th>\n",
              "      <th>Q1</th>\n",
              "      <th>Q2</th>\n",
              "      <th>Q3</th>\n",
              "      <th>Q4</th>\n",
              "      <th>Q5</th>\n",
              "      <th>Q6</th>\n",
              "      <th>Q7</th>\n",
              "      <th>Q8</th>\n",
              "      <th>...</th>\n",
              "      <th>NEC_ESP_4</th>\n",
              "      <th>NEC_ESP_5</th>\n",
              "      <th>Tipo_PROVA</th>\n",
              "      <th>Tem_Nec</th>\n",
              "      <th>porc_ACERT_lp</th>\n",
              "      <th>porc_ACERT_MAT</th>\n",
              "      <th>porc_ACERT_CIE</th>\n",
              "      <th>nivel_profic_lp</th>\n",
              "      <th>nivel_profic_mat</th>\n",
              "      <th>nivel_profic_cie</th>\n",
              "    </tr>\n",
              "  </thead>\n",
              "  <tbody>\n",
              "    <tr>\n",
              "      <th>0</th>\n",
              "      <td>26270013</td>\n",
              "      <td>JULIO FORTES</td>\n",
              "      <td>B</td>\n",
              "      <td>E</td>\n",
              "      <td>E</td>\n",
              "      <td>E</td>\n",
              "      <td>E</td>\n",
              "      <td>E</td>\n",
              "      <td>E</td>\n",
              "      <td>E</td>\n",
              "      <td>...</td>\n",
              "      <td>NaN</td>\n",
              "      <td>NaN</td>\n",
              "      <td>C</td>\n",
              "      <td>0</td>\n",
              "      <td>41.7</td>\n",
              "      <td>20.8</td>\n",
              "      <td>20.8</td>\n",
              "      <td>Abaixo do Básico</td>\n",
              "      <td>Abaixo do Básico</td>\n",
              "      <td>Abaixo do Básico</td>\n",
              "    </tr>\n",
              "    <tr>\n",
              "      <th>1</th>\n",
              "      <td>30756614</td>\n",
              "      <td>MESSIAS FREIRE PROFESSOR</td>\n",
              "      <td>B</td>\n",
              "      <td>D</td>\n",
              "      <td>E</td>\n",
              "      <td>C</td>\n",
              "      <td>E</td>\n",
              "      <td>E</td>\n",
              "      <td>E</td>\n",
              "      <td>E</td>\n",
              "      <td>...</td>\n",
              "      <td>NaN</td>\n",
              "      <td>NaN</td>\n",
              "      <td>C</td>\n",
              "      <td>0</td>\n",
              "      <td>83.3</td>\n",
              "      <td>100.0</td>\n",
              "      <td>66.7</td>\n",
              "      <td>Adequado</td>\n",
              "      <td>Avançado</td>\n",
              "      <td>Adequado</td>\n",
              "    </tr>\n",
              "    <tr>\n",
              "      <th>2</th>\n",
              "      <td>26014872</td>\n",
              "      <td>JOSE CONTI</td>\n",
              "      <td>B</td>\n",
              "      <td>E</td>\n",
              "      <td>B</td>\n",
              "      <td>D</td>\n",
              "      <td>E</td>\n",
              "      <td>B</td>\n",
              "      <td>D</td>\n",
              "      <td>C</td>\n",
              "      <td>...</td>\n",
              "      <td>NaN</td>\n",
              "      <td>NaN</td>\n",
              "      <td>C</td>\n",
              "      <td>0</td>\n",
              "      <td>58.3</td>\n",
              "      <td>37.5</td>\n",
              "      <td>54.2</td>\n",
              "      <td>Básico</td>\n",
              "      <td>Básico</td>\n",
              "      <td>Básico</td>\n",
              "    </tr>\n",
              "    <tr>\n",
              "      <th>3</th>\n",
              "      <td>25739025</td>\n",
              "      <td>NAPOLEAO DE CARVALHO FREIRE PROFESSOR</td>\n",
              "      <td>B</td>\n",
              "      <td>D</td>\n",
              "      <td>E</td>\n",
              "      <td>D</td>\n",
              "      <td>C</td>\n",
              "      <td>E</td>\n",
              "      <td>D</td>\n",
              "      <td>D</td>\n",
              "      <td>...</td>\n",
              "      <td>NaN</td>\n",
              "      <td>NaN</td>\n",
              "      <td>C</td>\n",
              "      <td>0</td>\n",
              "      <td>29.2</td>\n",
              "      <td>29.2</td>\n",
              "      <td>16.7</td>\n",
              "      <td>Abaixo do Básico</td>\n",
              "      <td>Abaixo do Básico</td>\n",
              "      <td>Abaixo do Básico</td>\n",
              "    </tr>\n",
              "    <tr>\n",
              "      <th>4</th>\n",
              "      <td>27363009</td>\n",
              "      <td>RESIDENCIAL BORDON</td>\n",
              "      <td>B</td>\n",
              "      <td>D</td>\n",
              "      <td>E</td>\n",
              "      <td>E</td>\n",
              "      <td>E</td>\n",
              "      <td>E</td>\n",
              "      <td>E</td>\n",
              "      <td>C</td>\n",
              "      <td>...</td>\n",
              "      <td>NaN</td>\n",
              "      <td>NaN</td>\n",
              "      <td>C</td>\n",
              "      <td>0</td>\n",
              "      <td>79.2</td>\n",
              "      <td>41.7</td>\n",
              "      <td>50.0</td>\n",
              "      <td>Adequado</td>\n",
              "      <td>Abaixo do Básico</td>\n",
              "      <td>Básico</td>\n",
              "    </tr>\n",
              "    <tr>\n",
              "      <th>...</th>\n",
              "      <td>...</td>\n",
              "      <td>...</td>\n",
              "      <td>...</td>\n",
              "      <td>...</td>\n",
              "      <td>...</td>\n",
              "      <td>...</td>\n",
              "      <td>...</td>\n",
              "      <td>...</td>\n",
              "      <td>...</td>\n",
              "      <td>...</td>\n",
              "      <td>...</td>\n",
              "      <td>...</td>\n",
              "      <td>...</td>\n",
              "      <td>...</td>\n",
              "      <td>...</td>\n",
              "      <td>...</td>\n",
              "      <td>...</td>\n",
              "      <td>...</td>\n",
              "      <td>...</td>\n",
              "      <td>...</td>\n",
              "      <td>...</td>\n",
              "    </tr>\n",
              "    <tr>\n",
              "      <th>120591</th>\n",
              "      <td>28799794</td>\n",
              "      <td>ENNIO CHIESA PROFESSOR</td>\n",
              "      <td>A</td>\n",
              "      <td>E</td>\n",
              "      <td>E</td>\n",
              "      <td>E</td>\n",
              "      <td>E</td>\n",
              "      <td>E</td>\n",
              "      <td>E</td>\n",
              "      <td>E</td>\n",
              "      <td>...</td>\n",
              "      <td>NaN</td>\n",
              "      <td>NaN</td>\n",
              "      <td>C</td>\n",
              "      <td>0</td>\n",
              "      <td>79.2</td>\n",
              "      <td>66.7</td>\n",
              "      <td>83.3</td>\n",
              "      <td>Adequado</td>\n",
              "      <td>Básico</td>\n",
              "      <td>Adequado</td>\n",
              "    </tr>\n",
              "    <tr>\n",
              "      <th>120592</th>\n",
              "      <td>27825068</td>\n",
              "      <td>HELIO HELENE</td>\n",
              "      <td>B</td>\n",
              "      <td>D</td>\n",
              "      <td>D</td>\n",
              "      <td>D</td>\n",
              "      <td>D</td>\n",
              "      <td>D</td>\n",
              "      <td>D</td>\n",
              "      <td>D</td>\n",
              "      <td>...</td>\n",
              "      <td>NaN</td>\n",
              "      <td>NaN</td>\n",
              "      <td>C</td>\n",
              "      <td>0</td>\n",
              "      <td>37.5</td>\n",
              "      <td>25.0</td>\n",
              "      <td>16.7</td>\n",
              "      <td>Abaixo do Básico</td>\n",
              "      <td>Abaixo do Básico</td>\n",
              "      <td>Abaixo do Básico</td>\n",
              "    </tr>\n",
              "    <tr>\n",
              "      <th>120593</th>\n",
              "      <td>23873470</td>\n",
              "      <td>ALBERTO SANTOS DUMONT</td>\n",
              "      <td>A</td>\n",
              "      <td>E</td>\n",
              "      <td>E</td>\n",
              "      <td>E</td>\n",
              "      <td>E</td>\n",
              "      <td>E</td>\n",
              "      <td>D</td>\n",
              "      <td>D</td>\n",
              "      <td>...</td>\n",
              "      <td>NaN</td>\n",
              "      <td>NaN</td>\n",
              "      <td>C</td>\n",
              "      <td>0</td>\n",
              "      <td>50.0</td>\n",
              "      <td>37.5</td>\n",
              "      <td>41.7</td>\n",
              "      <td>Básico</td>\n",
              "      <td>Abaixo do Básico</td>\n",
              "      <td>Abaixo do Básico</td>\n",
              "    </tr>\n",
              "    <tr>\n",
              "      <th>120594</th>\n",
              "      <td>31376275</td>\n",
              "      <td>FRANCISCO BONFIM</td>\n",
              "      <td>B</td>\n",
              "      <td>E</td>\n",
              "      <td>C</td>\n",
              "      <td>C</td>\n",
              "      <td>D</td>\n",
              "      <td>B</td>\n",
              "      <td>B</td>\n",
              "      <td>A</td>\n",
              "      <td>...</td>\n",
              "      <td>NaN</td>\n",
              "      <td>NaN</td>\n",
              "      <td>C</td>\n",
              "      <td>1</td>\n",
              "      <td>45.8</td>\n",
              "      <td>70.8</td>\n",
              "      <td>54.2</td>\n",
              "      <td>Abaixo do Básico</td>\n",
              "      <td>Básico</td>\n",
              "      <td>Abaixo do Básico</td>\n",
              "    </tr>\n",
              "    <tr>\n",
              "      <th>120595</th>\n",
              "      <td>28109335</td>\n",
              "      <td>MAGDALENA SANSEVERINO GROSSO PROFESSORA</td>\n",
              "      <td>A</td>\n",
              "      <td>A</td>\n",
              "      <td>A</td>\n",
              "      <td>A</td>\n",
              "      <td>A</td>\n",
              "      <td>A</td>\n",
              "      <td>A</td>\n",
              "      <td>A</td>\n",
              "      <td>...</td>\n",
              "      <td>NaN</td>\n",
              "      <td>NaN</td>\n",
              "      <td>C</td>\n",
              "      <td>1</td>\n",
              "      <td>37.5</td>\n",
              "      <td>16.7</td>\n",
              "      <td>16.7</td>\n",
              "      <td>Abaixo do Básico</td>\n",
              "      <td>Abaixo do Básico</td>\n",
              "      <td>Abaixo do Básico</td>\n",
              "    </tr>\n",
              "  </tbody>\n",
              "</table>\n",
              "<p>120596 rows × 88 columns</p>\n",
              "</div>"
            ],
            "text/plain": [
              "        CD_ALUNO                                   NOMESC Q1 Q2 Q3 Q4 Q5 Q6  \\\n",
              "0       26270013                             JULIO FORTES  B  E  E  E  E  E   \n",
              "1       30756614                 MESSIAS FREIRE PROFESSOR  B  D  E  C  E  E   \n",
              "2       26014872                               JOSE CONTI  B  E  B  D  E  B   \n",
              "3       25739025    NAPOLEAO DE CARVALHO FREIRE PROFESSOR  B  D  E  D  C  E   \n",
              "4       27363009                       RESIDENCIAL BORDON  B  D  E  E  E  E   \n",
              "...          ...                                      ... .. .. .. .. .. ..   \n",
              "120591  28799794                   ENNIO CHIESA PROFESSOR  A  E  E  E  E  E   \n",
              "120592  27825068                             HELIO HELENE  B  D  D  D  D  D   \n",
              "120593  23873470                    ALBERTO SANTOS DUMONT  A  E  E  E  E  E   \n",
              "120594  31376275                         FRANCISCO BONFIM  B  E  C  C  D  B   \n",
              "120595  28109335  MAGDALENA SANSEVERINO GROSSO PROFESSORA  A  A  A  A  A  A   \n",
              "\n",
              "       Q7 Q8  ... NEC_ESP_4 NEC_ESP_5 Tipo_PROVA Tem_Nec porc_ACERT_lp  \\\n",
              "0       E  E  ...       NaN       NaN          C       0          41.7   \n",
              "1       E  E  ...       NaN       NaN          C       0          83.3   \n",
              "2       D  C  ...       NaN       NaN          C       0          58.3   \n",
              "3       D  D  ...       NaN       NaN          C       0          29.2   \n",
              "4       E  C  ...       NaN       NaN          C       0          79.2   \n",
              "...    .. ..  ...       ...       ...        ...     ...           ...   \n",
              "120591  E  E  ...       NaN       NaN          C       0          79.2   \n",
              "120592  D  D  ...       NaN       NaN          C       0          37.5   \n",
              "120593  D  D  ...       NaN       NaN          C       0          50.0   \n",
              "120594  B  A  ...       NaN       NaN          C       1          45.8   \n",
              "120595  A  A  ...       NaN       NaN          C       1          37.5   \n",
              "\n",
              "       porc_ACERT_MAT porc_ACERT_CIE   nivel_profic_lp  nivel_profic_mat  \\\n",
              "0                20.8           20.8  Abaixo do Básico  Abaixo do Básico   \n",
              "1               100.0           66.7          Adequado          Avançado   \n",
              "2                37.5           54.2            Básico            Básico   \n",
              "3                29.2           16.7  Abaixo do Básico  Abaixo do Básico   \n",
              "4                41.7           50.0          Adequado  Abaixo do Básico   \n",
              "...               ...            ...               ...               ...   \n",
              "120591           66.7           83.3          Adequado            Básico   \n",
              "120592           25.0           16.7  Abaixo do Básico  Abaixo do Básico   \n",
              "120593           37.5           41.7            Básico  Abaixo do Básico   \n",
              "120594           70.8           54.2  Abaixo do Básico            Básico   \n",
              "120595           16.7           16.7  Abaixo do Básico  Abaixo do Básico   \n",
              "\n",
              "        nivel_profic_cie  \n",
              "0       Abaixo do Básico  \n",
              "1               Adequado  \n",
              "2                 Básico  \n",
              "3       Abaixo do Básico  \n",
              "4                 Básico  \n",
              "...                  ...  \n",
              "120591          Adequado  \n",
              "120592  Abaixo do Básico  \n",
              "120593  Abaixo do Básico  \n",
              "120594  Abaixo do Básico  \n",
              "120595  Abaixo do Básico  \n",
              "\n",
              "[120596 rows x 88 columns]"
            ]
          },
          "execution_count": 65,
          "metadata": {},
          "output_type": "execute_result"
        }
      ],
      "source": [
        "df\n"
      ]
    },
    {
      "cell_type": "code",
      "execution_count": null,
      "metadata": {
        "colab": {
          "base_uri": "https://localhost:8080/"
        },
        "id": "ePztAuVOoMe1",
        "outputId": "bbde7cd6-825a-4234-ea16-40b77629606e"
      },
      "outputs": [
        {
          "data": {
            "text/plain": [
              "<bound method NDFrame.describe of         CD_ALUNO                                   NOMESC Q1 Q2 Q3 Q4 Q5 Q6  \\\n",
              "0       26270013                             JULIO FORTES  B  E  E  E  E  E   \n",
              "1       30756614                 MESSIAS FREIRE PROFESSOR  B  D  E  C  E  E   \n",
              "2       26014872                               JOSE CONTI  B  E  B  D  E  B   \n",
              "3       25739025    NAPOLEAO DE CARVALHO FREIRE PROFESSOR  B  D  E  D  C  E   \n",
              "4       27363009                       RESIDENCIAL BORDON  B  D  E  E  E  E   \n",
              "...          ...                                      ... .. .. .. .. .. ..   \n",
              "120591  28799794                   ENNIO CHIESA PROFESSOR  A  E  E  E  E  E   \n",
              "120592  27825068                             HELIO HELENE  B  D  D  D  D  D   \n",
              "120593  23873470                    ALBERTO SANTOS DUMONT  A  E  E  E  E  E   \n",
              "120594  31376275                         FRANCISCO BONFIM  B  E  C  C  D  B   \n",
              "120595  28109335  MAGDALENA SANSEVERINO GROSSO PROFESSORA  A  A  A  A  A  A   \n",
              "\n",
              "       Q7 Q8  ... NEC_ESP_4 NEC_ESP_5 Tipo_PROVA Tem_Nec porc_ACERT_lp  \\\n",
              "0       E  E  ...       NaN       NaN          C       0          41.7   \n",
              "1       E  E  ...       NaN       NaN          C       0          83.3   \n",
              "2       D  C  ...       NaN       NaN          C       0          58.3   \n",
              "3       D  D  ...       NaN       NaN          C       0          29.2   \n",
              "4       E  C  ...       NaN       NaN          C       0          79.2   \n",
              "...    .. ..  ...       ...       ...        ...     ...           ...   \n",
              "120591  E  E  ...       NaN       NaN          C       0          79.2   \n",
              "120592  D  D  ...       NaN       NaN          C       0          37.5   \n",
              "120593  D  D  ...       NaN       NaN          C       0          50.0   \n",
              "120594  B  A  ...       NaN       NaN          C       1          45.8   \n",
              "120595  A  A  ...       NaN       NaN          C       1          37.5   \n",
              "\n",
              "       porc_ACERT_MAT porc_ACERT_CIE   nivel_profic_lp  nivel_profic_mat  \\\n",
              "0                20.8           20.8  Abaixo do Básico  Abaixo do Básico   \n",
              "1               100.0           66.7          Adequado          Avançado   \n",
              "2                37.5           54.2            Básico            Básico   \n",
              "3                29.2           16.7  Abaixo do Básico  Abaixo do Básico   \n",
              "4                41.7           50.0          Adequado  Abaixo do Básico   \n",
              "...               ...            ...               ...               ...   \n",
              "120591           66.7           83.3          Adequado            Básico   \n",
              "120592           25.0           16.7  Abaixo do Básico  Abaixo do Básico   \n",
              "120593           37.5           41.7            Básico  Abaixo do Básico   \n",
              "120594           70.8           54.2  Abaixo do Básico            Básico   \n",
              "120595           16.7           16.7  Abaixo do Básico  Abaixo do Básico   \n",
              "\n",
              "        nivel_profic_cie  \n",
              "0       Abaixo do Básico  \n",
              "1               Adequado  \n",
              "2                 Básico  \n",
              "3       Abaixo do Básico  \n",
              "4                 Básico  \n",
              "...                  ...  \n",
              "120591          Adequado  \n",
              "120592  Abaixo do Básico  \n",
              "120593  Abaixo do Básico  \n",
              "120594  Abaixo do Básico  \n",
              "120595  Abaixo do Básico  \n",
              "\n",
              "[120596 rows x 88 columns]>"
            ]
          },
          "execution_count": 4,
          "metadata": {},
          "output_type": "execute_result"
        }
      ],
      "source": [
        "df.describe\n"
      ]
    },
    {
      "cell_type": "code",
      "execution_count": null,
      "metadata": {
        "colab": {
          "base_uri": "https://localhost:8080/"
        },
        "id": "OvxhHEeSpaW0",
        "outputId": "7820214f-75cb-4153-bd20-19b11ec475d0"
      },
      "outputs": [
        {
          "data": {
            "text/plain": [
              "Index(['CD_ALUNO', 'NOMESC', 'Q1', 'Q2', 'Q3', 'Q4', 'Q5', 'Q6', 'Q7', 'Q8',\n",
              "       'Q9', 'Q10', 'Q11', 'Q12', 'Q13', 'Q14', 'Q15', 'Q16', 'Q17', 'Q18',\n",
              "       'Q19', 'Q20', 'Q21', 'Q22', 'Q23', 'Q24', 'Q25', 'Q26', 'Q27', 'Q28',\n",
              "       'Q29', 'Q30', 'Q31', 'Q32', 'Q33', 'Q34', 'Q35', 'Q36', 'Q37', 'Q38',\n",
              "       'Q39', 'Q40', 'Q41', 'Q42', 'Q43', 'Q44', 'Q45', 'Q46', 'Q47', 'Q48',\n",
              "       'Q49', 'Q50', 'Q51', 'Q52', 'Q53', 'Q54', 'Q55', 'Q56', 'Q57', 'Q58',\n",
              "       'Q59', 'Q60', 'Q61', 'Q62', 'Q63', 'RegiaoMetropolitana', 'DE',\n",
              "       'CODMUN', 'MUN', 'CODESC', 'SERIE_ANO', 'TURMA', 'TP_SEXO',\n",
              "       'DT_NASCIMENTO', 'PERIODO', 'NEC_ESP_1', 'NEC_ESP_2', 'NEC_ESP_3',\n",
              "       'NEC_ESP_4', 'NEC_ESP_5', 'Tipo_PROVA', 'Tem_Nec', 'porc_ACERT_lp',\n",
              "       'porc_ACERT_MAT', 'porc_ACERT_CIE', 'nivel_profic_lp',\n",
              "       'nivel_profic_mat', 'nivel_profic_cie'],\n",
              "      dtype='object')"
            ]
          },
          "execution_count": 5,
          "metadata": {},
          "output_type": "execute_result"
        }
      ],
      "source": [
        "df.columns\n"
      ]
    },
    {
      "cell_type": "code",
      "execution_count": null,
      "metadata": {
        "colab": {
          "base_uri": "https://localhost:8080/"
        },
        "id": "IUu_-HXQs_tb",
        "outputId": "9578fccd-4ac9-4664-a6b4-021b02a17856"
      },
      "outputs": [
        {
          "data": {
            "text/plain": [
              "NEC_ESP_5           120596\n",
              "NEC_ESP_4           120595\n",
              "NEC_ESP_3           120520\n",
              "NEC_ESP_2           120489\n",
              "NEC_ESP_1           118206\n",
              "                     ...  \n",
              "Q26                      0\n",
              "Q25                      0\n",
              "Q24                      0\n",
              "Q23                      0\n",
              "nivel_profic_cie         0\n",
              "Length: 88, dtype: int64"
            ]
          },
          "execution_count": 6,
          "metadata": {},
          "output_type": "execute_result"
        }
      ],
      "source": [
        "df.isna().sum(axis=0).sort_values(ascending=False)\n"
      ]
    },
    {
      "cell_type": "code",
      "execution_count": 71,
      "metadata": {},
      "outputs": [
        {
          "name": "stdout",
          "output_type": "stream",
          "text": [
            "entrou\n"
          ]
        },
        {
          "data": {
            "text/plain": [
              "Index(['CD_ALUNO', 'NOMESC', 'Q1', 'Q2', 'Q3', 'Q4', 'Q5', 'Q6', 'Q7', 'Q8',\n",
              "       'Q9', 'Q10', 'Q11', 'Q12', 'Q13', 'Q14', 'Q15', 'Q16', 'Q17', 'Q18',\n",
              "       'Q19', 'Q20', 'Q21', 'Q22', 'Q23', 'Q24', 'Q25', 'Q26', 'Q27', 'Q28',\n",
              "       'Q29', 'Q30', 'Q31', 'Q32', 'Q33', 'Q34', 'Q35', 'Q36', 'Q37', 'Q38',\n",
              "       'Q39', 'Q40', 'Q41', 'Q42', 'Q43', 'Q44', 'Q45', 'Q46', 'Q47', 'Q48',\n",
              "       'Q49', 'Q50', 'Q51', 'Q52', 'Q53', 'Q54', 'Q55', 'Q56', 'Q57', 'Q58',\n",
              "       'Q59', 'Q60', 'Q61', 'Q62', 'Q63', 'RegiaoMetropolitana', 'DE',\n",
              "       'CODMUN', 'MUN', 'CODESC', 'SERIE_ANO', 'TURMA', 'TP_SEXO',\n",
              "       'DT_NASCIMENTO', 'PERIODO', 'Tipo_PROVA', 'Tem_Nec', 'porc_ACERT_lp',\n",
              "       'porc_ACERT_MAT', 'porc_ACERT_CIE', 'nivel_profic_lp',\n",
              "       'nivel_profic_mat', 'nivel_profic_cie', 'Q63_A', 'Q63_B', 'Q63_C',\n",
              "       'Q63_D'],\n",
              "      dtype='object')"
            ]
          },
          "execution_count": 71,
          "metadata": {},
          "output_type": "execute_result"
        }
      ],
      "source": [
        "df = pd.read_csv(\"SARESP_train.csv\")\n",
        "\n",
        "def question_map(df):\n",
        "\n",
        "    ordinal_map = {'A': 1, 'B': 2, 'C': 3, 'D': 4, 'E': 5}\n",
        "    inversed_ordinal_map = {'A': 5, 'B': 4, 'C': 3, 'D': 2, 'E': 1}\n",
        "    dont_know_ordinal_map = {'A': 1, 'B': 2, 'C': 3, 'D': 1, 'E': 2}\n",
        "    inversed_dont_know_ordinal_map = {'A': 4, 'B': 3, 'C': 2, 'D': 1, 'E': 2} #applied penalty for don't know anwser\n",
        "    home_ordinal_map = {'A': 0, 'B': 1, 'C': 2, 'D': 3, 'E': 4}\n",
        "    miss_someone_map = {'A': 1, 'B': 1, 'C': 1, 'D': 0}\n",
        "    someone_helped_map = {'A': 2, 'B': 1, 'C': 1, 'D': 0}\n",
        "\n",
        "    for q in range(1, 64):\n",
        "        if (q <= 8 or (q > 26 and q <= 33) or (q > 33 and q <= 41) or (q > 56 and q <= 58) or q == 60): #ordinal map\n",
        "            df.replace({f'Q{q}': ordinal_map}, inplace=True)\n",
        "        elif ((q > 8 and q <= 26) or q == 59):\n",
        "            df.replace({f'Q{q}': inversed_ordinal_map}, inplace=True) \n",
        "        elif (q == 42):\n",
        "            df.replace({f'Q{q}': inversed_dont_know_ordinal_map}, inplace=True)\n",
        "        elif (q > 42 and q <= 49):\n",
        "            df.replace({f'Q{q}': dont_know_ordinal_map}, inplace=True)\n",
        "        elif (q > 49 and q <= 56):\n",
        "            df.replace({f'Q{q}': home_ordinal_map}, inplace=True)\n",
        "        elif (q == 61):\n",
        "            df.replace({f'Q{q}': miss_someone_map}, inplace=True)\n",
        "        elif (q == 62):\n",
        "            df.replace({f'Q{q}': someone_helped_map}, inplace=True)\n",
        "        else: # 63 question\n",
        "            print(\"entrou\")\n",
        "            df = pd.concat([df, pd.get_dummies(df['Q63'], prefix='Q63')], axis=1)\n",
        "    \n",
        "    return df\n",
        "\n",
        "new = question_map(df)\n",
        "df = new\n",
        "for i in range(1, 6):\n",
        "    df.drop(columns=[f'NEC_ESP_{i}'], inplace=True)\n",
        "df.columns\n",
        "\n"
      ]
    },
    {
      "cell_type": "code",
      "execution_count": 72,
      "metadata": {},
      "outputs": [
        {
          "data": {
            "text/plain": [
              "RegiaoMetropolitana\n",
              "Interior                                                   39211\n",
              "Região Metropolitana da Baixada Santista                    7688\n",
              "Região Metropolitana de Campinas                            3465\n",
              "Região Metropolitana de Ribeirão Preto                      6712\n",
              "Região Metropolitana de Sorocaba                            6736\n",
              "Região Metropolitana de São Paulo                          47437\n",
              "Região Metropolitana do Vale do Paraíba e Litoral Norte     9347\n",
              "Name: RegiaoMetropolitana, dtype: int64"
            ]
          },
          "execution_count": 72,
          "metadata": {},
          "output_type": "execute_result"
        }
      ],
      "source": [
        "# Considerando que as colunas que representam alguma noção geografica e que não há algum \n",
        "# indicador socioeconômico nos dados que possa \n",
        "df['RegiaoMetropolitana'].groupby(df['RegiaoMetropolitana']).count()"
      ]
    },
    {
      "cell_type": "code",
      "execution_count": 73,
      "metadata": {},
      "outputs": [],
      "source": [
        "# Considerando que há varias informações geograficas mas não há nenhum indicador socioeconômico\n",
        "# usarei apenas a coluna RegiaoMetropolitana, que sintetiza a informação em macro regiões de SP\n",
        "df = pd.concat([df, pd.get_dummies(df['RegiaoMetropolitana'], prefix='RegiaoMetropolitana')], axis=1)"
      ]
    },
    {
      "cell_type": "code",
      "execution_count": 74,
      "metadata": {},
      "outputs": [],
      "source": [
        "\"\"\"Dropar as colunas NOMESC, MUN, CODESC, CODMUN, RegiaoMetropolitana, Q63, DE\"\"\"\n",
        "df.drop(columns=['NOMESC', 'MUN', 'CODESC', 'CODMUN', 'RegiaoMetropolitana', 'Q63', 'DE'], inplace=True)"
      ]
    },
    {
      "cell_type": "code",
      "execution_count": 75,
      "metadata": {},
      "outputs": [
        {
          "data": {
            "text/plain": [
              "Index(['CD_ALUNO', 'Q1', 'Q2', 'Q3', 'Q4', 'Q5', 'Q6', 'Q7', 'Q8', 'Q9', 'Q10',\n",
              "       'Q11', 'Q12', 'Q13', 'Q14', 'Q15', 'Q16', 'Q17', 'Q18', 'Q19', 'Q20',\n",
              "       'Q21', 'Q22', 'Q23', 'Q24', 'Q25', 'Q26', 'Q27', 'Q28', 'Q29', 'Q30',\n",
              "       'Q31', 'Q32', 'Q33', 'Q34', 'Q35', 'Q36', 'Q37', 'Q38', 'Q39', 'Q40',\n",
              "       'Q41', 'Q42', 'Q43', 'Q44', 'Q45', 'Q46', 'Q47', 'Q48', 'Q49', 'Q50',\n",
              "       'Q51', 'Q52', 'Q53', 'Q54', 'Q55', 'Q56', 'Q57', 'Q58', 'Q59', 'Q60',\n",
              "       'Q61', 'Q62', 'SERIE_ANO', 'TURMA', 'TP_SEXO', 'DT_NASCIMENTO',\n",
              "       'PERIODO', 'Tipo_PROVA', 'Tem_Nec', 'porc_ACERT_lp', 'porc_ACERT_MAT',\n",
              "       'porc_ACERT_CIE', 'nivel_profic_lp', 'nivel_profic_mat',\n",
              "       'nivel_profic_cie', 'Q63_A', 'Q63_B', 'Q63_C', 'Q63_D',\n",
              "       'RegiaoMetropolitana_Interior',\n",
              "       'RegiaoMetropolitana_Região Metropolitana da Baixada Santista',\n",
              "       'RegiaoMetropolitana_Região Metropolitana de Campinas',\n",
              "       'RegiaoMetropolitana_Região Metropolitana de Ribeirão Preto',\n",
              "       'RegiaoMetropolitana_Região Metropolitana de Sorocaba',\n",
              "       'RegiaoMetropolitana_Região Metropolitana de São Paulo',\n",
              "       'RegiaoMetropolitana_Região Metropolitana do Vale do Paraíba e Litoral Norte'],\n",
              "      dtype='object')"
            ]
          },
          "execution_count": 75,
          "metadata": {},
          "output_type": "execute_result"
        }
      ],
      "source": [
        "df.columns\n"
      ]
    },
    {
      "cell_type": "code",
      "execution_count": 78,
      "metadata": {},
      "outputs": [
        {
          "data": {
            "text/plain": [
              "Index(['CD_ALUNO', 'Q1', 'Q2', 'Q3', 'Q4', 'Q5', 'Q6', 'Q7', 'Q8', 'Q9', 'Q10',\n",
              "       'Q11', 'Q12', 'Q13', 'Q14', 'Q15', 'Q16', 'Q17', 'Q18', 'Q19', 'Q20',\n",
              "       'Q21', 'Q22', 'Q23', 'Q24', 'Q25', 'Q26', 'Q27', 'Q28', 'Q29', 'Q30',\n",
              "       'Q31', 'Q32', 'Q33', 'Q34', 'Q35', 'Q36', 'Q37', 'Q38', 'Q39', 'Q40',\n",
              "       'Q41', 'Q42', 'Q43', 'Q44', 'Q45', 'Q46', 'Q47', 'Q48', 'Q49', 'Q50',\n",
              "       'Q51', 'Q52', 'Q53', 'Q54', 'Q55', 'Q56', 'Q57', 'Q58', 'Q59', 'Q60',\n",
              "       'Q61', 'Q62', 'Tem_Nec', 'porc_ACERT_lp', 'porc_ACERT_MAT',\n",
              "       'porc_ACERT_CIE', 'Q63_A', 'Q63_B', 'Q63_C', 'Q63_D',\n",
              "       'RegiaoMetropolitana_Interior',\n",
              "       'RegiaoMetropolitana_Região Metropolitana da Baixada Santista',\n",
              "       'RegiaoMetropolitana_Região Metropolitana de Campinas',\n",
              "       'RegiaoMetropolitana_Região Metropolitana de Ribeirão Preto',\n",
              "       'RegiaoMetropolitana_Região Metropolitana de Sorocaba',\n",
              "       'RegiaoMetropolitana_Região Metropolitana de São Paulo',\n",
              "       'RegiaoMetropolitana_Região Metropolitana do Vale do Paraíba e Litoral Norte'],\n",
              "      dtype='object')"
            ]
          },
          "execution_count": 78,
          "metadata": {},
          "output_type": "execute_result"
        }
      ],
      "source": [
        "df._get_numeric_data().columns"
      ]
    },
    {
      "cell_type": "code",
      "execution_count": 79,
      "metadata": {},
      "outputs": [
        {
          "data": {
            "text/plain": [
              "0         18\n",
              "1         12\n",
              "2         15\n",
              "3         18\n",
              "4         15\n",
              "          ..\n",
              "120591    16\n",
              "120592    13\n",
              "120593    19\n",
              "120594    12\n",
              "120595    17\n",
              "Name: idade, Length: 120596, dtype: int64"
            ]
          },
          "execution_count": 79,
          "metadata": {},
          "output_type": "execute_result"
        }
      ],
      "source": [
        "\"\"\"Replace the birth day with the age of the student\"\"\"\n",
        "from datetime import datetime\n",
        "from datetime import date\n",
        "\n",
        "\n",
        "def calculate_age(born):\n",
        "    born = datetime.strptime(born, \"%m/%d/%Y\").date()\n",
        "    today = date.today()\n",
        "    return today.year - born.year - ((today.month, today.day) < (born.month, born.day))\n",
        "\n",
        "\n",
        "df['idade'] = df['DT_NASCIMENTO'].apply(calculate_age)\n",
        "df['idade']\n"
      ]
    },
    {
      "cell_type": "code",
      "execution_count": 80,
      "metadata": {},
      "outputs": [],
      "source": [
        "df = df.drop(columns=['DT_NASCIMENTO'])\n"
      ]
    },
    {
      "cell_type": "code",
      "execution_count": 81,
      "metadata": {},
      "outputs": [],
      "source": [
        "sex_map = {'F': 0, 'M': 1}\n",
        "df.replace({'TP_SEXO': sex_map}, inplace=True)\n"
      ]
    },
    {
      "cell_type": "code",
      "execution_count": 82,
      "metadata": {},
      "outputs": [],
      "source": [
        "school_turn_map = {'MANHÃ': 0, 'TARDE': 1}\n",
        "df.replace({'PERIODO': school_turn_map}, inplace=True)\n"
      ]
    },
    {
      "cell_type": "code",
      "execution_count": 83,
      "metadata": {},
      "outputs": [],
      "source": [
        "school_year_map = {'EM-3ª série': 3, '9º Ano EF': 2, '5º Ano EF': 1}\n",
        "df.replace({'SERIE_ANO': school_year_map}, inplace=True)\n"
      ]
    },
    {
      "cell_type": "code",
      "execution_count": 84,
      "metadata": {},
      "outputs": [],
      "source": [
        "def get_categorical_columns(df):\n",
        "    cols = df.columns\n",
        "\n",
        "    num_cols = df._get_numeric_data().columns\n",
        "\n",
        "    return list(set(cols) - set(num_cols))"
      ]
    },
    {
      "cell_type": "code",
      "execution_count": 85,
      "metadata": {},
      "outputs": [],
      "source": [
        "\"\"\"Drop column TURMA\"\"\"\n",
        "df = df.drop(columns=['TURMA'])"
      ]
    },
    {
      "cell_type": "code",
      "execution_count": 86,
      "metadata": {},
      "outputs": [],
      "source": [
        "\"\"\"One hot encoding on the columns PERIODO, Tipo_PROVA\"\"\"\n",
        "df = pd.concat([df, pd.get_dummies(df['PERIODO'], prefix='PERIODO')], axis=1)\n",
        "df = df.drop(columns=['PERIODO'])\n",
        "df = pd.concat([df, pd.get_dummies(df['Tipo_PROVA'], prefix='Tipo_PROVA')], axis=1)\n",
        "df = df.drop(columns=['Tipo_PROVA'])\n"
      ]
    },
    {
      "cell_type": "code",
      "execution_count": 88,
      "metadata": {},
      "outputs": [
        {
          "data": {
            "text/plain": [
              "['nivel_profic_mat', 'nivel_profic_lp', 'nivel_profic_cie']"
            ]
          },
          "execution_count": 88,
          "metadata": {},
          "output_type": "execute_result"
        }
      ],
      "source": [
        "get_categorical_columns(df)"
      ]
    },
    {
      "cell_type": "code",
      "execution_count": 89,
      "metadata": {},
      "outputs": [
        {
          "data": {
            "text/plain": [
              "(120596, 89)"
            ]
          },
          "execution_count": 89,
          "metadata": {},
          "output_type": "execute_result"
        }
      ],
      "source": [
        "df.shape"
      ]
    },
    {
      "cell_type": "code",
      "execution_count": 90,
      "metadata": {},
      "outputs": [
        {
          "data": {
            "text/plain": [
              "Index(['CD_ALUNO', 'Q1', 'Q2', 'Q3', 'Q4', 'Q5', 'Q6', 'Q7', 'Q8', 'Q9', 'Q10',\n",
              "       'Q11', 'Q12', 'Q13', 'Q14', 'Q15', 'Q16', 'Q17', 'Q18', 'Q19', 'Q20',\n",
              "       'Q21', 'Q22', 'Q23', 'Q24', 'Q25', 'Q26', 'Q27', 'Q28', 'Q29', 'Q30',\n",
              "       'Q31', 'Q32', 'Q33', 'Q34', 'Q35', 'Q36', 'Q37', 'Q38', 'Q39', 'Q40',\n",
              "       'Q41', 'Q42', 'Q43', 'Q44', 'Q45', 'Q46', 'Q47', 'Q48', 'Q49', 'Q50',\n",
              "       'Q51', 'Q52', 'Q53', 'Q54', 'Q55', 'Q56', 'Q57', 'Q58', 'Q59', 'Q60',\n",
              "       'Q61', 'Q62', 'SERIE_ANO', 'TP_SEXO', 'Tem_Nec', 'porc_ACERT_lp',\n",
              "       'porc_ACERT_MAT', 'porc_ACERT_CIE', 'nivel_profic_lp',\n",
              "       'nivel_profic_mat', 'nivel_profic_cie', 'Q63_A', 'Q63_B', 'Q63_C',\n",
              "       'Q63_D', 'RegiaoMetropolitana_Interior',\n",
              "       'RegiaoMetropolitana_Região Metropolitana da Baixada Santista',\n",
              "       'RegiaoMetropolitana_Região Metropolitana de Campinas',\n",
              "       'RegiaoMetropolitana_Região Metropolitana de Ribeirão Preto',\n",
              "       'RegiaoMetropolitana_Região Metropolitana de Sorocaba',\n",
              "       'RegiaoMetropolitana_Região Metropolitana de São Paulo',\n",
              "       'RegiaoMetropolitana_Região Metropolitana do Vale do Paraíba e Litoral Norte',\n",
              "       'idade', 'PERIODO_0', 'PERIODO_1', 'PERIODO_NOITE', 'Tipo_PROVA_A',\n",
              "       'Tipo_PROVA_C'],\n",
              "      dtype='object')"
            ]
          },
          "execution_count": 90,
          "metadata": {},
          "output_type": "execute_result"
        }
      ],
      "source": [
        "df.columns"
      ]
    },
    {
      "cell_type": "code",
      "execution_count": 104,
      "metadata": {},
      "outputs": [
        {
          "name": "stdout",
          "output_type": "stream",
          "text": [
            "0.00024876446979999335\n",
            "0.0\n",
            "0.0\n"
          ]
        },
        {
          "data": {
            "text/plain": [
              "<AxesSubplot:>"
            ]
          },
          "execution_count": 104,
          "metadata": {},
          "output_type": "execute_result"
        },
        {
          "data": {
            "image/png": "[encoded data removed]",
            "text/plain": [
              "<Figure size 432x288 with 1 Axes>"
            ]
          },
          "metadata": {
            "needs_background": "light"
          },
          "output_type": "display_data"
        }
      ],
      "source": [
        "#removing outliers\n",
        "\n",
        "from scipy import stats\n",
        "\n",
        "print(len(df[(np.abs(stats.zscore(df['porc_ACERT_CIE'])) > 3)])/len(df.index)) #less than 0.025%\n",
        "print(len(df[(np.abs(stats.zscore(df['porc_ACERT_MAT'])) > 3)])/len(df.index))\n",
        "print(len(df[(np.abs(stats.zscore(df['porc_ACERT_lp'])) > 3)])/len(df.index))\n",
        "\n",
        "df = df.drop(columns=['PERIODO'])\n",
        "df.boxplot(column=['porc_ACERT_lp',\n",
        "       'porc_ACERT_MAT', 'porc_ACERT_CIE'])  "
      ]
    },
    {
      "cell_type": "code",
      "execution_count": 105,
      "metadata": {},
      "outputs": [
        {
          "data": {
            "text/html": [
              "<div>\n",
              "<style scoped>\n",
              "    .dataframe tbody tr th:only-of-type {\n",
              "        vertical-align: middle;\n",
              "    }\n",
              "\n",
              "    .dataframe tbody tr th {\n",
              "        vertical-align: top;\n",
              "    }\n",
              "\n",
              "    .dataframe thead th {\n",
              "        text-align: right;\n",
              "    }\n",
              "</style>\n",
              "<table border=\"1\" class=\"dataframe\">\n",
              "  <thead>\n",
              "    <tr style=\"text-align: right;\">\n",
              "      <th></th>\n",
              "      <th>CD_ALUNO</th>\n",
              "      <th>Q1</th>\n",
              "      <th>Q2</th>\n",
              "      <th>Q3</th>\n",
              "      <th>Q4</th>\n",
              "      <th>Q5</th>\n",
              "      <th>Q6</th>\n",
              "      <th>Q7</th>\n",
              "      <th>Q8</th>\n",
              "      <th>Q9</th>\n",
              "      <th>...</th>\n",
              "      <th>RegiaoMetropolitana_Região Metropolitana de Ribeirão Preto</th>\n",
              "      <th>RegiaoMetropolitana_Região Metropolitana de Sorocaba</th>\n",
              "      <th>RegiaoMetropolitana_Região Metropolitana de São Paulo</th>\n",
              "      <th>RegiaoMetropolitana_Região Metropolitana do Vale do Paraíba e Litoral Norte</th>\n",
              "      <th>idade</th>\n",
              "      <th>PERIODO_0</th>\n",
              "      <th>PERIODO_1</th>\n",
              "      <th>PERIODO_NOITE</th>\n",
              "      <th>Tipo_PROVA_A</th>\n",
              "      <th>Tipo_PROVA_C</th>\n",
              "    </tr>\n",
              "  </thead>\n",
              "  <tbody>\n",
              "    <tr>\n",
              "      <th>0</th>\n",
              "      <td>26270013</td>\n",
              "      <td>2</td>\n",
              "      <td>5</td>\n",
              "      <td>5</td>\n",
              "      <td>5</td>\n",
              "      <td>5</td>\n",
              "      <td>5</td>\n",
              "      <td>5</td>\n",
              "      <td>5</td>\n",
              "      <td>4</td>\n",
              "      <td>...</td>\n",
              "      <td>0</td>\n",
              "      <td>0</td>\n",
              "      <td>0</td>\n",
              "      <td>1</td>\n",
              "      <td>18</td>\n",
              "      <td>1</td>\n",
              "      <td>0</td>\n",
              "      <td>0</td>\n",
              "      <td>0</td>\n",
              "      <td>1</td>\n",
              "    </tr>\n",
              "    <tr>\n",
              "      <th>1</th>\n",
              "      <td>30756614</td>\n",
              "      <td>2</td>\n",
              "      <td>4</td>\n",
              "      <td>5</td>\n",
              "      <td>3</td>\n",
              "      <td>5</td>\n",
              "      <td>5</td>\n",
              "      <td>5</td>\n",
              "      <td>5</td>\n",
              "      <td>5</td>\n",
              "      <td>...</td>\n",
              "      <td>0</td>\n",
              "      <td>0</td>\n",
              "      <td>1</td>\n",
              "      <td>0</td>\n",
              "      <td>12</td>\n",
              "      <td>1</td>\n",
              "      <td>0</td>\n",
              "      <td>0</td>\n",
              "      <td>0</td>\n",
              "      <td>1</td>\n",
              "    </tr>\n",
              "    <tr>\n",
              "      <th>2</th>\n",
              "      <td>26014872</td>\n",
              "      <td>2</td>\n",
              "      <td>5</td>\n",
              "      <td>2</td>\n",
              "      <td>4</td>\n",
              "      <td>5</td>\n",
              "      <td>2</td>\n",
              "      <td>4</td>\n",
              "      <td>3</td>\n",
              "      <td>5</td>\n",
              "      <td>...</td>\n",
              "      <td>0</td>\n",
              "      <td>0</td>\n",
              "      <td>0</td>\n",
              "      <td>0</td>\n",
              "      <td>15</td>\n",
              "      <td>1</td>\n",
              "      <td>0</td>\n",
              "      <td>0</td>\n",
              "      <td>0</td>\n",
              "      <td>1</td>\n",
              "    </tr>\n",
              "    <tr>\n",
              "      <th>3</th>\n",
              "      <td>25739025</td>\n",
              "      <td>2</td>\n",
              "      <td>4</td>\n",
              "      <td>5</td>\n",
              "      <td>4</td>\n",
              "      <td>3</td>\n",
              "      <td>5</td>\n",
              "      <td>4</td>\n",
              "      <td>4</td>\n",
              "      <td>5</td>\n",
              "      <td>...</td>\n",
              "      <td>0</td>\n",
              "      <td>0</td>\n",
              "      <td>1</td>\n",
              "      <td>0</td>\n",
              "      <td>18</td>\n",
              "      <td>1</td>\n",
              "      <td>0</td>\n",
              "      <td>0</td>\n",
              "      <td>0</td>\n",
              "      <td>1</td>\n",
              "    </tr>\n",
              "    <tr>\n",
              "      <th>4</th>\n",
              "      <td>27363009</td>\n",
              "      <td>2</td>\n",
              "      <td>4</td>\n",
              "      <td>5</td>\n",
              "      <td>5</td>\n",
              "      <td>5</td>\n",
              "      <td>5</td>\n",
              "      <td>5</td>\n",
              "      <td>3</td>\n",
              "      <td>5</td>\n",
              "      <td>...</td>\n",
              "      <td>0</td>\n",
              "      <td>0</td>\n",
              "      <td>0</td>\n",
              "      <td>0</td>\n",
              "      <td>15</td>\n",
              "      <td>1</td>\n",
              "      <td>0</td>\n",
              "      <td>0</td>\n",
              "      <td>0</td>\n",
              "      <td>1</td>\n",
              "    </tr>\n",
              "    <tr>\n",
              "      <th>...</th>\n",
              "      <td>...</td>\n",
              "      <td>...</td>\n",
              "      <td>...</td>\n",
              "      <td>...</td>\n",
              "      <td>...</td>\n",
              "      <td>...</td>\n",
              "      <td>...</td>\n",
              "      <td>...</td>\n",
              "      <td>...</td>\n",
              "      <td>...</td>\n",
              "      <td>...</td>\n",
              "      <td>...</td>\n",
              "      <td>...</td>\n",
              "      <td>...</td>\n",
              "      <td>...</td>\n",
              "      <td>...</td>\n",
              "      <td>...</td>\n",
              "      <td>...</td>\n",
              "      <td>...</td>\n",
              "      <td>...</td>\n",
              "      <td>...</td>\n",
              "    </tr>\n",
              "    <tr>\n",
              "      <th>120591</th>\n",
              "      <td>28799794</td>\n",
              "      <td>1</td>\n",
              "      <td>5</td>\n",
              "      <td>5</td>\n",
              "      <td>5</td>\n",
              "      <td>5</td>\n",
              "      <td>5</td>\n",
              "      <td>5</td>\n",
              "      <td>5</td>\n",
              "      <td>5</td>\n",
              "      <td>...</td>\n",
              "      <td>0</td>\n",
              "      <td>0</td>\n",
              "      <td>1</td>\n",
              "      <td>0</td>\n",
              "      <td>16</td>\n",
              "      <td>0</td>\n",
              "      <td>1</td>\n",
              "      <td>0</td>\n",
              "      <td>0</td>\n",
              "      <td>1</td>\n",
              "    </tr>\n",
              "    <tr>\n",
              "      <th>120592</th>\n",
              "      <td>27825068</td>\n",
              "      <td>2</td>\n",
              "      <td>4</td>\n",
              "      <td>4</td>\n",
              "      <td>4</td>\n",
              "      <td>4</td>\n",
              "      <td>4</td>\n",
              "      <td>4</td>\n",
              "      <td>4</td>\n",
              "      <td>5</td>\n",
              "      <td>...</td>\n",
              "      <td>0</td>\n",
              "      <td>0</td>\n",
              "      <td>1</td>\n",
              "      <td>0</td>\n",
              "      <td>13</td>\n",
              "      <td>1</td>\n",
              "      <td>0</td>\n",
              "      <td>0</td>\n",
              "      <td>0</td>\n",
              "      <td>1</td>\n",
              "    </tr>\n",
              "    <tr>\n",
              "      <th>120593</th>\n",
              "      <td>23873470</td>\n",
              "      <td>1</td>\n",
              "      <td>5</td>\n",
              "      <td>5</td>\n",
              "      <td>5</td>\n",
              "      <td>5</td>\n",
              "      <td>5</td>\n",
              "      <td>4</td>\n",
              "      <td>4</td>\n",
              "      <td>5</td>\n",
              "      <td>...</td>\n",
              "      <td>1</td>\n",
              "      <td>0</td>\n",
              "      <td>0</td>\n",
              "      <td>0</td>\n",
              "      <td>19</td>\n",
              "      <td>1</td>\n",
              "      <td>0</td>\n",
              "      <td>0</td>\n",
              "      <td>0</td>\n",
              "      <td>1</td>\n",
              "    </tr>\n",
              "    <tr>\n",
              "      <th>120594</th>\n",
              "      <td>31376275</td>\n",
              "      <td>2</td>\n",
              "      <td>5</td>\n",
              "      <td>3</td>\n",
              "      <td>3</td>\n",
              "      <td>4</td>\n",
              "      <td>2</td>\n",
              "      <td>2</td>\n",
              "      <td>1</td>\n",
              "      <td>5</td>\n",
              "      <td>...</td>\n",
              "      <td>1</td>\n",
              "      <td>0</td>\n",
              "      <td>0</td>\n",
              "      <td>0</td>\n",
              "      <td>12</td>\n",
              "      <td>0</td>\n",
              "      <td>1</td>\n",
              "      <td>0</td>\n",
              "      <td>0</td>\n",
              "      <td>1</td>\n",
              "    </tr>\n",
              "    <tr>\n",
              "      <th>120595</th>\n",
              "      <td>28109335</td>\n",
              "      <td>1</td>\n",
              "      <td>1</td>\n",
              "      <td>1</td>\n",
              "      <td>1</td>\n",
              "      <td>1</td>\n",
              "      <td>1</td>\n",
              "      <td>1</td>\n",
              "      <td>1</td>\n",
              "      <td>5</td>\n",
              "      <td>...</td>\n",
              "      <td>0</td>\n",
              "      <td>0</td>\n",
              "      <td>0</td>\n",
              "      <td>0</td>\n",
              "      <td>17</td>\n",
              "      <td>1</td>\n",
              "      <td>0</td>\n",
              "      <td>0</td>\n",
              "      <td>0</td>\n",
              "      <td>1</td>\n",
              "    </tr>\n",
              "  </tbody>\n",
              "</table>\n",
              "<p>120566 rows × 89 columns</p>\n",
              "</div>"
            ],
            "text/plain": [
              "        CD_ALUNO  Q1  Q2  Q3  Q4  Q5  Q6  Q7  Q8  Q9  ...  \\\n",
              "0       26270013   2   5   5   5   5   5   5   5   4  ...   \n",
              "1       30756614   2   4   5   3   5   5   5   5   5  ...   \n",
              "2       26014872   2   5   2   4   5   2   4   3   5  ...   \n",
              "3       25739025   2   4   5   4   3   5   4   4   5  ...   \n",
              "4       27363009   2   4   5   5   5   5   5   3   5  ...   \n",
              "...          ...  ..  ..  ..  ..  ..  ..  ..  ..  ..  ...   \n",
              "120591  28799794   1   5   5   5   5   5   5   5   5  ...   \n",
              "120592  27825068   2   4   4   4   4   4   4   4   5  ...   \n",
              "120593  23873470   1   5   5   5   5   5   4   4   5  ...   \n",
              "120594  31376275   2   5   3   3   4   2   2   1   5  ...   \n",
              "120595  28109335   1   1   1   1   1   1   1   1   5  ...   \n",
              "\n",
              "        RegiaoMetropolitana_Região Metropolitana de Ribeirão Preto  \\\n",
              "0                                                       0            \n",
              "1                                                       0            \n",
              "2                                                       0            \n",
              "3                                                       0            \n",
              "4                                                       0            \n",
              "...                                                   ...            \n",
              "120591                                                  0            \n",
              "120592                                                  0            \n",
              "120593                                                  1            \n",
              "120594                                                  1            \n",
              "120595                                                  0            \n",
              "\n",
              "        RegiaoMetropolitana_Região Metropolitana de Sorocaba  \\\n",
              "0                                                       0      \n",
              "1                                                       0      \n",
              "2                                                       0      \n",
              "3                                                       0      \n",
              "4                                                       0      \n",
              "...                                                   ...      \n",
              "120591                                                  0      \n",
              "120592                                                  0      \n",
              "120593                                                  0      \n",
              "120594                                                  0      \n",
              "120595                                                  0      \n",
              "\n",
              "        RegiaoMetropolitana_Região Metropolitana de São Paulo  \\\n",
              "0                                                       0       \n",
              "1                                                       1       \n",
              "2                                                       0       \n",
              "3                                                       1       \n",
              "4                                                       0       \n",
              "...                                                   ...       \n",
              "120591                                                  1       \n",
              "120592                                                  1       \n",
              "120593                                                  0       \n",
              "120594                                                  0       \n",
              "120595                                                  0       \n",
              "\n",
              "        RegiaoMetropolitana_Região Metropolitana do Vale do Paraíba e Litoral Norte  \\\n",
              "0                                                       1                             \n",
              "1                                                       0                             \n",
              "2                                                       0                             \n",
              "3                                                       0                             \n",
              "4                                                       0                             \n",
              "...                                                   ...                             \n",
              "120591                                                  0                             \n",
              "120592                                                  0                             \n",
              "120593                                                  0                             \n",
              "120594                                                  0                             \n",
              "120595                                                  0                             \n",
              "\n",
              "        idade  PERIODO_0  PERIODO_1  PERIODO_NOITE  Tipo_PROVA_A  Tipo_PROVA_C  \n",
              "0          18          1          0              0             0             1  \n",
              "1          12          1          0              0             0             1  \n",
              "2          15          1          0              0             0             1  \n",
              "3          18          1          0              0             0             1  \n",
              "4          15          1          0              0             0             1  \n",
              "...       ...        ...        ...            ...           ...           ...  \n",
              "120591     16          0          1              0             0             1  \n",
              "120592     13          1          0              0             0             1  \n",
              "120593     19          1          0              0             0             1  \n",
              "120594     12          0          1              0             0             1  \n",
              "120595     17          1          0              0             0             1  \n",
              "\n",
              "[120566 rows x 89 columns]"
            ]
          },
          "execution_count": 105,
          "metadata": {},
          "output_type": "execute_result"
        }
      ],
      "source": [
        "df = df[(np.abs(stats.zscore(df['porc_ACERT_CIE'])) < 3)]\n",
        "df"
      ]
    },
    {
      "cell_type": "code",
      "execution_count": 31,
      "metadata": {
        "id": "D9cpdif9JxFR"
      },
      "outputs": [],
      "source": [
        "# TODO: Linear Regression. Implement your solution. You cannot use scikit-learn, Keras/TensorFlow, or PyTorch libraries.\n",
        "def linear_regression(X, y, learning_rate=0.01, epochs=1000):\n",
        "    \"\"\"Linear regression using gradient descent using RMSE as loss func.\"\"\"\n",
        "    # Initialize weights\n",
        "    w = np.random.rand(X.shape[1], 1)*0.001 - 0.0005\n",
        "    b = np.zeros(1, 1)\n",
        "    # Initialize lists to store loss and weights\n",
        "    loss = []\n",
        "    weights = []\n",
        "    # Iterate over epochs\n",
        "    for epoch in range(epochs):\n",
        "        # Compute predictions\n",
        "        y_pred = np.dot(X, w) + b\n",
        "        # Compute loss\n",
        "        loss.append(np.sqrt(np.mean((y - y_pred)**2)))\n",
        "        # Compute gradients\n",
        "        dw = -2 * X.T @ (y - y_pred) / X.shape[0]\n",
        "        db = -2 * np.mean(y - y_pred)\n",
        "        # Update weights\n",
        "        w = w - learning_rate * dw\n",
        "        b = b - learning_rate * db\n",
        "        # Store weights\n",
        "        weights.append((w, b))\n",
        "    return loss, weights\n",
        "\n",
        "linear_regression()\n"
      ]
    },
    {
      "cell_type": "code",
      "execution_count": null,
      "metadata": {
        "id": "e4nZrMr_C2X7"
      },
      "outputs": [],
      "source": [
        "# TODO: Linear Regression. You can use scikit-learn libraries.\n"
      ]
    },
    {
      "cell_type": "markdown",
      "metadata": {
        "id": "zBNZQNImKQeo"
      },
      "source": [
        "\n",
        "> What are the conclusions? (1-2 paragraphs)\n",
        "\n",
        "\n"
      ]
    },
    {
      "cell_type": "markdown",
      "metadata": {
        "id": "ADxPBRhuK_Vq"
      },
      "source": [
        "2. (1 point) Use different Gradient Descent (GD) learning rates when optimizing. Compare the GD-based solutions with Normal Equation. What are the conclusions?\n"
      ]
    },
    {
      "cell_type": "code",
      "execution_count": null,
      "metadata": {
        "id": "RSZ1pLItNVbU"
      },
      "outputs": [],
      "source": [
        "# TODO: Gradient Descent (GD) with 3 different learning rates. You can use scikit-learn libraries.\n"
      ]
    },
    {
      "cell_type": "markdown",
      "metadata": {
        "id": "XrPl7jKgJPW6"
      },
      "source": [
        "\n",
        "3. (0.75 point) Sometimes, we need some more complex function to make good prediction. Devise and evaluate a Polynomial Linear Regression model. \n"
      ]
    },
    {
      "cell_type": "code",
      "execution_count": null,
      "metadata": {
        "id": "GjGbg41PMHR9"
      },
      "outputs": [],
      "source": [
        "# TODO: Complex model. You can use scikit-learn libraries.\n"
      ]
    },
    {
      "cell_type": "markdown",
      "metadata": {
        "id": "rBLKtosaLaCw"
      },
      "source": [
        "*texto em itálico*\n",
        " > What are the conclusions? What are the actions after such analyses? (1-2 paragraphs)\n",
        "\n",
        " \n"
      ]
    },
    {
      "cell_type": "markdown",
      "metadata": {
        "id": "ldSh1vtWK5Zk"
      },
      "source": [
        "4. (0.5) Plot the cost function vs. number of epochs in the training/validation set and analyze the model. "
      ]
    },
    {
      "cell_type": "code",
      "execution_count": null,
      "metadata": {
        "id": "mg7aNkl_LG4P"
      },
      "outputs": [],
      "source": [
        "# TODO: Plot the cost function vs. number of iterations in the training set.\n"
      ]
    },
    {
      "cell_type": "code",
      "execution_count": null,
      "metadata": {
        "id": "CfR862UoK9j6"
      },
      "outputs": [
        {
          "ename": "SyntaxError",
          "evalue": "invalid syntax (449369750.py, line 1)",
          "output_type": "error",
          "traceback": [
            "\u001b[0;36m  Input \u001b[0;32mIn [35]\u001b[0;36m\u001b[0m\n\u001b[0;31m    *texto em itálico*\u001b[0m\n\u001b[0m           ^\u001b[0m\n\u001b[0;31mSyntaxError\u001b[0m\u001b[0;31m:\u001b[0m invalid syntax\n"
          ]
        }
      ],
      "source": [
        "*texto em itálico*\n",
        "> What are the conclusions? What are the actions after such analyses? (1-2 paragraphs)\n"
      ]
    },
    {
      "cell_type": "markdown",
      "metadata": {
        "id": "8Xij-E5UUseS"
      },
      "source": [
        "5. (0.25 point) Pick **your best model**, based on your validation set, and predict the target values for the test set."
      ]
    },
    {
      "cell_type": "markdown",
      "metadata": {
        "id": "h_PobUahUseS"
      },
      "source": [
        "## Logistic Regression"
      ]
    },
    {
      "cell_type": "markdown",
      "metadata": {
        "id": "SCJuwjrAUseS"
      },
      "source": [
        "Now, this part of the assignment aims to predict students' proeficiency level on Portuguese, Mathematics, and Natural Sciences (target values: `nivel_profic_lp`, `nivel_profic_mat` and `nivel_profic_cie`) based on their socioeconomic data. Then, you have to **drop the columns `porc_ACERT_lp`,  `porc_ACERT_MAT`** and  **`porc_ACERT_CIE`**."
      ]
    },
    {
      "cell_type": "markdown",
      "metadata": {
        "id": "joYtn8avUseS"
      },
      "source": [
        "### Activities\n",
        "\n",
        "1. (2.75 points) Perform Multinomial Logistic Regression (_i.e._, softmax regression). It is a generalization of Logistic Regression to the case where we want to handle multiple classes. Try different combinations of features, dropping the ones less correlated to the target variables."
      ]
    },
    {
      "cell_type": "code",
      "execution_count": null,
      "metadata": {
        "id": "-36Dt2V_UseT"
      },
      "outputs": [],
      "source": [
        "# TODO: Multinomial Logistic Regression. You can use scikit-learn libraries.\n"
      ]
    },
    {
      "cell_type": "markdown",
      "metadata": {
        "id": "WQj3oImUUseT"
      },
      "source": [
        "> What are the conclusions? (1-2 paragraphs)\n"
      ]
    },
    {
      "cell_type": "markdown",
      "metadata": {
        "id": "yb1KNEqLUseT"
      },
      "source": [
        "2. (0.5 point) Plot the cost function vs. number of epochs in the training/validation set and analyze the model. "
      ]
    },
    {
      "cell_type": "code",
      "execution_count": null,
      "metadata": {
        "id": "wfECeHi3UseT"
      },
      "outputs": [],
      "source": [
        "# TODO: Plot the cost function vs. number of iterations in the training set.\n"
      ]
    },
    {
      "cell_type": "markdown",
      "metadata": {
        "id": "-IM4mx23UseT"
      },
      "source": [
        "> What are the conclusions? (1-2 paragraphs)\n"
      ]
    },
    {
      "cell_type": "markdown",
      "metadata": {
        "id": "Lqlv9-6OUseT"
      },
      "source": [
        "3. (0.75 point) Pick **your best model** and plot the confusion matrix in the **test set**. \n"
      ]
    },
    {
      "cell_type": "code",
      "execution_count": null,
      "metadata": {
        "id": "-jdyJuS0UseT"
      },
      "outputs": [],
      "source": [
        "# TODO: Plot the confusion matrix. You can use scikit-learn, seaborn, matplotlib libraries.\n"
      ]
    },
    {
      "cell_type": "markdown",
      "metadata": {
        "id": "xAmCj0cpUseT"
      },
      "source": [
        "> What are the conclusions? (1-2 paragraphs)\n"
      ]
    },
    {
      "cell_type": "markdown",
      "metadata": {
        "id": "kdSGS4brHnAi"
      },
      "source": [
        "## Deadline\n",
        "\n",
        "Monday, September 19, 11:59 pm. \n",
        "\n",
        "Penalty policy for late submission: You are not encouraged to submit your assignment after due date. However, in case you do, your grade will be penalized as follows:\n",
        "- September 20, 11:59 pm : grade * 0.75\n",
        "- September 21, 11:59 pm : grade * 0.5\n",
        "- September 22, 11:59 pm : grade * 0.25\n"
      ]
    },
    {
      "cell_type": "markdown",
      "metadata": {
        "id": "joN9pvZJIfW5"
      },
      "source": [
        "## Submission\n",
        "\n",
        "On Google Classroom, submit your Jupyter Notebook (in Portuguese or English).\n",
        "\n",
        "**This activity is NOT individual, it must be done in pairs (two-person group).**"
      ]
    }
  ],
  "metadata": {
    "colab": {
      "provenance": []
    },
    "gpuClass": "standard",
    "kernelspec": {
      "display_name": "Python 3.8.8 ('base')",
      "language": "python",
      "name": "python3"
    },
    "language_info": {
      "codemirror_mode": {
        "name": "ipython",
        "version": 3
      },
      "file_extension": ".py",
      "mimetype": "text/x-python",
      "name": "python",
      "nbconvert_exporter": "python",
      "pygments_lexer": "ipython3",
      "version": "3.8.8"
    },
    "vscode": {
      "interpreter": {
        "hash": "7758e92e9a61d7a3490898707f7eeb937c85e9d1e8d4e877cc6c187218f226d5"
      }
    }
  },
  "nbformat": 4,
  "nbformat_minor": 0
}
