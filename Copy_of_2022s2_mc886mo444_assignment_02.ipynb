{
  "cells": [
    {
      "cell_type": "markdown",
      "metadata": {
        "id": "Cs9E_R5yD48u"
      },
      "source": [
        "# **Assignment \\#2**: Machine Learning MC886/MO444\n",
        "University of Campinas (UNICAMP), Institute of Computing (IC)\n",
        "\n",
        "Prof. Sandra Avila, 2022s2\n",
        "\n"
      ]
    },
    {
      "cell_type": "code",
      "execution_count": 127,
      "metadata": {
        "colab": {
          "base_uri": "https://localhost:8080/"
        },
        "id": "tFS9Oum_RJX9",
        "outputId": "45094cce-bb6b-4ad6-966e-434b6c7b9db0"
      },
      "outputs": [
        {
          "name": "stdout",
          "output_type": "stream",
          "text": [
            "RA1: 213259 Arthur Baia\n",
            "RA2: 200025 José Afonso\n"
          ]
        }
      ],
      "source": [
        "# TODO: RA & Name\n",
        "print(f'RA1: 213259 ' + 'Arthur Baia')\n",
        "print(f'RA2: 200025 ' + 'José Afonso')\n"
      ]
    },
    {
      "cell_type": "markdown",
      "metadata": {
        "id": "IVGH2s7fD_03"
      },
      "source": [
        "## Objective\n",
        "\n",
        "Explore **linear regression** and **logistic regression** alternatives and come up with the best possible model for the problems, avoiding overfitting. In particular, predict the performance of students from public schools in the state of São Paulo based on socioeconomic data from SARESP (School Performance Assessment System of the State of São Paulo, or Sistema de Avaliação de Rendimento Escolar do Estado de São Paulo) 2021."
      ]
    },
    {
      "cell_type": "markdown",
      "metadata": {
        "id": "r3XDZRGqEwsk"
      },
      "source": [
        "### Dataset\n",
        "\n",
        "These data were aggregated from [Open Data Platform of the Secretary of Education of the State of São Paulo](https://dados.educacao.sp.gov.br/) (*Portal de Dados Abertos da Secretaria da Educação do Estado de São Paulo*). The dataset is based on two data sources: [SARESP questionnaire](https://dados.educacao.sp.gov.br/dataset/question%C3%A1rios-saresp) and [SARESP test](https://dados.educacao.sp.gov.br/dataset/profici%C3%AAncia-do-sistema-de-avalia%C3%A7%C3%A3o-de-rendimento-escolar-do-estado-de-s%C3%A3o-paulo-saresp-por), conducted in 2021 with students from the 5th and 9th year of Primary School and 3rd year of Highschool. The questionnaire comprehends 63 socio-economical questions, and it is available at the [link](https://dados.educacao.sp.gov.br/sites/default/files/Saresp_Quest_2021_Perguntas_Alunos.pdf ) ([English version](https://docs.google.com/document/d/1GUax3wwYxA43d3iNOiyCRImeCHgx8vUJrHlSzzYIXA4/edit?usp=sharing)), and the test is composed of questions of Portuguese, Mathematics, and Natural Sciences.\n",
        "\n",
        "\n",
        "**Data Dictionary**:\n",
        "\n",
        "- **CD_ALUNO**: Student ID;\n",
        "\n",
        "- **CODESC**: School ID;\n",
        "\n",
        "- **NOMESC**: School Name;\n",
        "\n",
        "- **RegiaoMetropolitana**: Metropolitan region;\n",
        "\n",
        "- **DE**: Name of the Education Board;\n",
        "\n",
        "- **CODMUN**: City ID;\n",
        "\n",
        "- **MUN**: City name;\n",
        "\n",
        "- **SERIE_ANO**: Scholar year;\n",
        "\n",
        "- **TURMA**: Class;\n",
        "\n",
        "- **TP_SEXO**: Sex (Female/Male);\n",
        "\n",
        "- **DT_NASCIMENTO**: Birth date;\n",
        "\n",
        "- **PERIODO**: Period of study (morning, afternoon, evening);\n",
        "\n",
        "- **Tem_Nec**: Whether student has any special needs (1 = yes, 0 = no);\n",
        "\n",
        "- **NEC_ESP_1** - **NEC_ESP_5**: Student disabilities;\n",
        "\n",
        "- **Tipo_PROVA**: Exam type (A = Enlarged, B = Braile, C = Common);\n",
        "\n",
        "- **QN**: Student answer to the question N (N= 1, ... , 63), see  questions in [questionnaire](https://dados.educacao.sp.gov.br/sites/default/files/Saresp_Quest_2021_Perguntas_Alunos.pdf ) ([English version](https://docs.google.com/document/d/1GUax3wwYxA43d3iNOiyCRImeCHgx8vUJrHlSzzYIXA4/edit?usp=sharing));\n",
        "\n",
        "- **porc_ACERT_lp**: Percentage of correct answers in the Portuguese test;\n",
        "\n",
        "- **porc_ACERT_MAT**: Percentage of correct answers in the Mathematics test;\n",
        "\n",
        "- **porc_ACERT_CIE**: Percentage of correct answers in the Natural Sciences test;\n",
        "\n",
        "- **nivel_profic_lp**: Proficiency level in the Portuguese test;\n",
        "\n",
        "- **nivel_profic_mat**: Proficiency level in the Mathematics test;\n",
        "\n",
        "- **nivel_profic_cie**:  Proficiency level in the Natural Sciences test.\n",
        "\n",
        "\n",
        "---\n",
        "\n",
        "\n",
        "\n",
        "You must respect the following training/test split:\n",
        "- SARESP_train.csv\n",
        "- SARESP_test.csv"
      ]
    },
    {
      "cell_type": "markdown",
      "metadata": {
        "id": "5FAA8hsZUseO"
      },
      "source": [
        "## Linear Regression\n",
        "\n",
        "This part of the assignment aims to predict students' performance on Portuguese, Mathematics, and Natural Sciences tests (target values: `porc_ACERT_lp`, `porc_ACERT_MAT`, and  `porc_ACERT_CIE`) based on their socioeconomic data. Then, at this point, you have to **drop the columns `nivel_profic_lp`, `nivel_profic_mat`** and **`nivel_profic_cie`**."
      ]
    },
    {
      "cell_type": "markdown",
      "metadata": {
        "id": "5d495CmpCltx"
      },
      "source": [
        "### Activities\n",
        "\n",
        "1. (3.5 points) Perform Linear Regression. You should implement your solution and compare it with ```sklearn.linear_model.SGDRegressor``` (linear model fitted by minimizing a regularized empirical loss with SGD, http://scikit-learn.org). Keep in mind that friends don't let friends use testing data for training :-)\n",
        "\n",
        "Note: Before we start an ML project, we always conduct a brief exploratory analysis :D \n",
        "\n",
        "Some factors to consider: Are there any outliers? Are there missing values? How will you handle categorical variables? Are there any features with low correlation with the target variables? What happens if you drop them?\n",
        "\n",
        "\n"
      ]
    },
    {
      "cell_type": "markdown",
      "metadata": {},
      "source": [
        "---\n",
        "Step 1: Load data and check it"
      ]
    },
    {
      "cell_type": "code",
      "execution_count": 128,
      "metadata": {
        "colab": {
          "base_uri": "https://localhost:8080/"
        },
        "id": "3y0QxxH1KgE1",
        "outputId": "c80087fa-d4a6-4cfb-dbb8-e0ff167ae8f2"
      },
      "outputs": [
        {
          "name": "stderr",
          "output_type": "stream",
          "text": [
            "/tmp/ipykernel_5077/1712878385.py:9: DtypeWarning: Columns (78) have mixed types. Specify dtype option on import or set low_memory=False.\n",
            "  df = pd.read_csv(\"SARESP_train.csv\")\n"
          ]
        }
      ],
      "source": [
        "# TODO: Load and preprocess your dataset.\n",
        "\n",
        "import numpy as np\n",
        "import pandas as pd\n",
        "import matplotlib.pyplot as plt\n",
        "import seaborn as sns\n",
        "%matplotlib inline\n",
        "\n",
        "df = pd.read_csv(\"SARESP_train.csv\")\n",
        "df_teste = pd.read_csv(\"SARESP_test.csv\")\n"
      ]
    },
    {
      "cell_type": "code",
      "execution_count": 129,
      "metadata": {
        "colab": {
          "base_uri": "https://localhost:8080/",
          "height": 589
        },
        "id": "DAADl99uoJp1",
        "outputId": "aecc2d5c-d89c-4b7f-c957-cfe195d94a0d"
      },
      "outputs": [
        {
          "data": {
            "text/html": [
              "<div>\n",
              "<style scoped>\n",
              "    .dataframe tbody tr th:only-of-type {\n",
              "        vertical-align: middle;\n",
              "    }\n",
              "\n",
              "    .dataframe tbody tr th {\n",
              "        vertical-align: top;\n",
              "    }\n",
              "\n",
              "    .dataframe thead th {\n",
              "        text-align: right;\n",
              "    }\n",
              "</style>\n",
              "<table border=\"1\" class=\"dataframe\">\n",
              "  <thead>\n",
              "    <tr style=\"text-align: right;\">\n",
              "      <th></th>\n",
              "      <th>CD_ALUNO</th>\n",
              "      <th>NOMESC</th>\n",
              "      <th>Q1</th>\n",
              "      <th>Q2</th>\n",
              "      <th>Q3</th>\n",
              "      <th>Q4</th>\n",
              "      <th>Q5</th>\n",
              "      <th>Q6</th>\n",
              "      <th>Q7</th>\n",
              "      <th>Q8</th>\n",
              "      <th>...</th>\n",
              "      <th>NEC_ESP_4</th>\n",
              "      <th>NEC_ESP_5</th>\n",
              "      <th>Tipo_PROVA</th>\n",
              "      <th>Tem_Nec</th>\n",
              "      <th>porc_ACERT_lp</th>\n",
              "      <th>porc_ACERT_MAT</th>\n",
              "      <th>porc_ACERT_CIE</th>\n",
              "      <th>nivel_profic_lp</th>\n",
              "      <th>nivel_profic_mat</th>\n",
              "      <th>nivel_profic_cie</th>\n",
              "    </tr>\n",
              "  </thead>\n",
              "  <tbody>\n",
              "    <tr>\n",
              "      <th>0</th>\n",
              "      <td>26270013</td>\n",
              "      <td>JULIO FORTES</td>\n",
              "      <td>B</td>\n",
              "      <td>E</td>\n",
              "      <td>E</td>\n",
              "      <td>E</td>\n",
              "      <td>E</td>\n",
              "      <td>E</td>\n",
              "      <td>E</td>\n",
              "      <td>E</td>\n",
              "      <td>...</td>\n",
              "      <td>NaN</td>\n",
              "      <td>NaN</td>\n",
              "      <td>C</td>\n",
              "      <td>0</td>\n",
              "      <td>41.7</td>\n",
              "      <td>20.8</td>\n",
              "      <td>20.8</td>\n",
              "      <td>Abaixo do Básico</td>\n",
              "      <td>Abaixo do Básico</td>\n",
              "      <td>Abaixo do Básico</td>\n",
              "    </tr>\n",
              "    <tr>\n",
              "      <th>1</th>\n",
              "      <td>30756614</td>\n",
              "      <td>MESSIAS FREIRE PROFESSOR</td>\n",
              "      <td>B</td>\n",
              "      <td>D</td>\n",
              "      <td>E</td>\n",
              "      <td>C</td>\n",
              "      <td>E</td>\n",
              "      <td>E</td>\n",
              "      <td>E</td>\n",
              "      <td>E</td>\n",
              "      <td>...</td>\n",
              "      <td>NaN</td>\n",
              "      <td>NaN</td>\n",
              "      <td>C</td>\n",
              "      <td>0</td>\n",
              "      <td>83.3</td>\n",
              "      <td>100.0</td>\n",
              "      <td>66.7</td>\n",
              "      <td>Adequado</td>\n",
              "      <td>Avançado</td>\n",
              "      <td>Adequado</td>\n",
              "    </tr>\n",
              "    <tr>\n",
              "      <th>2</th>\n",
              "      <td>26014872</td>\n",
              "      <td>JOSE CONTI</td>\n",
              "      <td>B</td>\n",
              "      <td>E</td>\n",
              "      <td>B</td>\n",
              "      <td>D</td>\n",
              "      <td>E</td>\n",
              "      <td>B</td>\n",
              "      <td>D</td>\n",
              "      <td>C</td>\n",
              "      <td>...</td>\n",
              "      <td>NaN</td>\n",
              "      <td>NaN</td>\n",
              "      <td>C</td>\n",
              "      <td>0</td>\n",
              "      <td>58.3</td>\n",
              "      <td>37.5</td>\n",
              "      <td>54.2</td>\n",
              "      <td>Básico</td>\n",
              "      <td>Básico</td>\n",
              "      <td>Básico</td>\n",
              "    </tr>\n",
              "    <tr>\n",
              "      <th>3</th>\n",
              "      <td>25739025</td>\n",
              "      <td>NAPOLEAO DE CARVALHO FREIRE PROFESSOR</td>\n",
              "      <td>B</td>\n",
              "      <td>D</td>\n",
              "      <td>E</td>\n",
              "      <td>D</td>\n",
              "      <td>C</td>\n",
              "      <td>E</td>\n",
              "      <td>D</td>\n",
              "      <td>D</td>\n",
              "      <td>...</td>\n",
              "      <td>NaN</td>\n",
              "      <td>NaN</td>\n",
              "      <td>C</td>\n",
              "      <td>0</td>\n",
              "      <td>29.2</td>\n",
              "      <td>29.2</td>\n",
              "      <td>16.7</td>\n",
              "      <td>Abaixo do Básico</td>\n",
              "      <td>Abaixo do Básico</td>\n",
              "      <td>Abaixo do Básico</td>\n",
              "    </tr>\n",
              "    <tr>\n",
              "      <th>4</th>\n",
              "      <td>27363009</td>\n",
              "      <td>RESIDENCIAL BORDON</td>\n",
              "      <td>B</td>\n",
              "      <td>D</td>\n",
              "      <td>E</td>\n",
              "      <td>E</td>\n",
              "      <td>E</td>\n",
              "      <td>E</td>\n",
              "      <td>E</td>\n",
              "      <td>C</td>\n",
              "      <td>...</td>\n",
              "      <td>NaN</td>\n",
              "      <td>NaN</td>\n",
              "      <td>C</td>\n",
              "      <td>0</td>\n",
              "      <td>79.2</td>\n",
              "      <td>41.7</td>\n",
              "      <td>50.0</td>\n",
              "      <td>Adequado</td>\n",
              "      <td>Abaixo do Básico</td>\n",
              "      <td>Básico</td>\n",
              "    </tr>\n",
              "    <tr>\n",
              "      <th>...</th>\n",
              "      <td>...</td>\n",
              "      <td>...</td>\n",
              "      <td>...</td>\n",
              "      <td>...</td>\n",
              "      <td>...</td>\n",
              "      <td>...</td>\n",
              "      <td>...</td>\n",
              "      <td>...</td>\n",
              "      <td>...</td>\n",
              "      <td>...</td>\n",
              "      <td>...</td>\n",
              "      <td>...</td>\n",
              "      <td>...</td>\n",
              "      <td>...</td>\n",
              "      <td>...</td>\n",
              "      <td>...</td>\n",
              "      <td>...</td>\n",
              "      <td>...</td>\n",
              "      <td>...</td>\n",
              "      <td>...</td>\n",
              "      <td>...</td>\n",
              "    </tr>\n",
              "    <tr>\n",
              "      <th>120591</th>\n",
              "      <td>28799794</td>\n",
              "      <td>ENNIO CHIESA PROFESSOR</td>\n",
              "      <td>A</td>\n",
              "      <td>E</td>\n",
              "      <td>E</td>\n",
              "      <td>E</td>\n",
              "      <td>E</td>\n",
              "      <td>E</td>\n",
              "      <td>E</td>\n",
              "      <td>E</td>\n",
              "      <td>...</td>\n",
              "      <td>NaN</td>\n",
              "      <td>NaN</td>\n",
              "      <td>C</td>\n",
              "      <td>0</td>\n",
              "      <td>79.2</td>\n",
              "      <td>66.7</td>\n",
              "      <td>83.3</td>\n",
              "      <td>Adequado</td>\n",
              "      <td>Básico</td>\n",
              "      <td>Adequado</td>\n",
              "    </tr>\n",
              "    <tr>\n",
              "      <th>120592</th>\n",
              "      <td>27825068</td>\n",
              "      <td>HELIO HELENE</td>\n",
              "      <td>B</td>\n",
              "      <td>D</td>\n",
              "      <td>D</td>\n",
              "      <td>D</td>\n",
              "      <td>D</td>\n",
              "      <td>D</td>\n",
              "      <td>D</td>\n",
              "      <td>D</td>\n",
              "      <td>...</td>\n",
              "      <td>NaN</td>\n",
              "      <td>NaN</td>\n",
              "      <td>C</td>\n",
              "      <td>0</td>\n",
              "      <td>37.5</td>\n",
              "      <td>25.0</td>\n",
              "      <td>16.7</td>\n",
              "      <td>Abaixo do Básico</td>\n",
              "      <td>Abaixo do Básico</td>\n",
              "      <td>Abaixo do Básico</td>\n",
              "    </tr>\n",
              "    <tr>\n",
              "      <th>120593</th>\n",
              "      <td>23873470</td>\n",
              "      <td>ALBERTO SANTOS DUMONT</td>\n",
              "      <td>A</td>\n",
              "      <td>E</td>\n",
              "      <td>E</td>\n",
              "      <td>E</td>\n",
              "      <td>E</td>\n",
              "      <td>E</td>\n",
              "      <td>D</td>\n",
              "      <td>D</td>\n",
              "      <td>...</td>\n",
              "      <td>NaN</td>\n",
              "      <td>NaN</td>\n",
              "      <td>C</td>\n",
              "      <td>0</td>\n",
              "      <td>50.0</td>\n",
              "      <td>37.5</td>\n",
              "      <td>41.7</td>\n",
              "      <td>Básico</td>\n",
              "      <td>Abaixo do Básico</td>\n",
              "      <td>Abaixo do Básico</td>\n",
              "    </tr>\n",
              "    <tr>\n",
              "      <th>120594</th>\n",
              "      <td>31376275</td>\n",
              "      <td>FRANCISCO BONFIM</td>\n",
              "      <td>B</td>\n",
              "      <td>E</td>\n",
              "      <td>C</td>\n",
              "      <td>C</td>\n",
              "      <td>D</td>\n",
              "      <td>B</td>\n",
              "      <td>B</td>\n",
              "      <td>A</td>\n",
              "      <td>...</td>\n",
              "      <td>NaN</td>\n",
              "      <td>NaN</td>\n",
              "      <td>C</td>\n",
              "      <td>1</td>\n",
              "      <td>45.8</td>\n",
              "      <td>70.8</td>\n",
              "      <td>54.2</td>\n",
              "      <td>Abaixo do Básico</td>\n",
              "      <td>Básico</td>\n",
              "      <td>Abaixo do Básico</td>\n",
              "    </tr>\n",
              "    <tr>\n",
              "      <th>120595</th>\n",
              "      <td>28109335</td>\n",
              "      <td>MAGDALENA SANSEVERINO GROSSO PROFESSORA</td>\n",
              "      <td>A</td>\n",
              "      <td>A</td>\n",
              "      <td>A</td>\n",
              "      <td>A</td>\n",
              "      <td>A</td>\n",
              "      <td>A</td>\n",
              "      <td>A</td>\n",
              "      <td>A</td>\n",
              "      <td>...</td>\n",
              "      <td>NaN</td>\n",
              "      <td>NaN</td>\n",
              "      <td>C</td>\n",
              "      <td>1</td>\n",
              "      <td>37.5</td>\n",
              "      <td>16.7</td>\n",
              "      <td>16.7</td>\n",
              "      <td>Abaixo do Básico</td>\n",
              "      <td>Abaixo do Básico</td>\n",
              "      <td>Abaixo do Básico</td>\n",
              "    </tr>\n",
              "  </tbody>\n",
              "</table>\n",
              "<p>120596 rows × 88 columns</p>\n",
              "</div>"
            ],
            "text/plain": [
              "        CD_ALUNO                                   NOMESC Q1 Q2 Q3 Q4 Q5 Q6  \\\n",
              "0       26270013                             JULIO FORTES  B  E  E  E  E  E   \n",
              "1       30756614                 MESSIAS FREIRE PROFESSOR  B  D  E  C  E  E   \n",
              "2       26014872                               JOSE CONTI  B  E  B  D  E  B   \n",
              "3       25739025    NAPOLEAO DE CARVALHO FREIRE PROFESSOR  B  D  E  D  C  E   \n",
              "4       27363009                       RESIDENCIAL BORDON  B  D  E  E  E  E   \n",
              "...          ...                                      ... .. .. .. .. .. ..   \n",
              "120591  28799794                   ENNIO CHIESA PROFESSOR  A  E  E  E  E  E   \n",
              "120592  27825068                             HELIO HELENE  B  D  D  D  D  D   \n",
              "120593  23873470                    ALBERTO SANTOS DUMONT  A  E  E  E  E  E   \n",
              "120594  31376275                         FRANCISCO BONFIM  B  E  C  C  D  B   \n",
              "120595  28109335  MAGDALENA SANSEVERINO GROSSO PROFESSORA  A  A  A  A  A  A   \n",
              "\n",
              "       Q7 Q8  ... NEC_ESP_4 NEC_ESP_5 Tipo_PROVA Tem_Nec porc_ACERT_lp  \\\n",
              "0       E  E  ...       NaN       NaN          C       0          41.7   \n",
              "1       E  E  ...       NaN       NaN          C       0          83.3   \n",
              "2       D  C  ...       NaN       NaN          C       0          58.3   \n",
              "3       D  D  ...       NaN       NaN          C       0          29.2   \n",
              "4       E  C  ...       NaN       NaN          C       0          79.2   \n",
              "...    .. ..  ...       ...       ...        ...     ...           ...   \n",
              "120591  E  E  ...       NaN       NaN          C       0          79.2   \n",
              "120592  D  D  ...       NaN       NaN          C       0          37.5   \n",
              "120593  D  D  ...       NaN       NaN          C       0          50.0   \n",
              "120594  B  A  ...       NaN       NaN          C       1          45.8   \n",
              "120595  A  A  ...       NaN       NaN          C       1          37.5   \n",
              "\n",
              "       porc_ACERT_MAT porc_ACERT_CIE   nivel_profic_lp  nivel_profic_mat  \\\n",
              "0                20.8           20.8  Abaixo do Básico  Abaixo do Básico   \n",
              "1               100.0           66.7          Adequado          Avançado   \n",
              "2                37.5           54.2            Básico            Básico   \n",
              "3                29.2           16.7  Abaixo do Básico  Abaixo do Básico   \n",
              "4                41.7           50.0          Adequado  Abaixo do Básico   \n",
              "...               ...            ...               ...               ...   \n",
              "120591           66.7           83.3          Adequado            Básico   \n",
              "120592           25.0           16.7  Abaixo do Básico  Abaixo do Básico   \n",
              "120593           37.5           41.7            Básico  Abaixo do Básico   \n",
              "120594           70.8           54.2  Abaixo do Básico            Básico   \n",
              "120595           16.7           16.7  Abaixo do Básico  Abaixo do Básico   \n",
              "\n",
              "        nivel_profic_cie  \n",
              "0       Abaixo do Básico  \n",
              "1               Adequado  \n",
              "2                 Básico  \n",
              "3       Abaixo do Básico  \n",
              "4                 Básico  \n",
              "...                  ...  \n",
              "120591          Adequado  \n",
              "120592  Abaixo do Básico  \n",
              "120593  Abaixo do Básico  \n",
              "120594  Abaixo do Básico  \n",
              "120595  Abaixo do Básico  \n",
              "\n",
              "[120596 rows x 88 columns]"
            ]
          },
          "execution_count": 129,
          "metadata": {},
          "output_type": "execute_result"
        }
      ],
      "source": [
        "df"
      ]
    },
    {
      "cell_type": "code",
      "execution_count": 130,
      "metadata": {
        "colab": {
          "base_uri": "https://localhost:8080/"
        },
        "id": "ePztAuVOoMe1",
        "outputId": "bbde7cd6-825a-4234-ea16-40b77629606e"
      },
      "outputs": [
        {
          "data": {
            "text/html": [
              "<div>\n",
              "<style scoped>\n",
              "    .dataframe tbody tr th:only-of-type {\n",
              "        vertical-align: middle;\n",
              "    }\n",
              "\n",
              "    .dataframe tbody tr th {\n",
              "        vertical-align: top;\n",
              "    }\n",
              "\n",
              "    .dataframe thead th {\n",
              "        text-align: right;\n",
              "    }\n",
              "</style>\n",
              "<table border=\"1\" class=\"dataframe\">\n",
              "  <thead>\n",
              "    <tr style=\"text-align: right;\">\n",
              "      <th></th>\n",
              "      <th>CD_ALUNO</th>\n",
              "      <th>CODMUN</th>\n",
              "      <th>CODESC</th>\n",
              "      <th>NEC_ESP_5</th>\n",
              "      <th>Tem_Nec</th>\n",
              "      <th>porc_ACERT_lp</th>\n",
              "      <th>porc_ACERT_MAT</th>\n",
              "      <th>porc_ACERT_CIE</th>\n",
              "    </tr>\n",
              "  </thead>\n",
              "  <tbody>\n",
              "    <tr>\n",
              "      <th>count</th>\n",
              "      <td>1.205960e+05</td>\n",
              "      <td>120596.000000</td>\n",
              "      <td>120596.000000</td>\n",
              "      <td>0.0</td>\n",
              "      <td>120596.000000</td>\n",
              "      <td>120596.000000</td>\n",
              "      <td>120596.000000</td>\n",
              "      <td>120596.000000</td>\n",
              "    </tr>\n",
              "    <tr>\n",
              "      <th>mean</th>\n",
              "      <td>2.734087e+07</td>\n",
              "      <td>364.349075</td>\n",
              "      <td>279415.870510</td>\n",
              "      <td>NaN</td>\n",
              "      <td>0.019818</td>\n",
              "      <td>60.151213</td>\n",
              "      <td>52.225829</td>\n",
              "      <td>56.928877</td>\n",
              "    </tr>\n",
              "    <tr>\n",
              "      <th>std</th>\n",
              "      <td>2.946464e+06</td>\n",
              "      <td>220.098318</td>\n",
              "      <td>394245.824543</td>\n",
              "      <td>NaN</td>\n",
              "      <td>0.139376</td>\n",
              "      <td>21.730825</td>\n",
              "      <td>21.262466</td>\n",
              "      <td>18.441383</td>\n",
              "    </tr>\n",
              "    <tr>\n",
              "      <th>min</th>\n",
              "      <td>1.739548e+07</td>\n",
              "      <td>100.000000</td>\n",
              "      <td>24.000000</td>\n",
              "      <td>NaN</td>\n",
              "      <td>0.000000</td>\n",
              "      <td>0.000000</td>\n",
              "      <td>0.000000</td>\n",
              "      <td>0.000000</td>\n",
              "    </tr>\n",
              "    <tr>\n",
              "      <th>25%</th>\n",
              "      <td>2.529711e+07</td>\n",
              "      <td>100.000000</td>\n",
              "      <td>15568.000000</td>\n",
              "      <td>NaN</td>\n",
              "      <td>0.000000</td>\n",
              "      <td>41.700000</td>\n",
              "      <td>37.500000</td>\n",
              "      <td>45.800000</td>\n",
              "    </tr>\n",
              "    <tr>\n",
              "      <th>50%</th>\n",
              "      <td>2.712102e+07</td>\n",
              "      <td>336.000000</td>\n",
              "      <td>35178.000000</td>\n",
              "      <td>NaN</td>\n",
              "      <td>0.000000</td>\n",
              "      <td>62.500000</td>\n",
              "      <td>50.000000</td>\n",
              "      <td>58.300000</td>\n",
              "    </tr>\n",
              "    <tr>\n",
              "      <th>75%</th>\n",
              "      <td>2.910558e+07</td>\n",
              "      <td>582.000000</td>\n",
              "      <td>901573.000000</td>\n",
              "      <td>NaN</td>\n",
              "      <td>0.000000</td>\n",
              "      <td>79.200000</td>\n",
              "      <td>66.700000</td>\n",
              "      <td>70.800000</td>\n",
              "    </tr>\n",
              "    <tr>\n",
              "      <th>max</th>\n",
              "      <td>3.796186e+07</td>\n",
              "      <td>793.000000</td>\n",
              "      <td>926103.000000</td>\n",
              "      <td>NaN</td>\n",
              "      <td>1.000000</td>\n",
              "      <td>100.000000</td>\n",
              "      <td>100.000000</td>\n",
              "      <td>100.000000</td>\n",
              "    </tr>\n",
              "  </tbody>\n",
              "</table>\n",
              "</div>"
            ],
            "text/plain": [
              "           CD_ALUNO         CODMUN         CODESC  NEC_ESP_5        Tem_Nec  \\\n",
              "count  1.205960e+05  120596.000000  120596.000000        0.0  120596.000000   \n",
              "mean   2.734087e+07     364.349075  279415.870510        NaN       0.019818   \n",
              "std    2.946464e+06     220.098318  394245.824543        NaN       0.139376   \n",
              "min    1.739548e+07     100.000000      24.000000        NaN       0.000000   \n",
              "25%    2.529711e+07     100.000000   15568.000000        NaN       0.000000   \n",
              "50%    2.712102e+07     336.000000   35178.000000        NaN       0.000000   \n",
              "75%    2.910558e+07     582.000000  901573.000000        NaN       0.000000   \n",
              "max    3.796186e+07     793.000000  926103.000000        NaN       1.000000   \n",
              "\n",
              "       porc_ACERT_lp  porc_ACERT_MAT  porc_ACERT_CIE  \n",
              "count  120596.000000   120596.000000   120596.000000  \n",
              "mean       60.151213       52.225829       56.928877  \n",
              "std        21.730825       21.262466       18.441383  \n",
              "min         0.000000        0.000000        0.000000  \n",
              "25%        41.700000       37.500000       45.800000  \n",
              "50%        62.500000       50.000000       58.300000  \n",
              "75%        79.200000       66.700000       70.800000  \n",
              "max       100.000000      100.000000      100.000000  "
            ]
          },
          "execution_count": 130,
          "metadata": {},
          "output_type": "execute_result"
        }
      ],
      "source": [
        "df.describe()\n"
      ]
    },
    {
      "cell_type": "code",
      "execution_count": 131,
      "metadata": {
        "colab": {
          "base_uri": "https://localhost:8080/"
        },
        "id": "OvxhHEeSpaW0",
        "outputId": "7820214f-75cb-4153-bd20-19b11ec475d0"
      },
      "outputs": [
        {
          "data": {
            "text/plain": [
              "Index(['CD_ALUNO', 'NOMESC', 'Q1', 'Q2', 'Q3', 'Q4', 'Q5', 'Q6', 'Q7', 'Q8',\n",
              "       'Q9', 'Q10', 'Q11', 'Q12', 'Q13', 'Q14', 'Q15', 'Q16', 'Q17', 'Q18',\n",
              "       'Q19', 'Q20', 'Q21', 'Q22', 'Q23', 'Q24', 'Q25', 'Q26', 'Q27', 'Q28',\n",
              "       'Q29', 'Q30', 'Q31', 'Q32', 'Q33', 'Q34', 'Q35', 'Q36', 'Q37', 'Q38',\n",
              "       'Q39', 'Q40', 'Q41', 'Q42', 'Q43', 'Q44', 'Q45', 'Q46', 'Q47', 'Q48',\n",
              "       'Q49', 'Q50', 'Q51', 'Q52', 'Q53', 'Q54', 'Q55', 'Q56', 'Q57', 'Q58',\n",
              "       'Q59', 'Q60', 'Q61', 'Q62', 'Q63', 'RegiaoMetropolitana', 'DE',\n",
              "       'CODMUN', 'MUN', 'CODESC', 'SERIE_ANO', 'TURMA', 'TP_SEXO',\n",
              "       'DT_NASCIMENTO', 'PERIODO', 'NEC_ESP_1', 'NEC_ESP_2', 'NEC_ESP_3',\n",
              "       'NEC_ESP_4', 'NEC_ESP_5', 'Tipo_PROVA', 'Tem_Nec', 'porc_ACERT_lp',\n",
              "       'porc_ACERT_MAT', 'porc_ACERT_CIE', 'nivel_profic_lp',\n",
              "       'nivel_profic_mat', 'nivel_profic_cie'],\n",
              "      dtype='object')"
            ]
          },
          "execution_count": 131,
          "metadata": {},
          "output_type": "execute_result"
        }
      ],
      "source": [
        "df.columns\n"
      ]
    },
    {
      "cell_type": "markdown",
      "metadata": {},
      "source": [
        "---\n",
        "Step 2: Check NaNs in the dataframe"
      ]
    },
    {
      "cell_type": "code",
      "execution_count": 132,
      "metadata": {
        "colab": {
          "base_uri": "https://localhost:8080/"
        },
        "id": "IUu_-HXQs_tb",
        "outputId": "9578fccd-4ac9-4664-a6b4-021b02a17856"
      },
      "outputs": [
        {
          "data": {
            "text/plain": [
              "NEC_ESP_5           120596\n",
              "NEC_ESP_4           120595\n",
              "NEC_ESP_3           120520\n",
              "NEC_ESP_2           120489\n",
              "NEC_ESP_1           118206\n",
              "                     ...  \n",
              "Q26                      0\n",
              "Q25                      0\n",
              "Q24                      0\n",
              "Q23                      0\n",
              "nivel_profic_cie         0\n",
              "Length: 88, dtype: int64"
            ]
          },
          "execution_count": 132,
          "metadata": {},
          "output_type": "execute_result"
        }
      ],
      "source": [
        "df.isna().sum(axis=0).sort_values(ascending=False)"
      ]
    },
    {
      "cell_type": "markdown",
      "metadata": {},
      "source": [
        "Since there are a lot of NaN's in the NEC_ESP columns, they will be dropped"
      ]
    },
    {
      "cell_type": "code",
      "execution_count": 133,
      "metadata": {},
      "outputs": [
        {
          "data": {
            "text/plain": [
              "Index(['CD_ALUNO', 'NOMESC', 'Q1', 'Q2', 'Q3', 'Q4', 'Q5', 'Q6', 'Q7', 'Q8',\n",
              "       'Q9', 'Q10', 'Q11', 'Q12', 'Q13', 'Q14', 'Q15', 'Q16', 'Q17', 'Q18',\n",
              "       'Q19', 'Q20', 'Q21', 'Q22', 'Q23', 'Q24', 'Q25', 'Q26', 'Q27', 'Q28',\n",
              "       'Q29', 'Q30', 'Q31', 'Q32', 'Q33', 'Q34', 'Q35', 'Q36', 'Q37', 'Q38',\n",
              "       'Q39', 'Q40', 'Q41', 'Q42', 'Q43', 'Q44', 'Q45', 'Q46', 'Q47', 'Q48',\n",
              "       'Q49', 'Q50', 'Q51', 'Q52', 'Q53', 'Q54', 'Q55', 'Q56', 'Q57', 'Q58',\n",
              "       'Q59', 'Q60', 'Q61', 'Q62', 'Q63', 'RegiaoMetropolitana', 'DE',\n",
              "       'CODMUN', 'MUN', 'CODESC', 'SERIE_ANO', 'TURMA', 'TP_SEXO',\n",
              "       'DT_NASCIMENTO', 'PERIODO', 'Tipo_PROVA', 'Tem_Nec', 'porc_ACERT_lp',\n",
              "       'porc_ACERT_MAT', 'porc_ACERT_CIE', 'nivel_profic_lp',\n",
              "       'nivel_profic_mat', 'nivel_profic_cie'],\n",
              "      dtype='object')"
            ]
          },
          "execution_count": 133,
          "metadata": {},
          "output_type": "execute_result"
        }
      ],
      "source": [
        "def drop_nec_columns(df):\n",
        "    for i in range(1, 6):\n",
        "        df.drop(columns=[f'NEC_ESP_{i}'], inplace=True)\n",
        "drop_nec_columns(df)\n",
        "drop_nec_columns(df_teste)\n",
        "df.columns"
      ]
    },
    {
      "cell_type": "markdown",
      "metadata": {},
      "source": [
        "---\n",
        "Step 3: Transform data\n",
        "\n",
        "Based on the questions {Q0, .., Q63} and their meaning and possible values, it's needed to transform them into numerical data"
      ]
    },
    {
      "cell_type": "code",
      "execution_count": 134,
      "metadata": {},
      "outputs": [
        {
          "data": {
            "text/plain": [
              "Index(['CD_ALUNO', 'NOMESC', 'Q1', 'Q2', 'Q3', 'Q4', 'Q5', 'Q6', 'Q7', 'Q8',\n",
              "       'Q9', 'Q10', 'Q11', 'Q12', 'Q13', 'Q14', 'Q15', 'Q16', 'Q17', 'Q18',\n",
              "       'Q19', 'Q20', 'Q21', 'Q22', 'Q23', 'Q24', 'Q25', 'Q26', 'Q27', 'Q28',\n",
              "       'Q29', 'Q30', 'Q31', 'Q32', 'Q33', 'Q34', 'Q35', 'Q36', 'Q37', 'Q38',\n",
              "       'Q39', 'Q40', 'Q41', 'Q42', 'Q43', 'Q44', 'Q45', 'Q46', 'Q47', 'Q48',\n",
              "       'Q49', 'Q50', 'Q51', 'Q52', 'Q53', 'Q54', 'Q55', 'Q56', 'Q57', 'Q58',\n",
              "       'Q59', 'Q60', 'Q61', 'Q62', 'RegiaoMetropolitana', 'DE', 'CODMUN',\n",
              "       'MUN', 'CODESC', 'SERIE_ANO', 'TURMA', 'TP_SEXO', 'DT_NASCIMENTO',\n",
              "       'PERIODO', 'Tipo_PROVA', 'Tem_Nec', 'porc_ACERT_lp', 'porc_ACERT_MAT',\n",
              "       'porc_ACERT_CIE', 'nivel_profic_lp', 'nivel_profic_mat',\n",
              "       'nivel_profic_cie', 'Q63_A', 'Q63_B', 'Q63_C', 'Q63_D'],\n",
              "      dtype='object')"
            ]
          },
          "execution_count": 134,
          "metadata": {},
          "output_type": "execute_result"
        }
      ],
      "source": [
        "\n",
        "def question_map(df):\n",
        "\n",
        "    ordinal_map = {'A': 1, 'B': 2, 'C': 3, 'D': 4, 'E': 5}\n",
        "    inversed_ordinal_map = {'A': 5, 'B': 4, 'C': 3, 'D': 2, 'E': 1}\n",
        "    dont_know_ordinal_map = {'A': 1, 'B': 2, 'C': 3, 'D': 1, 'E': 2}\n",
        "    inversed_dont_know_ordinal_map = {'A': 4, 'B': 3, 'C': 2, 'D': 1, 'E': 2} #applied penalty for don't know anwser\n",
        "    home_ordinal_map = {'A': 0, 'B': 1, 'C': 2, 'D': 3, 'E': 4}\n",
        "    miss_someone_map = {'A': 1, 'B': 1, 'C': 1, 'D': 0}\n",
        "    someone_helped_map = {'A': 2, 'B': 1, 'C': 1, 'D': 0}\n",
        "\n",
        "    for q in range(1, 64):\n",
        "        if (q <= 8 or (q > 26 and q <= 33) or (q > 33 and q <= 41) or (q > 56 and q <= 58) or q == 60): #ordinal map\n",
        "            df.replace({f'Q{q}': ordinal_map}, inplace=True)\n",
        "        elif ((q > 8 and q <= 26) or q == 59):\n",
        "            df.replace({f'Q{q}': inversed_ordinal_map}, inplace=True) \n",
        "        elif (q == 42):\n",
        "            df.replace({f'Q{q}': inversed_dont_know_ordinal_map}, inplace=True)\n",
        "        elif (q > 42 and q <= 49):\n",
        "            df.replace({f'Q{q}': dont_know_ordinal_map}, inplace=True)\n",
        "        elif (q > 49 and q <= 56):\n",
        "            df.replace({f'Q{q}': home_ordinal_map}, inplace=True)\n",
        "        elif (q == 61):\n",
        "            df.replace({f'Q{q}': miss_someone_map}, inplace=True)\n",
        "        elif (q == 62):\n",
        "            df.replace({f'Q{q}': someone_helped_map}, inplace=True)\n",
        "        else: # 63 question\n",
        "            df = pd.concat([df, pd.get_dummies(df['Q63'], prefix='Q63')], axis=1)\n",
        "            df.drop(columns=[ 'Q63'], inplace=True)\n",
        "    \n",
        "    return df\n",
        "\n",
        "df = question_map(df)\n",
        "df_teste = question_map(df_teste)\n",
        "df.columns\n",
        "\n"
      ]
    },
    {
      "cell_type": "markdown",
      "metadata": {},
      "source": [
        "\n",
        "Considering there are many columns related to geographical columns, { 'RegiaoMetropolitana', 'DE', 'CODMUN', 'MUN', 'CODESC' }, we will select only one column related to this \n",
        "matter, because there are no indicator related to social geographical like HDI to correlate to them. Also, if we one hot encode each of these columns there will be a huge increase in dimensionality. So, we will choose the 'Regiao metropolitana' column."
      ]
    },
    {
      "cell_type": "code",
      "execution_count": 135,
      "metadata": {},
      "outputs": [
        {
          "data": {
            "text/plain": [
              "RegiaoMetropolitana\n",
              "Interior                                                   39211\n",
              "Região Metropolitana da Baixada Santista                    7688\n",
              "Região Metropolitana de Campinas                            3465\n",
              "Região Metropolitana de Ribeirão Preto                      6712\n",
              "Região Metropolitana de Sorocaba                            6736\n",
              "Região Metropolitana de São Paulo                          47437\n",
              "Região Metropolitana do Vale do Paraíba e Litoral Norte     9347\n",
              "Name: RegiaoMetropolitana, dtype: int64"
            ]
          },
          "execution_count": 135,
          "metadata": {},
          "output_type": "execute_result"
        }
      ],
      "source": [
        "df['RegiaoMetropolitana'].groupby(df['RegiaoMetropolitana']).count()"
      ]
    },
    {
      "cell_type": "code",
      "execution_count": 136,
      "metadata": {},
      "outputs": [],
      "source": [
        "def select_geo(df):\n",
        "    df = pd.concat([df, pd.get_dummies(df['RegiaoMetropolitana'], prefix='RegiaoMetropolitana')], axis=1)\n",
        "    df.drop(columns=['NOMESC', 'MUN', 'CODESC', 'CODMUN', 'RegiaoMetropolitana',  'DE'], inplace=True)\n",
        "    return df\n",
        "df = select_geo(df)\n",
        "df_teste = select_geo(df_teste)"
      ]
    },
    {
      "cell_type": "code",
      "execution_count": 137,
      "metadata": {},
      "outputs": [
        {
          "data": {
            "text/plain": [
              "Index(['CD_ALUNO', 'Q1', 'Q2', 'Q3', 'Q4', 'Q5', 'Q6', 'Q7', 'Q8', 'Q9', 'Q10',\n",
              "       'Q11', 'Q12', 'Q13', 'Q14', 'Q15', 'Q16', 'Q17', 'Q18', 'Q19', 'Q20',\n",
              "       'Q21', 'Q22', 'Q23', 'Q24', 'Q25', 'Q26', 'Q27', 'Q28', 'Q29', 'Q30',\n",
              "       'Q31', 'Q32', 'Q33', 'Q34', 'Q35', 'Q36', 'Q37', 'Q38', 'Q39', 'Q40',\n",
              "       'Q41', 'Q42', 'Q43', 'Q44', 'Q45', 'Q46', 'Q47', 'Q48', 'Q49', 'Q50',\n",
              "       'Q51', 'Q52', 'Q53', 'Q54', 'Q55', 'Q56', 'Q57', 'Q58', 'Q59', 'Q60',\n",
              "       'Q61', 'Q62', 'Tem_Nec', 'porc_ACERT_lp', 'porc_ACERT_MAT',\n",
              "       'porc_ACERT_CIE', 'Q63_A', 'Q63_B', 'Q63_C', 'Q63_D',\n",
              "       'RegiaoMetropolitana_Interior',\n",
              "       'RegiaoMetropolitana_Região Metropolitana da Baixada Santista',\n",
              "       'RegiaoMetropolitana_Região Metropolitana de Campinas',\n",
              "       'RegiaoMetropolitana_Região Metropolitana de Ribeirão Preto',\n",
              "       'RegiaoMetropolitana_Região Metropolitana de Sorocaba',\n",
              "       'RegiaoMetropolitana_Região Metropolitana de São Paulo',\n",
              "       'RegiaoMetropolitana_Região Metropolitana do Vale do Paraíba e Litoral Norte'],\n",
              "      dtype='object')"
            ]
          },
          "execution_count": 137,
          "metadata": {},
          "output_type": "execute_result"
        }
      ],
      "source": [
        "df._get_numeric_data().columns"
      ]
    },
    {
      "cell_type": "code",
      "execution_count": 139,
      "metadata": {},
      "outputs": [
        {
          "data": {
            "text/plain": [
              "{'nivel_profic_lp'}"
            ]
          },
          "execution_count": 139,
          "metadata": {},
          "output_type": "execute_result"
        }
      ],
      "source": [
        "def get_categorical_columns(df):\n",
        "    cols = df.columns\n",
        "\n",
        "    num_cols = df._get_numeric_data().columns\n",
        "\n",
        "    return list(set(cols) - set(num_cols))\n",
        "set(get_categorical_columns(df)) - set(get_categorical_columns(df_teste))"
      ]
    },
    {
      "cell_type": "code",
      "execution_count": 140,
      "metadata": {},
      "outputs": [
        {
          "data": {
            "text/plain": [
              "Index(['CD_ALUNO', 'Q1', 'Q2', 'Q3', 'Q4', 'Q5', 'Q6', 'Q7', 'Q8', 'Q9', 'Q10',\n",
              "       'Q11', 'Q12', 'Q13', 'Q14', 'Q15', 'Q16', 'Q17', 'Q18', 'Q19', 'Q20',\n",
              "       'Q21', 'Q22', 'Q23', 'Q24', 'Q25', 'Q26', 'Q27', 'Q28', 'Q29', 'Q30',\n",
              "       'Q31', 'Q32', 'Q33', 'Q34', 'Q35', 'Q36', 'Q37', 'Q38', 'Q39', 'Q40',\n",
              "       'Q41', 'Q42', 'Q43', 'Q44', 'Q45', 'Q46', 'Q47', 'Q48', 'Q49', 'Q50',\n",
              "       'Q51', 'Q52', 'Q53', 'Q54', 'Q55', 'Q56', 'Q57', 'Q58', 'Q59', 'Q60',\n",
              "       'Q61', 'Q62', 'SERIE_ANO', 'TURMA', 'TP_SEXO', 'DT_NASCIMENTO',\n",
              "       'PERIODO', 'Tipo_PROVA', 'Tem_Nec', 'porc_ACERT_lp', 'porc_ACERT_MAT',\n",
              "       'porc_ACERT_CIE', 'nivel_profic_lp', 'nivel_profic_mat',\n",
              "       'nivel_profic_cie', 'Q63_A', 'Q63_B', 'Q63_C', 'Q63_D',\n",
              "       'RegiaoMetropolitana_Interior',\n",
              "       'RegiaoMetropolitana_Região Metropolitana da Baixada Santista',\n",
              "       'RegiaoMetropolitana_Região Metropolitana de Campinas',\n",
              "       'RegiaoMetropolitana_Região Metropolitana de Ribeirão Preto',\n",
              "       'RegiaoMetropolitana_Região Metropolitana de Sorocaba',\n",
              "       'RegiaoMetropolitana_Região Metropolitana de São Paulo',\n",
              "       'RegiaoMetropolitana_Região Metropolitana do Vale do Paraíba e Litoral Norte'],\n",
              "      dtype='object')"
            ]
          },
          "execution_count": 140,
          "metadata": {},
          "output_type": "execute_result"
        }
      ],
      "source": [
        "df.columns"
      ]
    },
    {
      "cell_type": "code",
      "execution_count": 141,
      "metadata": {},
      "outputs": [
        {
          "data": {
            "text/plain": [
              "Index(['CD_ALUNO', 'Q1', 'Q2', 'Q3', 'Q4', 'Q5', 'Q6', 'Q7', 'Q8', 'Q9', 'Q10',\n",
              "       'Q11', 'Q12', 'Q13', 'Q14', 'Q15', 'Q16', 'Q17', 'Q18', 'Q19', 'Q20',\n",
              "       'Q21', 'Q22', 'Q23', 'Q24', 'Q25', 'Q26', 'Q27', 'Q28', 'Q29', 'Q30',\n",
              "       'Q31', 'Q32', 'Q33', 'Q34', 'Q35', 'Q36', 'Q37', 'Q38', 'Q39', 'Q40',\n",
              "       'Q41', 'Q42', 'Q43', 'Q44', 'Q45', 'Q46', 'Q47', 'Q48', 'Q49', 'Q50',\n",
              "       'Q51', 'Q52', 'Q53', 'Q54', 'Q55', 'Q56', 'Q57', 'Q58', 'Q59', 'Q60',\n",
              "       'Q61', 'Q62', 'SERIE_ANO', 'TURMA', 'TP_SEXO', 'DT_NASCIMENTO',\n",
              "       'PERIODO', 'Tipo_PROVA', 'Tem_Nec', 'porc_ACERT_lp', 'porc_ACERT_MAT',\n",
              "       'porc_ACERT_CIE', 'nivel_profic_mat', 'nivel_profic_cie', 'Q63_A',\n",
              "       'Q63_B', 'Q63_C', 'Q63_D', 'RegiaoMetropolitana_Interior',\n",
              "       'RegiaoMetropolitana_Região Metropolitana da Baixada Santista',\n",
              "       'RegiaoMetropolitana_Região Metropolitana de Campinas',\n",
              "       'RegiaoMetropolitana_Região Metropolitana de Ribeirão Preto',\n",
              "       'RegiaoMetropolitana_Região Metropolitana de Sorocaba',\n",
              "       'RegiaoMetropolitana_Região Metropolitana de São Paulo',\n",
              "       'RegiaoMetropolitana_Região Metropolitana do Vale do Paraíba e Litoral Norte'],\n",
              "      dtype='object')"
            ]
          },
          "execution_count": 141,
          "metadata": {},
          "output_type": "execute_result"
        }
      ],
      "source": [
        "df_teste.columns"
      ]
    },
    {
      "cell_type": "markdown",
      "metadata": {},
      "source": [
        "Since birth date is not a numerical category, we turn it into age (idade column)"
      ]
    },
    {
      "cell_type": "code",
      "execution_count": 142,
      "metadata": {},
      "outputs": [
        {
          "data": {
            "text/plain": [
              "0         18\n",
              "1         12\n",
              "2         15\n",
              "3         18\n",
              "4         15\n",
              "          ..\n",
              "120591    16\n",
              "120592    13\n",
              "120593    19\n",
              "120594    12\n",
              "120595    17\n",
              "Name: idade, Length: 120596, dtype: int64"
            ]
          },
          "execution_count": 142,
          "metadata": {},
          "output_type": "execute_result"
        }
      ],
      "source": [
        "\n",
        "from datetime import datetime\n",
        "from datetime import date\n",
        "\n",
        "\n",
        "def calculate_age(born):\n",
        "    born = datetime.strptime(born, \"%m/%d/%Y\").date()\n",
        "    today = date.today()\n",
        "    return today.year - born.year - ((today.month, today.day) < (born.month, born.day))\n",
        "\n",
        "\n",
        "df['idade'] = df['DT_NASCIMENTO'].apply(calculate_age)\n",
        "df_teste['idade'] = df_teste['DT_NASCIMENTO'].apply(calculate_age)\n",
        "df = df.drop(columns=['DT_NASCIMENTO'])\n",
        "df_teste = df_teste.drop(columns=['DT_NASCIMENTO'])\n",
        "df['idade']\n"
      ]
    },
    {
      "cell_type": "code",
      "execution_count": 143,
      "metadata": {},
      "outputs": [
        {
          "data": {
            "text/plain": [
              "<AxesSubplot:xlabel='idade'>"
            ]
          },
          "execution_count": 143,
          "metadata": {},
          "output_type": "execute_result"
        },
        {
          "data": {
            "image/png": "[encoded data removed]",
            "text/plain": [
              "<Figure size 432x288 with 1 Axes>"
            ]
          },
          "metadata": {
            "needs_background": "light"
          },
          "output_type": "display_data"
        }
      ],
      "source": [
        "df['idade'].groupby(df['idade']).count().plot(kind='bar')\n",
        "\n"
      ]
    },
    {
      "cell_type": "markdown",
      "metadata": {},
      "source": [
        "Mapping categorical features into numerical"
      ]
    },
    {
      "cell_type": "code",
      "execution_count": 144,
      "metadata": {},
      "outputs": [],
      "source": [
        "def sex_mapper(df):\n",
        "    sex_map = {'F': 0, 'M': 1}\n",
        "    df.replace({'TP_SEXO': sex_map}, inplace=True)\n",
        "    return df\n",
        "df = sex_mapper(df)\n",
        "df_teste = sex_mapper(df_teste)\n"
      ]
    },
    {
      "cell_type": "markdown",
      "metadata": {},
      "source": [
        "Since more years of schooling may mean more knowledge, we will choose to make SERIE_ANO as ordinal as well."
      ]
    },
    {
      "cell_type": "code",
      "execution_count": 94,
      "metadata": {},
      "outputs": [
        {
          "data": {
            "text/plain": [
              "0         3\n",
              "1         1\n",
              "2         2\n",
              "3         3\n",
              "4         2\n",
              "         ..\n",
              "120591    2\n",
              "120592    1\n",
              "120593    3\n",
              "120594    1\n",
              "120595    2\n",
              "Name: SERIE_ANO, Length: 120596, dtype: int64"
            ]
          },
          "execution_count": 94,
          "metadata": {},
          "output_type": "execute_result"
        }
      ],
      "source": [
        "def school_year_mapper(df): \n",
        "    school_year_map = {'EM-3ª série': 3, '9º Ano EF': 2, '5º Ano EF': 1}\n",
        "    df.replace({'SERIE_ANO': school_year_map}, inplace=True)\n",
        "    return df\n",
        "df = school_year_mapper(df)\n",
        "df_teste = school_year_mapper(df_teste)\n",
        "df['SERIE_ANO']"
      ]
    },
    {
      "cell_type": "code",
      "execution_count": 145,
      "metadata": {},
      "outputs": [],
      "source": [
        "\"\"\"Drop column TURMA, since in large scale it is not relevant\"\"\"\n",
        "def drop_turma(df):\n",
        "    df = df.drop(columns=['TURMA'])\n",
        "    return df\n",
        "\n",
        "df = drop_turma(df)\n",
        "df_teste = drop_turma(df_teste)"
      ]
    },
    {
      "cell_type": "code",
      "execution_count": 149,
      "metadata": {},
      "outputs": [
        {
          "data": {
            "text/plain": [
              "{'A'}"
            ]
          },
          "execution_count": 149,
          "metadata": {},
          "output_type": "execute_result"
        }
      ],
      "source": [
        "\"\"\"Get unique values for column Tipo Prova\"\"\"\n",
        "set(df['Tipo_PROVA'].unique()) - set(df_teste['Tipo_PROVA'].unique())\n"
      ]
    },
    {
      "cell_type": "code",
      "execution_count": 166,
      "metadata": {},
      "outputs": [],
      "source": [
        "# Since there is just one value in test and two values in train, we can drop this column\n",
        "def drop_tipo_prova(df):\n",
        "    df = df.drop(columns=['Tipo_PROVA'])\n",
        "    return df\n",
        "df = drop_tipo_prova(df)\n",
        "df_teste = drop_tipo_prova(df_teste)"
      ]
    },
    {
      "cell_type": "code",
      "execution_count": 167,
      "metadata": {},
      "outputs": [
        {
          "ename": "KeyError",
          "evalue": "'PERIODO'",
          "output_type": "error",
          "traceback": [
            "\u001b[0;31m---------------------------------------------------------------------------\u001b[0m",
            "\u001b[0;31mKeyError\u001b[0m                                  Traceback (most recent call last)",
            "File \u001b[0;32m~/.local/lib/python3.8/site-packages/pandas/core/indexes/base.py:3621\u001b[0m, in \u001b[0;36mIndex.get_loc\u001b[0;34m(self, key, method, tolerance)\u001b[0m\n\u001b[1;32m   3620\u001b[0m \u001b[39mtry\u001b[39;00m:\n\u001b[0;32m-> 3621\u001b[0m     \u001b[39mreturn\u001b[39;00m \u001b[39mself\u001b[39;49m\u001b[39m.\u001b[39;49m_engine\u001b[39m.\u001b[39;49mget_loc(casted_key)\n\u001b[1;32m   3622\u001b[0m \u001b[39mexcept\u001b[39;00m \u001b[39mKeyError\u001b[39;00m \u001b[39mas\u001b[39;00m err:\n",
            "File \u001b[0;32m~/.local/lib/python3.8/site-packages/pandas/_libs/index.pyx:136\u001b[0m, in \u001b[0;36mpandas._libs.index.IndexEngine.get_loc\u001b[0;34m()\u001b[0m\n",
            "File \u001b[0;32m~/.local/lib/python3.8/site-packages/pandas/_libs/index.pyx:163\u001b[0m, in \u001b[0;36mpandas._libs.index.IndexEngine.get_loc\u001b[0;34m()\u001b[0m\n",
            "File \u001b[0;32mpandas/_libs/hashtable_class_helper.pxi:5198\u001b[0m, in \u001b[0;36mpandas._libs.hashtable.PyObjectHashTable.get_item\u001b[0;34m()\u001b[0m\n",
            "File \u001b[0;32mpandas/_libs/hashtable_class_helper.pxi:5206\u001b[0m, in \u001b[0;36mpandas._libs.hashtable.PyObjectHashTable.get_item\u001b[0;34m()\u001b[0m\n",
            "\u001b[0;31mKeyError\u001b[0m: 'PERIODO'",
            "\nThe above exception was the direct cause of the following exception:\n",
            "\u001b[0;31mKeyError\u001b[0m                                  Traceback (most recent call last)",
            "\u001b[1;32m/home/arthur/Documents/unicamp/mc886/Copy_of_2022s2_mc886mo444_assignment_02.ipynb Cell 35\u001b[0m in \u001b[0;36m<cell line: 6>\u001b[0;34m()\u001b[0m\n\u001b[1;32m      <a href='vscode-notebook-cell:/home/arthur/Documents/unicamp/mc886/Copy_of_2022s2_mc886mo444_assignment_02.ipynb#X42sZmlsZQ%3D%3D?line=3'>4</a>\u001b[0m     df \u001b[39m=\u001b[39m df\u001b[39m.\u001b[39mdrop(columns\u001b[39m=\u001b[39m[\u001b[39m'\u001b[39m\u001b[39mPERIODO\u001b[39m\u001b[39m'\u001b[39m])\n\u001b[1;32m      <a href='vscode-notebook-cell:/home/arthur/Documents/unicamp/mc886/Copy_of_2022s2_mc886mo444_assignment_02.ipynb#X42sZmlsZQ%3D%3D?line=4'>5</a>\u001b[0m     \u001b[39mreturn\u001b[39;00m df\n\u001b[0;32m----> <a href='vscode-notebook-cell:/home/arthur/Documents/unicamp/mc886/Copy_of_2022s2_mc886mo444_assignment_02.ipynb#X42sZmlsZQ%3D%3D?line=5'>6</a>\u001b[0m df \u001b[39m=\u001b[39m one_hot_encoding_(df)\n\u001b[1;32m      <a href='vscode-notebook-cell:/home/arthur/Documents/unicamp/mc886/Copy_of_2022s2_mc886mo444_assignment_02.ipynb#X42sZmlsZQ%3D%3D?line=6'>7</a>\u001b[0m df_teste \u001b[39m=\u001b[39m one_hot_encoding_(df_teste)\n",
            "\u001b[1;32m/home/arthur/Documents/unicamp/mc886/Copy_of_2022s2_mc886mo444_assignment_02.ipynb Cell 35\u001b[0m in \u001b[0;36mone_hot_encoding_\u001b[0;34m(df)\u001b[0m\n\u001b[1;32m      <a href='vscode-notebook-cell:/home/arthur/Documents/unicamp/mc886/Copy_of_2022s2_mc886mo444_assignment_02.ipynb#X42sZmlsZQ%3D%3D?line=1'>2</a>\u001b[0m \u001b[39mdef\u001b[39;00m \u001b[39mone_hot_encoding_\u001b[39m(df):\n\u001b[0;32m----> <a href='vscode-notebook-cell:/home/arthur/Documents/unicamp/mc886/Copy_of_2022s2_mc886mo444_assignment_02.ipynb#X42sZmlsZQ%3D%3D?line=2'>3</a>\u001b[0m     df \u001b[39m=\u001b[39m pd\u001b[39m.\u001b[39mconcat([df, pd\u001b[39m.\u001b[39mget_dummies(df[\u001b[39m'\u001b[39;49m\u001b[39mPERIODO\u001b[39;49m\u001b[39m'\u001b[39;49m], prefix\u001b[39m=\u001b[39m\u001b[39m'\u001b[39m\u001b[39mPERIODO\u001b[39m\u001b[39m'\u001b[39m)], axis\u001b[39m=\u001b[39m\u001b[39m1\u001b[39m)\n\u001b[1;32m      <a href='vscode-notebook-cell:/home/arthur/Documents/unicamp/mc886/Copy_of_2022s2_mc886mo444_assignment_02.ipynb#X42sZmlsZQ%3D%3D?line=3'>4</a>\u001b[0m     df \u001b[39m=\u001b[39m df\u001b[39m.\u001b[39mdrop(columns\u001b[39m=\u001b[39m[\u001b[39m'\u001b[39m\u001b[39mPERIODO\u001b[39m\u001b[39m'\u001b[39m])\n\u001b[1;32m      <a href='vscode-notebook-cell:/home/arthur/Documents/unicamp/mc886/Copy_of_2022s2_mc886mo444_assignment_02.ipynb#X42sZmlsZQ%3D%3D?line=4'>5</a>\u001b[0m     \u001b[39mreturn\u001b[39;00m df\n",
            "File \u001b[0;32m~/.local/lib/python3.8/site-packages/pandas/core/frame.py:3505\u001b[0m, in \u001b[0;36mDataFrame.__getitem__\u001b[0;34m(self, key)\u001b[0m\n\u001b[1;32m   3503\u001b[0m \u001b[39mif\u001b[39;00m \u001b[39mself\u001b[39m\u001b[39m.\u001b[39mcolumns\u001b[39m.\u001b[39mnlevels \u001b[39m>\u001b[39m \u001b[39m1\u001b[39m:\n\u001b[1;32m   3504\u001b[0m     \u001b[39mreturn\u001b[39;00m \u001b[39mself\u001b[39m\u001b[39m.\u001b[39m_getitem_multilevel(key)\n\u001b[0;32m-> 3505\u001b[0m indexer \u001b[39m=\u001b[39m \u001b[39mself\u001b[39;49m\u001b[39m.\u001b[39;49mcolumns\u001b[39m.\u001b[39;49mget_loc(key)\n\u001b[1;32m   3506\u001b[0m \u001b[39mif\u001b[39;00m is_integer(indexer):\n\u001b[1;32m   3507\u001b[0m     indexer \u001b[39m=\u001b[39m [indexer]\n",
            "File \u001b[0;32m~/.local/lib/python3.8/site-packages/pandas/core/indexes/base.py:3623\u001b[0m, in \u001b[0;36mIndex.get_loc\u001b[0;34m(self, key, method, tolerance)\u001b[0m\n\u001b[1;32m   3621\u001b[0m     \u001b[39mreturn\u001b[39;00m \u001b[39mself\u001b[39m\u001b[39m.\u001b[39m_engine\u001b[39m.\u001b[39mget_loc(casted_key)\n\u001b[1;32m   3622\u001b[0m \u001b[39mexcept\u001b[39;00m \u001b[39mKeyError\u001b[39;00m \u001b[39mas\u001b[39;00m err:\n\u001b[0;32m-> 3623\u001b[0m     \u001b[39mraise\u001b[39;00m \u001b[39mKeyError\u001b[39;00m(key) \u001b[39mfrom\u001b[39;00m \u001b[39merr\u001b[39;00m\n\u001b[1;32m   3624\u001b[0m \u001b[39mexcept\u001b[39;00m \u001b[39mTypeError\u001b[39;00m:\n\u001b[1;32m   3625\u001b[0m     \u001b[39m# If we have a listlike key, _check_indexing_error will raise\u001b[39;00m\n\u001b[1;32m   3626\u001b[0m     \u001b[39m#  InvalidIndexError. Otherwise we fall through and re-raise\u001b[39;00m\n\u001b[1;32m   3627\u001b[0m     \u001b[39m#  the TypeError.\u001b[39;00m\n\u001b[1;32m   3628\u001b[0m     \u001b[39mself\u001b[39m\u001b[39m.\u001b[39m_check_indexing_error(key)\n",
            "\u001b[0;31mKeyError\u001b[0m: 'PERIODO'"
          ]
        }
      ],
      "source": [
        "\"\"\"One hot encoding on the columns PERIODO, Tipo_PROVA\"\"\"\n",
        "def one_hot_encoding_(df):\n",
        "    df = pd.concat([df, pd.get_dummies(df['PERIODO'], prefix='PERIODO')], axis=1)\n",
        "    df = df.drop(columns=['PERIODO'])\n",
        "    return df\n",
        "df = one_hot_encoding_(df)\n",
        "df_teste = one_hot_encoding_(df_teste)\n"
      ]
    },
    {
      "cell_type": "code",
      "execution_count": 169,
      "metadata": {},
      "outputs": [
        {
          "data": {
            "text/plain": [
              "['SERIE_ANO']"
            ]
          },
          "execution_count": 169,
          "metadata": {},
          "output_type": "execute_result"
        }
      ],
      "source": [
        "get_categorical_columns(df)"
      ]
    },
    {
      "cell_type": "code",
      "execution_count": 153,
      "metadata": {},
      "outputs": [
        {
          "data": {
            "text/plain": [
              "['nivel_profic_mat', 'nivel_profic_cie', 'SERIE_ANO', 'Tipo_PROVA']"
            ]
          },
          "execution_count": 153,
          "metadata": {},
          "output_type": "execute_result"
        }
      ],
      "source": [
        "get_categorical_columns(df_teste)"
      ]
    },
    {
      "cell_type": "code",
      "execution_count": 154,
      "metadata": {},
      "outputs": [
        {
          "name": "stdout",
          "output_type": "stream",
          "text": [
            "['Abaixo do Básico' 'Avançado' 'Básico' 'Adequado']\n",
            "['Abaixo do Básico' 'Adequado' 'Básico' 'Avançado']\n",
            "['Abaixo do Básico' 'Adequado' 'Básico' 'Avançado']\n"
          ]
        }
      ],
      "source": [
        "\"\"\"Get unique values of nivel_profic_mat\"\"\"\n",
        "print(df['nivel_profic_mat'].unique())\n",
        "print(df['nivel_profic_lp'].unique())\n",
        "print(df['nivel_profic_cie'].unique())\n"
      ]
    },
    {
      "cell_type": "code",
      "execution_count": 155,
      "metadata": {},
      "outputs": [
        {
          "data": {
            "text/plain": [
              "0         0\n",
              "1         3\n",
              "2         1\n",
              "3         0\n",
              "4         0\n",
              "         ..\n",
              "120591    1\n",
              "120592    0\n",
              "120593    0\n",
              "120594    1\n",
              "120595    0\n",
              "Name: nivel_profic_mat, Length: 120596, dtype: int64"
            ]
          },
          "execution_count": 155,
          "metadata": {},
          "output_type": "execute_result"
        }
      ],
      "source": [
        "def map_categorical_columns_for_log_reg(df):\n",
        "    \"\"\"Map the categorical columns to numerical values\"\"\"\n",
        "    map_for_log_reg = { 'Abaixo do Básico': 0, 'Adequado': 2, 'Básico': 1, 'Avançado': 3}\n",
        "    df.replace({'nivel_profic_mat': map_for_log_reg}, inplace=True)\n",
        "    df.replace({'nivel_profic_lp': map_for_log_reg}, inplace=True)\n",
        "    df.replace({'nivel_profic_cie': map_for_log_reg}, inplace=True)\n",
        "    return df\n",
        "map_categorical_columns_for_log_reg(df)\n",
        "map_categorical_columns_for_log_reg(df_teste)\n",
        "df['nivel_profic_mat']"
      ]
    },
    {
      "cell_type": "code",
      "execution_count": 156,
      "metadata": {},
      "outputs": [
        {
          "data": {
            "text/plain": [
              "['SERIE_ANO', 'Tipo_PROVA']"
            ]
          },
          "execution_count": 156,
          "metadata": {},
          "output_type": "execute_result"
        }
      ],
      "source": [
        "get_categorical_columns(df)"
      ]
    },
    {
      "cell_type": "code",
      "execution_count": 157,
      "metadata": {},
      "outputs": [
        {
          "data": {
            "text/plain": [
              "pandas.core.frame.DataFrame"
            ]
          },
          "execution_count": 157,
          "metadata": {},
          "output_type": "execute_result"
        }
      ],
      "source": [
        "type(df)"
      ]
    },
    {
      "cell_type": "markdown",
      "metadata": {},
      "source": [
        "All the columns were rightly transformed"
      ]
    },
    {
      "cell_type": "markdown",
      "metadata": {},
      "source": [
        "---\n",
        "Step 4: With all the columns being numbers, we can start to perform numerical analysis such as correlation, etc"
      ]
    },
    {
      "cell_type": "code",
      "execution_count": 158,
      "metadata": {},
      "outputs": [
        {
          "data": {
            "text/html": [
              "<div>\n",
              "<style scoped>\n",
              "    .dataframe tbody tr th:only-of-type {\n",
              "        vertical-align: middle;\n",
              "    }\n",
              "\n",
              "    .dataframe tbody tr th {\n",
              "        vertical-align: top;\n",
              "    }\n",
              "\n",
              "    .dataframe thead th {\n",
              "        text-align: right;\n",
              "    }\n",
              "</style>\n",
              "<table border=\"1\" class=\"dataframe\">\n",
              "  <thead>\n",
              "    <tr style=\"text-align: right;\">\n",
              "      <th></th>\n",
              "      <th>CD_ALUNO</th>\n",
              "      <th>Q1</th>\n",
              "      <th>Q2</th>\n",
              "      <th>Q3</th>\n",
              "      <th>Q4</th>\n",
              "      <th>Q5</th>\n",
              "      <th>Q6</th>\n",
              "      <th>Q7</th>\n",
              "      <th>Q8</th>\n",
              "      <th>Q9</th>\n",
              "      <th>...</th>\n",
              "      <th>RegiaoMetropolitana_Região Metropolitana da Baixada Santista</th>\n",
              "      <th>RegiaoMetropolitana_Região Metropolitana de Campinas</th>\n",
              "      <th>RegiaoMetropolitana_Região Metropolitana de Ribeirão Preto</th>\n",
              "      <th>RegiaoMetropolitana_Região Metropolitana de Sorocaba</th>\n",
              "      <th>RegiaoMetropolitana_Região Metropolitana de São Paulo</th>\n",
              "      <th>RegiaoMetropolitana_Região Metropolitana do Vale do Paraíba e Litoral Norte</th>\n",
              "      <th>idade</th>\n",
              "      <th>PERIODO_MANHÃ</th>\n",
              "      <th>PERIODO_NOITE</th>\n",
              "      <th>PERIODO_TARDE</th>\n",
              "    </tr>\n",
              "  </thead>\n",
              "  <tbody>\n",
              "    <tr>\n",
              "      <th>count</th>\n",
              "      <td>1.205960e+05</td>\n",
              "      <td>120596.000000</td>\n",
              "      <td>120596.000000</td>\n",
              "      <td>120596.000000</td>\n",
              "      <td>120596.000000</td>\n",
              "      <td>120596.000000</td>\n",
              "      <td>120596.000000</td>\n",
              "      <td>120596.000000</td>\n",
              "      <td>120596.000000</td>\n",
              "      <td>120596.000000</td>\n",
              "      <td>...</td>\n",
              "      <td>120596.000000</td>\n",
              "      <td>120596.000000</td>\n",
              "      <td>120596.000000</td>\n",
              "      <td>120596.000000</td>\n",
              "      <td>120596.000000</td>\n",
              "      <td>120596.000000</td>\n",
              "      <td>120596.000000</td>\n",
              "      <td>120596.000000</td>\n",
              "      <td>120596.000000</td>\n",
              "      <td>120596.000000</td>\n",
              "    </tr>\n",
              "    <tr>\n",
              "      <th>mean</th>\n",
              "      <td>2.734087e+07</td>\n",
              "      <td>1.803567</td>\n",
              "      <td>4.183397</td>\n",
              "      <td>4.234850</td>\n",
              "      <td>3.901249</td>\n",
              "      <td>3.994676</td>\n",
              "      <td>3.839248</td>\n",
              "      <td>4.015813</td>\n",
              "      <td>3.542456</td>\n",
              "      <td>4.551519</td>\n",
              "      <td>...</td>\n",
              "      <td>0.063750</td>\n",
              "      <td>0.028732</td>\n",
              "      <td>0.055657</td>\n",
              "      <td>0.055856</td>\n",
              "      <td>0.393355</td>\n",
              "      <td>0.077507</td>\n",
              "      <td>15.748939</td>\n",
              "      <td>0.682353</td>\n",
              "      <td>0.110169</td>\n",
              "      <td>0.207478</td>\n",
              "    </tr>\n",
              "    <tr>\n",
              "      <th>std</th>\n",
              "      <td>2.946464e+06</td>\n",
              "      <td>0.634012</td>\n",
              "      <td>0.942674</td>\n",
              "      <td>1.032048</td>\n",
              "      <td>1.171602</td>\n",
              "      <td>1.033197</td>\n",
              "      <td>1.233479</td>\n",
              "      <td>1.100245</td>\n",
              "      <td>1.272283</td>\n",
              "      <td>0.723518</td>\n",
              "      <td>...</td>\n",
              "      <td>0.244308</td>\n",
              "      <td>0.167054</td>\n",
              "      <td>0.229259</td>\n",
              "      <td>0.229644</td>\n",
              "      <td>0.488496</td>\n",
              "      <td>0.267395</td>\n",
              "      <td>2.466573</td>\n",
              "      <td>0.465563</td>\n",
              "      <td>0.313102</td>\n",
              "      <td>0.405502</td>\n",
              "    </tr>\n",
              "    <tr>\n",
              "      <th>min</th>\n",
              "      <td>1.739548e+07</td>\n",
              "      <td>1.000000</td>\n",
              "      <td>1.000000</td>\n",
              "      <td>1.000000</td>\n",
              "      <td>1.000000</td>\n",
              "      <td>1.000000</td>\n",
              "      <td>1.000000</td>\n",
              "      <td>1.000000</td>\n",
              "      <td>1.000000</td>\n",
              "      <td>3.000000</td>\n",
              "      <td>...</td>\n",
              "      <td>0.000000</td>\n",
              "      <td>0.000000</td>\n",
              "      <td>0.000000</td>\n",
              "      <td>0.000000</td>\n",
              "      <td>0.000000</td>\n",
              "      <td>0.000000</td>\n",
              "      <td>10.000000</td>\n",
              "      <td>0.000000</td>\n",
              "      <td>0.000000</td>\n",
              "      <td>0.000000</td>\n",
              "    </tr>\n",
              "    <tr>\n",
              "      <th>25%</th>\n",
              "      <td>2.529711e+07</td>\n",
              "      <td>1.000000</td>\n",
              "      <td>4.000000</td>\n",
              "      <td>4.000000</td>\n",
              "      <td>3.000000</td>\n",
              "      <td>3.000000</td>\n",
              "      <td>3.000000</td>\n",
              "      <td>3.000000</td>\n",
              "      <td>3.000000</td>\n",
              "      <td>4.000000</td>\n",
              "      <td>...</td>\n",
              "      <td>0.000000</td>\n",
              "      <td>0.000000</td>\n",
              "      <td>0.000000</td>\n",
              "      <td>0.000000</td>\n",
              "      <td>0.000000</td>\n",
              "      <td>0.000000</td>\n",
              "      <td>15.000000</td>\n",
              "      <td>0.000000</td>\n",
              "      <td>0.000000</td>\n",
              "      <td>0.000000</td>\n",
              "    </tr>\n",
              "    <tr>\n",
              "      <th>50%</th>\n",
              "      <td>2.712102e+07</td>\n",
              "      <td>2.000000</td>\n",
              "      <td>4.000000</td>\n",
              "      <td>5.000000</td>\n",
              "      <td>4.000000</td>\n",
              "      <td>4.000000</td>\n",
              "      <td>4.000000</td>\n",
              "      <td>4.000000</td>\n",
              "      <td>4.000000</td>\n",
              "      <td>5.000000</td>\n",
              "      <td>...</td>\n",
              "      <td>0.000000</td>\n",
              "      <td>0.000000</td>\n",
              "      <td>0.000000</td>\n",
              "      <td>0.000000</td>\n",
              "      <td>0.000000</td>\n",
              "      <td>0.000000</td>\n",
              "      <td>16.000000</td>\n",
              "      <td>1.000000</td>\n",
              "      <td>0.000000</td>\n",
              "      <td>0.000000</td>\n",
              "    </tr>\n",
              "    <tr>\n",
              "      <th>75%</th>\n",
              "      <td>2.910558e+07</td>\n",
              "      <td>2.000000</td>\n",
              "      <td>5.000000</td>\n",
              "      <td>5.000000</td>\n",
              "      <td>5.000000</td>\n",
              "      <td>5.000000</td>\n",
              "      <td>5.000000</td>\n",
              "      <td>5.000000</td>\n",
              "      <td>5.000000</td>\n",
              "      <td>5.000000</td>\n",
              "      <td>...</td>\n",
              "      <td>0.000000</td>\n",
              "      <td>0.000000</td>\n",
              "      <td>0.000000</td>\n",
              "      <td>0.000000</td>\n",
              "      <td>1.000000</td>\n",
              "      <td>0.000000</td>\n",
              "      <td>18.000000</td>\n",
              "      <td>1.000000</td>\n",
              "      <td>0.000000</td>\n",
              "      <td>0.000000</td>\n",
              "    </tr>\n",
              "    <tr>\n",
              "      <th>max</th>\n",
              "      <td>3.796186e+07</td>\n",
              "      <td>4.000000</td>\n",
              "      <td>5.000000</td>\n",
              "      <td>5.000000</td>\n",
              "      <td>5.000000</td>\n",
              "      <td>5.000000</td>\n",
              "      <td>5.000000</td>\n",
              "      <td>5.000000</td>\n",
              "      <td>5.000000</td>\n",
              "      <td>5.000000</td>\n",
              "      <td>...</td>\n",
              "      <td>1.000000</td>\n",
              "      <td>1.000000</td>\n",
              "      <td>1.000000</td>\n",
              "      <td>1.000000</td>\n",
              "      <td>1.000000</td>\n",
              "      <td>1.000000</td>\n",
              "      <td>56.000000</td>\n",
              "      <td>1.000000</td>\n",
              "      <td>1.000000</td>\n",
              "      <td>1.000000</td>\n",
              "    </tr>\n",
              "  </tbody>\n",
              "</table>\n",
              "<p>8 rows × 86 columns</p>\n",
              "</div>"
            ],
            "text/plain": [
              "           CD_ALUNO             Q1             Q2             Q3  \\\n",
              "count  1.205960e+05  120596.000000  120596.000000  120596.000000   \n",
              "mean   2.734087e+07       1.803567       4.183397       4.234850   \n",
              "std    2.946464e+06       0.634012       0.942674       1.032048   \n",
              "min    1.739548e+07       1.000000       1.000000       1.000000   \n",
              "25%    2.529711e+07       1.000000       4.000000       4.000000   \n",
              "50%    2.712102e+07       2.000000       4.000000       5.000000   \n",
              "75%    2.910558e+07       2.000000       5.000000       5.000000   \n",
              "max    3.796186e+07       4.000000       5.000000       5.000000   \n",
              "\n",
              "                  Q4             Q5             Q6             Q7  \\\n",
              "count  120596.000000  120596.000000  120596.000000  120596.000000   \n",
              "mean        3.901249       3.994676       3.839248       4.015813   \n",
              "std         1.171602       1.033197       1.233479       1.100245   \n",
              "min         1.000000       1.000000       1.000000       1.000000   \n",
              "25%         3.000000       3.000000       3.000000       3.000000   \n",
              "50%         4.000000       4.000000       4.000000       4.000000   \n",
              "75%         5.000000       5.000000       5.000000       5.000000   \n",
              "max         5.000000       5.000000       5.000000       5.000000   \n",
              "\n",
              "                  Q8             Q9  ...  \\\n",
              "count  120596.000000  120596.000000  ...   \n",
              "mean        3.542456       4.551519  ...   \n",
              "std         1.272283       0.723518  ...   \n",
              "min         1.000000       3.000000  ...   \n",
              "25%         3.000000       4.000000  ...   \n",
              "50%         4.000000       5.000000  ...   \n",
              "75%         5.000000       5.000000  ...   \n",
              "max         5.000000       5.000000  ...   \n",
              "\n",
              "       RegiaoMetropolitana_Região Metropolitana da Baixada Santista  \\\n",
              "count                                      120596.000000              \n",
              "mean                                            0.063750              \n",
              "std                                             0.244308              \n",
              "min                                             0.000000              \n",
              "25%                                             0.000000              \n",
              "50%                                             0.000000              \n",
              "75%                                             0.000000              \n",
              "max                                             1.000000              \n",
              "\n",
              "       RegiaoMetropolitana_Região Metropolitana de Campinas  \\\n",
              "count                                      120596.000000      \n",
              "mean                                            0.028732      \n",
              "std                                             0.167054      \n",
              "min                                             0.000000      \n",
              "25%                                             0.000000      \n",
              "50%                                             0.000000      \n",
              "75%                                             0.000000      \n",
              "max                                             1.000000      \n",
              "\n",
              "       RegiaoMetropolitana_Região Metropolitana de Ribeirão Preto  \\\n",
              "count                                      120596.000000            \n",
              "mean                                            0.055657            \n",
              "std                                             0.229259            \n",
              "min                                             0.000000            \n",
              "25%                                             0.000000            \n",
              "50%                                             0.000000            \n",
              "75%                                             0.000000            \n",
              "max                                             1.000000            \n",
              "\n",
              "       RegiaoMetropolitana_Região Metropolitana de Sorocaba  \\\n",
              "count                                      120596.000000      \n",
              "mean                                            0.055856      \n",
              "std                                             0.229644      \n",
              "min                                             0.000000      \n",
              "25%                                             0.000000      \n",
              "50%                                             0.000000      \n",
              "75%                                             0.000000      \n",
              "max                                             1.000000      \n",
              "\n",
              "       RegiaoMetropolitana_Região Metropolitana de São Paulo  \\\n",
              "count                                      120596.000000       \n",
              "mean                                            0.393355       \n",
              "std                                             0.488496       \n",
              "min                                             0.000000       \n",
              "25%                                             0.000000       \n",
              "50%                                             0.000000       \n",
              "75%                                             1.000000       \n",
              "max                                             1.000000       \n",
              "\n",
              "       RegiaoMetropolitana_Região Metropolitana do Vale do Paraíba e Litoral Norte  \\\n",
              "count                                      120596.000000                             \n",
              "mean                                            0.077507                             \n",
              "std                                             0.267395                             \n",
              "min                                             0.000000                             \n",
              "25%                                             0.000000                             \n",
              "50%                                             0.000000                             \n",
              "75%                                             0.000000                             \n",
              "max                                             1.000000                             \n",
              "\n",
              "               idade  PERIODO_MANHÃ  PERIODO_NOITE  PERIODO_TARDE  \n",
              "count  120596.000000  120596.000000  120596.000000  120596.000000  \n",
              "mean       15.748939       0.682353       0.110169       0.207478  \n",
              "std         2.466573       0.465563       0.313102       0.405502  \n",
              "min        10.000000       0.000000       0.000000       0.000000  \n",
              "25%        15.000000       0.000000       0.000000       0.000000  \n",
              "50%        16.000000       1.000000       0.000000       0.000000  \n",
              "75%        18.000000       1.000000       0.000000       0.000000  \n",
              "max        56.000000       1.000000       1.000000       1.000000  \n",
              "\n",
              "[8 rows x 86 columns]"
            ]
          },
          "execution_count": 158,
          "metadata": {},
          "output_type": "execute_result"
        }
      ],
      "source": [
        "df.describe()"
      ]
    },
    {
      "cell_type": "code",
      "execution_count": 159,
      "metadata": {},
      "outputs": [
        {
          "data": {
            "text/plain": [
              "(120596, 88)"
            ]
          },
          "execution_count": 159,
          "metadata": {},
          "output_type": "execute_result"
        }
      ],
      "source": [
        "df.shape"
      ]
    },
    {
      "cell_type": "markdown",
      "metadata": {},
      "source": [
        "Outliers detection\n",
        "\n",
        "Since the noly original numerical columns were the porc_ACERT, we will only perform outlier detection on these. The method to find the outliers will be though z-score and standard deviation, it's known that 99% of data is located between -3 std to 3 std, with that in mind we will drop all the data the is beyond this range  "
      ]
    },
    {
      "cell_type": "code",
      "execution_count": 160,
      "metadata": {},
      "outputs": [
        {
          "name": "stdout",
          "output_type": "stream",
          "text": [
            "0.00024876446979999335\n",
            "0.0\n",
            "0.0\n"
          ]
        },
        {
          "data": {
            "text/plain": [
              "<AxesSubplot:>"
            ]
          },
          "execution_count": 160,
          "metadata": {},
          "output_type": "execute_result"
        },
        {
          "data": {
            "image/png": "[encoded data removed]",
            "text/plain": [
              "<Figure size 432x288 with 1 Axes>"
            ]
          },
          "metadata": {
            "needs_background": "light"
          },
          "output_type": "display_data"
        }
      ],
      "source": [
        "#removing outliers\n",
        "\n",
        "from scipy import stats\n",
        "\n",
        "print(len(df[(np.abs(stats.zscore(df['porc_ACERT_CIE'])) > 3)])/len(df.index)) #less than 0.025%\n",
        "print(len(df[(np.abs(stats.zscore(df['porc_ACERT_MAT'])) > 3)])/len(df.index))\n",
        "print(len(df[(np.abs(stats.zscore(df['porc_ACERT_lp'])) > 3)])/len(df.index))\n",
        "\n",
        "df.boxplot(column=['porc_ACERT_lp',\n",
        "       'porc_ACERT_MAT', 'porc_ACERT_CIE'])  "
      ]
    },
    {
      "cell_type": "markdown",
      "metadata": {},
      "source": [
        "Since there are less than 0.025% of data that are outliers, there will be no great negative effects in dropping it"
      ]
    },
    {
      "cell_type": "code",
      "execution_count": 161,
      "metadata": {},
      "outputs": [
        {
          "data": {
            "text/plain": [
              "pandas.core.frame.DataFrame"
            ]
          },
          "execution_count": 161,
          "metadata": {},
          "output_type": "execute_result"
        }
      ],
      "source": [
        "df = df[(np.abs(stats.zscore(df['porc_ACERT_CIE'])) < 3)]\n",
        "type(df)\n",
        " "
      ]
    },
    {
      "cell_type": "markdown",
      "metadata": {},
      "source": [
        "Preparing df's for each specific target column"
      ]
    },
    {
      "cell_type": "code",
      "execution_count": 162,
      "metadata": {},
      "outputs": [],
      "source": [
        "df_cie = df \n",
        "df_mat = df\n",
        "df_lp = df\n",
        "df_cie_test = df_teste\n",
        "df_mat_test = df_teste\n",
        "df_lp_test = df_teste\n"
      ]
    },
    {
      "cell_type": "code",
      "execution_count": 163,
      "metadata": {},
      "outputs": [
        {
          "name": "stdout",
          "output_type": "stream",
          "text": [
            "set()\n",
            "set()\n",
            "set()\n"
          ]
        },
        {
          "data": {
            "text/plain": [
              "Index(['CD_ALUNO', 'Q1', 'Q2', 'Q3', 'Q4', 'Q5', 'Q6', 'Q7', 'Q8', 'Q9', 'Q10',\n",
              "       'Q11', 'Q12', 'Q13', 'Q14', 'Q15', 'Q16', 'Q17', 'Q18', 'Q19', 'Q20',\n",
              "       'Q21', 'Q22', 'Q23', 'Q24', 'Q25', 'Q26', 'Q27', 'Q28', 'Q29', 'Q30',\n",
              "       'Q31', 'Q32', 'Q33', 'Q34', 'Q35', 'Q36', 'Q37', 'Q38', 'Q39', 'Q40',\n",
              "       'Q41', 'Q42', 'Q43', 'Q44', 'Q45', 'Q46', 'Q47', 'Q48', 'Q49', 'Q50',\n",
              "       'Q51', 'Q52', 'Q53', 'Q54', 'Q55', 'Q56', 'Q57', 'Q58', 'Q59', 'Q60',\n",
              "       'Q61', 'Q62', 'SERIE_ANO', 'TP_SEXO', 'Tipo_PROVA', 'Tem_Nec',\n",
              "       'porc_ACERT_lp', 'porc_ACERT_MAT', 'porc_ACERT_CIE', 'nivel_profic_lp',\n",
              "       'nivel_profic_mat', 'nivel_profic_cie', 'Q63_A', 'Q63_B', 'Q63_C',\n",
              "       'Q63_D', 'RegiaoMetropolitana_Interior',\n",
              "       'RegiaoMetropolitana_Região Metropolitana da Baixada Santista',\n",
              "       'RegiaoMetropolitana_Região Metropolitana de Campinas',\n",
              "       'RegiaoMetropolitana_Região Metropolitana de Ribeirão Preto',\n",
              "       'RegiaoMetropolitana_Região Metropolitana de Sorocaba',\n",
              "       'RegiaoMetropolitana_Região Metropolitana de São Paulo',\n",
              "       'RegiaoMetropolitana_Região Metropolitana do Vale do Paraíba e Litoral Norte',\n",
              "       'idade', 'PERIODO_MANHÃ', 'PERIODO_NOITE', 'PERIODO_TARDE'],\n",
              "      dtype='object')"
            ]
          },
          "execution_count": 163,
          "metadata": {},
          "output_type": "execute_result"
        }
      ],
      "source": [
        "print(set(df_cie_test.columns) - set(df_cie.columns))\n",
        "print(set(df_mat_test.columns) - set(df_mat.columns))\n",
        "print(set(df_lp_test.columns) - set(df_lp.columns))\n",
        "df_mat.columns"
      ]
    },
    {
      "cell_type": "code",
      "execution_count": 164,
      "metadata": {},
      "outputs": [
        {
          "name": "stdout",
          "output_type": "stream",
          "text": [
            "['SERIE_ANO', 'Tipo_PROVA']\n",
            "['SERIE_ANO', 'Tipo_PROVA']\n",
            "['SERIE_ANO', 'Tipo_PROVA']\n",
            "['SERIE_ANO', 'Tipo_PROVA']\n",
            "['SERIE_ANO', 'Tipo_PROVA']\n",
            "['SERIE_ANO', 'Tipo_PROVA']\n"
          ]
        }
      ],
      "source": [
        "def tranform_into_lin_reg(df):\n",
        "    \"\"\"Drop all the categorical columns in the dataframe lin_reg_df\"\"\"\n",
        "    if 'nivel_profic_mat' in df.columns:\n",
        "        df = df.drop(columns=['nivel_profic_mat'])\n",
        "    if 'nivel_profic_lp' in df.columns:\n",
        "        df = df.drop(columns=['nivel_profic_lp'])\n",
        "    if 'nivel_profic_cie' in df.columns:\n",
        "        df = df.drop(columns=['nivel_profic_cie'])\n",
        "    return df\n",
        "\n",
        "\n",
        "df_cie_lr = tranform_into_lin_reg(df_cie)\n",
        "print(get_categorical_columns(df_cie_lr))\n",
        "df_mat_lr = tranform_into_lin_reg(df_mat)\n",
        "print(get_categorical_columns(df_mat_lr))\n",
        "df_lp_lr  = tranform_into_lin_reg(df_lp)\n",
        "print(get_categorical_columns(df_lp_lr))\n",
        "df_cie_lr_test = tranform_into_lin_reg(df_cie_test)\n",
        "print(get_categorical_columns(df_cie_lr_test))\n",
        "df_mat_lr_test = tranform_into_lin_reg(df_mat_test)\n",
        "print(get_categorical_columns(df_mat_lr_test))\n",
        "df_lp_lr_test = tranform_into_lin_reg(df_lp_test)\n",
        "print(get_categorical_columns(df_lp_lr_test))\n"
      ]
    },
    {
      "cell_type": "code",
      "execution_count": 165,
      "metadata": {},
      "outputs": [
        {
          "data": {
            "text/plain": [
              "Index(['CD_ALUNO', 'Q1', 'Q2', 'Q3', 'Q4', 'Q5', 'Q6', 'Q7', 'Q8', 'Q9', 'Q10',\n",
              "       'Q11', 'Q12', 'Q13', 'Q14', 'Q15', 'Q16', 'Q17', 'Q18', 'Q19', 'Q20',\n",
              "       'Q21', 'Q22', 'Q23', 'Q24', 'Q25', 'Q26', 'Q27', 'Q28', 'Q29', 'Q30',\n",
              "       'Q31', 'Q32', 'Q33', 'Q34', 'Q35', 'Q36', 'Q37', 'Q38', 'Q39', 'Q40',\n",
              "       'Q41', 'Q42', 'Q43', 'Q44', 'Q45', 'Q46', 'Q47', 'Q48', 'Q49', 'Q50',\n",
              "       'Q51', 'Q52', 'Q53', 'Q54', 'Q55', 'Q56', 'Q57', 'Q58', 'Q59', 'Q60',\n",
              "       'Q61', 'Q62', 'SERIE_ANO', 'TP_SEXO', 'Tipo_PROVA', 'Tem_Nec',\n",
              "       'porc_ACERT_lp', 'porc_ACERT_MAT', 'porc_ACERT_CIE', 'Q63_A', 'Q63_B',\n",
              "       'Q63_C', 'Q63_D', 'RegiaoMetropolitana_Interior',\n",
              "       'RegiaoMetropolitana_Região Metropolitana da Baixada Santista',\n",
              "       'RegiaoMetropolitana_Região Metropolitana de Campinas',\n",
              "       'RegiaoMetropolitana_Região Metropolitana de Ribeirão Preto',\n",
              "       'RegiaoMetropolitana_Região Metropolitana de Sorocaba',\n",
              "       'RegiaoMetropolitana_Região Metropolitana de São Paulo',\n",
              "       'RegiaoMetropolitana_Região Metropolitana do Vale do Paraíba e Litoral Norte',\n",
              "       'idade', 'PERIODO_MANHÃ', 'PERIODO_NOITE', 'PERIODO_TARDE'],\n",
              "      dtype='object')"
            ]
          },
          "execution_count": 165,
          "metadata": {},
          "output_type": "execute_result"
        }
      ],
      "source": [
        "df_cie_lr.columns"
      ]
    },
    {
      "cell_type": "code",
      "execution_count": 113,
      "metadata": {},
      "outputs": [],
      "source": [
        "# drop CD_ALUNO\n",
        "df_cie_lr = df_cie_lr.drop(columns=['CD_ALUNO'])\n",
        "df_mat_lr = df_mat_lr.drop(columns=['CD_ALUNO'])\n",
        "df_lp_lr = df_lp_lr.drop(columns=['CD_ALUNO'])\n",
        "df_cie_lr_test = df_cie_lr_test.drop(columns=['CD_ALUNO'])\n",
        "df_mat_lr_test = df_mat_lr_test.drop(columns=['CD_ALUNO'])\n",
        "df_lp_lr_test = df_lp_lr_test.drop(columns=['CD_ALUNO'])\n",
        "\n"
      ]
    },
    {
      "cell_type": "code",
      "execution_count": 114,
      "metadata": {},
      "outputs": [],
      "source": [
        "\"\"\"Function to normalize the data\"\"\"\n",
        "def normalize_data(df):\n",
        "    from sklearn.preprocessing import StandardScaler, MinMaxScaler\n",
        "    scaler = StandardScaler()\n",
        "    scaler.fit(df)\n",
        "    return scaler.transform(df)\n",
        "df_cie_lr = pd.DataFrame(normalize_data(df_cie_lr), columns=df_cie_lr.columns,index=df_cie_lr.index)\n",
        "df_mat_lr = pd.DataFrame(normalize_data(df_mat_lr), columns=df_mat_lr.columns,index=df_mat_lr.index)\n",
        "df_lp_lr = pd.DataFrame(normalize_data(df_lp_lr), columns=df_lp_lr.columns,index=df_lp_lr.index)\n",
        "df_cie_lr_test = pd.DataFrame(normalize_data(df_cie_lr_test), columns=df_cie_lr_test.columns,index=df_cie_lr_test.index)\n",
        "df_mat_lr_test = pd.DataFrame(normalize_data(df_mat_lr_test), columns=df_mat_lr_test.columns,index=df_mat_lr_test.index)\n",
        "df_lp_lr_test = pd.DataFrame(normalize_data(df_lp_lr_test), columns=df_lp_lr_test.columns,index=df_lp_lr_test.index)\n",
        "\n"
      ]
    },
    {
      "cell_type": "code",
      "execution_count": 115,
      "metadata": {},
      "outputs": [
        {
          "data": {
            "text/html": [
              "<div>\n",
              "<style scoped>\n",
              "    .dataframe tbody tr th:only-of-type {\n",
              "        vertical-align: middle;\n",
              "    }\n",
              "\n",
              "    .dataframe tbody tr th {\n",
              "        vertical-align: top;\n",
              "    }\n",
              "\n",
              "    .dataframe thead th {\n",
              "        text-align: right;\n",
              "    }\n",
              "</style>\n",
              "<table border=\"1\" class=\"dataframe\">\n",
              "  <thead>\n",
              "    <tr style=\"text-align: right;\">\n",
              "      <th></th>\n",
              "      <th>Q1</th>\n",
              "      <th>Q2</th>\n",
              "      <th>Q3</th>\n",
              "      <th>Q4</th>\n",
              "      <th>Q5</th>\n",
              "      <th>Q6</th>\n",
              "      <th>Q7</th>\n",
              "      <th>Q8</th>\n",
              "      <th>Q9</th>\n",
              "      <th>Q10</th>\n",
              "      <th>...</th>\n",
              "      <th>RegiaoMetropolitana_Região Metropolitana de Ribeirão Preto</th>\n",
              "      <th>RegiaoMetropolitana_Região Metropolitana de Sorocaba</th>\n",
              "      <th>RegiaoMetropolitana_Região Metropolitana de São Paulo</th>\n",
              "      <th>RegiaoMetropolitana_Região Metropolitana do Vale do Paraíba e Litoral Norte</th>\n",
              "      <th>idade</th>\n",
              "      <th>PERIODO_MANHÃ</th>\n",
              "      <th>PERIODO_NOITE</th>\n",
              "      <th>PERIODO_TARDE</th>\n",
              "      <th>Tipo_PROVA_A</th>\n",
              "      <th>Tipo_PROVA_C</th>\n",
              "    </tr>\n",
              "  </thead>\n",
              "  <tbody>\n",
              "    <tr>\n",
              "      <th>count</th>\n",
              "      <td>1.205660e+05</td>\n",
              "      <td>1.205660e+05</td>\n",
              "      <td>1.205660e+05</td>\n",
              "      <td>1.205660e+05</td>\n",
              "      <td>1.205660e+05</td>\n",
              "      <td>1.205660e+05</td>\n",
              "      <td>1.205660e+05</td>\n",
              "      <td>1.205660e+05</td>\n",
              "      <td>1.205660e+05</td>\n",
              "      <td>1.205660e+05</td>\n",
              "      <td>...</td>\n",
              "      <td>1.205660e+05</td>\n",
              "      <td>1.205660e+05</td>\n",
              "      <td>1.205660e+05</td>\n",
              "      <td>1.205660e+05</td>\n",
              "      <td>1.205660e+05</td>\n",
              "      <td>1.205660e+05</td>\n",
              "      <td>1.205660e+05</td>\n",
              "      <td>1.205660e+05</td>\n",
              "      <td>1.205660e+05</td>\n",
              "      <td>1.205660e+05</td>\n",
              "    </tr>\n",
              "    <tr>\n",
              "      <th>mean</th>\n",
              "      <td>1.049024e-16</td>\n",
              "      <td>-4.315142e-16</td>\n",
              "      <td>-1.772732e-16</td>\n",
              "      <td>1.222584e-16</td>\n",
              "      <td>-7.637836e-17</td>\n",
              "      <td>-1.132710e-16</td>\n",
              "      <td>7.331380e-17</td>\n",
              "      <td>5.504428e-17</td>\n",
              "      <td>2.946696e-18</td>\n",
              "      <td>4.537912e-16</td>\n",
              "      <td>...</td>\n",
              "      <td>-6.793608e-17</td>\n",
              "      <td>4.019294e-17</td>\n",
              "      <td>1.379054e-17</td>\n",
              "      <td>2.805255e-17</td>\n",
              "      <td>1.909459e-16</td>\n",
              "      <td>-1.155105e-17</td>\n",
              "      <td>3.500675e-17</td>\n",
              "      <td>-1.183393e-16</td>\n",
              "      <td>-1.284760e-17</td>\n",
              "      <td>1.941283e-16</td>\n",
              "    </tr>\n",
              "    <tr>\n",
              "      <th>std</th>\n",
              "      <td>1.000004e+00</td>\n",
              "      <td>1.000004e+00</td>\n",
              "      <td>1.000004e+00</td>\n",
              "      <td>1.000004e+00</td>\n",
              "      <td>1.000004e+00</td>\n",
              "      <td>1.000004e+00</td>\n",
              "      <td>1.000004e+00</td>\n",
              "      <td>1.000004e+00</td>\n",
              "      <td>1.000004e+00</td>\n",
              "      <td>1.000004e+00</td>\n",
              "      <td>...</td>\n",
              "      <td>1.000004e+00</td>\n",
              "      <td>1.000004e+00</td>\n",
              "      <td>1.000004e+00</td>\n",
              "      <td>1.000004e+00</td>\n",
              "      <td>1.000004e+00</td>\n",
              "      <td>1.000004e+00</td>\n",
              "      <td>1.000004e+00</td>\n",
              "      <td>1.000004e+00</td>\n",
              "      <td>1.000004e+00</td>\n",
              "      <td>1.000004e+00</td>\n",
              "    </tr>\n",
              "    <tr>\n",
              "      <th>min</th>\n",
              "      <td>-1.267496e+00</td>\n",
              "      <td>-3.377497e+00</td>\n",
              "      <td>-3.135009e+00</td>\n",
              "      <td>-2.476635e+00</td>\n",
              "      <td>-2.898725e+00</td>\n",
              "      <td>-2.301823e+00</td>\n",
              "      <td>-2.741345e+00</td>\n",
              "      <td>-1.998341e+00</td>\n",
              "      <td>-2.144420e+00</td>\n",
              "      <td>-4.759523e+00</td>\n",
              "      <td>...</td>\n",
              "      <td>-2.427251e-01</td>\n",
              "      <td>-2.432228e-01</td>\n",
              "      <td>-8.052361e-01</td>\n",
              "      <td>-2.898989e-01</td>\n",
              "      <td>-2.331061e+00</td>\n",
              "      <td>-1.465640e+00</td>\n",
              "      <td>-3.518703e-01</td>\n",
              "      <td>-5.116614e-01</td>\n",
              "      <td>-3.021914e-02</td>\n",
              "      <td>-3.309161e+01</td>\n",
              "    </tr>\n",
              "    <tr>\n",
              "      <th>25%</th>\n",
              "      <td>-1.267496e+00</td>\n",
              "      <td>-1.946253e-01</td>\n",
              "      <td>-2.276916e-01</td>\n",
              "      <td>-7.694097e-01</td>\n",
              "      <td>-9.628269e-01</td>\n",
              "      <td>-6.803548e-01</td>\n",
              "      <td>-9.233868e-01</td>\n",
              "      <td>-4.262935e-01</td>\n",
              "      <td>-7.622820e-01</td>\n",
              "      <td>3.296665e-01</td>\n",
              "      <td>...</td>\n",
              "      <td>-2.427251e-01</td>\n",
              "      <td>-2.432228e-01</td>\n",
              "      <td>-8.052361e-01</td>\n",
              "      <td>-2.898989e-01</td>\n",
              "      <td>-3.037048e-01</td>\n",
              "      <td>-1.465640e+00</td>\n",
              "      <td>-3.518703e-01</td>\n",
              "      <td>-5.116614e-01</td>\n",
              "      <td>-3.021914e-02</td>\n",
              "      <td>3.021914e-02</td>\n",
              "    </tr>\n",
              "    <tr>\n",
              "      <th>50%</th>\n",
              "      <td>3.099038e-01</td>\n",
              "      <td>-1.946253e-01</td>\n",
              "      <td>7.414143e-01</td>\n",
              "      <td>8.420298e-02</td>\n",
              "      <td>5.122103e-03</td>\n",
              "      <td>1.303794e-01</td>\n",
              "      <td>-1.440754e-02</td>\n",
              "      <td>3.597300e-01</td>\n",
              "      <td>6.198564e-01</td>\n",
              "      <td>3.296665e-01</td>\n",
              "      <td>...</td>\n",
              "      <td>-2.427251e-01</td>\n",
              "      <td>-2.432228e-01</td>\n",
              "      <td>-8.052361e-01</td>\n",
              "      <td>-2.898989e-01</td>\n",
              "      <td>1.017663e-01</td>\n",
              "      <td>6.822956e-01</td>\n",
              "      <td>-3.518703e-01</td>\n",
              "      <td>-5.116614e-01</td>\n",
              "      <td>-3.021914e-02</td>\n",
              "      <td>3.021914e-02</td>\n",
              "    </tr>\n",
              "    <tr>\n",
              "      <th>75%</th>\n",
              "      <td>3.099038e-01</td>\n",
              "      <td>8.663319e-01</td>\n",
              "      <td>7.414143e-01</td>\n",
              "      <td>9.378157e-01</td>\n",
              "      <td>9.730711e-01</td>\n",
              "      <td>9.411137e-01</td>\n",
              "      <td>8.945717e-01</td>\n",
              "      <td>1.145754e+00</td>\n",
              "      <td>6.198564e-01</td>\n",
              "      <td>3.296665e-01</td>\n",
              "      <td>...</td>\n",
              "      <td>-2.427251e-01</td>\n",
              "      <td>-2.432228e-01</td>\n",
              "      <td>1.241872e+00</td>\n",
              "      <td>-2.898989e-01</td>\n",
              "      <td>9.127086e-01</td>\n",
              "      <td>6.822956e-01</td>\n",
              "      <td>-3.518703e-01</td>\n",
              "      <td>-5.116614e-01</td>\n",
              "      <td>-3.021914e-02</td>\n",
              "      <td>3.021914e-02</td>\n",
              "    </tr>\n",
              "    <tr>\n",
              "      <th>max</th>\n",
              "      <td>3.464702e+00</td>\n",
              "      <td>8.663319e-01</td>\n",
              "      <td>7.414143e-01</td>\n",
              "      <td>9.378157e-01</td>\n",
              "      <td>9.730711e-01</td>\n",
              "      <td>9.411137e-01</td>\n",
              "      <td>8.945717e-01</td>\n",
              "      <td>1.145754e+00</td>\n",
              "      <td>6.198564e-01</td>\n",
              "      <td>3.296665e-01</td>\n",
              "      <td>...</td>\n",
              "      <td>4.119886e+00</td>\n",
              "      <td>4.111456e+00</td>\n",
              "      <td>1.241872e+00</td>\n",
              "      <td>3.449478e+00</td>\n",
              "      <td>1.632061e+01</td>\n",
              "      <td>6.822956e-01</td>\n",
              "      <td>2.841956e+00</td>\n",
              "      <td>1.954418e+00</td>\n",
              "      <td>3.309161e+01</td>\n",
              "      <td>3.021914e-02</td>\n",
              "    </tr>\n",
              "  </tbody>\n",
              "</table>\n",
              "<p>8 rows × 85 columns</p>\n",
              "</div>"
            ],
            "text/plain": [
              "                 Q1            Q2            Q3            Q4            Q5  \\\n",
              "count  1.205660e+05  1.205660e+05  1.205660e+05  1.205660e+05  1.205660e+05   \n",
              "mean   1.049024e-16 -4.315142e-16 -1.772732e-16  1.222584e-16 -7.637836e-17   \n",
              "std    1.000004e+00  1.000004e+00  1.000004e+00  1.000004e+00  1.000004e+00   \n",
              "min   -1.267496e+00 -3.377497e+00 -3.135009e+00 -2.476635e+00 -2.898725e+00   \n",
              "25%   -1.267496e+00 -1.946253e-01 -2.276916e-01 -7.694097e-01 -9.628269e-01   \n",
              "50%    3.099038e-01 -1.946253e-01  7.414143e-01  8.420298e-02  5.122103e-03   \n",
              "75%    3.099038e-01  8.663319e-01  7.414143e-01  9.378157e-01  9.730711e-01   \n",
              "max    3.464702e+00  8.663319e-01  7.414143e-01  9.378157e-01  9.730711e-01   \n",
              "\n",
              "                 Q6            Q7            Q8            Q9           Q10  \\\n",
              "count  1.205660e+05  1.205660e+05  1.205660e+05  1.205660e+05  1.205660e+05   \n",
              "mean  -1.132710e-16  7.331380e-17  5.504428e-17  2.946696e-18  4.537912e-16   \n",
              "std    1.000004e+00  1.000004e+00  1.000004e+00  1.000004e+00  1.000004e+00   \n",
              "min   -2.301823e+00 -2.741345e+00 -1.998341e+00 -2.144420e+00 -4.759523e+00   \n",
              "25%   -6.803548e-01 -9.233868e-01 -4.262935e-01 -7.622820e-01  3.296665e-01   \n",
              "50%    1.303794e-01 -1.440754e-02  3.597300e-01  6.198564e-01  3.296665e-01   \n",
              "75%    9.411137e-01  8.945717e-01  1.145754e+00  6.198564e-01  3.296665e-01   \n",
              "max    9.411137e-01  8.945717e-01  1.145754e+00  6.198564e-01  3.296665e-01   \n",
              "\n",
              "       ...  RegiaoMetropolitana_Região Metropolitana de Ribeirão Preto  \\\n",
              "count  ...                                       1.205660e+05            \n",
              "mean   ...                                      -6.793608e-17            \n",
              "std    ...                                       1.000004e+00            \n",
              "min    ...                                      -2.427251e-01            \n",
              "25%    ...                                      -2.427251e-01            \n",
              "50%    ...                                      -2.427251e-01            \n",
              "75%    ...                                      -2.427251e-01            \n",
              "max    ...                                       4.119886e+00            \n",
              "\n",
              "       RegiaoMetropolitana_Região Metropolitana de Sorocaba  \\\n",
              "count                                       1.205660e+05      \n",
              "mean                                        4.019294e-17      \n",
              "std                                         1.000004e+00      \n",
              "min                                        -2.432228e-01      \n",
              "25%                                        -2.432228e-01      \n",
              "50%                                        -2.432228e-01      \n",
              "75%                                        -2.432228e-01      \n",
              "max                                         4.111456e+00      \n",
              "\n",
              "       RegiaoMetropolitana_Região Metropolitana de São Paulo  \\\n",
              "count                                       1.205660e+05       \n",
              "mean                                        1.379054e-17       \n",
              "std                                         1.000004e+00       \n",
              "min                                        -8.052361e-01       \n",
              "25%                                        -8.052361e-01       \n",
              "50%                                        -8.052361e-01       \n",
              "75%                                         1.241872e+00       \n",
              "max                                         1.241872e+00       \n",
              "\n",
              "       RegiaoMetropolitana_Região Metropolitana do Vale do Paraíba e Litoral Norte  \\\n",
              "count                                       1.205660e+05                             \n",
              "mean                                        2.805255e-17                             \n",
              "std                                         1.000004e+00                             \n",
              "min                                        -2.898989e-01                             \n",
              "25%                                        -2.898989e-01                             \n",
              "50%                                        -2.898989e-01                             \n",
              "75%                                        -2.898989e-01                             \n",
              "max                                         3.449478e+00                             \n",
              "\n",
              "              idade  PERIODO_MANHÃ  PERIODO_NOITE  PERIODO_TARDE  \\\n",
              "count  1.205660e+05   1.205660e+05   1.205660e+05   1.205660e+05   \n",
              "mean   1.909459e-16  -1.155105e-17   3.500675e-17  -1.183393e-16   \n",
              "std    1.000004e+00   1.000004e+00   1.000004e+00   1.000004e+00   \n",
              "min   -2.331061e+00  -1.465640e+00  -3.518703e-01  -5.116614e-01   \n",
              "25%   -3.037048e-01  -1.465640e+00  -3.518703e-01  -5.116614e-01   \n",
              "50%    1.017663e-01   6.822956e-01  -3.518703e-01  -5.116614e-01   \n",
              "75%    9.127086e-01   6.822956e-01  -3.518703e-01  -5.116614e-01   \n",
              "max    1.632061e+01   6.822956e-01   2.841956e+00   1.954418e+00   \n",
              "\n",
              "       Tipo_PROVA_A  Tipo_PROVA_C  \n",
              "count  1.205660e+05  1.205660e+05  \n",
              "mean  -1.284760e-17  1.941283e-16  \n",
              "std    1.000004e+00  1.000004e+00  \n",
              "min   -3.021914e-02 -3.309161e+01  \n",
              "25%   -3.021914e-02  3.021914e-02  \n",
              "50%   -3.021914e-02  3.021914e-02  \n",
              "75%   -3.021914e-02  3.021914e-02  \n",
              "max    3.309161e+01  3.021914e-02  \n",
              "\n",
              "[8 rows x 85 columns]"
            ]
          },
          "execution_count": 115,
          "metadata": {},
          "output_type": "execute_result"
        }
      ],
      "source": [
        "df_cie_lr.describe()"
      ]
    },
    {
      "cell_type": "code",
      "execution_count": 116,
      "metadata": {},
      "outputs": [],
      "source": [
        "\"\"\"Function to split the data into train and validation sets\"\"\"\n",
        "from sklearn.model_selection import train_test_split\n",
        "def split_data(df, target, validation_size):\n",
        "    X = df.drop(columns=[target])\n",
        "    y = df[target]\n",
        "    return train_test_split(X, y, test_size=validation_size, random_state=42)\n",
        "\n",
        "    \n",
        "X_train_cie, X_val_cie, y_train_cie, y_val_cie = split_data(df_cie_lr, 'porc_ACERT_CIE', 0.2)\n",
        "X_train_mat, X_val_mat, y_train_mat, y_val_mat = split_data(df_mat_lr, 'porc_ACERT_MAT', 0.2)\n",
        "X_train_lp, X_val_lp, y_train_lp, y_val_lp = split_data(df_lp_lr, 'porc_ACERT_lp', 0.2)\n"
      ]
    },
    {
      "cell_type": "code",
      "execution_count": 117,
      "metadata": {},
      "outputs": [],
      "source": [
        "X_test_cie = df_cie_lr_test.drop(columns=['porc_ACERT_CIE'])\n",
        "X_test_mat = df_mat_lr_test.drop(columns=['porc_ACERT_MAT'])\n",
        "X_test_lp = df_lp_lr_test.drop(columns=['porc_ACERT_lp'])\n",
        "y_test_cie = df_cie_lr_test['porc_ACERT_CIE']\n",
        "y_test_mat = df_mat_lr_test['porc_ACERT_MAT']\n",
        "y_test_lp = df_lp_lr_test['porc_ACERT_lp']\n"
      ]
    },
    {
      "cell_type": "markdown",
      "metadata": {},
      "source": [
        "## Linear Regression"
      ]
    },
    {
      "cell_type": "code",
      "execution_count": 118,
      "metadata": {},
      "outputs": [
        {
          "name": "stdout",
          "output_type": "stream",
          "text": [
            "CPU times: user 6 µs, sys: 4 µs, total: 10 µs\n",
            "Wall time: 14.5 µs\n"
          ]
        }
      ],
      "source": [
        "%%time\n",
        "\"\"\"Function to evaluate the model using the validation set and the R2 score\"\"\"\n",
        "def evaluate_model(X_val, y_val, w, b):\n",
        "    from sklearn.metrics import r2_score\n",
        "    y_pred = np.dot(X_val, w) + b\n",
        "    error = y_pred - y_val\n",
        "    mse = (1/X_val.shape[0]) * np.sum(error**2)\n",
        "    return mse, r2_score(y_val, y_pred)\n"
      ]
    },
    {
      "cell_type": "code",
      "execution_count": 119,
      "metadata": {
        "id": "D9cpdif9JxFR"
      },
      "outputs": [
        {
          "name": "stdout",
          "output_type": "stream",
          "text": [
            "Science\n",
            "Epoch: 0, Train Loss: 1.0010108751508435, Val Loss: 0.9798645458947729, R2: 0.022047949501030617\n",
            "Epoch: 100, Train Loss: 0.5067849076124425, Val Loss: 0.5034068677858039, R2: 0.49757567956820514\n",
            "Epoch: 200, Train Loss: 0.48522448214157526, Val Loss: 0.482192058212657, R2: 0.5187490821674989\n",
            "Epoch: 300, Train Loss: 0.4814269819125148, Val Loss: 0.4785609728003654, R2: 0.522373080442939\n",
            "Epoch: 400, Train Loss: 0.480334782274382, Val Loss: 0.4775556670912004, R2: 0.5233764240007553\n",
            "Epoch: 500, Train Loss: 0.4798503540468307, Val Loss: 0.47711845448358636, R2: 0.523812783258687\n",
            "Epoch: 600, Train Loss: 0.479537151030252, Val Loss: 0.4768331182205701, R2: 0.5240975626036153\n",
            "Epoch: 700, Train Loss: 0.4792864549944948, Val Loss: 0.4765999196368881, R2: 0.5243303060313073\n",
            "Epoch: 800, Train Loss: 0.47906693289807595, Val Loss: 0.47639147377069413, R2: 0.5245383450537583\n",
            "Epoch: 900, Train Loss: 0.4788679409249277, Val Loss: 0.4761990511279383, R2: 0.5247303921268296\n",
            "Math\n",
            "Epoch: 0, Train Loss: 0.998248280873062, Val Loss: 0.9748441063488577, R2: 0.029727483532188126\n",
            "Epoch: 100, Train Loss: 0.45983605526009846, Val Loss: 0.4561068032223282, R2: 0.5460321369761174\n",
            "Epoch: 200, Train Loss: 0.44388683861155537, Val Loss: 0.44051391351887126, R2: 0.5615519028884776\n",
            "Epoch: 300, Train Loss: 0.44166861380048433, Val Loss: 0.4385471842763504, R2: 0.5635094090363053\n",
            "Epoch: 400, Train Loss: 0.4411647483205638, Val Loss: 0.4381924006717204, R2: 0.5638625288619512\n",
            "Epoch: 500, Train Loss: 0.4410088577858932, Val Loss: 0.4381266016048728, R2: 0.56392801936013\n",
            "Epoch: 600, Train Loss: 0.4409476234008252, Val Loss: 0.43812096559896235, R2: 0.5639336289356529\n",
            "Epoch: 700, Train Loss: 0.4409188145578968, Val Loss: 0.4381265042433048, R2: 0.5639281162651151\n",
            "Epoch: 800, Train Loss: 0.440903269229028, Val Loss: 0.4381318489327718, R2: 0.5639227966398899\n",
            "Epoch: 900, Train Loss: 0.44089387252776857, Val Loss: 0.43813472088771327, R2: 0.5639199381531532\n",
            "Portuguese\n",
            "Epoch: 0, Train Loss: 1.0008642768810452, Val Loss: 0.9678060960417534, R2: 0.028026665569307663\n",
            "Epoch: 100, Train Loss: 0.46646938885271033, Val Loss: 0.4627124070706311, R2: 0.5352952176863638\n",
            "Epoch: 200, Train Loss: 0.4449476894541054, Val Loss: 0.44330501289350355, R2: 0.5547861774024716\n",
            "Epoch: 300, Train Loss: 0.4411397074238675, Val Loss: 0.4402307438702204, R2: 0.557873683800415\n",
            "Epoch: 400, Train Loss: 0.4401957290744583, Val Loss: 0.4396132307527298, R2: 0.5584938558434688\n",
            "Epoch: 500, Train Loss: 0.4399124183119337, Val Loss: 0.4394900124551668, R2: 0.5586176047018765\n",
            "Epoch: 600, Train Loss: 0.43980446932157874, Val Loss: 0.4394651935232241, R2: 0.5586425305006868\n",
            "Epoch: 700, Train Loss: 0.439749038185925, Val Loss: 0.4394547571422861, R2: 0.558653011819229\n",
            "Epoch: 800, Train Loss: 0.43971177414694346, Val Loss: 0.4394427740304207, R2: 0.5586650465287067\n",
            "Epoch: 900, Train Loss: 0.43968208735021624, Val Loss: 0.43942787532888955, R2: 0.5586800093819737\n",
            "CPU times: user 4min 45s, sys: 4min 55s, total: 9min 41s\n",
            "Wall time: 57.6 s\n"
          ]
        }
      ],
      "source": [
        "%%time\n",
        "# TODO: Linear Regression. Implement your solution. You cannot use scikit-learn, Keras/TensorFlow, or PyTorch libraries.\n",
        "\n",
        "\n",
        "def linear_regression(X_train, y_train, X_val, y_val, learning_rate, epochs):\n",
        "    train_loss, val_loss,  r2_list = [], [], []\n",
        "    w = np.random.rand(X_train.shape[1])*0.001 - 0.0005\n",
        "    b = 0\n",
        "    m = X_train.shape[0]\n",
        "    for i in range(epochs):\n",
        "        y_pred = np.dot(X_train, w) + b\n",
        "        error = y_pred - y_train\n",
        "        mse = (1/m) * np.sum(error**2)\n",
        "        w = w - (learning_rate * (1/m) * np.dot(X_train.T, error))\n",
        "        b = b - (learning_rate * (1/m) * np.sum(error))\n",
        "        mse_val, r2 = evaluate_model(X_val, y_val, w, b)\n",
        "        train_loss.append(mse)\n",
        "        val_loss.append(mse_val)\n",
        "        r2_list.append(r2)\n",
        "        if i % 100 == 0:\n",
        "            print(\"Epoch: {}, Train Loss: {}, Val Loss: {}, R2: {}\".format(\n",
        "                i, mse, mse_val, r2))\n",
        "    return w, b, train_loss, val_loss, r2_list\n",
        "\n",
        "\n",
        "print('Science')\n",
        "w_cie, b_cie, train_loss_cie, val_loss_cie, r2_cie = linear_regression(\n",
        "   X_train_cie, y_train_cie, X_val_cie, y_val_cie, 0.01, 1000)\n",
        "print('Math')\n",
        "w_mat, b_mat,  train_loss_mat, val_loss_mat, r2_mat = linear_regression(\n",
        "   X_train_mat, y_train_mat, X_val_mat, y_val_mat, 0.01, 1000)\n",
        "print('Portuguese')\n",
        "w_lp, b_lp,  train_loss_lp, val_loss_lp, r2_lp = linear_regression(\n",
        "   X_train_lp, y_train_lp, X_val_lp, y_val_lp, 0.01, 1000)\n"
      ]
    },
    {
      "cell_type": "code",
      "execution_count": 39,
      "metadata": {
        "id": "e4nZrMr_C2X7"
      },
      "outputs": [
        {
          "name": "stdout",
          "output_type": "stream",
          "text": [
            "Science\n",
            "r2: 0.5277387313934802\n",
            "Math\n",
            "r2: 0.5640692321041819\n",
            "Portuguese\n",
            "r2: 0.558988332260711\n",
            "CPU times: user 13.8 s, sys: 7.98 s, total: 21.8 s\n",
            "Wall time: 2.36 s\n"
          ]
        }
      ],
      "source": [
        "%%time\n",
        "# TODO: Linear Regression. You can use scikit-learn libraries.\n",
        "from sklearn.linear_model import LinearRegression\n",
        "def linear_regression_sklearn(X_train, y_train):\n",
        "    model = LinearRegression()\n",
        "    model.fit(X_train, y_train)\n",
        "    return model\n",
        "model_cie = linear_regression_sklearn(X_train_cie, y_train_cie )\n",
        "model_mat = linear_regression_sklearn(X_train_mat, y_train_mat)\n",
        "model_lp = linear_regression_sklearn(X_train_lp, y_train_lp)\n",
        "print('Science')\n",
        "print(f'r2: {model_cie.score(X_val_cie, y_val_cie)}')\n",
        "print('Math')\n",
        "print(f'r2: {model_mat.score(X_val_mat, y_val_mat)}')\n",
        "print('Portuguese')\n",
        "print(f'r2: {model_lp.score(X_val_lp, y_val_lp)}')\n",
        "\n"
      ]
    },
    {
      "cell_type": "code",
      "execution_count": 40,
      "metadata": {},
      "outputs": [],
      "source": [
        "def linear_regression_cv(X_train, y_train, X_val, y_val, learning_rate, epochs):\n",
        "    train_loss, val_loss,  r2_list = [], [], []\n",
        "    w = np.random.rand(X_train.shape[1])*0.001 - 0.0005\n",
        "    b = 0\n",
        "    m = X_train.shape[0]\n",
        "    for i in range(epochs):\n",
        "        y_pred = np.dot(X_train, w) + b\n",
        "        error = y_pred - y_train\n",
        "        mse = (1/m) * np.sum(error**2)\n",
        "        w = w - (learning_rate * (1/m) * np.dot(X_train.T, error))\n",
        "        b = b - (learning_rate * (1/m) * np.sum(error))\n",
        "        mse_val, r2 = evaluate_model(X_val, y_val, w, b)\n",
        "        train_loss.append(mse)\n",
        "        val_loss.append(mse_val)\n",
        "        r2_list.append(r2)\n",
        "    return w, b, train_loss, val_loss, r2_list"
      ]
    },
    {
      "cell_type": "code",
      "execution_count": 41,
      "metadata": {},
      "outputs": [
        {
          "name": "stdout",
          "output_type": "stream",
          "text": [
            "porc_ACERT_CIE\n",
            "porc_ACERT_MAT\n",
            "porc_ACERT_lp\n"
          ]
        },
        {
          "ename": "KeyboardInterrupt",
          "evalue": "",
          "output_type": "error",
          "traceback": [
            "\u001b[0;31m---------------------------------------------------------------------------\u001b[0m",
            "\u001b[0;31mKeyboardInterrupt\u001b[0m                         Traceback (most recent call last)",
            "\u001b[1;32m/home/arthur/Documents/unicamp/mc886/Copy_of_2022s2_mc886mo444_assignment_02.ipynb Cell 60\u001b[0m in \u001b[0;36m<cell line: 32>\u001b[0;34m()\u001b[0m\n\u001b[1;32m     <a href='vscode-notebook-cell:/home/arthur/Documents/unicamp/mc886/Copy_of_2022s2_mc886mo444_assignment_02.ipynb#Y113sZmlsZQ%3D%3D?line=29'>30</a>\u001b[0m final_r2_cie \u001b[39m=\u001b[39m k_fold_lin_reg(df_cie_lr_cv, \u001b[39m'\u001b[39m\u001b[39mporc_ACERT_CIE\u001b[39m\u001b[39m'\u001b[39m)\n\u001b[1;32m     <a href='vscode-notebook-cell:/home/arthur/Documents/unicamp/mc886/Copy_of_2022s2_mc886mo444_assignment_02.ipynb#Y113sZmlsZQ%3D%3D?line=30'>31</a>\u001b[0m final_r2_mat \u001b[39m=\u001b[39m k_fold_lin_reg(df_mat_lr_cv, \u001b[39m'\u001b[39m\u001b[39mporc_ACERT_MAT\u001b[39m\u001b[39m'\u001b[39m)\n\u001b[0;32m---> <a href='vscode-notebook-cell:/home/arthur/Documents/unicamp/mc886/Copy_of_2022s2_mc886mo444_assignment_02.ipynb#Y113sZmlsZQ%3D%3D?line=31'>32</a>\u001b[0m final_r2_lp \u001b[39m=\u001b[39m k_fold_lin_reg(df_lp_lr_cv, \u001b[39m'\u001b[39;49m\u001b[39mporc_ACERT_lp\u001b[39;49m\u001b[39m'\u001b[39;49m)\n\u001b[1;32m     <a href='vscode-notebook-cell:/home/arthur/Documents/unicamp/mc886/Copy_of_2022s2_mc886mo444_assignment_02.ipynb#Y113sZmlsZQ%3D%3D?line=33'>34</a>\u001b[0m \u001b[39mprint\u001b[39m(\u001b[39m'\u001b[39m\u001b[39mScience\u001b[39m\u001b[39m'\u001b[39m)\n\u001b[1;32m     <a href='vscode-notebook-cell:/home/arthur/Documents/unicamp/mc886/Copy_of_2022s2_mc886mo444_assignment_02.ipynb#Y113sZmlsZQ%3D%3D?line=34'>35</a>\u001b[0m media_cie \u001b[39m=\u001b[39m \u001b[39m0\u001b[39m\n",
            "\u001b[1;32m/home/arthur/Documents/unicamp/mc886/Copy_of_2022s2_mc886mo444_assignment_02.ipynb Cell 60\u001b[0m in \u001b[0;36mk_fold_lin_reg\u001b[0;34m(df, target)\u001b[0m\n\u001b[1;32m     <a href='vscode-notebook-cell:/home/arthur/Documents/unicamp/mc886/Copy_of_2022s2_mc886mo444_assignment_02.ipynb#Y113sZmlsZQ%3D%3D?line=15'>16</a>\u001b[0m     y_train \u001b[39m=\u001b[39m y\u001b[39m.\u001b[39miloc[i[\u001b[39m0\u001b[39m]]\n\u001b[1;32m     <a href='vscode-notebook-cell:/home/arthur/Documents/unicamp/mc886/Copy_of_2022s2_mc886mo444_assignment_02.ipynb#Y113sZmlsZQ%3D%3D?line=16'>17</a>\u001b[0m     y_val \u001b[39m=\u001b[39m y\u001b[39m.\u001b[39miloc[i[\u001b[39m1\u001b[39m]]\n\u001b[0;32m---> <a href='vscode-notebook-cell:/home/arthur/Documents/unicamp/mc886/Copy_of_2022s2_mc886mo444_assignment_02.ipynb#Y113sZmlsZQ%3D%3D?line=18'>19</a>\u001b[0m     w, b, train_loss, val_loss, r2 \u001b[39m=\u001b[39m linear_regression_cv(\n\u001b[1;32m     <a href='vscode-notebook-cell:/home/arthur/Documents/unicamp/mc886/Copy_of_2022s2_mc886mo444_assignment_02.ipynb#Y113sZmlsZQ%3D%3D?line=19'>20</a>\u001b[0m         X_train, y_train, X_val, y_val, \u001b[39m0.01\u001b[39;49m, \u001b[39m1000\u001b[39;49m)\n\u001b[1;32m     <a href='vscode-notebook-cell:/home/arthur/Documents/unicamp/mc886/Copy_of_2022s2_mc886mo444_assignment_02.ipynb#Y113sZmlsZQ%3D%3D?line=20'>21</a>\u001b[0m     final_r2\u001b[39m.\u001b[39mappend(r2[\u001b[39m-\u001b[39m\u001b[39m1\u001b[39m])\n\u001b[1;32m     <a href='vscode-notebook-cell:/home/arthur/Documents/unicamp/mc886/Copy_of_2022s2_mc886mo444_assignment_02.ipynb#Y113sZmlsZQ%3D%3D?line=22'>23</a>\u001b[0m \u001b[39mreturn\u001b[39;00m final_r2\n",
            "\u001b[1;32m/home/arthur/Documents/unicamp/mc886/Copy_of_2022s2_mc886mo444_assignment_02.ipynb Cell 60\u001b[0m in \u001b[0;36mlinear_regression_cv\u001b[0;34m(X_train, y_train, X_val, y_val, learning_rate, epochs)\u001b[0m\n\u001b[1;32m     <a href='vscode-notebook-cell:/home/arthur/Documents/unicamp/mc886/Copy_of_2022s2_mc886mo444_assignment_02.ipynb#Y113sZmlsZQ%3D%3D?line=9'>10</a>\u001b[0m w \u001b[39m=\u001b[39m w \u001b[39m-\u001b[39m (learning_rate \u001b[39m*\u001b[39m (\u001b[39m1\u001b[39m\u001b[39m/\u001b[39mm) \u001b[39m*\u001b[39m np\u001b[39m.\u001b[39mdot(X_train\u001b[39m.\u001b[39mT, error))\n\u001b[1;32m     <a href='vscode-notebook-cell:/home/arthur/Documents/unicamp/mc886/Copy_of_2022s2_mc886mo444_assignment_02.ipynb#Y113sZmlsZQ%3D%3D?line=10'>11</a>\u001b[0m b \u001b[39m=\u001b[39m b \u001b[39m-\u001b[39m (learning_rate \u001b[39m*\u001b[39m (\u001b[39m1\u001b[39m\u001b[39m/\u001b[39mm) \u001b[39m*\u001b[39m np\u001b[39m.\u001b[39msum(error))\n\u001b[0;32m---> <a href='vscode-notebook-cell:/home/arthur/Documents/unicamp/mc886/Copy_of_2022s2_mc886mo444_assignment_02.ipynb#Y113sZmlsZQ%3D%3D?line=11'>12</a>\u001b[0m mse_val, r2 \u001b[39m=\u001b[39m evaluate_model(X_val, y_val, w, b)\n\u001b[1;32m     <a href='vscode-notebook-cell:/home/arthur/Documents/unicamp/mc886/Copy_of_2022s2_mc886mo444_assignment_02.ipynb#Y113sZmlsZQ%3D%3D?line=12'>13</a>\u001b[0m train_loss\u001b[39m.\u001b[39mappend(mse)\n\u001b[1;32m     <a href='vscode-notebook-cell:/home/arthur/Documents/unicamp/mc886/Copy_of_2022s2_mc886mo444_assignment_02.ipynb#Y113sZmlsZQ%3D%3D?line=13'>14</a>\u001b[0m val_loss\u001b[39m.\u001b[39mappend(mse_val)\n",
            "File \u001b[0;32m<timed exec>:4\u001b[0m, in \u001b[0;36mevaluate_model\u001b[0;34m(X_val, y_val, w, b)\u001b[0m\n",
            "File \u001b[0;32m<__array_function__ internals>:180\u001b[0m, in \u001b[0;36mdot\u001b[0;34m(*args, **kwargs)\u001b[0m\n",
            "\u001b[0;31mKeyboardInterrupt\u001b[0m: "
          ]
        }
      ],
      "source": [
        "from sklearn.model_selection import KFold\n",
        "\n",
        "\n",
        "def k_fold_lin_reg(df, target):\n",
        "\n",
        "    kf = KFold(n_splits=10)\n",
        "    y = df[target]\n",
        "    X = df.drop(columns=[target])\n",
        "    final_r2 = []\n",
        "    print(f\"{target}\")\n",
        "\n",
        "    for i in kf.split(X):\n",
        "\n",
        "        X_train = X.iloc[i[0]]\n",
        "        X_val = X.iloc[i[1]]\n",
        "        y_train = y.iloc[i[0]]\n",
        "        y_val = y.iloc[i[1]]\n",
        "\n",
        "        w, b, train_loss, val_loss, r2 = linear_regression_cv(\n",
        "            X_train, y_train, X_val, y_val, 0.01, 1000)\n",
        "        final_r2.append(r2[-1])\n",
        "\n",
        "    return final_r2\n",
        "\n",
        "\n",
        "df_cie_lr_cv = df_cie_lr\n",
        "df_mat_lr_cv = df_mat_lr\n",
        "df_lp_lr_cv = df_lp_lr\n",
        "\n",
        "final_r2_cie = k_fold_lin_reg(df_cie_lr_cv, 'porc_ACERT_CIE')\n",
        "final_r2_mat = k_fold_lin_reg(df_mat_lr_cv, 'porc_ACERT_MAT')\n",
        "final_r2_lp = k_fold_lin_reg(df_lp_lr_cv, 'porc_ACERT_lp')\n",
        "\n",
        "print('Science')\n",
        "media_cie = 0\n",
        "for i in final_r2_cie:\n",
        "    media_cie = media_cie + i\n",
        "print(f\"media cie: {media_cie/10}\")\n",
        "print('Math')\n",
        "media_mat = 0\n",
        "for i in final_r2_mat:\n",
        "    media_mat = media_mat + i\n",
        "print(f\"media mat: {media_mat/10}\")\n",
        "print('Portuguese')\n",
        "media_lp = 0\n",
        "for i in final_r2_lp:\n",
        "    media_lp = media_lp + i\n",
        "print(f\"media lp: {media_lp/10}\")\n"
      ]
    },
    {
      "cell_type": "markdown",
      "metadata": {
        "id": "zBNZQNImKQeo"
      },
      "source": [
        "\n",
        "> What are the conclusions? (1-2 paragraphs)\n",
        "The most obvious conclusion is about time, when the scikit learn library was used to train and validate the models, the total time was 1 s, and when we used our function it took 30 seconds to train. It happened because the library is better optimized than our code, using multi thread programming and many other things.\n",
        "In terms of results, both produced the same R^2 score for all the models, showing that our solution may be as good as the one from library but much slower\n",
        "\n"
      ]
    },
    {
      "cell_type": "markdown",
      "metadata": {
        "id": "ADxPBRhuK_Vq"
      },
      "source": [
        "2. (1 point) Use different Gradient Descent (GD) learning rates when optimizing. Compare the GD-based solutions with Normal Equation. What are the conclusions?\n"
      ]
    },
    {
      "cell_type": "code",
      "execution_count": 120,
      "metadata": {
        "id": "RSZ1pLItNVbU"
      },
      "outputs": [
        {
          "name": "stdout",
          "output_type": "stream",
          "text": [
            "Learning rate:  0.1\n",
            "0.5194445513799242\n",
            "0.5560231276129228\n",
            "0.5502339172451928\n",
            "Learning rate:  0.01\n",
            "0.5187275194851213\n",
            "0.5585106618683389\n",
            "0.5523362395119682\n",
            "Learning rate:  0.001\n",
            "0.521164115270278\n",
            "0.558756365343219\n",
            "0.5541318560624998\n"
          ]
        }
      ],
      "source": [
        "# TODO: Gradient Descent (GD) with 3 different learning rates. You can use scikit-learn libraries.\n",
        "from sklearn.linear_model import SGDRegressor\n",
        "def linear_regression_sklearn_sgd(X_train, y_train, X_val, y_val, learning_rate, epochs):\n",
        "    model = SGDRegressor(alpha=learning_rate, max_iter=epochs)\n",
        "    model.fit(X_train, y_train)\n",
        "    return model\n",
        "lrs = [0.1, 0.01, 0.001]\n",
        "for lr in lrs:\n",
        "    print(\"Learning rate: \", lr)\n",
        "    model_cie_sgd = linear_regression_sklearn_sgd(X_train_cie, y_train_cie, X_val_cie, y_val_cie, lr, 1000)\n",
        "    model_mat_sgd = linear_regression_sklearn_sgd(X_train_mat, y_train_mat, X_val_mat, y_val_mat, lr, 1000)\n",
        "    model_lp_sgd = linear_regression_sklearn_sgd(X_train_lp, y_train_lp, X_val_lp, y_val_lp, lr, 1000)\n",
        "    print(model_cie_sgd.score(X_val_cie, y_val_cie))\n",
        "    print(model_mat_sgd.score(X_val_mat, y_val_mat))\n",
        "    print(model_lp_sgd.score(X_val_lp, y_val_lp))"
      ]
    },
    {
      "cell_type": "markdown",
      "metadata": {
        "id": "XrPl7jKgJPW6"
      },
      "source": [
        "\n",
        "3. (0.75 point) Sometimes, we need some more complex function to make good prediction. Devise and evaluate a Polynomial Linear Regression model. \n"
      ]
    },
    {
      "cell_type": "code",
      "execution_count": null,
      "metadata": {
        "id": "GjGbg41PMHR9"
      },
      "outputs": [
        {
          "ename": "KeyboardInterrupt",
          "evalue": "",
          "output_type": "error",
          "traceback": [
            "\u001b[0;31m---------------------------------------------------------------------------\u001b[0m",
            "\u001b[0;31mKeyboardInterrupt\u001b[0m                         Traceback (most recent call last)",
            "\u001b[1;32m/home/arthur/Documents/unicamp/mc886/Copy_of_2022s2_mc886mo444_assignment_02.ipynb Cell 66\u001b[0m in \u001b[0;36m<cell line: 9>\u001b[0;34m()\u001b[0m\n\u001b[1;32m      <a href='vscode-notebook-cell:/home/arthur/Documents/unicamp/mc886/Copy_of_2022s2_mc886mo444_assignment_02.ipynb#Y122sZmlsZQ%3D%3D?line=6'>7</a>\u001b[0m     model\u001b[39m.\u001b[39mfit(X_train, y_train)\n\u001b[1;32m      <a href='vscode-notebook-cell:/home/arthur/Documents/unicamp/mc886/Copy_of_2022s2_mc886mo444_assignment_02.ipynb#Y122sZmlsZQ%3D%3D?line=7'>8</a>\u001b[0m     \u001b[39mreturn\u001b[39;00m model\n\u001b[0;32m----> <a href='vscode-notebook-cell:/home/arthur/Documents/unicamp/mc886/Copy_of_2022s2_mc886mo444_assignment_02.ipynb#Y122sZmlsZQ%3D%3D?line=8'>9</a>\u001b[0m model_cie \u001b[39m=\u001b[39m polynomial_regression(X_train_cie, y_train_cie, X_val_cie, y_val_cie, \u001b[39m2\u001b[39;49m)\n\u001b[1;32m     <a href='vscode-notebook-cell:/home/arthur/Documents/unicamp/mc886/Copy_of_2022s2_mc886mo444_assignment_02.ipynb#Y122sZmlsZQ%3D%3D?line=9'>10</a>\u001b[0m model_mat \u001b[39m=\u001b[39m polynomial_regression(X_train_mat, y_train_mat, X_val_mat, y_val_mat, \u001b[39m2\u001b[39m)\n\u001b[1;32m     <a href='vscode-notebook-cell:/home/arthur/Documents/unicamp/mc886/Copy_of_2022s2_mc886mo444_assignment_02.ipynb#Y122sZmlsZQ%3D%3D?line=10'>11</a>\u001b[0m model_lp \u001b[39m=\u001b[39m polynomial_regression(X_train_lp, y_train_lp, X_val_lp, y_val_lp, \u001b[39m2\u001b[39m)\n",
            "\u001b[1;32m/home/arthur/Documents/unicamp/mc886/Copy_of_2022s2_mc886mo444_assignment_02.ipynb Cell 66\u001b[0m in \u001b[0;36mpolynomial_regression\u001b[0;34m(X_train, y_train, X_val, y_val, degree)\u001b[0m\n\u001b[1;32m      <a href='vscode-notebook-cell:/home/arthur/Documents/unicamp/mc886/Copy_of_2022s2_mc886mo444_assignment_02.ipynb#Y122sZmlsZQ%3D%3D?line=4'>5</a>\u001b[0m \u001b[39mdef\u001b[39;00m \u001b[39mpolynomial_regression\u001b[39m(X_train, y_train, X_val, y_val, degree):\n\u001b[1;32m      <a href='vscode-notebook-cell:/home/arthur/Documents/unicamp/mc886/Copy_of_2022s2_mc886mo444_assignment_02.ipynb#Y122sZmlsZQ%3D%3D?line=5'>6</a>\u001b[0m     model \u001b[39m=\u001b[39m make_pipeline(PolynomialFeatures(degree), LinearRegression())\n\u001b[0;32m----> <a href='vscode-notebook-cell:/home/arthur/Documents/unicamp/mc886/Copy_of_2022s2_mc886mo444_assignment_02.ipynb#Y122sZmlsZQ%3D%3D?line=6'>7</a>\u001b[0m     model\u001b[39m.\u001b[39;49mfit(X_train, y_train)\n\u001b[1;32m      <a href='vscode-notebook-cell:/home/arthur/Documents/unicamp/mc886/Copy_of_2022s2_mc886mo444_assignment_02.ipynb#Y122sZmlsZQ%3D%3D?line=7'>8</a>\u001b[0m     \u001b[39mreturn\u001b[39;00m model\n",
            "File \u001b[0;32m~/.local/lib/python3.8/site-packages/sklearn/pipeline.py:394\u001b[0m, in \u001b[0;36mPipeline.fit\u001b[0;34m(self, X, y, **fit_params)\u001b[0m\n\u001b[1;32m    392\u001b[0m     \u001b[39mif\u001b[39;00m \u001b[39mself\u001b[39m\u001b[39m.\u001b[39m_final_estimator \u001b[39m!=\u001b[39m \u001b[39m\"\u001b[39m\u001b[39mpassthrough\u001b[39m\u001b[39m\"\u001b[39m:\n\u001b[1;32m    393\u001b[0m         fit_params_last_step \u001b[39m=\u001b[39m fit_params_steps[\u001b[39mself\u001b[39m\u001b[39m.\u001b[39msteps[\u001b[39m-\u001b[39m\u001b[39m1\u001b[39m][\u001b[39m0\u001b[39m]]\n\u001b[0;32m--> 394\u001b[0m         \u001b[39mself\u001b[39;49m\u001b[39m.\u001b[39;49m_final_estimator\u001b[39m.\u001b[39;49mfit(Xt, y, \u001b[39m*\u001b[39;49m\u001b[39m*\u001b[39;49mfit_params_last_step)\n\u001b[1;32m    396\u001b[0m \u001b[39mreturn\u001b[39;00m \u001b[39mself\u001b[39m\n",
            "File \u001b[0;32m~/.local/lib/python3.8/site-packages/sklearn/linear_model/_base.py:669\u001b[0m, in \u001b[0;36mLinearRegression.fit\u001b[0;34m(self, X, y, sample_weight)\u001b[0m\n\u001b[1;32m    666\u001b[0m \u001b[39mif\u001b[39;00m sample_weight \u001b[39mis\u001b[39;00m \u001b[39mnot\u001b[39;00m \u001b[39mNone\u001b[39;00m:\n\u001b[1;32m    667\u001b[0m     sample_weight \u001b[39m=\u001b[39m _check_sample_weight(sample_weight, X, dtype\u001b[39m=\u001b[39mX\u001b[39m.\u001b[39mdtype)\n\u001b[0;32m--> 669\u001b[0m X, y, X_offset, y_offset, X_scale \u001b[39m=\u001b[39m \u001b[39mself\u001b[39;49m\u001b[39m.\u001b[39;49m_preprocess_data(\n\u001b[1;32m    670\u001b[0m     X,\n\u001b[1;32m    671\u001b[0m     y,\n\u001b[1;32m    672\u001b[0m     fit_intercept\u001b[39m=\u001b[39;49m\u001b[39mself\u001b[39;49m\u001b[39m.\u001b[39;49mfit_intercept,\n\u001b[1;32m    673\u001b[0m     normalize\u001b[39m=\u001b[39;49m_normalize,\n\u001b[1;32m    674\u001b[0m     copy\u001b[39m=\u001b[39;49m\u001b[39mself\u001b[39;49m\u001b[39m.\u001b[39;49mcopy_X,\n\u001b[1;32m    675\u001b[0m     sample_weight\u001b[39m=\u001b[39;49msample_weight,\n\u001b[1;32m    676\u001b[0m     return_mean\u001b[39m=\u001b[39;49m\u001b[39mTrue\u001b[39;49;00m,\n\u001b[1;32m    677\u001b[0m )\n\u001b[1;32m    679\u001b[0m \u001b[39mif\u001b[39;00m sample_weight \u001b[39mis\u001b[39;00m \u001b[39mnot\u001b[39;00m \u001b[39mNone\u001b[39;00m:\n\u001b[1;32m    680\u001b[0m     \u001b[39m# Sample weight can be implemented via a simple rescaling.\u001b[39;00m\n\u001b[1;32m    681\u001b[0m     X, y \u001b[39m=\u001b[39m _rescale_data(X, y, sample_weight)\n",
            "File \u001b[0;32m~/.local/lib/python3.8/site-packages/sklearn/linear_model/_base.py:247\u001b[0m, in \u001b[0;36m_preprocess_data\u001b[0;34m(X, y, fit_intercept, normalize, copy, sample_weight, return_mean, check_input)\u001b[0m\n\u001b[1;32m    244\u001b[0m     sample_weight \u001b[39m=\u001b[39m np\u001b[39m.\u001b[39masarray(sample_weight)\n\u001b[1;32m    246\u001b[0m \u001b[39mif\u001b[39;00m check_input:\n\u001b[0;32m--> 247\u001b[0m     X \u001b[39m=\u001b[39m check_array(X, copy\u001b[39m=\u001b[39;49mcopy, accept_sparse\u001b[39m=\u001b[39;49m[\u001b[39m\"\u001b[39;49m\u001b[39mcsr\u001b[39;49m\u001b[39m\"\u001b[39;49m, \u001b[39m\"\u001b[39;49m\u001b[39mcsc\u001b[39;49m\u001b[39m\"\u001b[39;49m], dtype\u001b[39m=\u001b[39;49mFLOAT_DTYPES)\n\u001b[1;32m    248\u001b[0m \u001b[39melif\u001b[39;00m copy:\n\u001b[1;32m    249\u001b[0m     \u001b[39mif\u001b[39;00m sp\u001b[39m.\u001b[39missparse(X):\n",
            "File \u001b[0;32m~/.local/lib/python3.8/site-packages/sklearn/utils/validation.py:821\u001b[0m, in \u001b[0;36mcheck_array\u001b[0;34m(array, accept_sparse, accept_large_sparse, dtype, order, copy, force_all_finite, ensure_2d, allow_nd, ensure_min_samples, ensure_min_features, estimator)\u001b[0m\n\u001b[1;32m    814\u001b[0m         \u001b[39mraise\u001b[39;00m \u001b[39mValueError\u001b[39;00m(\n\u001b[1;32m    815\u001b[0m             \u001b[39m\"\u001b[39m\u001b[39mFound array with \u001b[39m\u001b[39m%d\u001b[39;00m\u001b[39m feature(s) (shape=\u001b[39m\u001b[39m%s\u001b[39;00m\u001b[39m) while\u001b[39m\u001b[39m\"\u001b[39m\n\u001b[1;32m    816\u001b[0m             \u001b[39m\"\u001b[39m\u001b[39m a minimum of \u001b[39m\u001b[39m%d\u001b[39;00m\u001b[39m is required\u001b[39m\u001b[39m%s\u001b[39;00m\u001b[39m.\u001b[39m\u001b[39m\"\u001b[39m\n\u001b[1;32m    817\u001b[0m             \u001b[39m%\u001b[39m (n_features, array\u001b[39m.\u001b[39mshape, ensure_min_features, context)\n\u001b[1;32m    818\u001b[0m         )\n\u001b[1;32m    820\u001b[0m \u001b[39mif\u001b[39;00m copy \u001b[39mand\u001b[39;00m np\u001b[39m.\u001b[39mmay_share_memory(array, array_orig):\n\u001b[0;32m--> 821\u001b[0m     array \u001b[39m=\u001b[39m np\u001b[39m.\u001b[39;49marray(array, dtype\u001b[39m=\u001b[39;49mdtype, order\u001b[39m=\u001b[39;49morder)\n\u001b[1;32m    823\u001b[0m \u001b[39mreturn\u001b[39;00m array\n",
            "\u001b[0;31mKeyboardInterrupt\u001b[0m: "
          ]
        }
      ],
      "source": [
        "# TODO: Complex model. You can use scikit-learn libraries.\n",
        "\"\"\"Multi polynomial regression\"\"\"\n",
        "from sklearn.preprocessing import PolynomialFeatures\n",
        "from sklearn.pipeline import make_pipeline\n",
        "def polynomial_regression(X_train, y_train, X_val, y_val, degree):\n",
        "    model = make_pipeline(PolynomialFeatures(degree), LinearRegression())\n",
        "    model.fit(X_train, y_train)\n",
        "    return model\n",
        "model_cie = polynomial_regression(X_train_cie, y_train_cie, X_val_cie, y_val_cie, 2)\n",
        "model_mat = polynomial_regression(X_train_mat, y_train_mat, X_val_mat, y_val_mat, 2)\n",
        "model_lp = polynomial_regression(X_train_lp, y_train_lp, X_val_lp, y_val_lp, 2)\n",
        "print(model_cie.score(X_val_cie, y_val_cie))\n",
        "print(model_mat.score(X_val_mat, y_val_mat))\n",
        "print(model_lp.score(X_val_lp, y_val_lp))\n",
        "\n"
      ]
    },
    {
      "cell_type": "markdown",
      "metadata": {
        "id": "rBLKtosaLaCw"
      },
      "source": [
        "*texto em itálico*\n",
        " > What are the conclusions? What are the actions after such analyses? (1-2 paragraphs)\n",
        "\n",
        " \n"
      ]
    },
    {
      "cell_type": "markdown",
      "metadata": {
        "id": "ldSh1vtWK5Zk"
      },
      "source": [
        "4. (0.5) Plot the cost function vs. number of epochs in the training/validation set and analyze the model. "
      ]
    },
    {
      "cell_type": "code",
      "execution_count": 42,
      "metadata": {
        "id": "mg7aNkl_LG4P"
      },
      "outputs": [
        {
          "data": {
            "image/png": "[encoded data removed]",
            "text/plain": [
              "<Figure size 720x432 with 1 Axes>"
            ]
          },
          "metadata": {
            "needs_background": "light"
          },
          "output_type": "display_data"
        },
        {
          "data": {
            "image/png": "[encoded data removed]",
            "text/plain": [
              "<Figure size 720x432 with 1 Axes>"
            ]
          },
          "metadata": {
            "needs_background": "light"
          },
          "output_type": "display_data"
        },
        {
          "data": {
            "image/png": "[encoded data removed]",
            "text/plain": [
              "<Figure size 720x432 with 1 Axes>"
            ]
          },
          "metadata": {
            "needs_background": "light"
          },
          "output_type": "display_data"
        }
      ],
      "source": [
        "# TODO: Plot the cost function vs. number of iterations in the training set.\n",
        "\n",
        "def plot_cost_function(train_loss,   title):\n",
        "    plt.figure(figsize=(10, 6))\n",
        "    plt.plot(train_loss, label='train loss')\n",
        "    plt.legend()\n",
        "    plt.title(title)\n",
        "    plt.xlabel('Epochs')\n",
        "    plt.ylabel('Loss')\n",
        "    plt.show()\n",
        "\n",
        "\n",
        "plot_cost_function(train_loss_cie,  'Science')\n",
        "plot_cost_function(train_loss_mat,  'Math')\n",
        "plot_cost_function(train_loss_lp,  'Portuguese')\n"
      ]
    },
    {
      "cell_type": "code",
      "execution_count": null,
      "metadata": {
        "id": "CfR862UoK9j6"
      },
      "outputs": [
        {
          "ename": "SyntaxError",
          "evalue": "invalid syntax (449369750.py, line 1)",
          "output_type": "error",
          "traceback": [
            "\u001b[0;36m  Input \u001b[0;32mIn [46]\u001b[0;36m\u001b[0m\n\u001b[0;31m    *texto em itálico*\u001b[0m\n\u001b[0m           ^\u001b[0m\n\u001b[0;31mSyntaxError\u001b[0m\u001b[0;31m:\u001b[0m invalid syntax\n"
          ]
        }
      ],
      "source": [
        "*texto em itálico*\n",
        "> What are the conclusions? What are the actions after such analyses? (1-2 paragraphs)\n"
      ]
    },
    {
      "cell_type": "markdown",
      "metadata": {
        "id": "8Xij-E5UUseS"
      },
      "source": [
        "5. (0.25 point) Pick **your best model**, based on your validation set, and predict the target values for the test set."
      ]
    },
    {
      "cell_type": "code",
      "execution_count": 121,
      "metadata": {},
      "outputs": [
        {
          "name": "stderr",
          "output_type": "stream",
          "text": [
            "/home/arthur/.local/lib/python3.8/site-packages/sklearn/base.py:493: FutureWarning: The feature names should match those that were passed during fit. Starting version 1.2, an error will be raised.\n",
            "Feature names seen at fit time, yet now missing:\n",
            "- Tipo_PROVA_A\n",
            "\n",
            "  warnings.warn(message, FutureWarning)\n"
          ]
        },
        {
          "ename": "ValueError",
          "evalue": "X has 83 features, but SGDRegressor is expecting 84 features as input.",
          "output_type": "error",
          "traceback": [
            "\u001b[0;31m---------------------------------------------------------------------------\u001b[0m",
            "\u001b[0;31mValueError\u001b[0m                                Traceback (most recent call last)",
            "\u001b[1;32m/home/arthur/Documents/unicamp/mc886/Copy_of_2022s2_mc886mo444_assignment_02.ipynb Cell 71\u001b[0m in \u001b[0;36m<cell line: 1>\u001b[0;34m()\u001b[0m\n\u001b[0;32m----> <a href='vscode-notebook-cell:/home/arthur/Documents/unicamp/mc886/Copy_of_2022s2_mc886mo444_assignment_02.ipynb#Y161sZmlsZQ%3D%3D?line=0'>1</a>\u001b[0m \u001b[39mprint\u001b[39m(model_cie_sgd\u001b[39m.\u001b[39;49mscore(X_test_cie, y_test_cie))\n\u001b[1;32m      <a href='vscode-notebook-cell:/home/arthur/Documents/unicamp/mc886/Copy_of_2022s2_mc886mo444_assignment_02.ipynb#Y161sZmlsZQ%3D%3D?line=1'>2</a>\u001b[0m \u001b[39mprint\u001b[39m(model_mat_sgd\u001b[39m.\u001b[39mscore(X_test_mat, y_test_mat))\n\u001b[1;32m      <a href='vscode-notebook-cell:/home/arthur/Documents/unicamp/mc886/Copy_of_2022s2_mc886mo444_assignment_02.ipynb#Y161sZmlsZQ%3D%3D?line=2'>3</a>\u001b[0m \u001b[39mprint\u001b[39m(model_lp_sgd\u001b[39m.\u001b[39mscore(X_test_lp, y_test_lp))\n",
            "File \u001b[0;32m~/.local/lib/python3.8/site-packages/sklearn/base.py:705\u001b[0m, in \u001b[0;36mRegressorMixin.score\u001b[0;34m(self, X, y, sample_weight)\u001b[0m\n\u001b[1;32m    663\u001b[0m \u001b[39m\"\"\"Return the coefficient of determination of the prediction.\u001b[39;00m\n\u001b[1;32m    664\u001b[0m \n\u001b[1;32m    665\u001b[0m \u001b[39mThe coefficient of determination :math:`R^2` is defined as\u001b[39;00m\n\u001b[0;32m   (...)\u001b[0m\n\u001b[1;32m    700\u001b[0m \u001b[39m:class:`~sklearn.multioutput.MultiOutputRegressor`).\u001b[39;00m\n\u001b[1;32m    701\u001b[0m \u001b[39m\"\"\"\u001b[39;00m\n\u001b[1;32m    703\u001b[0m \u001b[39mfrom\u001b[39;00m \u001b[39m.\u001b[39;00m\u001b[39mmetrics\u001b[39;00m \u001b[39mimport\u001b[39;00m r2_score\n\u001b[0;32m--> 705\u001b[0m y_pred \u001b[39m=\u001b[39m \u001b[39mself\u001b[39;49m\u001b[39m.\u001b[39;49mpredict(X)\n\u001b[1;32m    706\u001b[0m \u001b[39mreturn\u001b[39;00m r2_score(y, y_pred, sample_weight\u001b[39m=\u001b[39msample_weight)\n",
            "File \u001b[0;32m~/.local/lib/python3.8/site-packages/sklearn/linear_model/_stochastic_gradient.py:1581\u001b[0m, in \u001b[0;36mBaseSGDRegressor.predict\u001b[0;34m(self, X)\u001b[0m\n\u001b[1;32m   1568\u001b[0m \u001b[39mdef\u001b[39;00m \u001b[39mpredict\u001b[39m(\u001b[39mself\u001b[39m, X):\n\u001b[1;32m   1569\u001b[0m     \u001b[39m\"\"\"Predict using the linear model.\u001b[39;00m\n\u001b[1;32m   1570\u001b[0m \n\u001b[1;32m   1571\u001b[0m \u001b[39m    Parameters\u001b[39;00m\n\u001b[0;32m   (...)\u001b[0m\n\u001b[1;32m   1579\u001b[0m \u001b[39m       Predicted target values per element in X.\u001b[39;00m\n\u001b[1;32m   1580\u001b[0m \u001b[39m    \"\"\"\u001b[39;00m\n\u001b[0;32m-> 1581\u001b[0m     \u001b[39mreturn\u001b[39;00m \u001b[39mself\u001b[39;49m\u001b[39m.\u001b[39;49m_decision_function(X)\n",
            "File \u001b[0;32m~/.local/lib/python3.8/site-packages/sklearn/linear_model/_stochastic_gradient.py:1563\u001b[0m, in \u001b[0;36mBaseSGDRegressor._decision_function\u001b[0;34m(self, X)\u001b[0m\n\u001b[1;32m   1550\u001b[0m \u001b[39m\"\"\"Predict using the linear model\u001b[39;00m\n\u001b[1;32m   1551\u001b[0m \n\u001b[1;32m   1552\u001b[0m \u001b[39mParameters\u001b[39;00m\n\u001b[0;32m   (...)\u001b[0m\n\u001b[1;32m   1559\u001b[0m \u001b[39m   Predicted target values per element in X.\u001b[39;00m\n\u001b[1;32m   1560\u001b[0m \u001b[39m\"\"\"\u001b[39;00m\n\u001b[1;32m   1561\u001b[0m check_is_fitted(\u001b[39mself\u001b[39m)\n\u001b[0;32m-> 1563\u001b[0m X \u001b[39m=\u001b[39m \u001b[39mself\u001b[39;49m\u001b[39m.\u001b[39;49m_validate_data(X, accept_sparse\u001b[39m=\u001b[39;49m\u001b[39m\"\u001b[39;49m\u001b[39mcsr\u001b[39;49m\u001b[39m\"\u001b[39;49m, reset\u001b[39m=\u001b[39;49m\u001b[39mFalse\u001b[39;49;00m)\n\u001b[1;32m   1565\u001b[0m scores \u001b[39m=\u001b[39m safe_sparse_dot(X, \u001b[39mself\u001b[39m\u001b[39m.\u001b[39mcoef_\u001b[39m.\u001b[39mT, dense_output\u001b[39m=\u001b[39m\u001b[39mTrue\u001b[39;00m) \u001b[39m+\u001b[39m \u001b[39mself\u001b[39m\u001b[39m.\u001b[39mintercept_\n\u001b[1;32m   1566\u001b[0m \u001b[39mreturn\u001b[39;00m scores\u001b[39m.\u001b[39mravel()\n",
            "File \u001b[0;32m~/.local/lib/python3.8/site-packages/sklearn/base.py:585\u001b[0m, in \u001b[0;36mBaseEstimator._validate_data\u001b[0;34m(self, X, y, reset, validate_separately, **check_params)\u001b[0m\n\u001b[1;32m    582\u001b[0m     out \u001b[39m=\u001b[39m X, y\n\u001b[1;32m    584\u001b[0m \u001b[39mif\u001b[39;00m \u001b[39mnot\u001b[39;00m no_val_X \u001b[39mand\u001b[39;00m check_params\u001b[39m.\u001b[39mget(\u001b[39m\"\u001b[39m\u001b[39mensure_2d\u001b[39m\u001b[39m\"\u001b[39m, \u001b[39mTrue\u001b[39;00m):\n\u001b[0;32m--> 585\u001b[0m     \u001b[39mself\u001b[39;49m\u001b[39m.\u001b[39;49m_check_n_features(X, reset\u001b[39m=\u001b[39;49mreset)\n\u001b[1;32m    587\u001b[0m \u001b[39mreturn\u001b[39;00m out\n",
            "File \u001b[0;32m~/.local/lib/python3.8/site-packages/sklearn/base.py:400\u001b[0m, in \u001b[0;36mBaseEstimator._check_n_features\u001b[0;34m(self, X, reset)\u001b[0m\n\u001b[1;32m    397\u001b[0m     \u001b[39mreturn\u001b[39;00m\n\u001b[1;32m    399\u001b[0m \u001b[39mif\u001b[39;00m n_features \u001b[39m!=\u001b[39m \u001b[39mself\u001b[39m\u001b[39m.\u001b[39mn_features_in_:\n\u001b[0;32m--> 400\u001b[0m     \u001b[39mraise\u001b[39;00m \u001b[39mValueError\u001b[39;00m(\n\u001b[1;32m    401\u001b[0m         \u001b[39mf\u001b[39m\u001b[39m\"\u001b[39m\u001b[39mX has \u001b[39m\u001b[39m{\u001b[39;00mn_features\u001b[39m}\u001b[39;00m\u001b[39m features, but \u001b[39m\u001b[39m{\u001b[39;00m\u001b[39mself\u001b[39m\u001b[39m.\u001b[39m\u001b[39m__class__\u001b[39m\u001b[39m.\u001b[39m\u001b[39m__name__\u001b[39m\u001b[39m}\u001b[39;00m\u001b[39m \u001b[39m\u001b[39m\"\u001b[39m\n\u001b[1;32m    402\u001b[0m         \u001b[39mf\u001b[39m\u001b[39m\"\u001b[39m\u001b[39mis expecting \u001b[39m\u001b[39m{\u001b[39;00m\u001b[39mself\u001b[39m\u001b[39m.\u001b[39mn_features_in_\u001b[39m}\u001b[39;00m\u001b[39m features as input.\u001b[39m\u001b[39m\"\u001b[39m\n\u001b[1;32m    403\u001b[0m     )\n",
            "\u001b[0;31mValueError\u001b[0m: X has 83 features, but SGDRegressor is expecting 84 features as input."
          ]
        }
      ],
      "source": [
        "print(model_cie_sgd.score(X_test_cie, y_test_cie))\n",
        "print(model_mat_sgd.score(X_test_mat, y_test_mat))\n",
        "print(model_lp_sgd.score(X_test_lp, y_test_lp))"
      ]
    },
    {
      "cell_type": "markdown",
      "metadata": {
        "id": "h_PobUahUseS"
      },
      "source": [
        "## Logistic Regression"
      ]
    },
    {
      "cell_type": "code",
      "execution_count": 44,
      "metadata": {},
      "outputs": [
        {
          "data": {
            "text/plain": [
              "pandas.core.frame.DataFrame"
            ]
          },
          "execution_count": 44,
          "metadata": {},
          "output_type": "execute_result"
        }
      ],
      "source": [
        "\"\"\"Remove the columns used as target in the linear regression\"\"\"\n",
        "def tranform_into_log_reg(df):\n",
        "    df = df.drop(columns=['porc_ACERT_lp',\n",
        "       'porc_ACERT_MAT', 'porc_ACERT_CIE'], axis=1)\n",
        "    return df\n",
        "df = tranform_into_log_reg(df)\n",
        "df_teste = tranform_into_log_reg(df_teste)\n",
        "type(df) "
      ]
    },
    {
      "cell_type": "code",
      "execution_count": 45,
      "metadata": {},
      "outputs": [
        {
          "data": {
            "text/plain": [
              "Index(['CD_ALUNO', 'Q1', 'Q2', 'Q3', 'Q4', 'Q5', 'Q6', 'Q7', 'Q8', 'Q9', 'Q10',\n",
              "       'Q11', 'Q12', 'Q13', 'Q14', 'Q15', 'Q16', 'Q17', 'Q18', 'Q19', 'Q20',\n",
              "       'Q21', 'Q22', 'Q23', 'Q24', 'Q25', 'Q26', 'Q27', 'Q28', 'Q29', 'Q30',\n",
              "       'Q31', 'Q32', 'Q33', 'Q34', 'Q35', 'Q36', 'Q37', 'Q38', 'Q39', 'Q40',\n",
              "       'Q41', 'Q42', 'Q43', 'Q44', 'Q45', 'Q46', 'Q47', 'Q48', 'Q49', 'Q50',\n",
              "       'Q51', 'Q52', 'Q53', 'Q54', 'Q55', 'Q56', 'Q57', 'Q58', 'Q59', 'Q60',\n",
              "       'Q61', 'Q62', 'SERIE_ANO', 'TP_SEXO', 'Tem_Nec', 'nivel_profic_lp',\n",
              "       'nivel_profic_mat', 'nivel_profic_cie', 'Q63_A', 'Q63_B', 'Q63_C',\n",
              "       'Q63_D', 'RegiaoMetropolitana_Interior',\n",
              "       'RegiaoMetropolitana_Região Metropolitana da Baixada Santista',\n",
              "       'RegiaoMetropolitana_Região Metropolitana de Campinas',\n",
              "       'RegiaoMetropolitana_Região Metropolitana de Ribeirão Preto',\n",
              "       'RegiaoMetropolitana_Região Metropolitana de Sorocaba',\n",
              "       'RegiaoMetropolitana_Região Metropolitana de São Paulo',\n",
              "       'RegiaoMetropolitana_Região Metropolitana do Vale do Paraíba e Litoral Norte',\n",
              "       'idade', 'PERIODO_MANHÃ', 'PERIODO_NOITE', 'PERIODO_TARDE',\n",
              "       'Tipo_PROVA_A', 'Tipo_PROVA_C'],\n",
              "      dtype='object')"
            ]
          },
          "execution_count": 45,
          "metadata": {},
          "output_type": "execute_result"
        }
      ],
      "source": [
        "df.columns"
      ]
    },
    {
      "cell_type": "code",
      "execution_count": 46,
      "metadata": {},
      "outputs": [
        {
          "data": {
            "text/plain": [
              "pandas.core.frame.DataFrame"
            ]
          },
          "execution_count": 46,
          "metadata": {},
          "output_type": "execute_result"
        }
      ],
      "source": [
        "df_log = df\n",
        "df_log_teste = df_teste\n",
        "type(df_log)"
      ]
    },
    {
      "cell_type": "code",
      "execution_count": 47,
      "metadata": {},
      "outputs": [
        {
          "data": {
            "text/plain": [
              "Index(['Q1', 'Q2', 'Q3', 'Q4', 'Q5', 'Q6', 'Q7', 'Q8', 'Q9', 'Q10', 'Q11',\n",
              "       'Q12', 'Q13', 'Q14', 'Q15', 'Q16', 'Q17', 'Q18', 'Q19', 'Q20', 'Q21',\n",
              "       'Q22', 'Q23', 'Q24', 'Q25', 'Q26', 'Q27', 'Q28', 'Q29', 'Q30', 'Q31',\n",
              "       'Q32', 'Q33', 'Q34', 'Q35', 'Q36', 'Q37', 'Q38', 'Q39', 'Q40', 'Q41',\n",
              "       'Q42', 'Q43', 'Q44', 'Q45', 'Q46', 'Q47', 'Q48', 'Q49', 'Q50', 'Q51',\n",
              "       'Q52', 'Q53', 'Q54', 'Q55', 'Q56', 'Q57', 'Q58', 'Q59', 'Q60', 'Q61',\n",
              "       'Q62', 'SERIE_ANO', 'TP_SEXO', 'Tem_Nec', 'nivel_profic_lp',\n",
              "       'nivel_profic_mat', 'nivel_profic_cie', 'Q63_A', 'Q63_B', 'Q63_C',\n",
              "       'Q63_D', 'RegiaoMetropolitana_Interior',\n",
              "       'RegiaoMetropolitana_Região Metropolitana da Baixada Santista',\n",
              "       'RegiaoMetropolitana_Região Metropolitana de Campinas',\n",
              "       'RegiaoMetropolitana_Região Metropolitana de Ribeirão Preto',\n",
              "       'RegiaoMetropolitana_Região Metropolitana de Sorocaba',\n",
              "       'RegiaoMetropolitana_Região Metropolitana de São Paulo',\n",
              "       'RegiaoMetropolitana_Região Metropolitana do Vale do Paraíba e Litoral Norte',\n",
              "       'idade', 'PERIODO_MANHÃ', 'PERIODO_NOITE', 'PERIODO_TARDE',\n",
              "       'Tipo_PROVA_A', 'Tipo_PROVA_C'],\n",
              "      dtype='object')"
            ]
          },
          "execution_count": 47,
          "metadata": {},
          "output_type": "execute_result"
        }
      ],
      "source": [
        "df_log.drop(columns=['CD_ALUNO'], axis=1, inplace=True)\n",
        "df_log_teste.drop(columns=['CD_ALUNO'], axis=1, inplace=True)\n",
        "df_log.columns"
      ]
    },
    {
      "cell_type": "code",
      "execution_count": null,
      "metadata": {},
      "outputs": [],
      "source": [
        "from sklearn.model_selection import train_test_split\n",
        "def split_data(df, target, validation_size):\n",
        "    X = df.drop(columns=[target])\n",
        "    y = df[target]\n",
        "    return train_test_split(X, y, test_size=validation_size, random_state=42)\n",
        "X_train_cie, X_val_cie, y_train_cie, y_val_cie = split_data(df_log, 'nivel_profic_cie', 0.2)\n",
        "X_train_mat, X_val_mat, y_train_mat, y_val_mat = split_data(df_log, 'nivel_profic_mat', 0.2)\n",
        "X_train_lp, X_val_lp, y_train_lp, y_val_lp = split_data(df_log, 'nivel_profic_lp', 0.2)\n",
        "X_teste_cie = df_log_teste.drop(columns=[target])"
      ]
    },
    {
      "cell_type": "code",
      "execution_count": null,
      "metadata": {},
      "outputs": [],
      "source": [
        "def normalize_data(df):\n",
        "    from sklearn.preprocessing import StandardScaler, MinMaxScaler\n",
        "    scaler = StandardScaler()\n",
        "    scaler.fit(df)\n",
        "    return scaler.transform(df)\n",
        "X_train_cie = normalize_data(X_train_cie)\n",
        "X_val_cie = normalize_data(X_val_cie)\n",
        "X_train_mat = normalize_data(X_train_mat)\n",
        "X_val_mat = normalize_data(X_val_mat)\n",
        "X_train_lp = normalize_data(X_train_lp)\n",
        "X_val_lp = normalize_data(X_val_lp)\n",
        "\n"
      ]
    },
    {
      "cell_type": "markdown",
      "metadata": {
        "id": "SCJuwjrAUseS"
      },
      "source": [
        "Now, this part of the assignment aims to predict students' proeficiency level on Portuguese, Mathematics, and Natural Sciences (target values: `nivel_profic_lp`, `nivel_profic_mat` and `nivel_profic_cie`) based on their socioeconomic data. Then, you have to **drop the columns `porc_ACERT_lp`,  `porc_ACERT_MAT`** and  **`porc_ACERT_CIE`**."
      ]
    },
    {
      "cell_type": "markdown",
      "metadata": {
        "id": "joYtn8avUseS"
      },
      "source": [
        "### Activities\n",
        "\n",
        "1. (2.75 points) Perform Multinomial Logistic Regression (_i.e._, softmax regression). It is a generalization of Logistic Regression to the case where we want to handle multiple classes. Try different combinations of features, dropping the ones less correlated to the target variables."
      ]
    },
    {
      "cell_type": "code",
      "execution_count": null,
      "metadata": {
        "id": "-36Dt2V_UseT"
      },
      "outputs": [
        {
          "ename": "KeyboardInterrupt",
          "evalue": "",
          "output_type": "error",
          "traceback": [
            "\u001b[0;31m---------------------------------------------------------------------------\u001b[0m",
            "\u001b[0;31mKeyboardInterrupt\u001b[0m                         Traceback (most recent call last)",
            "\u001b[1;32m/home/arthur/Documents/unicamp/mc886/Copy_of_2022s2_mc886mo444_assignment_02.ipynb Cell 80\u001b[0m in \u001b[0;36m<cell line: 11>\u001b[0;34m()\u001b[0m\n\u001b[1;32m      <a href='vscode-notebook-cell:/home/arthur/Documents/unicamp/mc886/Copy_of_2022s2_mc886mo444_assignment_02.ipynb#Y142sZmlsZQ%3D%3D?line=8'>9</a>\u001b[0m \u001b[39mprint\u001b[39m(\u001b[39m\"\u001b[39m\u001b[39mAccuracy: \u001b[39m\u001b[39m\"\u001b[39m, model_cie\u001b[39m.\u001b[39mscore(X_val_cie, y_val_cie))\n\u001b[1;32m     <a href='vscode-notebook-cell:/home/arthur/Documents/unicamp/mc886/Copy_of_2022s2_mc886mo444_assignment_02.ipynb#Y142sZmlsZQ%3D%3D?line=9'>10</a>\u001b[0m \u001b[39mprint\u001b[39m(\u001b[39m\"\u001b[39m\u001b[39mMath\u001b[39m\u001b[39m\"\u001b[39m)\n\u001b[0;32m---> <a href='vscode-notebook-cell:/home/arthur/Documents/unicamp/mc886/Copy_of_2022s2_mc886mo444_assignment_02.ipynb#Y142sZmlsZQ%3D%3D?line=10'>11</a>\u001b[0m model_mat \u001b[39m=\u001b[39m multinomial_logistic_regression(X_train_mat, y_train_mat, X_val_mat, y_val_mat)\n\u001b[1;32m     <a href='vscode-notebook-cell:/home/arthur/Documents/unicamp/mc886/Copy_of_2022s2_mc886mo444_assignment_02.ipynb#Y142sZmlsZQ%3D%3D?line=11'>12</a>\u001b[0m \u001b[39mprint\u001b[39m(\u001b[39m\"\u001b[39m\u001b[39mAccuracy: \u001b[39m\u001b[39m\"\u001b[39m, model_mat\u001b[39m.\u001b[39mscore(X_val_mat, y_val_mat))\n\u001b[1;32m     <a href='vscode-notebook-cell:/home/arthur/Documents/unicamp/mc886/Copy_of_2022s2_mc886mo444_assignment_02.ipynb#Y142sZmlsZQ%3D%3D?line=12'>13</a>\u001b[0m \u001b[39mprint\u001b[39m(\u001b[39m\"\u001b[39m\u001b[39mPortuguese\u001b[39m\u001b[39m\"\u001b[39m)\n",
            "\u001b[1;32m/home/arthur/Documents/unicamp/mc886/Copy_of_2022s2_mc886mo444_assignment_02.ipynb Cell 80\u001b[0m in \u001b[0;36mmultinomial_logistic_regression\u001b[0;34m(X_train, y_train, X_val, y_val, num_epochs)\u001b[0m\n\u001b[1;32m      <a href='vscode-notebook-cell:/home/arthur/Documents/unicamp/mc886/Copy_of_2022s2_mc886mo444_assignment_02.ipynb#Y142sZmlsZQ%3D%3D?line=2'>3</a>\u001b[0m \u001b[39mdef\u001b[39;00m \u001b[39mmultinomial_logistic_regression\u001b[39m(X_train, y_train, X_val, y_val, num_epochs \u001b[39m=\u001b[39m \u001b[39m1000\u001b[39m):\n\u001b[1;32m      <a href='vscode-notebook-cell:/home/arthur/Documents/unicamp/mc886/Copy_of_2022s2_mc886mo444_assignment_02.ipynb#Y142sZmlsZQ%3D%3D?line=3'>4</a>\u001b[0m     model \u001b[39m=\u001b[39m LogisticRegression(multi_class\u001b[39m=\u001b[39m\u001b[39m'\u001b[39m\u001b[39mmultinomial\u001b[39m\u001b[39m'\u001b[39m, solver\u001b[39m=\u001b[39m\u001b[39m'\u001b[39m\u001b[39msag\u001b[39m\u001b[39m'\u001b[39m, max_iter\u001b[39m=\u001b[39m num_epochs, n_jobs\u001b[39m=\u001b[39m\u001b[39m-\u001b[39m\u001b[39m1\u001b[39m)\n\u001b[0;32m----> <a href='vscode-notebook-cell:/home/arthur/Documents/unicamp/mc886/Copy_of_2022s2_mc886mo444_assignment_02.ipynb#Y142sZmlsZQ%3D%3D?line=4'>5</a>\u001b[0m     model\u001b[39m.\u001b[39;49mfit(X_train, y_train)\n\u001b[1;32m      <a href='vscode-notebook-cell:/home/arthur/Documents/unicamp/mc886/Copy_of_2022s2_mc886mo444_assignment_02.ipynb#Y142sZmlsZQ%3D%3D?line=5'>6</a>\u001b[0m     \u001b[39mreturn\u001b[39;00m model\n",
            "File \u001b[0;32m~/.local/lib/python3.8/site-packages/sklearn/linear_model/_logistic.py:1589\u001b[0m, in \u001b[0;36mLogisticRegression.fit\u001b[0;34m(self, X, y, sample_weight)\u001b[0m\n\u001b[1;32m   1587\u001b[0m \u001b[39melse\u001b[39;00m:\n\u001b[1;32m   1588\u001b[0m     prefer \u001b[39m=\u001b[39m \u001b[39m\"\u001b[39m\u001b[39mprocesses\u001b[39m\u001b[39m\"\u001b[39m\n\u001b[0;32m-> 1589\u001b[0m fold_coefs_ \u001b[39m=\u001b[39m Parallel(\n\u001b[1;32m   1590\u001b[0m     n_jobs\u001b[39m=\u001b[39;49m\u001b[39mself\u001b[39;49m\u001b[39m.\u001b[39;49mn_jobs,\n\u001b[1;32m   1591\u001b[0m     verbose\u001b[39m=\u001b[39;49m\u001b[39mself\u001b[39;49m\u001b[39m.\u001b[39;49mverbose,\n\u001b[1;32m   1592\u001b[0m     \u001b[39m*\u001b[39;49m\u001b[39m*\u001b[39;49m_joblib_parallel_args(prefer\u001b[39m=\u001b[39;49mprefer),\n\u001b[1;32m   1593\u001b[0m )(\n\u001b[1;32m   1594\u001b[0m     path_func(\n\u001b[1;32m   1595\u001b[0m         X,\n\u001b[1;32m   1596\u001b[0m         y,\n\u001b[1;32m   1597\u001b[0m         pos_class\u001b[39m=\u001b[39;49mclass_,\n\u001b[1;32m   1598\u001b[0m         Cs\u001b[39m=\u001b[39;49m[C_],\n\u001b[1;32m   1599\u001b[0m         l1_ratio\u001b[39m=\u001b[39;49m\u001b[39mself\u001b[39;49m\u001b[39m.\u001b[39;49ml1_ratio,\n\u001b[1;32m   1600\u001b[0m         fit_intercept\u001b[39m=\u001b[39;49m\u001b[39mself\u001b[39;49m\u001b[39m.\u001b[39;49mfit_intercept,\n\u001b[1;32m   1601\u001b[0m         tol\u001b[39m=\u001b[39;49m\u001b[39mself\u001b[39;49m\u001b[39m.\u001b[39;49mtol,\n\u001b[1;32m   1602\u001b[0m         verbose\u001b[39m=\u001b[39;49m\u001b[39mself\u001b[39;49m\u001b[39m.\u001b[39;49mverbose,\n\u001b[1;32m   1603\u001b[0m         solver\u001b[39m=\u001b[39;49msolver,\n\u001b[1;32m   1604\u001b[0m         multi_class\u001b[39m=\u001b[39;49mmulti_class,\n\u001b[1;32m   1605\u001b[0m         max_iter\u001b[39m=\u001b[39;49m\u001b[39mself\u001b[39;49m\u001b[39m.\u001b[39;49mmax_iter,\n\u001b[1;32m   1606\u001b[0m         class_weight\u001b[39m=\u001b[39;49m\u001b[39mself\u001b[39;49m\u001b[39m.\u001b[39;49mclass_weight,\n\u001b[1;32m   1607\u001b[0m         check_input\u001b[39m=\u001b[39;49m\u001b[39mFalse\u001b[39;49;00m,\n\u001b[1;32m   1608\u001b[0m         random_state\u001b[39m=\u001b[39;49m\u001b[39mself\u001b[39;49m\u001b[39m.\u001b[39;49mrandom_state,\n\u001b[1;32m   1609\u001b[0m         coef\u001b[39m=\u001b[39;49mwarm_start_coef_,\n\u001b[1;32m   1610\u001b[0m         penalty\u001b[39m=\u001b[39;49mpenalty,\n\u001b[1;32m   1611\u001b[0m         max_squared_sum\u001b[39m=\u001b[39;49mmax_squared_sum,\n\u001b[1;32m   1612\u001b[0m         sample_weight\u001b[39m=\u001b[39;49msample_weight,\n\u001b[1;32m   1613\u001b[0m     )\n\u001b[1;32m   1614\u001b[0m     \u001b[39mfor\u001b[39;49;00m class_, warm_start_coef_ \u001b[39min\u001b[39;49;00m \u001b[39mzip\u001b[39;49m(classes_, warm_start_coef)\n\u001b[1;32m   1615\u001b[0m )\n\u001b[1;32m   1617\u001b[0m fold_coefs_, _, n_iter_ \u001b[39m=\u001b[39m \u001b[39mzip\u001b[39m(\u001b[39m*\u001b[39mfold_coefs_)\n\u001b[1;32m   1618\u001b[0m \u001b[39mself\u001b[39m\u001b[39m.\u001b[39mn_iter_ \u001b[39m=\u001b[39m np\u001b[39m.\u001b[39masarray(n_iter_, dtype\u001b[39m=\u001b[39mnp\u001b[39m.\u001b[39mint32)[:, \u001b[39m0\u001b[39m]\n",
            "File \u001b[0;32m~/.local/lib/python3.8/site-packages/joblib/parallel.py:1056\u001b[0m, in \u001b[0;36mParallel.__call__\u001b[0;34m(self, iterable)\u001b[0m\n\u001b[1;32m   1053\u001b[0m     \u001b[39mself\u001b[39m\u001b[39m.\u001b[39m_iterating \u001b[39m=\u001b[39m \u001b[39mFalse\u001b[39;00m\n\u001b[1;32m   1055\u001b[0m \u001b[39mwith\u001b[39;00m \u001b[39mself\u001b[39m\u001b[39m.\u001b[39m_backend\u001b[39m.\u001b[39mretrieval_context():\n\u001b[0;32m-> 1056\u001b[0m     \u001b[39mself\u001b[39;49m\u001b[39m.\u001b[39;49mretrieve()\n\u001b[1;32m   1057\u001b[0m \u001b[39m# Make sure that we get a last message telling us we are done\u001b[39;00m\n\u001b[1;32m   1058\u001b[0m elapsed_time \u001b[39m=\u001b[39m time\u001b[39m.\u001b[39mtime() \u001b[39m-\u001b[39m \u001b[39mself\u001b[39m\u001b[39m.\u001b[39m_start_time\n",
            "File \u001b[0;32m~/.local/lib/python3.8/site-packages/joblib/parallel.py:935\u001b[0m, in \u001b[0;36mParallel.retrieve\u001b[0;34m(self)\u001b[0m\n\u001b[1;32m    933\u001b[0m \u001b[39mtry\u001b[39;00m:\n\u001b[1;32m    934\u001b[0m     \u001b[39mif\u001b[39;00m \u001b[39mgetattr\u001b[39m(\u001b[39mself\u001b[39m\u001b[39m.\u001b[39m_backend, \u001b[39m'\u001b[39m\u001b[39msupports_timeout\u001b[39m\u001b[39m'\u001b[39m, \u001b[39mFalse\u001b[39;00m):\n\u001b[0;32m--> 935\u001b[0m         \u001b[39mself\u001b[39m\u001b[39m.\u001b[39m_output\u001b[39m.\u001b[39mextend(job\u001b[39m.\u001b[39;49mget(timeout\u001b[39m=\u001b[39;49m\u001b[39mself\u001b[39;49m\u001b[39m.\u001b[39;49mtimeout))\n\u001b[1;32m    936\u001b[0m     \u001b[39melse\u001b[39;00m:\n\u001b[1;32m    937\u001b[0m         \u001b[39mself\u001b[39m\u001b[39m.\u001b[39m_output\u001b[39m.\u001b[39mextend(job\u001b[39m.\u001b[39mget())\n",
            "File \u001b[0;32m/usr/lib/python3.8/multiprocessing/pool.py:765\u001b[0m, in \u001b[0;36mApplyResult.get\u001b[0;34m(self, timeout)\u001b[0m\n\u001b[1;32m    764\u001b[0m \u001b[39mdef\u001b[39;00m \u001b[39mget\u001b[39m(\u001b[39mself\u001b[39m, timeout\u001b[39m=\u001b[39m\u001b[39mNone\u001b[39;00m):\n\u001b[0;32m--> 765\u001b[0m     \u001b[39mself\u001b[39;49m\u001b[39m.\u001b[39;49mwait(timeout)\n\u001b[1;32m    766\u001b[0m     \u001b[39mif\u001b[39;00m \u001b[39mnot\u001b[39;00m \u001b[39mself\u001b[39m\u001b[39m.\u001b[39mready():\n\u001b[1;32m    767\u001b[0m         \u001b[39mraise\u001b[39;00m \u001b[39mTimeoutError\u001b[39;00m\n",
            "File \u001b[0;32m/usr/lib/python3.8/multiprocessing/pool.py:762\u001b[0m, in \u001b[0;36mApplyResult.wait\u001b[0;34m(self, timeout)\u001b[0m\n\u001b[1;32m    761\u001b[0m \u001b[39mdef\u001b[39;00m \u001b[39mwait\u001b[39m(\u001b[39mself\u001b[39m, timeout\u001b[39m=\u001b[39m\u001b[39mNone\u001b[39;00m):\n\u001b[0;32m--> 762\u001b[0m     \u001b[39mself\u001b[39;49m\u001b[39m.\u001b[39;49m_event\u001b[39m.\u001b[39;49mwait(timeout)\n",
            "File \u001b[0;32m/usr/lib/python3.8/threading.py:558\u001b[0m, in \u001b[0;36mEvent.wait\u001b[0;34m(self, timeout)\u001b[0m\n\u001b[1;32m    556\u001b[0m signaled \u001b[39m=\u001b[39m \u001b[39mself\u001b[39m\u001b[39m.\u001b[39m_flag\n\u001b[1;32m    557\u001b[0m \u001b[39mif\u001b[39;00m \u001b[39mnot\u001b[39;00m signaled:\n\u001b[0;32m--> 558\u001b[0m     signaled \u001b[39m=\u001b[39m \u001b[39mself\u001b[39;49m\u001b[39m.\u001b[39;49m_cond\u001b[39m.\u001b[39;49mwait(timeout)\n\u001b[1;32m    559\u001b[0m \u001b[39mreturn\u001b[39;00m signaled\n",
            "File \u001b[0;32m/usr/lib/python3.8/threading.py:302\u001b[0m, in \u001b[0;36mCondition.wait\u001b[0;34m(self, timeout)\u001b[0m\n\u001b[1;32m    300\u001b[0m \u001b[39mtry\u001b[39;00m:    \u001b[39m# restore state no matter what (e.g., KeyboardInterrupt)\u001b[39;00m\n\u001b[1;32m    301\u001b[0m     \u001b[39mif\u001b[39;00m timeout \u001b[39mis\u001b[39;00m \u001b[39mNone\u001b[39;00m:\n\u001b[0;32m--> 302\u001b[0m         waiter\u001b[39m.\u001b[39;49macquire()\n\u001b[1;32m    303\u001b[0m         gotit \u001b[39m=\u001b[39m \u001b[39mTrue\u001b[39;00m\n\u001b[1;32m    304\u001b[0m     \u001b[39melse\u001b[39;00m:\n",
            "\u001b[0;31mKeyboardInterrupt\u001b[0m: "
          ]
        }
      ],
      "source": [
        "# TODO: Multinomial Logistic Regression. You can use scikit-learn libraries.\n",
        "from sklearn.linear_model import LogisticRegression\n",
        "def multinomial_logistic_regression(X_train, y_train, X_val, y_val, num_epochs = 1000):\n",
        "    model = LogisticRegression(multi_class='multinomial', solver='sag', max_iter= num_epochs, n_jobs=-1)\n",
        "    model.fit(X_train, y_train)\n",
        "    return model\n",
        "print(\"Science\")\n",
        "model_cie = multinomial_logistic_regression(X_train_cie, y_train_cie, X_val_cie, y_val_cie)\n",
        "print(\"Accuracy: \", model_cie.score(X_val_cie, y_val_cie))\n",
        "print(\"Math\")\n",
        "model_mat = multinomial_logistic_regression(X_train_mat, y_train_mat, X_val_mat, y_val_mat)\n",
        "print(\"Accuracy: \", model_mat.score(X_val_mat, y_val_mat))\n",
        "print(\"Portuguese\")\n",
        "model_lp = multinomial_logistic_regression(X_train_lp, y_train_lp, X_val_lp, y_val_lp)\n",
        "print(\"Accuracy: \", model_lp.score(X_val_lp, y_val_lp))\n"
      ]
    },
    {
      "cell_type": "markdown",
      "metadata": {
        "id": "WQj3oImUUseT"
      },
      "source": [
        "> What are the conclusions? (1-2 paragraphs)\n"
      ]
    },
    {
      "cell_type": "markdown",
      "metadata": {
        "id": "yb1KNEqLUseT"
      },
      "source": [
        "2. (0.5 point) Plot the cost function vs. number of epochs in the training/validation set and analyze the model. "
      ]
    },
    {
      "cell_type": "code",
      "execution_count": null,
      "metadata": {},
      "outputs": [],
      "source": [
        "import sys\n",
        "import io\n",
        "import matplotlib.pyplot as plt\n",
        "\n",
        "class DisplayLossCurve(object):\n",
        "  def __init__(self, print_loss=False):\n",
        "    self.print_loss = print_loss\n",
        "\n",
        "  \"\"\"Make sure the model verbose is set to 1\"\"\"\n",
        "  def __enter__(self):\n",
        "    self.old_stdout = sys.stdout\n",
        "    sys.stdout = self.mystdout = io.StringIO()\n",
        "  \n",
        "  def __exit__(self, *args, **kwargs):\n",
        "    sys.stdout = self.old_stdout\n",
        "    loss_history = self.mystdout.getvalue()\n",
        "    loss_list = []\n",
        "    for line in loss_history.split('\\n'):\n",
        "      if(len(line.split(\"loss: \")) == 1):\n",
        "        continue\n",
        "      loss_list.append(float(line.split(\"loss: \")[-1]))\n",
        "    plt.figure()\n",
        "    plt.plot(np.arange(len(loss_list)), loss_list)\n",
        "    plt.xlabel(\"Epoch\")\n",
        "    plt.ylabel(\"Loss\")\n",
        "    plt.show()\n",
        "    if self.print_loss:\n",
        "      print(\"=============== Loss Array ===============\")\n",
        "      print(np.array(loss_list))\n",
        "      \n",
        "    return True\n"
      ]
    },
    {
      "cell_type": "code",
      "execution_count": null,
      "metadata": {},
      "outputs": [
        {
          "name": "stderr",
          "output_type": "stream",
          "text": [
            "[Parallel(n_jobs=1)]: Using backend SequentialBackend with 1 concurrent workers.\n",
            "[Parallel(n_jobs=1)]: Done   1 out of   1 | elapsed:   10.6s finished\n"
          ]
        },
        {
          "data": {
            "text/plain": [
              "[0, 'convergence after 66 epochs took 10 seconds\\n']"
            ]
          },
          "execution_count": 64,
          "metadata": {},
          "output_type": "execute_result"
        }
      ],
      "source": [
        "\"\"\"Function to capture the output of a cell in a notebook\"\"\"\n",
        "def capture_output(cell):\n",
        "    lista = []\n",
        "    stdout = sys.stdout\n",
        "    sys.stdout = io.StringIO()\n",
        "    cell()\n",
        "    sys.stdout.seek(0)\n",
        "    lista.append(sys.stdout.seek(0))\n",
        "    output = sys.stdout.read()\n",
        "    lista.append(output)\n",
        "    sys.stdout = stdout\n",
        "    return lista\n",
        "model = LogisticRegression(multi_class='multinomial', solver='sag', max_iter= 100, verbose=1)\n",
        "capture_output(lambda: model.fit(X_train_cie, y_train_cie))"
      ]
    },
    {
      "cell_type": "code",
      "execution_count": null,
      "metadata": {},
      "outputs": [
        {
          "name": "stderr",
          "output_type": "stream",
          "text": [
            "[Parallel(n_jobs=1)]: Using backend SequentialBackend with 1 concurrent workers.\n",
            "[Parallel(n_jobs=1)]: Done   1 out of   1 | elapsed:    5.7s finished\n"
          ]
        },
        {
          "data": {
            "text/plain": [
              "LogisticRegression(multi_class='multinomial', solver='sag', verbose=1)"
            ]
          },
          "execution_count": 65,
          "metadata": {},
          "output_type": "execute_result"
        }
      ],
      "source": [
        "model = LogisticRegression(multi_class='multinomial', solver='sag', max_iter= 100, verbose=1)\n",
        "model.fit(X_train_cie, y_train_cie)"
      ]
    },
    {
      "cell_type": "code",
      "execution_count": null,
      "metadata": {},
      "outputs": [],
      "source": [
        "with open('output.txt', 'w') as f:\n",
        "    f.write(cap.stdout)"
      ]
    },
    {
      "cell_type": "markdown",
      "metadata": {
        "id": "-IM4mx23UseT"
      },
      "source": [
        "> What are the conclusions? (1-2 paragraphs)\n"
      ]
    },
    {
      "cell_type": "markdown",
      "metadata": {
        "id": "Lqlv9-6OUseT"
      },
      "source": [
        "3. (0.75 point) Pick **your best model** and plot the confusion matrix in the **test set**. \n"
      ]
    },
    {
      "cell_type": "code",
      "execution_count": null,
      "metadata": {
        "id": "-jdyJuS0UseT"
      },
      "outputs": [],
      "source": [
        "# TODO: Plot the confusion matrix. You can use scikit-learn, seaborn, matplotlib libraries.\n"
      ]
    },
    {
      "cell_type": "markdown",
      "metadata": {
        "id": "xAmCj0cpUseT"
      },
      "source": [
        "> What are the conclusions? (1-2 paragraphs)\n"
      ]
    },
    {
      "cell_type": "markdown",
      "metadata": {
        "id": "kdSGS4brHnAi"
      },
      "source": [
        "## Deadline\n",
        "\n",
        "Monday, September 19, 11:59 pm. \n",
        "\n",
        "Penalty policy for late submission: You are not encouraged to submit your assignment after due date. However, in case you do, your grade will be penalized as follows:\n",
        "- September 20, 11:59 pm : grade * 0.75\n",
        "- September 21, 11:59 pm : grade * 0.5\n",
        "- September 22, 11:59 pm : grade * 0.25\n"
      ]
    },
    {
      "cell_type": "markdown",
      "metadata": {
        "id": "joN9pvZJIfW5"
      },
      "source": [
        "## Submission\n",
        "\n",
        "On Google Classroom, submit your Jupyter Notebook (in Portuguese or English).\n",
        "\n",
        "**This activity is NOT individual, it must be done in pairs (two-person group).**"
      ]
    }
  ],
  "metadata": {
    "colab": {
      "provenance": []
    },
    "gpuClass": "standard",
    "kernelspec": {
      "display_name": "Python 3.8.10 64-bit",
      "language": "python",
      "name": "python3"
    },
    "language_info": {
      "codemirror_mode": {
        "name": "ipython",
        "version": 3
      },
      "file_extension": ".py",
      "mimetype": "text/x-python",
      "name": "python",
      "nbconvert_exporter": "python",
      "pygments_lexer": "ipython3",
      "version": "3.8.10"
    },
    "vscode": {
      "interpreter": {
        "hash": "31f2aee4e71d21fbe5cf8b01ff0e069b9275f58929596ceb00d14d90e3e16cd6"
      }
    }
  },
  "nbformat": 4,
  "nbformat_minor": 0
}
