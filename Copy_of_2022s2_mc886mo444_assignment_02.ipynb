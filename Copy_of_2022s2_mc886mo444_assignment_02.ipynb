{
  "cells": [
    {
      "cell_type": "markdown",
      "metadata": {
        "id": "Cs9E_R5yD48u"
      },
      "source": [
        "# **Assignment \\#2**: Machine Learning MC886/MO444\n",
        "University of Campinas (UNICAMP), Institute of Computing (IC)\n",
        "\n",
        "Prof. Sandra Avila, 2022s2\n",
        "\n"
      ]
    },
    {
      "cell_type": "code",
      "execution_count": 1,
      "metadata": {
        "colab": {
          "base_uri": "https://localhost:8080/"
        },
        "id": "tFS9Oum_RJX9",
        "outputId": "45094cce-bb6b-4ad6-966e-434b6c7b9db0"
      },
      "outputs": [
        {
          "name": "stdout",
          "output_type": "stream",
          "text": [
            "RA1: 213259 Arthur Baia\n",
            "RA2: 200025 José Afonso\n"
          ]
        }
      ],
      "source": [
        "# TODO: RA & Name\n",
        "print(f'RA1: 213259 ' + 'Arthur Baia')\n",
        "print(f'RA2: 200025 ' + 'José Afonso')\n"
      ]
    },
    {
      "cell_type": "markdown",
      "metadata": {
        "id": "IVGH2s7fD_03"
      },
      "source": [
        "## Objective\n",
        "\n",
        "Explore **linear regression** and **logistic regression** alternatives and come up with the best possible model for the problems, avoiding overfitting. In particular, predict the performance of students from public schools in the state of São Paulo based on socioeconomic data from SARESP (School Performance Assessment System of the State of São Paulo, or Sistema de Avaliação de Rendimento Escolar do Estado de São Paulo) 2021."
      ]
    },
    {
      "cell_type": "markdown",
      "metadata": {
        "id": "r3XDZRGqEwsk"
      },
      "source": [
        "### Dataset\n",
        "\n",
        "These data were aggregated from [Open Data Platform of the Secretary of Education of the State of São Paulo](https://dados.educacao.sp.gov.br/) (*Portal de Dados Abertos da Secretaria da Educação do Estado de São Paulo*). The dataset is based on two data sources: [SARESP questionnaire](https://dados.educacao.sp.gov.br/dataset/question%C3%A1rios-saresp) and [SARESP test](https://dados.educacao.sp.gov.br/dataset/profici%C3%AAncia-do-sistema-de-avalia%C3%A7%C3%A3o-de-rendimento-escolar-do-estado-de-s%C3%A3o-paulo-saresp-por), conducted in 2021 with students from the 5th and 9th year of Primary School and 3rd year of Highschool. The questionnaire comprehends 63 socio-economical questions, and it is available at the [link](https://dados.educacao.sp.gov.br/sites/default/files/Saresp_Quest_2021_Perguntas_Alunos.pdf ) ([English version](https://docs.google.com/document/d/1GUax3wwYxA43d3iNOiyCRImeCHgx8vUJrHlSzzYIXA4/edit?usp=sharing)), and the test is composed of questions of Portuguese, Mathematics, and Natural Sciences.\n",
        "\n",
        "\n",
        "**Data Dictionary**:\n",
        "\n",
        "- **CD_ALUNO**: Student ID;\n",
        "\n",
        "- **CODESC**: School ID;\n",
        "\n",
        "- **NOMESC**: School Name;\n",
        "\n",
        "- **RegiaoMetropolitana**: Metropolitan region;\n",
        "\n",
        "- **DE**: Name of the Education Board;\n",
        "\n",
        "- **CODMUN**: City ID;\n",
        "\n",
        "- **MUN**: City name;\n",
        "\n",
        "- **SERIE_ANO**: Scholar year;\n",
        "\n",
        "- **TURMA**: Class;\n",
        "\n",
        "- **TP_SEXO**: Sex (Female/Male);\n",
        "\n",
        "- **DT_NASCIMENTO**: Birth date;\n",
        "\n",
        "- **PERIODO**: Period of study (morning, afternoon, evening);\n",
        "\n",
        "- **Tem_Nec**: Whether student has any special needs (1 = yes, 0 = no);\n",
        "\n",
        "- **NEC_ESP_1** - **NEC_ESP_5**: Student disabilities;\n",
        "\n",
        "- **Tipo_PROVA**: Exam type (A = Enlarged, B = Braile, C = Common);\n",
        "\n",
        "- **QN**: Student answer to the question N (N= 1, ... , 63), see  questions in [questionnaire](https://dados.educacao.sp.gov.br/sites/default/files/Saresp_Quest_2021_Perguntas_Alunos.pdf ) ([English version](https://docs.google.com/document/d/1GUax3wwYxA43d3iNOiyCRImeCHgx8vUJrHlSzzYIXA4/edit?usp=sharing));\n",
        "\n",
        "- **porc_ACERT_lp**: Percentage of correct answers in the Portuguese test;\n",
        "\n",
        "- **porc_ACERT_MAT**: Percentage of correct answers in the Mathematics test;\n",
        "\n",
        "- **porc_ACERT_CIE**: Percentage of correct answers in the Natural Sciences test;\n",
        "\n",
        "- **nivel_profic_lp**: Proficiency level in the Portuguese test;\n",
        "\n",
        "- **nivel_profic_mat**: Proficiency level in the Mathematics test;\n",
        "\n",
        "- **nivel_profic_cie**:  Proficiency level in the Natural Sciences test.\n",
        "\n",
        "\n",
        "---\n",
        "\n",
        "\n",
        "\n",
        "You must respect the following training/test split:\n",
        "- SARESP_train.csv\n",
        "- SARESP_test.csv"
      ]
    },
    {
      "cell_type": "markdown",
      "metadata": {
        "id": "5FAA8hsZUseO"
      },
      "source": [
        "## Linear Regression\n",
        "\n",
        "This part of the assignment aims to predict students' performance on Portuguese, Mathematics, and Natural Sciences tests (target values: `porc_ACERT_lp`, `porc_ACERT_MAT`, and  `porc_ACERT_CIE`) based on their socioeconomic data. Then, at this point, you have to **drop the columns `nivel_profic_lp`, `nivel_profic_mat`** and **`nivel_profic_cie`**."
      ]
    },
    {
      "cell_type": "markdown",
      "metadata": {
        "id": "5d495CmpCltx"
      },
      "source": [
        "### Activities\n",
        "\n",
        "1. (3.5 points) Perform Linear Regression. You should implement your solution and compare it with ```sklearn.linear_model.SGDRegressor``` (linear model fitted by minimizing a regularized empirical loss with SGD, http://scikit-learn.org). Keep in mind that friends don't let friends use testing data for training :-)\n",
        "\n",
        "Note: Before we start an ML project, we always conduct a brief exploratory analysis :D \n",
        "\n",
        "Some factors to consider: Are there any outliers? Are there missing values? How will you handle categorical variables? Are there any features with low correlation with the target variables? What happens if you drop them?\n",
        "\n",
        "\n"
      ]
    },
    {
      "cell_type": "markdown",
      "metadata": {},
      "source": [
        "---\n",
        "Step 1: Load data and check it"
      ]
    },
    {
      "cell_type": "code",
      "execution_count": 5,
      "metadata": {
        "colab": {
          "base_uri": "https://localhost:8080/"
        },
        "id": "3y0QxxH1KgE1",
        "outputId": "c80087fa-d4a6-4cfb-dbb8-e0ff167ae8f2"
      },
      "outputs": [
        {
          "name": "stderr",
          "output_type": "stream",
          "text": [
            "e:\\anaconda\\lib\\site-packages\\IPython\\core\\interactiveshell.py:3165: DtypeWarning: Columns (78) have mixed types.Specify dtype option on import or set low_memory=False.\n",
            "  has_raised = await self.run_ast_nodes(code_ast.body, cell_name,\n"
          ]
        }
      ],
      "source": [
        "# TODO: Load and preprocess your dataset.\n",
        "\n",
        "import numpy as np\n",
        "import pandas as pd\n",
        "import matplotlib.pyplot as plt\n",
        "import seaborn as sns\n",
        "%matplotlib inline\n",
        "\n",
        "df = pd.read_csv(\"SARESP_train.csv\")\n"
      ]
    },
    {
      "cell_type": "code",
      "execution_count": 3,
      "metadata": {
        "colab": {
          "base_uri": "https://localhost:8080/",
          "height": 589
        },
        "id": "DAADl99uoJp1",
        "outputId": "aecc2d5c-d89c-4b7f-c957-cfe195d94a0d"
      },
      "outputs": [
        {
          "data": {
            "text/html": [
              "<div>\n",
              "<style scoped>\n",
              "    .dataframe tbody tr th:only-of-type {\n",
              "        vertical-align: middle;\n",
              "    }\n",
              "\n",
              "    .dataframe tbody tr th {\n",
              "        vertical-align: top;\n",
              "    }\n",
              "\n",
              "    .dataframe thead th {\n",
              "        text-align: right;\n",
              "    }\n",
              "</style>\n",
              "<table border=\"1\" class=\"dataframe\">\n",
              "  <thead>\n",
              "    <tr style=\"text-align: right;\">\n",
              "      <th></th>\n",
              "      <th>CD_ALUNO</th>\n",
              "      <th>NOMESC</th>\n",
              "      <th>Q1</th>\n",
              "      <th>Q2</th>\n",
              "      <th>Q3</th>\n",
              "      <th>Q4</th>\n",
              "      <th>Q5</th>\n",
              "      <th>Q6</th>\n",
              "      <th>Q7</th>\n",
              "      <th>Q8</th>\n",
              "      <th>...</th>\n",
              "      <th>NEC_ESP_4</th>\n",
              "      <th>NEC_ESP_5</th>\n",
              "      <th>Tipo_PROVA</th>\n",
              "      <th>Tem_Nec</th>\n",
              "      <th>porc_ACERT_lp</th>\n",
              "      <th>porc_ACERT_MAT</th>\n",
              "      <th>porc_ACERT_CIE</th>\n",
              "      <th>nivel_profic_lp</th>\n",
              "      <th>nivel_profic_mat</th>\n",
              "      <th>nivel_profic_cie</th>\n",
              "    </tr>\n",
              "  </thead>\n",
              "  <tbody>\n",
              "    <tr>\n",
              "      <th>0</th>\n",
              "      <td>26270013</td>\n",
              "      <td>JULIO FORTES</td>\n",
              "      <td>B</td>\n",
              "      <td>E</td>\n",
              "      <td>E</td>\n",
              "      <td>E</td>\n",
              "      <td>E</td>\n",
              "      <td>E</td>\n",
              "      <td>E</td>\n",
              "      <td>E</td>\n",
              "      <td>...</td>\n",
              "      <td>NaN</td>\n",
              "      <td>NaN</td>\n",
              "      <td>C</td>\n",
              "      <td>0</td>\n",
              "      <td>41.7</td>\n",
              "      <td>20.8</td>\n",
              "      <td>20.8</td>\n",
              "      <td>Abaixo do Básico</td>\n",
              "      <td>Abaixo do Básico</td>\n",
              "      <td>Abaixo do Básico</td>\n",
              "    </tr>\n",
              "    <tr>\n",
              "      <th>1</th>\n",
              "      <td>30756614</td>\n",
              "      <td>MESSIAS FREIRE PROFESSOR</td>\n",
              "      <td>B</td>\n",
              "      <td>D</td>\n",
              "      <td>E</td>\n",
              "      <td>C</td>\n",
              "      <td>E</td>\n",
              "      <td>E</td>\n",
              "      <td>E</td>\n",
              "      <td>E</td>\n",
              "      <td>...</td>\n",
              "      <td>NaN</td>\n",
              "      <td>NaN</td>\n",
              "      <td>C</td>\n",
              "      <td>0</td>\n",
              "      <td>83.3</td>\n",
              "      <td>100.0</td>\n",
              "      <td>66.7</td>\n",
              "      <td>Adequado</td>\n",
              "      <td>Avançado</td>\n",
              "      <td>Adequado</td>\n",
              "    </tr>\n",
              "    <tr>\n",
              "      <th>2</th>\n",
              "      <td>26014872</td>\n",
              "      <td>JOSE CONTI</td>\n",
              "      <td>B</td>\n",
              "      <td>E</td>\n",
              "      <td>B</td>\n",
              "      <td>D</td>\n",
              "      <td>E</td>\n",
              "      <td>B</td>\n",
              "      <td>D</td>\n",
              "      <td>C</td>\n",
              "      <td>...</td>\n",
              "      <td>NaN</td>\n",
              "      <td>NaN</td>\n",
              "      <td>C</td>\n",
              "      <td>0</td>\n",
              "      <td>58.3</td>\n",
              "      <td>37.5</td>\n",
              "      <td>54.2</td>\n",
              "      <td>Básico</td>\n",
              "      <td>Básico</td>\n",
              "      <td>Básico</td>\n",
              "    </tr>\n",
              "    <tr>\n",
              "      <th>3</th>\n",
              "      <td>25739025</td>\n",
              "      <td>NAPOLEAO DE CARVALHO FREIRE PROFESSOR</td>\n",
              "      <td>B</td>\n",
              "      <td>D</td>\n",
              "      <td>E</td>\n",
              "      <td>D</td>\n",
              "      <td>C</td>\n",
              "      <td>E</td>\n",
              "      <td>D</td>\n",
              "      <td>D</td>\n",
              "      <td>...</td>\n",
              "      <td>NaN</td>\n",
              "      <td>NaN</td>\n",
              "      <td>C</td>\n",
              "      <td>0</td>\n",
              "      <td>29.2</td>\n",
              "      <td>29.2</td>\n",
              "      <td>16.7</td>\n",
              "      <td>Abaixo do Básico</td>\n",
              "      <td>Abaixo do Básico</td>\n",
              "      <td>Abaixo do Básico</td>\n",
              "    </tr>\n",
              "    <tr>\n",
              "      <th>4</th>\n",
              "      <td>27363009</td>\n",
              "      <td>RESIDENCIAL BORDON</td>\n",
              "      <td>B</td>\n",
              "      <td>D</td>\n",
              "      <td>E</td>\n",
              "      <td>E</td>\n",
              "      <td>E</td>\n",
              "      <td>E</td>\n",
              "      <td>E</td>\n",
              "      <td>C</td>\n",
              "      <td>...</td>\n",
              "      <td>NaN</td>\n",
              "      <td>NaN</td>\n",
              "      <td>C</td>\n",
              "      <td>0</td>\n",
              "      <td>79.2</td>\n",
              "      <td>41.7</td>\n",
              "      <td>50.0</td>\n",
              "      <td>Adequado</td>\n",
              "      <td>Abaixo do Básico</td>\n",
              "      <td>Básico</td>\n",
              "    </tr>\n",
              "    <tr>\n",
              "      <th>...</th>\n",
              "      <td>...</td>\n",
              "      <td>...</td>\n",
              "      <td>...</td>\n",
              "      <td>...</td>\n",
              "      <td>...</td>\n",
              "      <td>...</td>\n",
              "      <td>...</td>\n",
              "      <td>...</td>\n",
              "      <td>...</td>\n",
              "      <td>...</td>\n",
              "      <td>...</td>\n",
              "      <td>...</td>\n",
              "      <td>...</td>\n",
              "      <td>...</td>\n",
              "      <td>...</td>\n",
              "      <td>...</td>\n",
              "      <td>...</td>\n",
              "      <td>...</td>\n",
              "      <td>...</td>\n",
              "      <td>...</td>\n",
              "      <td>...</td>\n",
              "    </tr>\n",
              "    <tr>\n",
              "      <th>120591</th>\n",
              "      <td>28799794</td>\n",
              "      <td>ENNIO CHIESA PROFESSOR</td>\n",
              "      <td>A</td>\n",
              "      <td>E</td>\n",
              "      <td>E</td>\n",
              "      <td>E</td>\n",
              "      <td>E</td>\n",
              "      <td>E</td>\n",
              "      <td>E</td>\n",
              "      <td>E</td>\n",
              "      <td>...</td>\n",
              "      <td>NaN</td>\n",
              "      <td>NaN</td>\n",
              "      <td>C</td>\n",
              "      <td>0</td>\n",
              "      <td>79.2</td>\n",
              "      <td>66.7</td>\n",
              "      <td>83.3</td>\n",
              "      <td>Adequado</td>\n",
              "      <td>Básico</td>\n",
              "      <td>Adequado</td>\n",
              "    </tr>\n",
              "    <tr>\n",
              "      <th>120592</th>\n",
              "      <td>27825068</td>\n",
              "      <td>HELIO HELENE</td>\n",
              "      <td>B</td>\n",
              "      <td>D</td>\n",
              "      <td>D</td>\n",
              "      <td>D</td>\n",
              "      <td>D</td>\n",
              "      <td>D</td>\n",
              "      <td>D</td>\n",
              "      <td>D</td>\n",
              "      <td>...</td>\n",
              "      <td>NaN</td>\n",
              "      <td>NaN</td>\n",
              "      <td>C</td>\n",
              "      <td>0</td>\n",
              "      <td>37.5</td>\n",
              "      <td>25.0</td>\n",
              "      <td>16.7</td>\n",
              "      <td>Abaixo do Básico</td>\n",
              "      <td>Abaixo do Básico</td>\n",
              "      <td>Abaixo do Básico</td>\n",
              "    </tr>\n",
              "    <tr>\n",
              "      <th>120593</th>\n",
              "      <td>23873470</td>\n",
              "      <td>ALBERTO SANTOS DUMONT</td>\n",
              "      <td>A</td>\n",
              "      <td>E</td>\n",
              "      <td>E</td>\n",
              "      <td>E</td>\n",
              "      <td>E</td>\n",
              "      <td>E</td>\n",
              "      <td>D</td>\n",
              "      <td>D</td>\n",
              "      <td>...</td>\n",
              "      <td>NaN</td>\n",
              "      <td>NaN</td>\n",
              "      <td>C</td>\n",
              "      <td>0</td>\n",
              "      <td>50.0</td>\n",
              "      <td>37.5</td>\n",
              "      <td>41.7</td>\n",
              "      <td>Básico</td>\n",
              "      <td>Abaixo do Básico</td>\n",
              "      <td>Abaixo do Básico</td>\n",
              "    </tr>\n",
              "    <tr>\n",
              "      <th>120594</th>\n",
              "      <td>31376275</td>\n",
              "      <td>FRANCISCO BONFIM</td>\n",
              "      <td>B</td>\n",
              "      <td>E</td>\n",
              "      <td>C</td>\n",
              "      <td>C</td>\n",
              "      <td>D</td>\n",
              "      <td>B</td>\n",
              "      <td>B</td>\n",
              "      <td>A</td>\n",
              "      <td>...</td>\n",
              "      <td>NaN</td>\n",
              "      <td>NaN</td>\n",
              "      <td>C</td>\n",
              "      <td>1</td>\n",
              "      <td>45.8</td>\n",
              "      <td>70.8</td>\n",
              "      <td>54.2</td>\n",
              "      <td>Abaixo do Básico</td>\n",
              "      <td>Básico</td>\n",
              "      <td>Abaixo do Básico</td>\n",
              "    </tr>\n",
              "    <tr>\n",
              "      <th>120595</th>\n",
              "      <td>28109335</td>\n",
              "      <td>MAGDALENA SANSEVERINO GROSSO PROFESSORA</td>\n",
              "      <td>A</td>\n",
              "      <td>A</td>\n",
              "      <td>A</td>\n",
              "      <td>A</td>\n",
              "      <td>A</td>\n",
              "      <td>A</td>\n",
              "      <td>A</td>\n",
              "      <td>A</td>\n",
              "      <td>...</td>\n",
              "      <td>NaN</td>\n",
              "      <td>NaN</td>\n",
              "      <td>C</td>\n",
              "      <td>1</td>\n",
              "      <td>37.5</td>\n",
              "      <td>16.7</td>\n",
              "      <td>16.7</td>\n",
              "      <td>Abaixo do Básico</td>\n",
              "      <td>Abaixo do Básico</td>\n",
              "      <td>Abaixo do Básico</td>\n",
              "    </tr>\n",
              "  </tbody>\n",
              "</table>\n",
              "<p>120596 rows × 88 columns</p>\n",
              "</div>"
            ],
            "text/plain": [
              "        CD_ALUNO                                   NOMESC Q1 Q2 Q3 Q4 Q5 Q6  \\\n",
              "0       26270013                             JULIO FORTES  B  E  E  E  E  E   \n",
              "1       30756614                 MESSIAS FREIRE PROFESSOR  B  D  E  C  E  E   \n",
              "2       26014872                               JOSE CONTI  B  E  B  D  E  B   \n",
              "3       25739025    NAPOLEAO DE CARVALHO FREIRE PROFESSOR  B  D  E  D  C  E   \n",
              "4       27363009                       RESIDENCIAL BORDON  B  D  E  E  E  E   \n",
              "...          ...                                      ... .. .. .. .. .. ..   \n",
              "120591  28799794                   ENNIO CHIESA PROFESSOR  A  E  E  E  E  E   \n",
              "120592  27825068                             HELIO HELENE  B  D  D  D  D  D   \n",
              "120593  23873470                    ALBERTO SANTOS DUMONT  A  E  E  E  E  E   \n",
              "120594  31376275                         FRANCISCO BONFIM  B  E  C  C  D  B   \n",
              "120595  28109335  MAGDALENA SANSEVERINO GROSSO PROFESSORA  A  A  A  A  A  A   \n",
              "\n",
              "       Q7 Q8  ... NEC_ESP_4 NEC_ESP_5 Tipo_PROVA Tem_Nec porc_ACERT_lp  \\\n",
              "0       E  E  ...       NaN       NaN          C       0          41.7   \n",
              "1       E  E  ...       NaN       NaN          C       0          83.3   \n",
              "2       D  C  ...       NaN       NaN          C       0          58.3   \n",
              "3       D  D  ...       NaN       NaN          C       0          29.2   \n",
              "4       E  C  ...       NaN       NaN          C       0          79.2   \n",
              "...    .. ..  ...       ...       ...        ...     ...           ...   \n",
              "120591  E  E  ...       NaN       NaN          C       0          79.2   \n",
              "120592  D  D  ...       NaN       NaN          C       0          37.5   \n",
              "120593  D  D  ...       NaN       NaN          C       0          50.0   \n",
              "120594  B  A  ...       NaN       NaN          C       1          45.8   \n",
              "120595  A  A  ...       NaN       NaN          C       1          37.5   \n",
              "\n",
              "       porc_ACERT_MAT porc_ACERT_CIE   nivel_profic_lp  nivel_profic_mat  \\\n",
              "0                20.8           20.8  Abaixo do Básico  Abaixo do Básico   \n",
              "1               100.0           66.7          Adequado          Avançado   \n",
              "2                37.5           54.2            Básico            Básico   \n",
              "3                29.2           16.7  Abaixo do Básico  Abaixo do Básico   \n",
              "4                41.7           50.0          Adequado  Abaixo do Básico   \n",
              "...               ...            ...               ...               ...   \n",
              "120591           66.7           83.3          Adequado            Básico   \n",
              "120592           25.0           16.7  Abaixo do Básico  Abaixo do Básico   \n",
              "120593           37.5           41.7            Básico  Abaixo do Básico   \n",
              "120594           70.8           54.2  Abaixo do Básico            Básico   \n",
              "120595           16.7           16.7  Abaixo do Básico  Abaixo do Básico   \n",
              "\n",
              "        nivel_profic_cie  \n",
              "0       Abaixo do Básico  \n",
              "1               Adequado  \n",
              "2                 Básico  \n",
              "3       Abaixo do Básico  \n",
              "4                 Básico  \n",
              "...                  ...  \n",
              "120591          Adequado  \n",
              "120592  Abaixo do Básico  \n",
              "120593  Abaixo do Básico  \n",
              "120594  Abaixo do Básico  \n",
              "120595  Abaixo do Básico  \n",
              "\n",
              "[120596 rows x 88 columns]"
            ]
          },
          "execution_count": 3,
          "metadata": {},
          "output_type": "execute_result"
        }
      ],
      "source": [
        "df"
      ]
    },
    {
      "cell_type": "code",
      "execution_count": 5,
      "metadata": {
        "colab": {
          "base_uri": "https://localhost:8080/"
        },
        "id": "ePztAuVOoMe1",
        "outputId": "bbde7cd6-825a-4234-ea16-40b77629606e"
      },
      "outputs": [
        {
          "data": {
            "text/html": [
              "<div>\n",
              "<style scoped>\n",
              "    .dataframe tbody tr th:only-of-type {\n",
              "        vertical-align: middle;\n",
              "    }\n",
              "\n",
              "    .dataframe tbody tr th {\n",
              "        vertical-align: top;\n",
              "    }\n",
              "\n",
              "    .dataframe thead th {\n",
              "        text-align: right;\n",
              "    }\n",
              "</style>\n",
              "<table border=\"1\" class=\"dataframe\">\n",
              "  <thead>\n",
              "    <tr style=\"text-align: right;\">\n",
              "      <th></th>\n",
              "      <th>CD_ALUNO</th>\n",
              "      <th>CODMUN</th>\n",
              "      <th>CODESC</th>\n",
              "      <th>NEC_ESP_5</th>\n",
              "      <th>Tem_Nec</th>\n",
              "      <th>porc_ACERT_lp</th>\n",
              "      <th>porc_ACERT_MAT</th>\n",
              "      <th>porc_ACERT_CIE</th>\n",
              "    </tr>\n",
              "  </thead>\n",
              "  <tbody>\n",
              "    <tr>\n",
              "      <th>count</th>\n",
              "      <td>1.205960e+05</td>\n",
              "      <td>120596.000000</td>\n",
              "      <td>120596.000000</td>\n",
              "      <td>0.0</td>\n",
              "      <td>120596.000000</td>\n",
              "      <td>120596.000000</td>\n",
              "      <td>120596.000000</td>\n",
              "      <td>120596.000000</td>\n",
              "    </tr>\n",
              "    <tr>\n",
              "      <th>mean</th>\n",
              "      <td>2.734087e+07</td>\n",
              "      <td>364.349075</td>\n",
              "      <td>279415.870510</td>\n",
              "      <td>NaN</td>\n",
              "      <td>0.019818</td>\n",
              "      <td>60.151213</td>\n",
              "      <td>52.225829</td>\n",
              "      <td>56.928877</td>\n",
              "    </tr>\n",
              "    <tr>\n",
              "      <th>std</th>\n",
              "      <td>2.946464e+06</td>\n",
              "      <td>220.098318</td>\n",
              "      <td>394245.824543</td>\n",
              "      <td>NaN</td>\n",
              "      <td>0.139376</td>\n",
              "      <td>21.730825</td>\n",
              "      <td>21.262466</td>\n",
              "      <td>18.441383</td>\n",
              "    </tr>\n",
              "    <tr>\n",
              "      <th>min</th>\n",
              "      <td>1.739548e+07</td>\n",
              "      <td>100.000000</td>\n",
              "      <td>24.000000</td>\n",
              "      <td>NaN</td>\n",
              "      <td>0.000000</td>\n",
              "      <td>0.000000</td>\n",
              "      <td>0.000000</td>\n",
              "      <td>0.000000</td>\n",
              "    </tr>\n",
              "    <tr>\n",
              "      <th>25%</th>\n",
              "      <td>2.529711e+07</td>\n",
              "      <td>100.000000</td>\n",
              "      <td>15568.000000</td>\n",
              "      <td>NaN</td>\n",
              "      <td>0.000000</td>\n",
              "      <td>41.700000</td>\n",
              "      <td>37.500000</td>\n",
              "      <td>45.800000</td>\n",
              "    </tr>\n",
              "    <tr>\n",
              "      <th>50%</th>\n",
              "      <td>2.712102e+07</td>\n",
              "      <td>336.000000</td>\n",
              "      <td>35178.000000</td>\n",
              "      <td>NaN</td>\n",
              "      <td>0.000000</td>\n",
              "      <td>62.500000</td>\n",
              "      <td>50.000000</td>\n",
              "      <td>58.300000</td>\n",
              "    </tr>\n",
              "    <tr>\n",
              "      <th>75%</th>\n",
              "      <td>2.910558e+07</td>\n",
              "      <td>582.000000</td>\n",
              "      <td>901573.000000</td>\n",
              "      <td>NaN</td>\n",
              "      <td>0.000000</td>\n",
              "      <td>79.200000</td>\n",
              "      <td>66.700000</td>\n",
              "      <td>70.800000</td>\n",
              "    </tr>\n",
              "    <tr>\n",
              "      <th>max</th>\n",
              "      <td>3.796186e+07</td>\n",
              "      <td>793.000000</td>\n",
              "      <td>926103.000000</td>\n",
              "      <td>NaN</td>\n",
              "      <td>1.000000</td>\n",
              "      <td>100.000000</td>\n",
              "      <td>100.000000</td>\n",
              "      <td>100.000000</td>\n",
              "    </tr>\n",
              "  </tbody>\n",
              "</table>\n",
              "</div>"
            ],
            "text/plain": [
              "           CD_ALUNO         CODMUN         CODESC  NEC_ESP_5        Tem_Nec  \\\n",
              "count  1.205960e+05  120596.000000  120596.000000        0.0  120596.000000   \n",
              "mean   2.734087e+07     364.349075  279415.870510        NaN       0.019818   \n",
              "std    2.946464e+06     220.098318  394245.824543        NaN       0.139376   \n",
              "min    1.739548e+07     100.000000      24.000000        NaN       0.000000   \n",
              "25%    2.529711e+07     100.000000   15568.000000        NaN       0.000000   \n",
              "50%    2.712102e+07     336.000000   35178.000000        NaN       0.000000   \n",
              "75%    2.910558e+07     582.000000  901573.000000        NaN       0.000000   \n",
              "max    3.796186e+07     793.000000  926103.000000        NaN       1.000000   \n",
              "\n",
              "       porc_ACERT_lp  porc_ACERT_MAT  porc_ACERT_CIE  \n",
              "count  120596.000000   120596.000000   120596.000000  \n",
              "mean       60.151213       52.225829       56.928877  \n",
              "std        21.730825       21.262466       18.441383  \n",
              "min         0.000000        0.000000        0.000000  \n",
              "25%        41.700000       37.500000       45.800000  \n",
              "50%        62.500000       50.000000       58.300000  \n",
              "75%        79.200000       66.700000       70.800000  \n",
              "max       100.000000      100.000000      100.000000  "
            ]
          },
          "execution_count": 5,
          "metadata": {},
          "output_type": "execute_result"
        }
      ],
      "source": [
        "df.describe()\n"
      ]
    },
    {
      "cell_type": "code",
      "execution_count": 6,
      "metadata": {
        "colab": {
          "base_uri": "https://localhost:8080/"
        },
        "id": "OvxhHEeSpaW0",
        "outputId": "7820214f-75cb-4153-bd20-19b11ec475d0"
      },
      "outputs": [
        {
          "data": {
            "text/plain": [
              "Index(['CD_ALUNO', 'NOMESC', 'Q1', 'Q2', 'Q3', 'Q4', 'Q5', 'Q6', 'Q7', 'Q8',\n",
              "       'Q9', 'Q10', 'Q11', 'Q12', 'Q13', 'Q14', 'Q15', 'Q16', 'Q17', 'Q18',\n",
              "       'Q19', 'Q20', 'Q21', 'Q22', 'Q23', 'Q24', 'Q25', 'Q26', 'Q27', 'Q28',\n",
              "       'Q29', 'Q30', 'Q31', 'Q32', 'Q33', 'Q34', 'Q35', 'Q36', 'Q37', 'Q38',\n",
              "       'Q39', 'Q40', 'Q41', 'Q42', 'Q43', 'Q44', 'Q45', 'Q46', 'Q47', 'Q48',\n",
              "       'Q49', 'Q50', 'Q51', 'Q52', 'Q53', 'Q54', 'Q55', 'Q56', 'Q57', 'Q58',\n",
              "       'Q59', 'Q60', 'Q61', 'Q62', 'Q63', 'RegiaoMetropolitana', 'DE',\n",
              "       'CODMUN', 'MUN', 'CODESC', 'SERIE_ANO', 'TURMA', 'TP_SEXO',\n",
              "       'DT_NASCIMENTO', 'PERIODO', 'NEC_ESP_1', 'NEC_ESP_2', 'NEC_ESP_3',\n",
              "       'NEC_ESP_4', 'NEC_ESP_5', 'Tipo_PROVA', 'Tem_Nec', 'porc_ACERT_lp',\n",
              "       'porc_ACERT_MAT', 'porc_ACERT_CIE', 'nivel_profic_lp',\n",
              "       'nivel_profic_mat', 'nivel_profic_cie'],\n",
              "      dtype='object')"
            ]
          },
          "execution_count": 6,
          "metadata": {},
          "output_type": "execute_result"
        }
      ],
      "source": [
        "df.columns\n"
      ]
    },
    {
      "cell_type": "markdown",
      "metadata": {},
      "source": [
        "---\n",
        "Step 2: Check NaNs in the dataframe"
      ]
    },
    {
      "cell_type": "code",
      "execution_count": 7,
      "metadata": {
        "colab": {
          "base_uri": "https://localhost:8080/"
        },
        "id": "IUu_-HXQs_tb",
        "outputId": "9578fccd-4ac9-4664-a6b4-021b02a17856"
      },
      "outputs": [
        {
          "data": {
            "text/plain": [
              "NEC_ESP_5           120596\n",
              "NEC_ESP_4           120595\n",
              "NEC_ESP_3           120520\n",
              "NEC_ESP_2           120489\n",
              "NEC_ESP_1           118206\n",
              "                     ...  \n",
              "Q26                      0\n",
              "Q25                      0\n",
              "Q24                      0\n",
              "Q23                      0\n",
              "nivel_profic_cie         0\n",
              "Length: 88, dtype: int64"
            ]
          },
          "execution_count": 7,
          "metadata": {},
          "output_type": "execute_result"
        }
      ],
      "source": [
        "df.isna().sum(axis=0).sort_values(ascending=False)\n"
      ]
    },
    {
      "cell_type": "markdown",
      "metadata": {},
      "source": [
        "Since there are a lot of NaN's in the NEC_ESP columns, they will be dropped"
      ]
    },
    {
      "cell_type": "code",
      "execution_count": 6,
      "metadata": {},
      "outputs": [
        {
          "data": {
            "text/plain": [
              "Index(['CD_ALUNO', 'NOMESC', 'Q1', 'Q2', 'Q3', 'Q4', 'Q5', 'Q6', 'Q7', 'Q8',\n",
              "       'Q9', 'Q10', 'Q11', 'Q12', 'Q13', 'Q14', 'Q15', 'Q16', 'Q17', 'Q18',\n",
              "       'Q19', 'Q20', 'Q21', 'Q22', 'Q23', 'Q24', 'Q25', 'Q26', 'Q27', 'Q28',\n",
              "       'Q29', 'Q30', 'Q31', 'Q32', 'Q33', 'Q34', 'Q35', 'Q36', 'Q37', 'Q38',\n",
              "       'Q39', 'Q40', 'Q41', 'Q42', 'Q43', 'Q44', 'Q45', 'Q46', 'Q47', 'Q48',\n",
              "       'Q49', 'Q50', 'Q51', 'Q52', 'Q53', 'Q54', 'Q55', 'Q56', 'Q57', 'Q58',\n",
              "       'Q59', 'Q60', 'Q61', 'Q62', 'Q63', 'RegiaoMetropolitana', 'DE',\n",
              "       'CODMUN', 'MUN', 'CODESC', 'SERIE_ANO', 'TURMA', 'TP_SEXO',\n",
              "       'DT_NASCIMENTO', 'PERIODO', 'Tipo_PROVA', 'Tem_Nec', 'porc_ACERT_lp',\n",
              "       'porc_ACERT_MAT', 'porc_ACERT_CIE', 'nivel_profic_lp',\n",
              "       'nivel_profic_mat', 'nivel_profic_cie'],\n",
              "      dtype='object')"
            ]
          },
          "execution_count": 6,
          "metadata": {},
          "output_type": "execute_result"
        }
      ],
      "source": [
        "def drop_nec_columns(df):\n",
        "    for i in range(1, 6):\n",
        "        df.drop(columns=[f'NEC_ESP_{i}'], inplace=True)\n",
        "drop_nec_columns(df)\n",
        "df.columns"
      ]
    },
    {
      "cell_type": "markdown",
      "metadata": {},
      "source": [
        "---\n",
        "Step 3: Transform data\n",
        "\n",
        "Based on the questions {Q0, .., Q63} and their meaning and possible values, it's needed to transform them into numerical data"
      ]
    },
    {
      "cell_type": "code",
      "execution_count": 7,
      "metadata": {},
      "outputs": [
        {
          "data": {
            "text/plain": [
              "Index(['CD_ALUNO', 'NOMESC', 'Q1', 'Q2', 'Q3', 'Q4', 'Q5', 'Q6', 'Q7', 'Q8',\n",
              "       'Q9', 'Q10', 'Q11', 'Q12', 'Q13', 'Q14', 'Q15', 'Q16', 'Q17', 'Q18',\n",
              "       'Q19', 'Q20', 'Q21', 'Q22', 'Q23', 'Q24', 'Q25', 'Q26', 'Q27', 'Q28',\n",
              "       'Q29', 'Q30', 'Q31', 'Q32', 'Q33', 'Q34', 'Q35', 'Q36', 'Q37', 'Q38',\n",
              "       'Q39', 'Q40', 'Q41', 'Q42', 'Q43', 'Q44', 'Q45', 'Q46', 'Q47', 'Q48',\n",
              "       'Q49', 'Q50', 'Q51', 'Q52', 'Q53', 'Q54', 'Q55', 'Q56', 'Q57', 'Q58',\n",
              "       'Q59', 'Q60', 'Q61', 'Q62', 'RegiaoMetropolitana', 'DE', 'CODMUN',\n",
              "       'MUN', 'CODESC', 'SERIE_ANO', 'TURMA', 'TP_SEXO', 'DT_NASCIMENTO',\n",
              "       'PERIODO', 'Tipo_PROVA', 'Tem_Nec', 'porc_ACERT_lp', 'porc_ACERT_MAT',\n",
              "       'porc_ACERT_CIE', 'nivel_profic_lp', 'nivel_profic_mat',\n",
              "       'nivel_profic_cie', 'Q63_A', 'Q63_B', 'Q63_C', 'Q63_D'],\n",
              "      dtype='object')"
            ]
          },
          "execution_count": 7,
          "metadata": {},
          "output_type": "execute_result"
        }
      ],
      "source": [
        "\n",
        "def question_map(df):\n",
        "\n",
        "    ordinal_map = {'A': 1, 'B': 2, 'C': 3, 'D': 4, 'E': 5}\n",
        "    inversed_ordinal_map = {'A': 5, 'B': 4, 'C': 3, 'D': 2, 'E': 1}\n",
        "    dont_know_ordinal_map = {'A': 1, 'B': 2, 'C': 3, 'D': 1, 'E': 2}\n",
        "    inversed_dont_know_ordinal_map = {'A': 4, 'B': 3, 'C': 2, 'D': 1, 'E': 2} #applied penalty for don't know anwser\n",
        "    home_ordinal_map = {'A': 0, 'B': 1, 'C': 2, 'D': 3, 'E': 4}\n",
        "    miss_someone_map = {'A': 1, 'B': 1, 'C': 1, 'D': 0}\n",
        "    someone_helped_map = {'A': 2, 'B': 1, 'C': 1, 'D': 0}\n",
        "\n",
        "    for q in range(1, 64):\n",
        "        if (q <= 8 or (q > 26 and q <= 33) or (q > 33 and q <= 41) or (q > 56 and q <= 58) or q == 60): #ordinal map\n",
        "            df.replace({f'Q{q}': ordinal_map}, inplace=True)\n",
        "        elif ((q > 8 and q <= 26) or q == 59):\n",
        "            df.replace({f'Q{q}': inversed_ordinal_map}, inplace=True) \n",
        "        elif (q == 42):\n",
        "            df.replace({f'Q{q}': inversed_dont_know_ordinal_map}, inplace=True)\n",
        "        elif (q > 42 and q <= 49):\n",
        "            df.replace({f'Q{q}': dont_know_ordinal_map}, inplace=True)\n",
        "        elif (q > 49 and q <= 56):\n",
        "            df.replace({f'Q{q}': home_ordinal_map}, inplace=True)\n",
        "        elif (q == 61):\n",
        "            df.replace({f'Q{q}': miss_someone_map}, inplace=True)\n",
        "        elif (q == 62):\n",
        "            df.replace({f'Q{q}': someone_helped_map}, inplace=True)\n",
        "        else: # 63 question\n",
        "            df = pd.concat([df, pd.get_dummies(df['Q63'], prefix='Q63')], axis=1)\n",
        "            df.drop(columns=[ 'Q63'], inplace=True)\n",
        "    \n",
        "    return df\n",
        "\n",
        "df = question_map(df)\n",
        "df.columns\n",
        "\n"
      ]
    },
    {
      "cell_type": "markdown",
      "metadata": {},
      "source": [
        "\n",
        "Considering there are many columns related to geographical columns, { 'RegiaoMetropolitana', 'DE', 'CODMUN', 'MUN', 'CODESC' }, we will select only one column related to this \n",
        "matter, because there are no indicator related to social geographical like HDI to correlate to them. Also, if we one hot encode each of these columns there will be a huge increase in dimensionality. So, we will choose the 'Regiao metropolitana' column."
      ]
    },
    {
      "cell_type": "code",
      "execution_count": 8,
      "metadata": {},
      "outputs": [
        {
          "data": {
            "text/plain": [
              "RegiaoMetropolitana\n",
              "Interior                                                   39211\n",
              "Região Metropolitana da Baixada Santista                    7688\n",
              "Região Metropolitana de Campinas                            3465\n",
              "Região Metropolitana de Ribeirão Preto                      6712\n",
              "Região Metropolitana de Sorocaba                            6736\n",
              "Região Metropolitana de São Paulo                          47437\n",
              "Região Metropolitana do Vale do Paraíba e Litoral Norte     9347\n",
              "Name: RegiaoMetropolitana, dtype: int64"
            ]
          },
          "execution_count": 8,
          "metadata": {},
          "output_type": "execute_result"
        }
      ],
      "source": [
        "df['RegiaoMetropolitana'].groupby(df['RegiaoMetropolitana']).count()"
      ]
    },
    {
      "cell_type": "code",
      "execution_count": 9,
      "metadata": {},
      "outputs": [],
      "source": [
        "def select_geo(df):\n",
        "    df = pd.concat([df, pd.get_dummies(df['RegiaoMetropolitana'], prefix='RegiaoMetropolitana')], axis=1)\n",
        "    df.drop(columns=['NOMESC', 'MUN', 'CODESC', 'CODMUN', 'RegiaoMetropolitana',  'DE'], inplace=True)\n",
        "    return df\n",
        "df = select_geo(df)"
      ]
    },
    {
      "cell_type": "code",
      "execution_count": 10,
      "metadata": {},
      "outputs": [
        {
          "data": {
            "text/plain": [
              "Index(['CD_ALUNO', 'Q1', 'Q2', 'Q3', 'Q4', 'Q5', 'Q6', 'Q7', 'Q8', 'Q9', 'Q10',\n",
              "       'Q11', 'Q12', 'Q13', 'Q14', 'Q15', 'Q16', 'Q17', 'Q18', 'Q19', 'Q20',\n",
              "       'Q21', 'Q22', 'Q23', 'Q24', 'Q25', 'Q26', 'Q27', 'Q28', 'Q29', 'Q30',\n",
              "       'Q31', 'Q32', 'Q33', 'Q34', 'Q35', 'Q36', 'Q37', 'Q38', 'Q39', 'Q40',\n",
              "       'Q41', 'Q42', 'Q43', 'Q44', 'Q45', 'Q46', 'Q47', 'Q48', 'Q49', 'Q50',\n",
              "       'Q51', 'Q52', 'Q53', 'Q54', 'Q55', 'Q56', 'Q57', 'Q58', 'Q59', 'Q60',\n",
              "       'Q61', 'Q62', 'Tem_Nec', 'porc_ACERT_lp', 'porc_ACERT_MAT',\n",
              "       'porc_ACERT_CIE', 'Q63_A', 'Q63_B', 'Q63_C', 'Q63_D',\n",
              "       'RegiaoMetropolitana_Interior',\n",
              "       'RegiaoMetropolitana_Região Metropolitana da Baixada Santista',\n",
              "       'RegiaoMetropolitana_Região Metropolitana de Campinas',\n",
              "       'RegiaoMetropolitana_Região Metropolitana de Ribeirão Preto',\n",
              "       'RegiaoMetropolitana_Região Metropolitana de Sorocaba',\n",
              "       'RegiaoMetropolitana_Região Metropolitana de São Paulo',\n",
              "       'RegiaoMetropolitana_Região Metropolitana do Vale do Paraíba e Litoral Norte'],\n",
              "      dtype='object')"
            ]
          },
          "execution_count": 10,
          "metadata": {},
          "output_type": "execute_result"
        }
      ],
      "source": [
        "df._get_numeric_data().columns"
      ]
    },
    {
      "cell_type": "code",
      "execution_count": 11,
      "metadata": {},
      "outputs": [
        {
          "data": {
            "text/plain": [
              "['nivel_profic_mat',\n",
              " 'SERIE_ANO',\n",
              " 'DT_NASCIMENTO',\n",
              " 'nivel_profic_cie',\n",
              " 'nivel_profic_lp',\n",
              " 'PERIODO',\n",
              " 'Tipo_PROVA',\n",
              " 'TURMA',\n",
              " 'TP_SEXO']"
            ]
          },
          "execution_count": 11,
          "metadata": {},
          "output_type": "execute_result"
        }
      ],
      "source": [
        "def get_categorical_columns(df):\n",
        "    cols = df.columns\n",
        "\n",
        "    num_cols = df._get_numeric_data().columns\n",
        "\n",
        "    return list(set(cols) - set(num_cols))\n",
        "get_categorical_columns(df)"
      ]
    },
    {
      "cell_type": "markdown",
      "metadata": {},
      "source": [
        "Since birth date is not a numerical category, we turn it into age (idade column)"
      ]
    },
    {
      "cell_type": "code",
      "execution_count": 12,
      "metadata": {},
      "outputs": [
        {
          "data": {
            "text/plain": [
              "0         18\n",
              "1         12\n",
              "2         15\n",
              "3         18\n",
              "4         15\n",
              "          ..\n",
              "120591    16\n",
              "120592    13\n",
              "120593    19\n",
              "120594    12\n",
              "120595    17\n",
              "Name: idade, Length: 120596, dtype: int64"
            ]
          },
          "execution_count": 12,
          "metadata": {},
          "output_type": "execute_result"
        }
      ],
      "source": [
        "\n",
        "from datetime import datetime\n",
        "from datetime import date\n",
        "\n",
        "\n",
        "def calculate_age(born):\n",
        "    born = datetime.strptime(born, \"%m/%d/%Y\").date()\n",
        "    today = date.today()\n",
        "    return today.year - born.year - ((today.month, today.day) < (born.month, born.day))\n",
        "\n",
        "\n",
        "df['idade'] = df['DT_NASCIMENTO'].apply(calculate_age)\n",
        "df = df.drop(columns=['DT_NASCIMENTO'])\n",
        "df['idade']\n"
      ]
    },
    {
      "cell_type": "code",
      "execution_count": 13,
      "metadata": {},
      "outputs": [
        {
          "data": {
            "text/plain": [
              "<AxesSubplot:xlabel='idade'>"
            ]
          },
          "execution_count": 13,
          "metadata": {},
          "output_type": "execute_result"
        },
        {
          "data": {
            "image/png": "[encoded data removed]",
            "text/plain": [
              "<Figure size 432x288 with 1 Axes>"
            ]
          },
          "metadata": {
            "needs_background": "light"
          },
          "output_type": "display_data"
        }
      ],
      "source": [
        "df['idade'].groupby(df['idade']).count().plot(kind='bar')\n"
      ]
    },
    {
      "cell_type": "markdown",
      "metadata": {},
      "source": [
        "Mapping categorical features into numerical"
      ]
    },
    {
      "cell_type": "code",
      "execution_count": 14,
      "metadata": {},
      "outputs": [],
      "source": [
        "def sex_mapper(df):\n",
        "    sex_map = {'F': 0, 'M': 1}\n",
        "    df.replace({'TP_SEXO': sex_map}, inplace=True)\n",
        "    return df\n",
        "df = sex_mapper(df)\n"
      ]
    },
    {
      "cell_type": "markdown",
      "metadata": {},
      "source": [
        "Since more years of schooling may mean more knowledge, we will choose to make SERIE_ANO as ordinal as well."
      ]
    },
    {
      "cell_type": "code",
      "execution_count": 15,
      "metadata": {},
      "outputs": [
        {
          "data": {
            "text/plain": [
              "0         3\n",
              "1         1\n",
              "2         2\n",
              "3         3\n",
              "4         2\n",
              "         ..\n",
              "120591    2\n",
              "120592    1\n",
              "120593    3\n",
              "120594    1\n",
              "120595    2\n",
              "Name: SERIE_ANO, Length: 120596, dtype: int64"
            ]
          },
          "execution_count": 15,
          "metadata": {},
          "output_type": "execute_result"
        }
      ],
      "source": [
        "def school_year_mapper(df): \n",
        "    school_year_map = {'EM-3ª série': 3, '9º Ano EF': 2, '5º Ano EF': 1}\n",
        "    df.replace({'SERIE_ANO': school_year_map}, inplace=True)\n",
        "    return df\n",
        "df = school_year_mapper(df)\n",
        "df['SERIE_ANO']"
      ]
    },
    {
      "cell_type": "code",
      "execution_count": 16,
      "metadata": {},
      "outputs": [],
      "source": [
        "\"\"\"Drop column TURMA, since in large scale it is not relevant\"\"\"\n",
        "def drop_turma(df):\n",
        "    df = df.drop(columns=['TURMA'])\n",
        "    return df\n",
        "df = drop_turma(df)"
      ]
    },
    {
      "cell_type": "code",
      "execution_count": 17,
      "metadata": {},
      "outputs": [],
      "source": [
        "\"\"\"One hot encoding on the columns PERIODO, Tipo_PROVA\"\"\"\n",
        "def one_hot_encoding_(df):\n",
        "    df = pd.concat([df, pd.get_dummies(df['PERIODO'], prefix='PERIODO')], axis=1)\n",
        "    df = df.drop(columns=['PERIODO'])\n",
        "    df = pd.concat([df, pd.get_dummies(df['Tipo_PROVA'], prefix='Tipo_PROVA')], axis=1)\n",
        "    df = df.drop(columns=['Tipo_PROVA'])\n",
        "    return df\n",
        "df = one_hot_encoding_(df)\n"
      ]
    },
    {
      "cell_type": "code",
      "execution_count": 18,
      "metadata": {},
      "outputs": [
        {
          "data": {
            "text/plain": [
              "['nivel_profic_lp', 'nivel_profic_mat', 'nivel_profic_cie']"
            ]
          },
          "execution_count": 18,
          "metadata": {},
          "output_type": "execute_result"
        }
      ],
      "source": [
        "get_categorical_columns(df)"
      ]
    },
    {
      "cell_type": "code",
      "execution_count": 19,
      "metadata": {},
      "outputs": [
        {
          "name": "stdout",
          "output_type": "stream",
          "text": [
            "['Abaixo do Básico' 'Avançado' 'Básico' 'Adequado']\n",
            "['Abaixo do Básico' 'Adequado' 'Básico' 'Avançado']\n",
            "['Abaixo do Básico' 'Adequado' 'Básico' 'Avançado']\n"
          ]
        }
      ],
      "source": [
        "\"\"\"Get unique values of nivel_profic_mat\"\"\"\n",
        "print(df['nivel_profic_mat'].unique())\n",
        "print(df['nivel_profic_lp'].unique())\n",
        "print(df['nivel_profic_cie'].unique())\n"
      ]
    },
    {
      "cell_type": "code",
      "execution_count": 20,
      "metadata": {},
      "outputs": [
        {
          "data": {
            "text/plain": [
              "0         0\n",
              "1         3\n",
              "2         1\n",
              "3         0\n",
              "4         0\n",
              "         ..\n",
              "120591    1\n",
              "120592    0\n",
              "120593    0\n",
              "120594    1\n",
              "120595    0\n",
              "Name: nivel_profic_mat, Length: 120596, dtype: int64"
            ]
          },
          "execution_count": 20,
          "metadata": {},
          "output_type": "execute_result"
        }
      ],
      "source": [
        "def map_categorical_columns_for_log_reg(df):\n",
        "    \"\"\"Map the categorical columns to numerical values\"\"\"\n",
        "    map_for_log_reg = { 'Abaixo do Básico': 0, 'Adequado': 2, 'Básico': 1, 'Avançado': 3}\n",
        "    df.replace({'nivel_profic_mat': map_for_log_reg}, inplace=True)\n",
        "    df.replace({'nivel_profic_lp': map_for_log_reg}, inplace=True)\n",
        "    df.replace({'nivel_profic_cie': map_for_log_reg}, inplace=True)\n",
        "    return df\n",
        "map_categorical_columns_for_log_reg(df)\n",
        "df['nivel_profic_mat']"
      ]
    },
    {
      "cell_type": "code",
      "execution_count": 21,
      "metadata": {},
      "outputs": [
        {
          "data": {
            "text/plain": [
              "[]"
            ]
          },
          "execution_count": 21,
          "metadata": {},
          "output_type": "execute_result"
        }
      ],
      "source": [
        "get_categorical_columns(df)"
      ]
    },
    {
      "cell_type": "code",
      "execution_count": 22,
      "metadata": {},
      "outputs": [
        {
          "data": {
            "text/plain": [
              "pandas.core.frame.DataFrame"
            ]
          },
          "execution_count": 22,
          "metadata": {},
          "output_type": "execute_result"
        }
      ],
      "source": [
        "type(df)"
      ]
    },
    {
      "cell_type": "markdown",
      "metadata": {},
      "source": [
        "All the columns were rightly transformed"
      ]
    },
    {
      "cell_type": "markdown",
      "metadata": {},
      "source": [
        "---\n",
        "Step 4: With all the columns being numbers, we can start to perform numerical analysis such as correlation, etc"
      ]
    },
    {
      "cell_type": "code",
      "execution_count": 26,
      "metadata": {},
      "outputs": [
        {
          "data": {
            "text/html": [
              "<div>\n",
              "<style scoped>\n",
              "    .dataframe tbody tr th:only-of-type {\n",
              "        vertical-align: middle;\n",
              "    }\n",
              "\n",
              "    .dataframe tbody tr th {\n",
              "        vertical-align: top;\n",
              "    }\n",
              "\n",
              "    .dataframe thead th {\n",
              "        text-align: right;\n",
              "    }\n",
              "</style>\n",
              "<table border=\"1\" class=\"dataframe\">\n",
              "  <thead>\n",
              "    <tr style=\"text-align: right;\">\n",
              "      <th></th>\n",
              "      <th>CD_ALUNO</th>\n",
              "      <th>Q1</th>\n",
              "      <th>Q2</th>\n",
              "      <th>Q3</th>\n",
              "      <th>Q4</th>\n",
              "      <th>Q5</th>\n",
              "      <th>Q6</th>\n",
              "      <th>Q7</th>\n",
              "      <th>Q8</th>\n",
              "      <th>Q9</th>\n",
              "      <th>...</th>\n",
              "      <th>RegiaoMetropolitana_Região Metropolitana de Ribeirão Preto</th>\n",
              "      <th>RegiaoMetropolitana_Região Metropolitana de Sorocaba</th>\n",
              "      <th>RegiaoMetropolitana_Região Metropolitana de São Paulo</th>\n",
              "      <th>RegiaoMetropolitana_Região Metropolitana do Vale do Paraíba e Litoral Norte</th>\n",
              "      <th>idade</th>\n",
              "      <th>PERIODO_MANHÃ</th>\n",
              "      <th>PERIODO_NOITE</th>\n",
              "      <th>PERIODO_TARDE</th>\n",
              "      <th>Tipo_PROVA_A</th>\n",
              "      <th>Tipo_PROVA_C</th>\n",
              "    </tr>\n",
              "  </thead>\n",
              "  <tbody>\n",
              "    <tr>\n",
              "      <th>count</th>\n",
              "      <td>1.205960e+05</td>\n",
              "      <td>120596.000000</td>\n",
              "      <td>120596.000000</td>\n",
              "      <td>120596.000000</td>\n",
              "      <td>120596.000000</td>\n",
              "      <td>120596.000000</td>\n",
              "      <td>120596.000000</td>\n",
              "      <td>120596.000000</td>\n",
              "      <td>120596.000000</td>\n",
              "      <td>120596.000000</td>\n",
              "      <td>...</td>\n",
              "      <td>120596.000000</td>\n",
              "      <td>120596.000000</td>\n",
              "      <td>120596.000000</td>\n",
              "      <td>120596.000000</td>\n",
              "      <td>120596.000000</td>\n",
              "      <td>120596.000000</td>\n",
              "      <td>120596.000000</td>\n",
              "      <td>120596.000000</td>\n",
              "      <td>120596.000000</td>\n",
              "      <td>120596.000000</td>\n",
              "    </tr>\n",
              "    <tr>\n",
              "      <th>mean</th>\n",
              "      <td>2.734087e+07</td>\n",
              "      <td>1.803567</td>\n",
              "      <td>4.183397</td>\n",
              "      <td>4.234850</td>\n",
              "      <td>3.901249</td>\n",
              "      <td>3.994676</td>\n",
              "      <td>3.839248</td>\n",
              "      <td>4.015813</td>\n",
              "      <td>3.542456</td>\n",
              "      <td>4.551519</td>\n",
              "      <td>...</td>\n",
              "      <td>0.055657</td>\n",
              "      <td>0.055856</td>\n",
              "      <td>0.393355</td>\n",
              "      <td>0.077507</td>\n",
              "      <td>15.735464</td>\n",
              "      <td>0.682353</td>\n",
              "      <td>0.110169</td>\n",
              "      <td>0.207478</td>\n",
              "      <td>0.000912</td>\n",
              "      <td>0.999088</td>\n",
              "    </tr>\n",
              "    <tr>\n",
              "      <th>std</th>\n",
              "      <td>2.946464e+06</td>\n",
              "      <td>0.634012</td>\n",
              "      <td>0.942674</td>\n",
              "      <td>1.032048</td>\n",
              "      <td>1.171602</td>\n",
              "      <td>1.033197</td>\n",
              "      <td>1.233479</td>\n",
              "      <td>1.100245</td>\n",
              "      <td>1.272283</td>\n",
              "      <td>0.723518</td>\n",
              "      <td>...</td>\n",
              "      <td>0.229259</td>\n",
              "      <td>0.229644</td>\n",
              "      <td>0.488496</td>\n",
              "      <td>0.267395</td>\n",
              "      <td>2.466339</td>\n",
              "      <td>0.465563</td>\n",
              "      <td>0.313102</td>\n",
              "      <td>0.405502</td>\n",
              "      <td>0.030188</td>\n",
              "      <td>0.030188</td>\n",
              "    </tr>\n",
              "    <tr>\n",
              "      <th>min</th>\n",
              "      <td>1.739548e+07</td>\n",
              "      <td>1.000000</td>\n",
              "      <td>1.000000</td>\n",
              "      <td>1.000000</td>\n",
              "      <td>1.000000</td>\n",
              "      <td>1.000000</td>\n",
              "      <td>1.000000</td>\n",
              "      <td>1.000000</td>\n",
              "      <td>1.000000</td>\n",
              "      <td>3.000000</td>\n",
              "      <td>...</td>\n",
              "      <td>0.000000</td>\n",
              "      <td>0.000000</td>\n",
              "      <td>0.000000</td>\n",
              "      <td>0.000000</td>\n",
              "      <td>10.000000</td>\n",
              "      <td>0.000000</td>\n",
              "      <td>0.000000</td>\n",
              "      <td>0.000000</td>\n",
              "      <td>0.000000</td>\n",
              "      <td>0.000000</td>\n",
              "    </tr>\n",
              "    <tr>\n",
              "      <th>25%</th>\n",
              "      <td>2.529711e+07</td>\n",
              "      <td>1.000000</td>\n",
              "      <td>4.000000</td>\n",
              "      <td>4.000000</td>\n",
              "      <td>3.000000</td>\n",
              "      <td>3.000000</td>\n",
              "      <td>3.000000</td>\n",
              "      <td>3.000000</td>\n",
              "      <td>3.000000</td>\n",
              "      <td>4.000000</td>\n",
              "      <td>...</td>\n",
              "      <td>0.000000</td>\n",
              "      <td>0.000000</td>\n",
              "      <td>0.000000</td>\n",
              "      <td>0.000000</td>\n",
              "      <td>15.000000</td>\n",
              "      <td>0.000000</td>\n",
              "      <td>0.000000</td>\n",
              "      <td>0.000000</td>\n",
              "      <td>0.000000</td>\n",
              "      <td>1.000000</td>\n",
              "    </tr>\n",
              "    <tr>\n",
              "      <th>50%</th>\n",
              "      <td>2.712102e+07</td>\n",
              "      <td>2.000000</td>\n",
              "      <td>4.000000</td>\n",
              "      <td>5.000000</td>\n",
              "      <td>4.000000</td>\n",
              "      <td>4.000000</td>\n",
              "      <td>4.000000</td>\n",
              "      <td>4.000000</td>\n",
              "      <td>4.000000</td>\n",
              "      <td>5.000000</td>\n",
              "      <td>...</td>\n",
              "      <td>0.000000</td>\n",
              "      <td>0.000000</td>\n",
              "      <td>0.000000</td>\n",
              "      <td>0.000000</td>\n",
              "      <td>16.000000</td>\n",
              "      <td>1.000000</td>\n",
              "      <td>0.000000</td>\n",
              "      <td>0.000000</td>\n",
              "      <td>0.000000</td>\n",
              "      <td>1.000000</td>\n",
              "    </tr>\n",
              "    <tr>\n",
              "      <th>75%</th>\n",
              "      <td>2.910558e+07</td>\n",
              "      <td>2.000000</td>\n",
              "      <td>5.000000</td>\n",
              "      <td>5.000000</td>\n",
              "      <td>5.000000</td>\n",
              "      <td>5.000000</td>\n",
              "      <td>5.000000</td>\n",
              "      <td>5.000000</td>\n",
              "      <td>5.000000</td>\n",
              "      <td>5.000000</td>\n",
              "      <td>...</td>\n",
              "      <td>0.000000</td>\n",
              "      <td>0.000000</td>\n",
              "      <td>1.000000</td>\n",
              "      <td>0.000000</td>\n",
              "      <td>18.000000</td>\n",
              "      <td>1.000000</td>\n",
              "      <td>0.000000</td>\n",
              "      <td>0.000000</td>\n",
              "      <td>0.000000</td>\n",
              "      <td>1.000000</td>\n",
              "    </tr>\n",
              "    <tr>\n",
              "      <th>max</th>\n",
              "      <td>3.796186e+07</td>\n",
              "      <td>4.000000</td>\n",
              "      <td>5.000000</td>\n",
              "      <td>5.000000</td>\n",
              "      <td>5.000000</td>\n",
              "      <td>5.000000</td>\n",
              "      <td>5.000000</td>\n",
              "      <td>5.000000</td>\n",
              "      <td>5.000000</td>\n",
              "      <td>5.000000</td>\n",
              "      <td>...</td>\n",
              "      <td>1.000000</td>\n",
              "      <td>1.000000</td>\n",
              "      <td>1.000000</td>\n",
              "      <td>1.000000</td>\n",
              "      <td>56.000000</td>\n",
              "      <td>1.000000</td>\n",
              "      <td>1.000000</td>\n",
              "      <td>1.000000</td>\n",
              "      <td>1.000000</td>\n",
              "      <td>1.000000</td>\n",
              "    </tr>\n",
              "  </tbody>\n",
              "</table>\n",
              "<p>8 rows × 89 columns</p>\n",
              "</div>"
            ],
            "text/plain": [
              "           CD_ALUNO             Q1             Q2             Q3  \\\n",
              "count  1.205960e+05  120596.000000  120596.000000  120596.000000   \n",
              "mean   2.734087e+07       1.803567       4.183397       4.234850   \n",
              "std    2.946464e+06       0.634012       0.942674       1.032048   \n",
              "min    1.739548e+07       1.000000       1.000000       1.000000   \n",
              "25%    2.529711e+07       1.000000       4.000000       4.000000   \n",
              "50%    2.712102e+07       2.000000       4.000000       5.000000   \n",
              "75%    2.910558e+07       2.000000       5.000000       5.000000   \n",
              "max    3.796186e+07       4.000000       5.000000       5.000000   \n",
              "\n",
              "                  Q4             Q5             Q6             Q7  \\\n",
              "count  120596.000000  120596.000000  120596.000000  120596.000000   \n",
              "mean        3.901249       3.994676       3.839248       4.015813   \n",
              "std         1.171602       1.033197       1.233479       1.100245   \n",
              "min         1.000000       1.000000       1.000000       1.000000   \n",
              "25%         3.000000       3.000000       3.000000       3.000000   \n",
              "50%         4.000000       4.000000       4.000000       4.000000   \n",
              "75%         5.000000       5.000000       5.000000       5.000000   \n",
              "max         5.000000       5.000000       5.000000       5.000000   \n",
              "\n",
              "                  Q8             Q9  ...  \\\n",
              "count  120596.000000  120596.000000  ...   \n",
              "mean        3.542456       4.551519  ...   \n",
              "std         1.272283       0.723518  ...   \n",
              "min         1.000000       3.000000  ...   \n",
              "25%         3.000000       4.000000  ...   \n",
              "50%         4.000000       5.000000  ...   \n",
              "75%         5.000000       5.000000  ...   \n",
              "max         5.000000       5.000000  ...   \n",
              "\n",
              "       RegiaoMetropolitana_Região Metropolitana de Ribeirão Preto  \\\n",
              "count                                      120596.000000            \n",
              "mean                                            0.055657            \n",
              "std                                             0.229259            \n",
              "min                                             0.000000            \n",
              "25%                                             0.000000            \n",
              "50%                                             0.000000            \n",
              "75%                                             0.000000            \n",
              "max                                             1.000000            \n",
              "\n",
              "       RegiaoMetropolitana_Região Metropolitana de Sorocaba  \\\n",
              "count                                      120596.000000      \n",
              "mean                                            0.055856      \n",
              "std                                             0.229644      \n",
              "min                                             0.000000      \n",
              "25%                                             0.000000      \n",
              "50%                                             0.000000      \n",
              "75%                                             0.000000      \n",
              "max                                             1.000000      \n",
              "\n",
              "       RegiaoMetropolitana_Região Metropolitana de São Paulo  \\\n",
              "count                                      120596.000000       \n",
              "mean                                            0.393355       \n",
              "std                                             0.488496       \n",
              "min                                             0.000000       \n",
              "25%                                             0.000000       \n",
              "50%                                             0.000000       \n",
              "75%                                             1.000000       \n",
              "max                                             1.000000       \n",
              "\n",
              "       RegiaoMetropolitana_Região Metropolitana do Vale do Paraíba e Litoral Norte  \\\n",
              "count                                      120596.000000                             \n",
              "mean                                            0.077507                             \n",
              "std                                             0.267395                             \n",
              "min                                             0.000000                             \n",
              "25%                                             0.000000                             \n",
              "50%                                             0.000000                             \n",
              "75%                                             0.000000                             \n",
              "max                                             1.000000                             \n",
              "\n",
              "               idade  PERIODO_MANHÃ  PERIODO_NOITE  PERIODO_TARDE  \\\n",
              "count  120596.000000  120596.000000  120596.000000  120596.000000   \n",
              "mean       15.735464       0.682353       0.110169       0.207478   \n",
              "std         2.466339       0.465563       0.313102       0.405502   \n",
              "min        10.000000       0.000000       0.000000       0.000000   \n",
              "25%        15.000000       0.000000       0.000000       0.000000   \n",
              "50%        16.000000       1.000000       0.000000       0.000000   \n",
              "75%        18.000000       1.000000       0.000000       0.000000   \n",
              "max        56.000000       1.000000       1.000000       1.000000   \n",
              "\n",
              "        Tipo_PROVA_A   Tipo_PROVA_C  \n",
              "count  120596.000000  120596.000000  \n",
              "mean        0.000912       0.999088  \n",
              "std         0.030188       0.030188  \n",
              "min         0.000000       0.000000  \n",
              "25%         0.000000       1.000000  \n",
              "50%         0.000000       1.000000  \n",
              "75%         0.000000       1.000000  \n",
              "max         1.000000       1.000000  \n",
              "\n",
              "[8 rows x 89 columns]"
            ]
          },
          "execution_count": 26,
          "metadata": {},
          "output_type": "execute_result"
        }
      ],
      "source": [
        "df.describe()"
      ]
    },
    {
      "cell_type": "code",
      "execution_count": 27,
      "metadata": {},
      "outputs": [
        {
          "data": {
            "text/plain": [
              "(120596, 89)"
            ]
          },
          "execution_count": 27,
          "metadata": {},
          "output_type": "execute_result"
        }
      ],
      "source": [
        "df.shape"
      ]
    },
    {
      "cell_type": "markdown",
      "metadata": {},
      "source": [
        "Outliers detection\n",
        "\n",
        "Since the noly original numerical columns were the porc_ACERT, we will only perform outlier detection on these. The method to find the outliers will be though z-score and standard deviation, it's known that 99% of data is located between -3 std to 3 std, with that in mind we will drop all the data the is beyond this range  "
      ]
    },
    {
      "cell_type": "code",
      "execution_count": 23,
      "metadata": {},
      "outputs": [
        {
          "name": "stdout",
          "output_type": "stream",
          "text": [
            "0.00024876446979999335\n",
            "0.0\n",
            "0.0\n"
          ]
        },
        {
          "data": {
            "text/plain": [
              "<AxesSubplot:>"
            ]
          },
          "execution_count": 23,
          "metadata": {},
          "output_type": "execute_result"
        },
        {
          "data": {
            "image/png": "[encoded data removed]",
            "text/plain": [
              "<Figure size 432x288 with 1 Axes>"
            ]
          },
          "metadata": {
            "needs_background": "light"
          },
          "output_type": "display_data"
        }
      ],
      "source": [
        "#removing outliers\n",
        "\n",
        "from scipy import stats\n",
        "\n",
        "print(len(df[(np.abs(stats.zscore(df['porc_ACERT_CIE'])) > 3)])/len(df.index)) #less than 0.025%\n",
        "print(len(df[(np.abs(stats.zscore(df['porc_ACERT_MAT'])) > 3)])/len(df.index))\n",
        "print(len(df[(np.abs(stats.zscore(df['porc_ACERT_lp'])) > 3)])/len(df.index))\n",
        "\n",
        "df.boxplot(column=['porc_ACERT_lp',\n",
        "       'porc_ACERT_MAT', 'porc_ACERT_CIE'])  "
      ]
    },
    {
      "cell_type": "markdown",
      "metadata": {},
      "source": [
        "Since there are less than 0.025% of data that are outliers, there will be no great negative effects in dropping it"
      ]
    },
    {
      "cell_type": "code",
      "execution_count": 24,
      "metadata": {},
      "outputs": [
        {
          "data": {
            "text/plain": [
              "pandas.core.frame.DataFrame"
            ]
          },
          "execution_count": 24,
          "metadata": {},
          "output_type": "execute_result"
        }
      ],
      "source": [
        "df = df[(np.abs(stats.zscore(df['porc_ACERT_CIE'])) < 3)]\n",
        "type(df)\n",
        " "
      ]
    },
    {
      "cell_type": "markdown",
      "metadata": {},
      "source": [
        "Preparing df's for each specific target column"
      ]
    },
    {
      "cell_type": "code",
      "execution_count": 25,
      "metadata": {},
      "outputs": [],
      "source": [
        "df_cie = df \n",
        "df_mat = df\n",
        "df_lp = df\n",
        "\n",
        "\n",
        "# df_cie = df.drop(columns=['porc_ACERT_lp', 'porc_ACERT_MAT'])\n",
        "\n",
        "# df_mat = df.drop(columns=['porc_ACERT_lp', 'porc_ACERT_CIE'])\n",
        "\n",
        "# df_lp = df.drop(columns=['porc_ACERT_CIE', 'porc_ACERT_MAT'])\n",
        "\n",
        "\n"
      ]
    },
    {
      "cell_type": "code",
      "execution_count": 26,
      "metadata": {},
      "outputs": [
        {
          "data": {
            "text/plain": [
              "Index(['CD_ALUNO', 'Q1', 'Q2', 'Q3', 'Q4', 'Q5', 'Q6', 'Q7', 'Q8', 'Q9', 'Q10',\n",
              "       'Q11', 'Q12', 'Q13', 'Q14', 'Q15', 'Q16', 'Q17', 'Q18', 'Q19', 'Q20',\n",
              "       'Q21', 'Q22', 'Q23', 'Q24', 'Q25', 'Q26', 'Q27', 'Q28', 'Q29', 'Q30',\n",
              "       'Q31', 'Q32', 'Q33', 'Q34', 'Q35', 'Q36', 'Q37', 'Q38', 'Q39', 'Q40',\n",
              "       'Q41', 'Q42', 'Q43', 'Q44', 'Q45', 'Q46', 'Q47', 'Q48', 'Q49', 'Q50',\n",
              "       'Q51', 'Q52', 'Q53', 'Q54', 'Q55', 'Q56', 'Q57', 'Q58', 'Q59', 'Q60',\n",
              "       'Q61', 'Q62', 'SERIE_ANO', 'TP_SEXO', 'Tem_Nec', 'porc_ACERT_lp',\n",
              "       'porc_ACERT_MAT', 'porc_ACERT_CIE', 'nivel_profic_lp',\n",
              "       'nivel_profic_mat', 'nivel_profic_cie', 'Q63_A', 'Q63_B', 'Q63_C',\n",
              "       'Q63_D', 'RegiaoMetropolitana_Interior',\n",
              "       'RegiaoMetropolitana_Região Metropolitana da Baixada Santista',\n",
              "       'RegiaoMetropolitana_Região Metropolitana de Campinas',\n",
              "       'RegiaoMetropolitana_Região Metropolitana de Ribeirão Preto',\n",
              "       'RegiaoMetropolitana_Região Metropolitana de Sorocaba',\n",
              "       'RegiaoMetropolitana_Região Metropolitana de São Paulo',\n",
              "       'RegiaoMetropolitana_Região Metropolitana do Vale do Paraíba e Litoral Norte',\n",
              "       'idade', 'PERIODO_MANHÃ', 'PERIODO_NOITE', 'PERIODO_TARDE',\n",
              "       'Tipo_PROVA_A', 'Tipo_PROVA_C'],\n",
              "      dtype='object')"
            ]
          },
          "execution_count": 26,
          "metadata": {},
          "output_type": "execute_result"
        }
      ],
      "source": [
        "df_cie.columns"
      ]
    },
    {
      "cell_type": "code",
      "execution_count": 27,
      "metadata": {},
      "outputs": [
        {
          "name": "stdout",
          "output_type": "stream",
          "text": [
            "[]\n",
            "[]\n",
            "[]\n"
          ]
        }
      ],
      "source": [
        "def tranform_into_lin_reg(df):\n",
        "    \"\"\"Drop all the categorical columns in the dataframe lin_reg_df\"\"\"\n",
        "    df = df.drop(columns=['nivel_profic_mat', 'nivel_profic_lp', 'nivel_profic_cie'])\n",
        "    return df\n",
        "df_cie_lr = tranform_into_lin_reg(df_cie)\n",
        "print(get_categorical_columns(df_cie_lr))\n",
        "df_mat_lr = tranform_into_lin_reg(df_mat)\n",
        "print(get_categorical_columns(df_mat_lr))\n",
        "df_lp_lr  = tranform_into_lin_reg(df_lp)\n",
        "print(get_categorical_columns(df_lp_lr))\n"
      ]
    },
    {
      "cell_type": "code",
      "execution_count": 33,
      "metadata": {},
      "outputs": [
        {
          "data": {
            "text/plain": [
              "Index(['CD_ALUNO', 'Q1', 'Q2', 'Q3', 'Q4', 'Q5', 'Q6', 'Q7', 'Q8', 'Q9', 'Q10',\n",
              "       'Q11', 'Q12', 'Q13', 'Q14', 'Q15', 'Q16', 'Q17', 'Q18', 'Q19', 'Q20',\n",
              "       'Q21', 'Q22', 'Q23', 'Q24', 'Q25', 'Q26', 'Q27', 'Q28', 'Q29', 'Q30',\n",
              "       'Q31', 'Q32', 'Q33', 'Q34', 'Q35', 'Q36', 'Q37', 'Q38', 'Q39', 'Q40',\n",
              "       'Q41', 'Q42', 'Q43', 'Q44', 'Q45', 'Q46', 'Q47', 'Q48', 'Q49', 'Q50',\n",
              "       'Q51', 'Q52', 'Q53', 'Q54', 'Q55', 'Q56', 'Q57', 'Q58', 'Q59', 'Q60',\n",
              "       'Q61', 'Q62', 'SERIE_ANO', 'TP_SEXO', 'Tem_Nec', 'porc_ACERT_lp',\n",
              "       'porc_ACERT_MAT', 'porc_ACERT_CIE', 'Q63_A', 'Q63_B', 'Q63_C', 'Q63_D',\n",
              "       'RegiaoMetropolitana_Interior',\n",
              "       'RegiaoMetropolitana_Região Metropolitana da Baixada Santista',\n",
              "       'RegiaoMetropolitana_Região Metropolitana de Campinas',\n",
              "       'RegiaoMetropolitana_Região Metropolitana de Ribeirão Preto',\n",
              "       'RegiaoMetropolitana_Região Metropolitana de Sorocaba',\n",
              "       'RegiaoMetropolitana_Região Metropolitana de São Paulo',\n",
              "       'RegiaoMetropolitana_Região Metropolitana do Vale do Paraíba e Litoral Norte',\n",
              "       'idade', 'PERIODO_MANHÃ', 'PERIODO_NOITE', 'PERIODO_TARDE',\n",
              "       'Tipo_PROVA_A', 'Tipo_PROVA_C'],\n",
              "      dtype='object')"
            ]
          },
          "execution_count": 33,
          "metadata": {},
          "output_type": "execute_result"
        }
      ],
      "source": [
        "df_cie_lr.columns"
      ]
    },
    {
      "cell_type": "code",
      "execution_count": 28,
      "metadata": {},
      "outputs": [],
      "source": [
        "# drop CD_ALUNO\n",
        "df_cie_lr = df_cie_lr.drop(columns=['CD_ALUNO'])\n",
        "df_mat_lr = df_mat_lr.drop(columns=['CD_ALUNO'])\n",
        "df_lp_lr = df_lp_lr.drop(columns=['CD_ALUNO'])\n"
      ]
    },
    {
      "cell_type": "code",
      "execution_count": 29,
      "metadata": {},
      "outputs": [
        {
          "data": {
            "text/plain": [
              "Index(['Q1', 'Q2', 'Q3', 'Q4', 'Q5', 'Q6', 'Q7', 'Q8', 'Q9', 'Q10', 'Q11',\n",
              "       'Q12', 'Q13', 'Q14', 'Q15', 'Q16', 'Q17', 'Q18', 'Q19', 'Q20', 'Q21',\n",
              "       'Q22', 'Q23', 'Q24', 'Q25', 'Q26', 'Q27', 'Q28', 'Q29', 'Q30', 'Q31',\n",
              "       'Q32', 'Q33', 'Q34', 'Q35', 'Q36', 'Q37', 'Q38', 'Q39', 'Q40', 'Q41',\n",
              "       'Q42', 'Q43', 'Q44', 'Q45', 'Q46', 'Q47', 'Q48', 'Q49', 'Q50', 'Q51',\n",
              "       'Q52', 'Q53', 'Q54', 'Q55', 'Q56', 'Q57', 'Q58', 'Q59', 'Q60', 'Q61',\n",
              "       'Q62', 'SERIE_ANO', 'TP_SEXO', 'Tem_Nec', 'porc_ACERT_lp',\n",
              "       'porc_ACERT_MAT', 'porc_ACERT_CIE', 'Q63_A', 'Q63_B', 'Q63_C', 'Q63_D',\n",
              "       'RegiaoMetropolitana_Interior',\n",
              "       'RegiaoMetropolitana_Região Metropolitana da Baixada Santista',\n",
              "       'RegiaoMetropolitana_Região Metropolitana de Campinas',\n",
              "       'RegiaoMetropolitana_Região Metropolitana de Ribeirão Preto',\n",
              "       'RegiaoMetropolitana_Região Metropolitana de Sorocaba',\n",
              "       'RegiaoMetropolitana_Região Metropolitana de São Paulo',\n",
              "       'RegiaoMetropolitana_Região Metropolitana do Vale do Paraíba e Litoral Norte',\n",
              "       'idade', 'PERIODO_MANHÃ', 'PERIODO_NOITE', 'PERIODO_TARDE',\n",
              "       'Tipo_PROVA_A', 'Tipo_PROVA_C'],\n",
              "      dtype='object')"
            ]
          },
          "execution_count": 29,
          "metadata": {},
          "output_type": "execute_result"
        }
      ],
      "source": [
        "df_cie_lr.columns"
      ]
    },
    {
      "cell_type": "code",
      "execution_count": 30,
      "metadata": {},
      "outputs": [],
      "source": [
        "\"\"\"Function to normalize the data\"\"\"\n",
        "def normalize_data(df):\n",
        "    from sklearn.preprocessing import StandardScaler, MinMaxScaler\n",
        "    scaler = StandardScaler()\n",
        "    scaler.fit(df)\n",
        "    return scaler.transform(df)\n",
        "df_cie_lr = pd.DataFrame(normalize_data(df_cie_lr), columns=df_cie_lr.columns,index=df_cie_lr.index)\n",
        "df_mat_lr = pd.DataFrame(normalize_data(df_mat_lr), columns=df_mat_lr.columns,index=df_mat_lr.index)\n",
        "df_lp_lr = pd.DataFrame(normalize_data(df_lp_lr), columns=df_lp_lr.columns,index=df_lp_lr.index)\n"
      ]
    },
    {
      "cell_type": "code",
      "execution_count": 37,
      "metadata": {},
      "outputs": [
        {
          "data": {
            "text/plain": [
              "pandas.core.frame.DataFrame"
            ]
          },
          "execution_count": 37,
          "metadata": {},
          "output_type": "execute_result"
        }
      ],
      "source": [
        "type(df)"
      ]
    },
    {
      "cell_type": "code",
      "execution_count": 38,
      "metadata": {},
      "outputs": [
        {
          "data": {
            "text/html": [
              "<div>\n",
              "<style scoped>\n",
              "    .dataframe tbody tr th:only-of-type {\n",
              "        vertical-align: middle;\n",
              "    }\n",
              "\n",
              "    .dataframe tbody tr th {\n",
              "        vertical-align: top;\n",
              "    }\n",
              "\n",
              "    .dataframe thead th {\n",
              "        text-align: right;\n",
              "    }\n",
              "</style>\n",
              "<table border=\"1\" class=\"dataframe\">\n",
              "  <thead>\n",
              "    <tr style=\"text-align: right;\">\n",
              "      <th></th>\n",
              "      <th>Q1</th>\n",
              "      <th>Q2</th>\n",
              "      <th>Q3</th>\n",
              "      <th>Q4</th>\n",
              "      <th>Q5</th>\n",
              "      <th>Q6</th>\n",
              "      <th>Q7</th>\n",
              "      <th>Q8</th>\n",
              "      <th>Q9</th>\n",
              "      <th>Q10</th>\n",
              "      <th>...</th>\n",
              "      <th>RegiaoMetropolitana_Região Metropolitana de Ribeirão Preto</th>\n",
              "      <th>RegiaoMetropolitana_Região Metropolitana de Sorocaba</th>\n",
              "      <th>RegiaoMetropolitana_Região Metropolitana de São Paulo</th>\n",
              "      <th>RegiaoMetropolitana_Região Metropolitana do Vale do Paraíba e Litoral Norte</th>\n",
              "      <th>idade</th>\n",
              "      <th>PERIODO_MANHÃ</th>\n",
              "      <th>PERIODO_NOITE</th>\n",
              "      <th>PERIODO_TARDE</th>\n",
              "      <th>Tipo_PROVA_A</th>\n",
              "      <th>Tipo_PROVA_C</th>\n",
              "    </tr>\n",
              "  </thead>\n",
              "  <tbody>\n",
              "    <tr>\n",
              "      <th>count</th>\n",
              "      <td>1.205660e+05</td>\n",
              "      <td>1.205660e+05</td>\n",
              "      <td>1.205660e+05</td>\n",
              "      <td>1.205660e+05</td>\n",
              "      <td>1.205660e+05</td>\n",
              "      <td>1.205660e+05</td>\n",
              "      <td>1.205660e+05</td>\n",
              "      <td>1.205660e+05</td>\n",
              "      <td>1.205660e+05</td>\n",
              "      <td>1.205660e+05</td>\n",
              "      <td>...</td>\n",
              "      <td>1.205660e+05</td>\n",
              "      <td>1.205660e+05</td>\n",
              "      <td>1.205660e+05</td>\n",
              "      <td>1.205660e+05</td>\n",
              "      <td>1.205660e+05</td>\n",
              "      <td>1.205660e+05</td>\n",
              "      <td>1.205660e+05</td>\n",
              "      <td>1.205660e+05</td>\n",
              "      <td>1.205660e+05</td>\n",
              "      <td>1.205660e+05</td>\n",
              "    </tr>\n",
              "    <tr>\n",
              "      <th>mean</th>\n",
              "      <td>1.049024e-16</td>\n",
              "      <td>-4.315142e-16</td>\n",
              "      <td>-1.772732e-16</td>\n",
              "      <td>1.222584e-16</td>\n",
              "      <td>-7.637836e-17</td>\n",
              "      <td>-1.132710e-16</td>\n",
              "      <td>7.331380e-17</td>\n",
              "      <td>5.504428e-17</td>\n",
              "      <td>2.946696e-18</td>\n",
              "      <td>4.537912e-16</td>\n",
              "      <td>...</td>\n",
              "      <td>-6.793608e-17</td>\n",
              "      <td>4.019294e-17</td>\n",
              "      <td>1.379054e-17</td>\n",
              "      <td>2.805255e-17</td>\n",
              "      <td>-1.446238e-16</td>\n",
              "      <td>-1.155105e-17</td>\n",
              "      <td>3.500675e-17</td>\n",
              "      <td>-1.183393e-16</td>\n",
              "      <td>-1.284760e-17</td>\n",
              "      <td>1.941283e-16</td>\n",
              "    </tr>\n",
              "    <tr>\n",
              "      <th>std</th>\n",
              "      <td>1.000004e+00</td>\n",
              "      <td>1.000004e+00</td>\n",
              "      <td>1.000004e+00</td>\n",
              "      <td>1.000004e+00</td>\n",
              "      <td>1.000004e+00</td>\n",
              "      <td>1.000004e+00</td>\n",
              "      <td>1.000004e+00</td>\n",
              "      <td>1.000004e+00</td>\n",
              "      <td>1.000004e+00</td>\n",
              "      <td>1.000004e+00</td>\n",
              "      <td>...</td>\n",
              "      <td>1.000004e+00</td>\n",
              "      <td>1.000004e+00</td>\n",
              "      <td>1.000004e+00</td>\n",
              "      <td>1.000004e+00</td>\n",
              "      <td>1.000004e+00</td>\n",
              "      <td>1.000004e+00</td>\n",
              "      <td>1.000004e+00</td>\n",
              "      <td>1.000004e+00</td>\n",
              "      <td>1.000004e+00</td>\n",
              "      <td>1.000004e+00</td>\n",
              "    </tr>\n",
              "    <tr>\n",
              "      <th>min</th>\n",
              "      <td>-1.267496e+00</td>\n",
              "      <td>-3.377497e+00</td>\n",
              "      <td>-3.135009e+00</td>\n",
              "      <td>-2.476635e+00</td>\n",
              "      <td>-2.898725e+00</td>\n",
              "      <td>-2.301823e+00</td>\n",
              "      <td>-2.741345e+00</td>\n",
              "      <td>-1.998341e+00</td>\n",
              "      <td>-2.144420e+00</td>\n",
              "      <td>-4.759523e+00</td>\n",
              "      <td>...</td>\n",
              "      <td>-2.427251e-01</td>\n",
              "      <td>-2.432228e-01</td>\n",
              "      <td>-8.052361e-01</td>\n",
              "      <td>-2.898989e-01</td>\n",
              "      <td>-2.325815e+00</td>\n",
              "      <td>-1.465640e+00</td>\n",
              "      <td>-3.518703e-01</td>\n",
              "      <td>-5.116614e-01</td>\n",
              "      <td>-3.021914e-02</td>\n",
              "      <td>-3.309161e+01</td>\n",
              "    </tr>\n",
              "    <tr>\n",
              "      <th>25%</th>\n",
              "      <td>-1.267496e+00</td>\n",
              "      <td>-1.946253e-01</td>\n",
              "      <td>-2.276916e-01</td>\n",
              "      <td>-7.694097e-01</td>\n",
              "      <td>-9.628269e-01</td>\n",
              "      <td>-6.803548e-01</td>\n",
              "      <td>-9.233868e-01</td>\n",
              "      <td>-4.262935e-01</td>\n",
              "      <td>-7.622820e-01</td>\n",
              "      <td>3.296665e-01</td>\n",
              "      <td>...</td>\n",
              "      <td>-2.427251e-01</td>\n",
              "      <td>-2.432228e-01</td>\n",
              "      <td>-8.052361e-01</td>\n",
              "      <td>-2.898989e-01</td>\n",
              "      <td>-2.982680e-01</td>\n",
              "      <td>-1.465640e+00</td>\n",
              "      <td>-3.518703e-01</td>\n",
              "      <td>-5.116614e-01</td>\n",
              "      <td>-3.021914e-02</td>\n",
              "      <td>3.021914e-02</td>\n",
              "    </tr>\n",
              "    <tr>\n",
              "      <th>50%</th>\n",
              "      <td>3.099038e-01</td>\n",
              "      <td>-1.946253e-01</td>\n",
              "      <td>7.414143e-01</td>\n",
              "      <td>8.420298e-02</td>\n",
              "      <td>5.122103e-03</td>\n",
              "      <td>1.303794e-01</td>\n",
              "      <td>-1.440754e-02</td>\n",
              "      <td>3.597300e-01</td>\n",
              "      <td>6.198564e-01</td>\n",
              "      <td>3.296665e-01</td>\n",
              "      <td>...</td>\n",
              "      <td>-2.427251e-01</td>\n",
              "      <td>-2.432228e-01</td>\n",
              "      <td>-8.052361e-01</td>\n",
              "      <td>-2.898989e-01</td>\n",
              "      <td>1.072414e-01</td>\n",
              "      <td>6.822956e-01</td>\n",
              "      <td>-3.518703e-01</td>\n",
              "      <td>-5.116614e-01</td>\n",
              "      <td>-3.021914e-02</td>\n",
              "      <td>3.021914e-02</td>\n",
              "    </tr>\n",
              "    <tr>\n",
              "      <th>75%</th>\n",
              "      <td>3.099038e-01</td>\n",
              "      <td>8.663319e-01</td>\n",
              "      <td>7.414143e-01</td>\n",
              "      <td>9.378157e-01</td>\n",
              "      <td>9.730711e-01</td>\n",
              "      <td>9.411137e-01</td>\n",
              "      <td>8.945717e-01</td>\n",
              "      <td>1.145754e+00</td>\n",
              "      <td>6.198564e-01</td>\n",
              "      <td>3.296665e-01</td>\n",
              "      <td>...</td>\n",
              "      <td>-2.427251e-01</td>\n",
              "      <td>-2.432228e-01</td>\n",
              "      <td>1.241872e+00</td>\n",
              "      <td>-2.898989e-01</td>\n",
              "      <td>9.182604e-01</td>\n",
              "      <td>6.822956e-01</td>\n",
              "      <td>-3.518703e-01</td>\n",
              "      <td>-5.116614e-01</td>\n",
              "      <td>-3.021914e-02</td>\n",
              "      <td>3.021914e-02</td>\n",
              "    </tr>\n",
              "    <tr>\n",
              "      <th>max</th>\n",
              "      <td>3.464702e+00</td>\n",
              "      <td>8.663319e-01</td>\n",
              "      <td>7.414143e-01</td>\n",
              "      <td>9.378157e-01</td>\n",
              "      <td>9.730711e-01</td>\n",
              "      <td>9.411137e-01</td>\n",
              "      <td>8.945717e-01</td>\n",
              "      <td>1.145754e+00</td>\n",
              "      <td>6.198564e-01</td>\n",
              "      <td>3.296665e-01</td>\n",
              "      <td>...</td>\n",
              "      <td>4.119886e+00</td>\n",
              "      <td>4.111456e+00</td>\n",
              "      <td>1.241872e+00</td>\n",
              "      <td>3.449478e+00</td>\n",
              "      <td>1.632762e+01</td>\n",
              "      <td>6.822956e-01</td>\n",
              "      <td>2.841956e+00</td>\n",
              "      <td>1.954418e+00</td>\n",
              "      <td>3.309161e+01</td>\n",
              "      <td>3.021914e-02</td>\n",
              "    </tr>\n",
              "  </tbody>\n",
              "</table>\n",
              "<p>8 rows × 85 columns</p>\n",
              "</div>"
            ],
            "text/plain": [
              "                 Q1            Q2            Q3            Q4            Q5  \\\n",
              "count  1.205660e+05  1.205660e+05  1.205660e+05  1.205660e+05  1.205660e+05   \n",
              "mean   1.049024e-16 -4.315142e-16 -1.772732e-16  1.222584e-16 -7.637836e-17   \n",
              "std    1.000004e+00  1.000004e+00  1.000004e+00  1.000004e+00  1.000004e+00   \n",
              "min   -1.267496e+00 -3.377497e+00 -3.135009e+00 -2.476635e+00 -2.898725e+00   \n",
              "25%   -1.267496e+00 -1.946253e-01 -2.276916e-01 -7.694097e-01 -9.628269e-01   \n",
              "50%    3.099038e-01 -1.946253e-01  7.414143e-01  8.420298e-02  5.122103e-03   \n",
              "75%    3.099038e-01  8.663319e-01  7.414143e-01  9.378157e-01  9.730711e-01   \n",
              "max    3.464702e+00  8.663319e-01  7.414143e-01  9.378157e-01  9.730711e-01   \n",
              "\n",
              "                 Q6            Q7            Q8            Q9           Q10  \\\n",
              "count  1.205660e+05  1.205660e+05  1.205660e+05  1.205660e+05  1.205660e+05   \n",
              "mean  -1.132710e-16  7.331380e-17  5.504428e-17  2.946696e-18  4.537912e-16   \n",
              "std    1.000004e+00  1.000004e+00  1.000004e+00  1.000004e+00  1.000004e+00   \n",
              "min   -2.301823e+00 -2.741345e+00 -1.998341e+00 -2.144420e+00 -4.759523e+00   \n",
              "25%   -6.803548e-01 -9.233868e-01 -4.262935e-01 -7.622820e-01  3.296665e-01   \n",
              "50%    1.303794e-01 -1.440754e-02  3.597300e-01  6.198564e-01  3.296665e-01   \n",
              "75%    9.411137e-01  8.945717e-01  1.145754e+00  6.198564e-01  3.296665e-01   \n",
              "max    9.411137e-01  8.945717e-01  1.145754e+00  6.198564e-01  3.296665e-01   \n",
              "\n",
              "       ...  RegiaoMetropolitana_Região Metropolitana de Ribeirão Preto  \\\n",
              "count  ...                                       1.205660e+05            \n",
              "mean   ...                                      -6.793608e-17            \n",
              "std    ...                                       1.000004e+00            \n",
              "min    ...                                      -2.427251e-01            \n",
              "25%    ...                                      -2.427251e-01            \n",
              "50%    ...                                      -2.427251e-01            \n",
              "75%    ...                                      -2.427251e-01            \n",
              "max    ...                                       4.119886e+00            \n",
              "\n",
              "       RegiaoMetropolitana_Região Metropolitana de Sorocaba  \\\n",
              "count                                       1.205660e+05      \n",
              "mean                                        4.019294e-17      \n",
              "std                                         1.000004e+00      \n",
              "min                                        -2.432228e-01      \n",
              "25%                                        -2.432228e-01      \n",
              "50%                                        -2.432228e-01      \n",
              "75%                                        -2.432228e-01      \n",
              "max                                         4.111456e+00      \n",
              "\n",
              "       RegiaoMetropolitana_Região Metropolitana de São Paulo  \\\n",
              "count                                       1.205660e+05       \n",
              "mean                                        1.379054e-17       \n",
              "std                                         1.000004e+00       \n",
              "min                                        -8.052361e-01       \n",
              "25%                                        -8.052361e-01       \n",
              "50%                                        -8.052361e-01       \n",
              "75%                                         1.241872e+00       \n",
              "max                                         1.241872e+00       \n",
              "\n",
              "       RegiaoMetropolitana_Região Metropolitana do Vale do Paraíba e Litoral Norte  \\\n",
              "count                                       1.205660e+05                             \n",
              "mean                                        2.805255e-17                             \n",
              "std                                         1.000004e+00                             \n",
              "min                                        -2.898989e-01                             \n",
              "25%                                        -2.898989e-01                             \n",
              "50%                                        -2.898989e-01                             \n",
              "75%                                        -2.898989e-01                             \n",
              "max                                         3.449478e+00                             \n",
              "\n",
              "              idade  PERIODO_MANHÃ  PERIODO_NOITE  PERIODO_TARDE  \\\n",
              "count  1.205660e+05   1.205660e+05   1.205660e+05   1.205660e+05   \n",
              "mean  -1.446238e-16  -1.155105e-17   3.500675e-17  -1.183393e-16   \n",
              "std    1.000004e+00   1.000004e+00   1.000004e+00   1.000004e+00   \n",
              "min   -2.325815e+00  -1.465640e+00  -3.518703e-01  -5.116614e-01   \n",
              "25%   -2.982680e-01  -1.465640e+00  -3.518703e-01  -5.116614e-01   \n",
              "50%    1.072414e-01   6.822956e-01  -3.518703e-01  -5.116614e-01   \n",
              "75%    9.182604e-01   6.822956e-01  -3.518703e-01  -5.116614e-01   \n",
              "max    1.632762e+01   6.822956e-01   2.841956e+00   1.954418e+00   \n",
              "\n",
              "       Tipo_PROVA_A  Tipo_PROVA_C  \n",
              "count  1.205660e+05  1.205660e+05  \n",
              "mean  -1.284760e-17  1.941283e-16  \n",
              "std    1.000004e+00  1.000004e+00  \n",
              "min   -3.021914e-02 -3.309161e+01  \n",
              "25%   -3.021914e-02  3.021914e-02  \n",
              "50%   -3.021914e-02  3.021914e-02  \n",
              "75%   -3.021914e-02  3.021914e-02  \n",
              "max    3.309161e+01  3.021914e-02  \n",
              "\n",
              "[8 rows x 85 columns]"
            ]
          },
          "execution_count": 38,
          "metadata": {},
          "output_type": "execute_result"
        }
      ],
      "source": [
        "df_cie_lr.describe()"
      ]
    },
    {
      "cell_type": "code",
      "execution_count": 39,
      "metadata": {},
      "outputs": [],
      "source": [
        "\"\"\"Function to split the data into train and validation sets\"\"\"\n",
        "from sklearn.model_selection import train_test_split\n",
        "def split_data(df, target, validation_size):\n",
        "    X = df.drop(columns=[target])\n",
        "    y = df[target]\n",
        "    return train_test_split(X, y, test_size=validation_size, random_state=42)\n",
        "\n",
        "    \n",
        "X_train_cie, X_val_cie, y_train_cie, y_val_cie = split_data(df_cie_lr, 'porc_ACERT_CIE', 0.2)\n",
        "X_train_mat, X_val_mat, y_train_mat, y_val_mat = split_data(df_mat_lr, 'porc_ACERT_MAT', 0.2)\n",
        "X_train_lp, X_val_lp, y_train_lp, y_val_lp = split_data(df_lp_lr, 'porc_ACERT_lp', 0.2)"
      ]
    },
    {
      "cell_type": "markdown",
      "metadata": {},
      "source": [
        "## Linear Regression"
      ]
    },
    {
      "cell_type": "code",
      "execution_count": 50,
      "metadata": {},
      "outputs": [
        {
          "name": "stdout",
          "output_type": "stream",
          "text": [
            "Wall time: 0 ns\n"
          ]
        }
      ],
      "source": [
        "%%time\n",
        "\"\"\"Function to evaluate the model using the validation set and the R2 score\"\"\"\n",
        "def evaluate_model(X_val, y_val, w, b):\n",
        "    from sklearn.metrics import r2_score\n",
        "    y_pred = np.dot(X_val, w) + b\n",
        "    error = y_pred - y_val\n",
        "    mse = (1/X_val.shape[0]) * np.sum(error**2)\n",
        "    return mse, r2_score(y_val, y_pred)\n"
      ]
    },
    {
      "cell_type": "code",
      "execution_count": 31,
      "metadata": {
        "id": "D9cpdif9JxFR"
      },
      "outputs": [
        {
          "name": "stdout",
          "output_type": "stream",
          "text": [
            "Wall time: 0 ns\n"
          ]
        }
      ],
      "source": [
        "%%time\n",
        "# TODO: Linear Regression. Implement your solution. You cannot use scikit-learn, Keras/TensorFlow, or PyTorch libraries.\n",
        "\n",
        "\n",
        "def linear_regression(X_train, y_train, X_val, y_val, learning_rate, epochs):\n",
        "    train_loss, val_loss,  r2_list = [], [], []\n",
        "    w = np.random.rand(X_train.shape[1])*0.001 - 0.0005\n",
        "    b = 0\n",
        "    m = X_train.shape[0]\n",
        "    for i in range(epochs):\n",
        "        y_pred = np.dot(X_train, w) + b\n",
        "        error = y_pred - y_train\n",
        "        mse = (1/m) * np.sum(error**2)\n",
        "        w = w - (learning_rate * (1/m) * np.dot(X_train.T, error))\n",
        "        b = b - (learning_rate * (1/m) * np.sum(error))\n",
        "        mse_val, r2 = evaluate_model(X_val, y_val, w, b)\n",
        "        train_loss.append(mse)\n",
        "        val_loss.append(mse_val)\n",
        "        r2_list.append(r2)\n",
        "        if i % 100 == 0:\n",
        "            print(\"Epoch: {}, Train Loss: {}, Val Loss: {}, R2: {}\".format(\n",
        "                i, mse, mse_val, r2))\n",
        "    return w, b, train_loss, val_loss, r2_list\n",
        "\n",
        "\n",
        "#print('Science')\n",
        "#w_cie, b_cie, train_loss_cie, val_loss_cie, r2_cie = linear_regression(\n",
        "#    X_train_cie, y_train_cie, X_val_cie, y_val_cie, 0.01, 1000)\n",
        "#print('Math')\n",
        "#w_mat, b_mat,  train_loss_mat, val_loss_mat, r2_mat = linear_regression(\n",
        "#    X_train_mat, y_train_mat, X_val_mat, y_val_mat, 0.01, 1000)\n",
        "#print('Portuguese')\n",
        "#w_lp, b_lp,  train_loss_lp, val_loss_lp, r2_lp = linear_regression(\n",
        "#    X_train_lp, y_train_lp, X_val_lp, y_val_lp, 0.01, 1000)\n"
      ]
    },
    {
      "cell_type": "code",
      "execution_count": 38,
      "metadata": {},
      "outputs": [
        {
          "data": {
            "text/html": [
              "<div>\n",
              "<style scoped>\n",
              "    .dataframe tbody tr th:only-of-type {\n",
              "        vertical-align: middle;\n",
              "    }\n",
              "\n",
              "    .dataframe tbody tr th {\n",
              "        vertical-align: top;\n",
              "    }\n",
              "\n",
              "    .dataframe thead th {\n",
              "        text-align: right;\n",
              "    }\n",
              "</style>\n",
              "<table border=\"1\" class=\"dataframe\">\n",
              "  <thead>\n",
              "    <tr style=\"text-align: right;\">\n",
              "      <th></th>\n",
              "      <th>Q1</th>\n",
              "      <th>Q2</th>\n",
              "      <th>Q3</th>\n",
              "      <th>Q4</th>\n",
              "      <th>Q5</th>\n",
              "      <th>Q6</th>\n",
              "      <th>Q7</th>\n",
              "      <th>Q8</th>\n",
              "      <th>Q9</th>\n",
              "      <th>Q10</th>\n",
              "      <th>...</th>\n",
              "      <th>RegiaoMetropolitana_Região Metropolitana de Ribeirão Preto</th>\n",
              "      <th>RegiaoMetropolitana_Região Metropolitana de Sorocaba</th>\n",
              "      <th>RegiaoMetropolitana_Região Metropolitana de São Paulo</th>\n",
              "      <th>RegiaoMetropolitana_Região Metropolitana do Vale do Paraíba e Litoral Norte</th>\n",
              "      <th>idade</th>\n",
              "      <th>PERIODO_MANHÃ</th>\n",
              "      <th>PERIODO_NOITE</th>\n",
              "      <th>PERIODO_TARDE</th>\n",
              "      <th>Tipo_PROVA_A</th>\n",
              "      <th>Tipo_PROVA_C</th>\n",
              "    </tr>\n",
              "  </thead>\n",
              "  <tbody>\n",
              "    <tr>\n",
              "      <th>0</th>\n",
              "      <td>0.309904</td>\n",
              "      <td>0.866332</td>\n",
              "      <td>0.741414</td>\n",
              "      <td>0.937816</td>\n",
              "      <td>0.973071</td>\n",
              "      <td>0.941114</td>\n",
              "      <td>0.894572</td>\n",
              "      <td>1.145754</td>\n",
              "      <td>-0.762282</td>\n",
              "      <td>0.329666</td>\n",
              "      <td>...</td>\n",
              "      <td>-0.242725</td>\n",
              "      <td>-0.243223</td>\n",
              "      <td>-0.805236</td>\n",
              "      <td>3.449478</td>\n",
              "      <td>0.918260</td>\n",
              "      <td>0.682296</td>\n",
              "      <td>-0.35187</td>\n",
              "      <td>-0.511661</td>\n",
              "      <td>-0.030219</td>\n",
              "      <td>0.030219</td>\n",
              "    </tr>\n",
              "    <tr>\n",
              "      <th>1</th>\n",
              "      <td>0.309904</td>\n",
              "      <td>-0.194625</td>\n",
              "      <td>0.741414</td>\n",
              "      <td>-0.769410</td>\n",
              "      <td>0.973071</td>\n",
              "      <td>0.941114</td>\n",
              "      <td>0.894572</td>\n",
              "      <td>1.145754</td>\n",
              "      <td>0.619856</td>\n",
              "      <td>0.329666</td>\n",
              "      <td>...</td>\n",
              "      <td>-0.242725</td>\n",
              "      <td>-0.243223</td>\n",
              "      <td>1.241872</td>\n",
              "      <td>-0.289899</td>\n",
              "      <td>-1.514796</td>\n",
              "      <td>0.682296</td>\n",
              "      <td>-0.35187</td>\n",
              "      <td>-0.511661</td>\n",
              "      <td>-0.030219</td>\n",
              "      <td>0.030219</td>\n",
              "    </tr>\n",
              "    <tr>\n",
              "      <th>2</th>\n",
              "      <td>0.309904</td>\n",
              "      <td>0.866332</td>\n",
              "      <td>-2.165903</td>\n",
              "      <td>0.084203</td>\n",
              "      <td>0.973071</td>\n",
              "      <td>-1.491089</td>\n",
              "      <td>-0.014408</td>\n",
              "      <td>-0.426294</td>\n",
              "      <td>0.619856</td>\n",
              "      <td>0.329666</td>\n",
              "      <td>...</td>\n",
              "      <td>-0.242725</td>\n",
              "      <td>-0.243223</td>\n",
              "      <td>-0.805236</td>\n",
              "      <td>-0.289899</td>\n",
              "      <td>-0.298268</td>\n",
              "      <td>0.682296</td>\n",
              "      <td>-0.35187</td>\n",
              "      <td>-0.511661</td>\n",
              "      <td>-0.030219</td>\n",
              "      <td>0.030219</td>\n",
              "    </tr>\n",
              "    <tr>\n",
              "      <th>3</th>\n",
              "      <td>0.309904</td>\n",
              "      <td>-0.194625</td>\n",
              "      <td>0.741414</td>\n",
              "      <td>0.084203</td>\n",
              "      <td>-0.962827</td>\n",
              "      <td>0.941114</td>\n",
              "      <td>-0.014408</td>\n",
              "      <td>0.359730</td>\n",
              "      <td>0.619856</td>\n",
              "      <td>0.329666</td>\n",
              "      <td>...</td>\n",
              "      <td>-0.242725</td>\n",
              "      <td>-0.243223</td>\n",
              "      <td>1.241872</td>\n",
              "      <td>-0.289899</td>\n",
              "      <td>0.918260</td>\n",
              "      <td>0.682296</td>\n",
              "      <td>-0.35187</td>\n",
              "      <td>-0.511661</td>\n",
              "      <td>-0.030219</td>\n",
              "      <td>0.030219</td>\n",
              "    </tr>\n",
              "    <tr>\n",
              "      <th>4</th>\n",
              "      <td>0.309904</td>\n",
              "      <td>-0.194625</td>\n",
              "      <td>0.741414</td>\n",
              "      <td>0.937816</td>\n",
              "      <td>0.973071</td>\n",
              "      <td>0.941114</td>\n",
              "      <td>0.894572</td>\n",
              "      <td>-0.426294</td>\n",
              "      <td>0.619856</td>\n",
              "      <td>0.329666</td>\n",
              "      <td>...</td>\n",
              "      <td>-0.242725</td>\n",
              "      <td>-0.243223</td>\n",
              "      <td>-0.805236</td>\n",
              "      <td>-0.289899</td>\n",
              "      <td>-0.298268</td>\n",
              "      <td>0.682296</td>\n",
              "      <td>-0.35187</td>\n",
              "      <td>-0.511661</td>\n",
              "      <td>-0.030219</td>\n",
              "      <td>0.030219</td>\n",
              "    </tr>\n",
              "    <tr>\n",
              "      <th>...</th>\n",
              "      <td>...</td>\n",
              "      <td>...</td>\n",
              "      <td>...</td>\n",
              "      <td>...</td>\n",
              "      <td>...</td>\n",
              "      <td>...</td>\n",
              "      <td>...</td>\n",
              "      <td>...</td>\n",
              "      <td>...</td>\n",
              "      <td>...</td>\n",
              "      <td>...</td>\n",
              "      <td>...</td>\n",
              "      <td>...</td>\n",
              "      <td>...</td>\n",
              "      <td>...</td>\n",
              "      <td>...</td>\n",
              "      <td>...</td>\n",
              "      <td>...</td>\n",
              "      <td>...</td>\n",
              "      <td>...</td>\n",
              "      <td>...</td>\n",
              "    </tr>\n",
              "    <tr>\n",
              "      <th>120591</th>\n",
              "      <td>-1.267496</td>\n",
              "      <td>0.866332</td>\n",
              "      <td>0.741414</td>\n",
              "      <td>0.937816</td>\n",
              "      <td>0.973071</td>\n",
              "      <td>0.941114</td>\n",
              "      <td>0.894572</td>\n",
              "      <td>1.145754</td>\n",
              "      <td>0.619856</td>\n",
              "      <td>-2.214928</td>\n",
              "      <td>...</td>\n",
              "      <td>-0.242725</td>\n",
              "      <td>-0.243223</td>\n",
              "      <td>1.241872</td>\n",
              "      <td>-0.289899</td>\n",
              "      <td>0.107241</td>\n",
              "      <td>-1.465640</td>\n",
              "      <td>-0.35187</td>\n",
              "      <td>1.954418</td>\n",
              "      <td>-0.030219</td>\n",
              "      <td>0.030219</td>\n",
              "    </tr>\n",
              "    <tr>\n",
              "      <th>120592</th>\n",
              "      <td>0.309904</td>\n",
              "      <td>-0.194625</td>\n",
              "      <td>-0.227692</td>\n",
              "      <td>0.084203</td>\n",
              "      <td>0.005122</td>\n",
              "      <td>0.130379</td>\n",
              "      <td>-0.014408</td>\n",
              "      <td>0.359730</td>\n",
              "      <td>0.619856</td>\n",
              "      <td>-2.214928</td>\n",
              "      <td>...</td>\n",
              "      <td>-0.242725</td>\n",
              "      <td>-0.243223</td>\n",
              "      <td>1.241872</td>\n",
              "      <td>-0.289899</td>\n",
              "      <td>-1.109287</td>\n",
              "      <td>0.682296</td>\n",
              "      <td>-0.35187</td>\n",
              "      <td>-0.511661</td>\n",
              "      <td>-0.030219</td>\n",
              "      <td>0.030219</td>\n",
              "    </tr>\n",
              "    <tr>\n",
              "      <th>120593</th>\n",
              "      <td>-1.267496</td>\n",
              "      <td>0.866332</td>\n",
              "      <td>0.741414</td>\n",
              "      <td>0.937816</td>\n",
              "      <td>0.973071</td>\n",
              "      <td>0.941114</td>\n",
              "      <td>-0.014408</td>\n",
              "      <td>0.359730</td>\n",
              "      <td>0.619856</td>\n",
              "      <td>0.329666</td>\n",
              "      <td>...</td>\n",
              "      <td>4.119886</td>\n",
              "      <td>-0.243223</td>\n",
              "      <td>-0.805236</td>\n",
              "      <td>-0.289899</td>\n",
              "      <td>1.323770</td>\n",
              "      <td>0.682296</td>\n",
              "      <td>-0.35187</td>\n",
              "      <td>-0.511661</td>\n",
              "      <td>-0.030219</td>\n",
              "      <td>0.030219</td>\n",
              "    </tr>\n",
              "    <tr>\n",
              "      <th>120594</th>\n",
              "      <td>0.309904</td>\n",
              "      <td>0.866332</td>\n",
              "      <td>-1.196797</td>\n",
              "      <td>-0.769410</td>\n",
              "      <td>0.005122</td>\n",
              "      <td>-1.491089</td>\n",
              "      <td>-1.832366</td>\n",
              "      <td>-1.998341</td>\n",
              "      <td>0.619856</td>\n",
              "      <td>0.329666</td>\n",
              "      <td>...</td>\n",
              "      <td>4.119886</td>\n",
              "      <td>-0.243223</td>\n",
              "      <td>-0.805236</td>\n",
              "      <td>-0.289899</td>\n",
              "      <td>-1.514796</td>\n",
              "      <td>-1.465640</td>\n",
              "      <td>-0.35187</td>\n",
              "      <td>1.954418</td>\n",
              "      <td>-0.030219</td>\n",
              "      <td>0.030219</td>\n",
              "    </tr>\n",
              "    <tr>\n",
              "      <th>120595</th>\n",
              "      <td>-1.267496</td>\n",
              "      <td>-3.377497</td>\n",
              "      <td>-3.135009</td>\n",
              "      <td>-2.476635</td>\n",
              "      <td>-2.898725</td>\n",
              "      <td>-2.301823</td>\n",
              "      <td>-2.741345</td>\n",
              "      <td>-1.998341</td>\n",
              "      <td>0.619856</td>\n",
              "      <td>-4.759523</td>\n",
              "      <td>...</td>\n",
              "      <td>-0.242725</td>\n",
              "      <td>-0.243223</td>\n",
              "      <td>-0.805236</td>\n",
              "      <td>-0.289899</td>\n",
              "      <td>0.512751</td>\n",
              "      <td>0.682296</td>\n",
              "      <td>-0.35187</td>\n",
              "      <td>-0.511661</td>\n",
              "      <td>-0.030219</td>\n",
              "      <td>0.030219</td>\n",
              "    </tr>\n",
              "  </tbody>\n",
              "</table>\n",
              "<p>120566 rows × 85 columns</p>\n",
              "</div>"
            ],
            "text/plain": [
              "              Q1        Q2        Q3        Q4        Q5        Q6        Q7  \\\n",
              "0       0.309904  0.866332  0.741414  0.937816  0.973071  0.941114  0.894572   \n",
              "1       0.309904 -0.194625  0.741414 -0.769410  0.973071  0.941114  0.894572   \n",
              "2       0.309904  0.866332 -2.165903  0.084203  0.973071 -1.491089 -0.014408   \n",
              "3       0.309904 -0.194625  0.741414  0.084203 -0.962827  0.941114 -0.014408   \n",
              "4       0.309904 -0.194625  0.741414  0.937816  0.973071  0.941114  0.894572   \n",
              "...          ...       ...       ...       ...       ...       ...       ...   \n",
              "120591 -1.267496  0.866332  0.741414  0.937816  0.973071  0.941114  0.894572   \n",
              "120592  0.309904 -0.194625 -0.227692  0.084203  0.005122  0.130379 -0.014408   \n",
              "120593 -1.267496  0.866332  0.741414  0.937816  0.973071  0.941114 -0.014408   \n",
              "120594  0.309904  0.866332 -1.196797 -0.769410  0.005122 -1.491089 -1.832366   \n",
              "120595 -1.267496 -3.377497 -3.135009 -2.476635 -2.898725 -2.301823 -2.741345   \n",
              "\n",
              "              Q8        Q9       Q10  ...  \\\n",
              "0       1.145754 -0.762282  0.329666  ...   \n",
              "1       1.145754  0.619856  0.329666  ...   \n",
              "2      -0.426294  0.619856  0.329666  ...   \n",
              "3       0.359730  0.619856  0.329666  ...   \n",
              "4      -0.426294  0.619856  0.329666  ...   \n",
              "...          ...       ...       ...  ...   \n",
              "120591  1.145754  0.619856 -2.214928  ...   \n",
              "120592  0.359730  0.619856 -2.214928  ...   \n",
              "120593  0.359730  0.619856  0.329666  ...   \n",
              "120594 -1.998341  0.619856  0.329666  ...   \n",
              "120595 -1.998341  0.619856 -4.759523  ...   \n",
              "\n",
              "        RegiaoMetropolitana_Região Metropolitana de Ribeirão Preto  \\\n",
              "0                                               -0.242725            \n",
              "1                                               -0.242725            \n",
              "2                                               -0.242725            \n",
              "3                                               -0.242725            \n",
              "4                                               -0.242725            \n",
              "...                                                   ...            \n",
              "120591                                          -0.242725            \n",
              "120592                                          -0.242725            \n",
              "120593                                           4.119886            \n",
              "120594                                           4.119886            \n",
              "120595                                          -0.242725            \n",
              "\n",
              "        RegiaoMetropolitana_Região Metropolitana de Sorocaba  \\\n",
              "0                                               -0.243223      \n",
              "1                                               -0.243223      \n",
              "2                                               -0.243223      \n",
              "3                                               -0.243223      \n",
              "4                                               -0.243223      \n",
              "...                                                   ...      \n",
              "120591                                          -0.243223      \n",
              "120592                                          -0.243223      \n",
              "120593                                          -0.243223      \n",
              "120594                                          -0.243223      \n",
              "120595                                          -0.243223      \n",
              "\n",
              "        RegiaoMetropolitana_Região Metropolitana de São Paulo  \\\n",
              "0                                               -0.805236       \n",
              "1                                                1.241872       \n",
              "2                                               -0.805236       \n",
              "3                                                1.241872       \n",
              "4                                               -0.805236       \n",
              "...                                                   ...       \n",
              "120591                                           1.241872       \n",
              "120592                                           1.241872       \n",
              "120593                                          -0.805236       \n",
              "120594                                          -0.805236       \n",
              "120595                                          -0.805236       \n",
              "\n",
              "        RegiaoMetropolitana_Região Metropolitana do Vale do Paraíba e Litoral Norte  \\\n",
              "0                                                3.449478                             \n",
              "1                                               -0.289899                             \n",
              "2                                               -0.289899                             \n",
              "3                                               -0.289899                             \n",
              "4                                               -0.289899                             \n",
              "...                                                   ...                             \n",
              "120591                                          -0.289899                             \n",
              "120592                                          -0.289899                             \n",
              "120593                                          -0.289899                             \n",
              "120594                                          -0.289899                             \n",
              "120595                                          -0.289899                             \n",
              "\n",
              "           idade  PERIODO_MANHÃ  PERIODO_NOITE  PERIODO_TARDE  Tipo_PROVA_A  \\\n",
              "0       0.918260       0.682296       -0.35187      -0.511661     -0.030219   \n",
              "1      -1.514796       0.682296       -0.35187      -0.511661     -0.030219   \n",
              "2      -0.298268       0.682296       -0.35187      -0.511661     -0.030219   \n",
              "3       0.918260       0.682296       -0.35187      -0.511661     -0.030219   \n",
              "4      -0.298268       0.682296       -0.35187      -0.511661     -0.030219   \n",
              "...          ...            ...            ...            ...           ...   \n",
              "120591  0.107241      -1.465640       -0.35187       1.954418     -0.030219   \n",
              "120592 -1.109287       0.682296       -0.35187      -0.511661     -0.030219   \n",
              "120593  1.323770       0.682296       -0.35187      -0.511661     -0.030219   \n",
              "120594 -1.514796      -1.465640       -0.35187       1.954418     -0.030219   \n",
              "120595  0.512751       0.682296       -0.35187      -0.511661     -0.030219   \n",
              "\n",
              "        Tipo_PROVA_C  \n",
              "0           0.030219  \n",
              "1           0.030219  \n",
              "2           0.030219  \n",
              "3           0.030219  \n",
              "4           0.030219  \n",
              "...              ...  \n",
              "120591      0.030219  \n",
              "120592      0.030219  \n",
              "120593      0.030219  \n",
              "120594      0.030219  \n",
              "120595      0.030219  \n",
              "\n",
              "[120566 rows x 85 columns]"
            ]
          },
          "execution_count": 38,
          "metadata": {},
          "output_type": "execute_result"
        }
      ],
      "source": [
        "df_cie_lr"
      ]
    },
    {
      "cell_type": "code",
      "execution_count": 51,
      "metadata": {},
      "outputs": [
        {
          "name": "stdout",
          "output_type": "stream",
          "text": [
            "porc_ACERT_CIE\n",
            "(array([ 12057,  12058,  12059, ..., 120563, 120564, 120565]), array([    0,     1,     2, ..., 12054, 12055, 12056]))\n",
            "Epoch: 0, Train Loss: 0.9991698072150091, Val Loss: 0.9767786733128294, R2: 0.023799005774421178\n",
            "Epoch: 100, Train Loss: 0.5053716443431893, Val Loss: 0.5127179831531535, R2: 0.4875852446553738\n",
            "Epoch: 200, Train Loss: 0.4838830148126254, Val Loss: 0.49176187537905597, R2: 0.5085289587260234\n",
            "Epoch: 300, Train Loss: 0.48008935361883165, Val Loss: 0.4879083230829914, R2: 0.5123802319832086\n",
            "Epoch: 400, Train Loss: 0.478995245043859, Val Loss: 0.48675537509707173, R2: 0.5135324981013129\n",
            "Epoch: 500, Train Loss: 0.4785081628487643, Val Loss: 0.4862491738373317, R2: 0.5140383999873158\n",
            "Epoch: 600, Train Loss: 0.4781913209097156, Val Loss: 0.4859402264719133, R2: 0.5143471646374099\n",
            "Epoch: 700, Train Loss: 0.477935954358074, Val Loss: 0.4857067204888082, R2: 0.5145805325221648\n",
            "Epoch: 800, Train Loss: 0.4777109100086618, Val Loss: 0.4855098499317113, R2: 0.5147772866475595\n",
            "Epoch: 900, Train Loss: 0.4775057521367363, Val Loss: 0.48533544143347246, R2: 0.5149515919984378\n",
            "(array([     0,      1,      2, ..., 120563, 120564, 120565]), array([12057, 12058, 12059, ..., 24111, 24112, 24113]))\n",
            "Epoch: 0, Train Loss: 1.0024707535219841, Val Loss: 0.9688476765947901, R2: 0.02184154944033012\n",
            "Epoch: 100, Train Loss: 0.5067060043741112, Val Loss: 0.5015213766043243, R2: 0.4936589264619634\n",
            "Epoch: 200, Train Loss: 0.48521517974586814, Val Loss: 0.4800494257511381, R2: 0.515337226038286\n",
            "Epoch: 300, Train Loss: 0.48145930041877055, Val Loss: 0.4759630432327622, R2: 0.5194628793160205\n",
            "Epoch: 400, Train Loss: 0.48039178190796794, Val Loss: 0.4746666539902743, R2: 0.5207717270568862\n",
            "Epoch: 500, Train Loss: 0.47992364960255485, Val Loss: 0.4740364527156586, R2: 0.5214079846618851\n",
            "Epoch: 600, Train Loss: 0.47962205607079184, Val Loss: 0.4736115689384196, R2: 0.5218369516370371\n",
            "Epoch: 700, Train Loss: 0.47938005600040795, Val Loss: 0.47327090985380516, R2: 0.5221808845074206\n",
            "Epoch: 800, Train Loss: 0.47916724435994734, Val Loss: 0.4729762920064099, R2: 0.5224783336772718\n",
            "Epoch: 900, Train Loss: 0.47897350251170145, Val Loss: 0.4727127921206012, R2: 0.5227443658371786\n",
            "(array([     0,      1,      2, ..., 120563, 120564, 120565]), array([24114, 24115, 24116, ..., 36168, 36169, 36170]))\n",
            "Epoch: 0, Train Loss: 1.0021176681423776, Val Loss: 0.9632869488107455, R2: 0.022895284449259257\n",
            "Epoch: 100, Train Loss: 0.5056849312285718, Val Loss: 0.5070370294544512, R2: 0.4856898320376606\n",
            "Epoch: 200, Train Loss: 0.48415572756476677, Val Loss: 0.4883289756508613, R2: 0.5046662415206629\n",
            "Epoch: 300, Train Loss: 0.4803889452159126, Val Loss: 0.4850086168306633, R2: 0.5080342288732802\n",
            "Epoch: 400, Train Loss: 0.47930925192640106, Val Loss: 0.48398529461457346, R2: 0.5090722300255885\n",
            "Epoch: 500, Train Loss: 0.47882980809610354, Val Loss: 0.48349035990072786, R2: 0.5095742642775687\n",
            "Epoch: 600, Train Loss: 0.4785177575189462, Val Loss: 0.4831562521428306, R2: 0.50991316460851\n",
            "Epoch: 700, Train Loss: 0.4782659472083433, Val Loss: 0.48288871044783765, R2: 0.5101845440267683\n",
            "Epoch: 800, Train Loss: 0.47804386174619096, Val Loss: 0.48265838449004117, R2: 0.5104181738706632\n",
            "Epoch: 900, Train Loss: 0.47784132845755567, Val Loss: 0.4824538621735518, R2: 0.5106256299356746\n",
            "(array([     0,      1,      2, ..., 120563, 120564, 120565]), array([36171, 36172, 36173, ..., 48225, 48226, 48227]))\n",
            "Epoch: 0, Train Loss: 1.0008122350318915, Val Loss: 0.9687866075003024, R2: 0.023270802710516403\n",
            "Epoch: 100, Train Loss: 0.505948280849049, Val Loss: 0.5062830501007816, R2: 0.4895661920821368\n",
            "Epoch: 200, Train Loss: 0.48436591814775254, Val Loss: 0.48632225696693965, R2: 0.5096906336298827\n",
            "Epoch: 300, Train Loss: 0.48056240235077635, Val Loss: 0.4830375410198242, R2: 0.5130022792962364\n",
            "Epoch: 400, Train Loss: 0.4794734755143848, Val Loss: 0.4821628149233344, R2: 0.5138841768281162\n",
            "Epoch: 500, Train Loss: 0.47899362475170715, Val Loss: 0.48176649127126536, R2: 0.5142837497366961\n",
            "Epoch: 600, Train Loss: 0.47868374350195825, Val Loss: 0.48148141766298685, R2: 0.5145711605188299\n",
            "Epoch: 700, Train Loss: 0.4784349426096438, Val Loss: 0.48123176493615283, R2: 0.5148228600216862\n",
            "Epoch: 800, Train Loss: 0.47821623599248025, Val Loss: 0.4810017039573324, R2: 0.5150548071537288\n",
            "Epoch: 900, Train Loss: 0.4780173130421322, Val Loss: 0.4807876854000959, R2: 0.5152705803405134\n",
            "(array([     0,      1,      2, ..., 120563, 120564, 120565]), array([48228, 48229, 48230, ..., 60282, 60283, 60284]))\n",
            "Epoch: 0, Train Loss: 1.0005786462276849, Val Loss: 0.9619472673333207, R2: 0.024365366981856984\n",
            "Epoch: 100, Train Loss: 0.5065668828597372, Val Loss: 0.5007073677513934, R2: 0.4921681618371496\n",
            "Epoch: 200, Train Loss: 0.485092857250421, Val Loss: 0.48014425295128194, R2: 0.513023865307603\n",
            "Epoch: 300, Train Loss: 0.48132214902616044, Val Loss: 0.47648559102614074, R2: 0.5167345856411281\n",
            "Epoch: 400, Train Loss: 0.48024019973647647, Val Loss: 0.475431452212636, R2: 0.5178037235963873\n",
            "Epoch: 500, Train Loss: 0.4797600142428449, Val Loss: 0.47496105531037625, R2: 0.518280813687179\n",
            "Epoch: 600, Train Loss: 0.47944867150723747, Val Loss: 0.47465415758719653, R2: 0.5185920782000027\n",
            "Epoch: 700, Train Loss: 0.47919872079391423, Val Loss: 0.47440645728043257, R2: 0.5188433029875714\n",
            "Epoch: 800, Train Loss: 0.4789793047863496, Val Loss: 0.4741876012175981, R2: 0.5190652731119206\n",
            "Epoch: 900, Train Loss: 0.47877998479403827, Val Loss: 0.4739870384263451, R2: 0.5192686896731877\n",
            "(array([     0,      1,      2, ..., 120563, 120564, 120565]), array([60285, 60286, 60287, ..., 72339, 72340, 72341]))\n",
            "Epoch: 0, Train Loss: 0.9985297791609575, Val Loss: 0.9778697191257025, R2: 0.02487392302393432\n",
            "Epoch: 100, Train Loss: 0.5072821968201346, Val Loss: 0.4955531397707354, R2: 0.5058372504367408\n",
            "Epoch: 200, Train Loss: 0.4857929345062714, Val Loss: 0.4737254528702941, R2: 0.5276036946576739\n",
            "Epoch: 300, Train Loss: 0.48200009176194797, Val Loss: 0.47002296584174497, R2: 0.531295793493122\n",
            "Epoch: 400, Train Loss: 0.4809050355906172, Val Loss: 0.46905534970926777, R2: 0.5322606947522844\n",
            "Epoch: 500, Train Loss: 0.4804162762549178, Val Loss: 0.4686707483994765, R2: 0.5326442169731709\n",
            "Epoch: 600, Train Loss: 0.480098107637077, Val Loss: 0.46843227423327977, R2: 0.5328820220443324\n",
            "Epoch: 700, Train Loss: 0.4798420286802514, Val Loss: 0.4682382867316779, R2: 0.5330754652686391\n",
            "Epoch: 800, Train Loss: 0.47961684073758376, Val Loss: 0.468063397279289, R2: 0.5332498640277754\n",
            "Epoch: 900, Train Loss: 0.47941200701585485, Val Loss: 0.46790094421175926, R2: 0.5334118612952381\n",
            "(array([     0,      1,      2, ..., 120563, 120564, 120565]), array([72342, 72343, 72344, ..., 84395, 84396, 84397]))\n",
            "Epoch: 0, Train Loss: 0.9982647863802788, Val Loss: 0.9952436272257602, R2: 0.02292862586968114\n",
            "Epoch: 100, Train Loss: 0.5048307832582377, Val Loss: 0.5168044587702284, R2: 0.4926319256171843\n",
            "Epoch: 200, Train Loss: 0.4833566215182382, Val Loss: 0.495687026240939, R2: 0.5133637728303256\n",
            "Epoch: 300, Train Loss: 0.4795734788832919, Val Loss: 0.4921120024910189, R2: 0.5168735198634414\n",
            "Epoch: 400, Train Loss: 0.4784833356831177, Val Loss: 0.49114517293216375, R2: 0.517822695984522\n",
            "Epoch: 500, Train Loss: 0.4779975408040192, Val Loss: 0.49073697756600343, R2: 0.5182234380705977\n",
            "Epoch: 600, Train Loss: 0.4776812589761695, Val Loss: 0.4904733441695805, R2: 0.5184822577584239\n",
            "Epoch: 700, Train Loss: 0.4774263957865387, Val Loss: 0.4902575141388254, R2: 0.5186941469270251\n",
            "Epoch: 800, Train Loss: 0.4772019586196727, Val Loss: 0.4900646827000959, R2: 0.5188834574371965\n",
            "Epoch: 900, Train Loss: 0.4769975208563453, Val Loss: 0.4898877482700514, R2: 0.5190571612037571\n",
            "(array([     0,      1,      2, ..., 120563, 120564, 120565]), array([84398, 84399, 84400, ..., 96451, 96452, 96453]))\n",
            "Epoch: 0, Train Loss: 0.9990655568757779, Val Loss: 0.9833552821866076, R2: 0.02327624770406611\n",
            "Epoch: 100, Train Loss: 0.5053840583799725, Val Loss: 0.511943824940396, R2: 0.49150861065326745\n",
            "Epoch: 200, Train Loss: 0.4838998921394162, Val Loss: 0.49087673527622183, R2: 0.5124336285379452\n",
            "Epoch: 300, Train Loss: 0.480131661836885, Val Loss: 0.48722471893972286, R2: 0.5160610164863779\n",
            "Epoch: 400, Train Loss: 0.47905741140494085, Val Loss: 0.48620390365923755, R2: 0.5170749476150536\n",
            "Epoch: 500, Train Loss: 0.4785859903058476, Val Loss: 0.4857440628206707, R2: 0.5175316873890091\n",
            "Epoch: 600, Train Loss: 0.47828279774451454, Val Loss: 0.4854256819942768, R2: 0.5178479211257345\n",
            "Epoch: 700, Train Loss: 0.47804005173942005, Val Loss: 0.4851523345067543, R2: 0.5181194252184363\n",
            "Epoch: 800, Train Loss: 0.4778269583515524, Val Loss: 0.48490054224546647, R2: 0.5183695194485678\n",
            "Epoch: 900, Train Loss: 0.477633209463291, Val Loss: 0.484664333630629, R2: 0.5186041351249037\n",
            "(array([     0,      1,      2, ..., 120563, 120564, 120565]), array([ 96454,  96455,  96456, ..., 108507, 108508, 108509]))\n",
            "Epoch: 0, Train Loss: 0.999787063354865, Val Loss: 0.9762071752020058, R2: 0.023274545320986273\n",
            "Epoch: 100, Train Loss: 0.5063247436678252, Val Loss: 0.5052853714843142, R2: 0.4944463667729688\n",
            "Epoch: 200, Train Loss: 0.48476183872325146, Val Loss: 0.4836278183793559, R2: 0.5161154181188554\n",
            "Epoch: 300, Train Loss: 0.48095131385288764, Val Loss: 0.4798556090591558, R2: 0.5198896301478282\n",
            "Epoch: 400, Train Loss: 0.4798550020246192, Val Loss: 0.4788098316116463, R2: 0.5209359628104624\n",
            "Epoch: 500, Train Loss: 0.47936860768259426, Val Loss: 0.4783684743576417, R2: 0.521377554386046\n",
            "Epoch: 600, Train Loss: 0.47905355536776356, Val Loss: 0.4780908909230983, R2: 0.5216552851927876\n",
            "Epoch: 700, Train Loss: 0.47880073983728255, Val Loss: 0.4778675182549137, R2: 0.5218787764520588\n",
            "Epoch: 800, Train Loss: 0.4785788260564826, Val Loss: 0.4776676913858604, R2: 0.5220787094114665\n",
            "Epoch: 900, Train Loss: 0.47837723259952436, Val Loss: 0.4774820610748132, R2: 0.5222644382757542\n",
            "(array([     0,      1,      2, ..., 108507, 108508, 108509]), array([108510, 108511, 108512, ..., 120563, 120564, 120565]))\n",
            "Epoch: 0, Train Loss: 0.9989136266385096, Val Loss: 0.993525364229814, R2: 0.023054003775591303\n",
            "Epoch: 100, Train Loss: 0.5067137728690957, Val Loss: 0.5021316420845469, R2: 0.5062476359701525\n",
            "Epoch: 200, Train Loss: 0.4851230282771533, Val Loss: 0.48017063288690226, R2: 0.5278421727390433\n",
            "Epoch: 300, Train Loss: 0.48130095055297456, Val Loss: 0.4764650383577342, R2: 0.5314859304821666\n",
            "Epoch: 400, Train Loss: 0.4801961493508471, Val Loss: 0.4754954000439026, R2: 0.5324393880410665\n",
            "Epoch: 500, Train Loss: 0.47970379880989783, Val Loss: 0.47511732107581145, R2: 0.5328111578492984\n",
            "Epoch: 600, Train Loss: 0.4793841533126891, Val Loss: 0.4748897435757348, R2: 0.5330349376696586\n",
            "Epoch: 700, Train Loss: 0.47912748579585823, Val Loss: 0.4747065196665478, R2: 0.5332151040458151\n",
            "Epoch: 800, Train Loss: 0.47890217773683186, Val Loss: 0.47454005507418956, R2: 0.5333787907747831\n",
            "Epoch: 900, Train Loss: 0.47869751724599435, Val Loss: 0.47438309507892096, R2: 0.5335331315137978\n",
            "porc_ACERT_MAT\n",
            "(array([ 12057,  12058,  12059, ..., 120563, 120564, 120565]), array([    0,     1,     2, ..., 12054, 12055, 12056]))\n",
            "Epoch: 0, Train Loss: 1.0000806626835046, Val Loss: 0.969964416670107, R2: 0.028901743334702856\n",
            "Epoch: 100, Train Loss: 0.4585450029166053, Val Loss: 0.461641690253489, R2: 0.5378186736497008\n",
            "Epoch: 200, Train Loss: 0.44282433424819273, Val Loss: 0.44617049068681286, R2: 0.5533079582765512\n",
            "Epoch: 300, Train Loss: 0.44066188496579073, Val Loss: 0.4439253953259553, R2: 0.5555556780418398\n",
            "Epoch: 400, Train Loss: 0.440172046146838, Val Loss: 0.44338788982791216, R2: 0.5560938118569849\n",
            "Epoch: 500, Train Loss: 0.4400186193762741, Val Loss: 0.4432089505677484, R2: 0.5562729602882136\n",
            "Epoch: 600, Train Loss: 0.43995586557893546, Val Loss: 0.44313121556399526, R2: 0.5563507861603065\n",
            "Epoch: 700, Train Loss: 0.43992404311448235, Val Loss: 0.44309041833733925, R2: 0.5563916310768846\n",
            "Epoch: 800, Train Loss: 0.43990496337578794, Val Loss: 0.4430664713411374, R2: 0.5564156060659298\n",
            "Epoch: 900, Train Loss: 0.43989192475951033, Val Loss: 0.4430515857161944, R2: 0.5564305090914254\n",
            "(array([     0,      1,      2, ..., 120563, 120564, 120565]), array([12057, 12058, 12059, ..., 24111, 24112, 24113]))\n",
            "Epoch: 0, Train Loss: 1.0009774594585565, Val Loss: 0.9669419058052052, R2: 0.02841748180708159\n",
            "Epoch: 100, Train Loss: 0.4586905567690188, Val Loss: 0.4592385159865493, R2: 0.5385574757546221\n",
            "Epoch: 200, Train Loss: 0.44267709116885806, Val Loss: 0.4462822353716446, R2: 0.5515759370196354\n",
            "Epoch: 300, Train Loss: 0.44045398224195403, Val Loss: 0.44519867783384093, R2: 0.5526646948393821\n",
            "Epoch: 400, Train Loss: 0.43994968386902383, Val Loss: 0.4451304230682677, R2: 0.5527332771777999\n",
            "Epoch: 500, Train Loss: 0.43979235870013794, Val Loss: 0.44514378780406055, R2: 0.5527198483010715\n",
            "Epoch: 600, Train Loss: 0.4397289328305759, Val Loss: 0.44514911067396795, R2: 0.5527144998852901\n",
            "Epoch: 700, Train Loss: 0.439697675354372, Val Loss: 0.4451461899137542, R2: 0.5527174346630119\n",
            "Epoch: 800, Train Loss: 0.4396796745897977, Val Loss: 0.4451398567210048, R2: 0.5527237982504445\n",
            "Epoch: 900, Train Loss: 0.4396679152283979, Val Loss: 0.44513256043393234, R2: 0.5527311295543467\n",
            "(array([     0,      1,      2, ..., 120563, 120564, 120565]), array([24114, 24115, 24116, ..., 36168, 36169, 36170]))\n",
            "Epoch: 0, Train Loss: 0.9993749906689606, Val Loss: 0.9767798749452129, R2: 0.028813873376460353\n",
            "Epoch: 100, Train Loss: 0.4582069163048489, Val Loss: 0.46465779481517794, R2: 0.5380031719252001\n",
            "Epoch: 200, Train Loss: 0.44239402096071584, Val Loss: 0.44988865573018616, R2: 0.5526877322334496\n",
            "Epoch: 300, Train Loss: 0.44022166633024573, Val Loss: 0.44783906939743684, R2: 0.5547255811518612\n",
            "Epoch: 400, Train Loss: 0.43973270778638834, Val Loss: 0.4473379436932497, R2: 0.5552238370476723\n",
            "Epoch: 500, Train Loss: 0.4395812958444306, Val Loss: 0.44715610119087734, R2: 0.5554046381883023\n",
            "Epoch: 600, Train Loss: 0.43952037503989394, Val Loss: 0.44706784558696316, R2: 0.5554923883767704\n",
            "Epoch: 700, Train Loss: 0.4394901513543351, Val Loss: 0.4470163428189529, R2: 0.5555435962026657\n",
            "Epoch: 800, Train Loss: 0.4394725011129851, Val Loss: 0.44698271832180964, R2: 0.555577028141609\n",
            "Epoch: 900, Train Loss: 0.4394607676479066, Val Loss: 0.44695906352122444, R2: 0.5556005474776904\n",
            "(array([     0,      1,      2, ..., 120563, 120564, 120565]), array([36171, 36172, 36173, ..., 48225, 48226, 48227]))\n",
            "Epoch: 0, Train Loss: 1.0021327697777331, Val Loss: 0.9604738183870383, R2: 0.027904617474272975\n",
            "Epoch: 100, Train Loss: 0.4589690448278077, Val Loss: 0.458300536666739, R2: 0.5361541075102232\n",
            "Epoch: 200, Train Loss: 0.44314077223811893, Val Loss: 0.443381511955111, R2: 0.5512536497947966\n",
            "Epoch: 300, Train Loss: 0.4409584503517894, Val Loss: 0.4413345993088389, R2: 0.5533253297237885\n",
            "Epoch: 400, Train Loss: 0.4404676422848706, Val Loss: 0.4408581841480455, R2: 0.5538075094241682\n",
            "Epoch: 500, Train Loss: 0.4403168291855502, Val Loss: 0.4406842642454451, R2: 0.5539835337269765\n",
            "Epoch: 600, Train Loss: 0.44025707391407265, Val Loss: 0.44059099070964775, R2: 0.554077935856139\n",
            "Epoch: 700, Train Loss: 0.44022804663734544, Val Loss: 0.44052827446623277, R2: 0.5541414109550598\n",
            "Epoch: 800, Train Loss: 0.4402115053679665, Val Loss: 0.4404815766096035, R2: 0.5541886738475345\n",
            "Epoch: 900, Train Loss: 0.44020078636126536, Val Loss: 0.44044520347626653, R2: 0.5542254870893824\n",
            "(array([     0,      1,      2, ..., 120563, 120564, 120565]), array([48228, 48229, 48230, ..., 60282, 60283, 60284]))\n",
            "Epoch: 0, Train Loss: 0.9977847486952767, Val Loss: 0.9832873471220043, R2: 0.029508300039232216\n",
            "Epoch: 100, Train Loss: 0.4582738945759975, Val Loss: 0.4650189784762434, R2: 0.5410323744566266\n",
            "Epoch: 200, Train Loss: 0.4425065324897818, Val Loss: 0.44890634913899413, R2: 0.5569353280358762\n",
            "Epoch: 300, Train Loss: 0.4403227342912955, Val Loss: 0.4467307018748526, R2: 0.5590826633169328\n",
            "Epoch: 400, Train Loss: 0.43982266642091933, Val Loss: 0.44629049448553343, R2: 0.5595171422297818\n",
            "Epoch: 500, Train Loss: 0.4396637618345701, Val Loss: 0.44619733553924146, R2: 0.5596090888864921\n",
            "Epoch: 600, Train Loss: 0.43959814648131945, Val Loss: 0.4461908588115014, R2: 0.5596154813317249\n",
            "Epoch: 700, Train Loss: 0.4395649403191118, Val Loss: 0.446206940105321, R2: 0.5595996093058901\n",
            "Epoch: 800, Train Loss: 0.439545293942579, Val Loss: 0.446226995850641, R2: 0.5595798145486134\n",
            "Epoch: 900, Train Loss: 0.43953213069127783, Val Loss: 0.44624535120464753, R2: 0.559561698055235\n",
            "(array([     0,      1,      2, ..., 120563, 120564, 120565]), array([60285, 60286, 60287, ..., 72339, 72340, 72341]))\n",
            "Epoch: 0, Train Loss: 0.9978244268942356, Val Loss: 0.974891473791977, R2: 0.03081285716931681\n",
            "Epoch: 100, Train Loss: 0.4600996966990194, Val Loss: 0.44975374036892213, R2: 0.5528778799243246\n",
            "Epoch: 200, Train Loss: 0.4442873570655058, Val Loss: 0.4332506756876897, R2: 0.5692843810953119\n",
            "Epoch: 300, Train Loss: 0.44210631066529044, Val Loss: 0.4309274165617768, R2: 0.5715940462578768\n",
            "Epoch: 400, Train Loss: 0.44161117919088666, Val Loss: 0.4303863830461483, R2: 0.5721319140526868\n",
            "Epoch: 500, Train Loss: 0.44145606381264046, Val Loss: 0.43021581593684904, R2: 0.5723014831316733\n",
            "Epoch: 600, Train Loss: 0.44139318029924757, Val Loss: 0.4301510242403001, R2: 0.5723658957159922\n",
            "Epoch: 700, Train Loss: 0.4413619751492672, Val Loss: 0.4301234680116326, R2: 0.5723932907063551\n",
            "Epoch: 800, Train Loss: 0.44134385769207246, Val Loss: 0.4301105117335345, R2: 0.5724061711740679\n",
            "Epoch: 900, Train Loss: 0.4413319226711392, Val Loss: 0.43010342828681786, R2: 0.5724132131737871\n",
            "(array([     0,      1,      2, ..., 120563, 120564, 120565]), array([72342, 72343, 72344, ..., 84395, 84396, 84397]))\n",
            "Epoch: 0, Train Loss: 1.0011152119213784, Val Loss: 0.952734428472954, R2: 0.030331150865933743\n",
            "Epoch: 100, Train Loss: 0.4599705321458344, Val Loss: 0.447645066243239, R2: 0.5443982465288367\n",
            "Epoch: 200, Train Loss: 0.4441350494091447, Val Loss: 0.43351172430636403, R2: 0.5587828021833581\n",
            "Epoch: 300, Train Loss: 0.4419414883348636, Val Loss: 0.43187220900834844, R2: 0.5604514591192815\n",
            "Epoch: 400, Train Loss: 0.44144274190447036, Val Loss: 0.43164130495175385, R2: 0.5606864673903454\n",
            "Epoch: 500, Train Loss: 0.44128688525337617, Val Loss: 0.4316198235815521, R2: 0.5607083305821214\n",
            "Epoch: 600, Train Loss: 0.4412237867011303, Val Loss: 0.4316239206922164, R2: 0.5607041606471806\n",
            "Epoch: 700, Train Loss: 0.441192356978831, Val Loss: 0.4316259656955118, R2: 0.5607020792948828\n",
            "Epoch: 800, Train Loss: 0.4411739413731253, Val Loss: 0.43162426202258364, R2: 0.5607038132498215\n",
            "Epoch: 900, Train Loss: 0.44116165903097804, Val Loss: 0.43162045373223085, R2: 0.5607076892308014\n",
            "(array([     0,      1,      2, ..., 120563, 120564, 120565]), array([84398, 84399, 84400, ..., 96451, 96452, 96453]))\n",
            "Epoch: 0, Train Loss: 1.0002649496411145, Val Loss: 0.9681315898178579, R2: 0.028718434338370957\n",
            "Epoch: 100, Train Loss: 0.4582222052200529, Val Loss: 0.4645011379999424, R2: 0.5339875309170802\n",
            "Epoch: 200, Train Loss: 0.44241856755662046, Val Loss: 0.4496921508099099, R2: 0.5488447015900297\n",
            "Epoch: 300, Train Loss: 0.440252445328588, Val Loss: 0.4475677568211459, R2: 0.5509760076451053\n",
            "Epoch: 400, Train Loss: 0.43976523919236227, Val Loss: 0.44704071415099866, R2: 0.551504765135528\n",
            "Epoch: 500, Train Loss: 0.4396136576584819, Val Loss: 0.44686133834879543, R2: 0.5516847245664961\n",
            "Epoch: 600, Train Loss: 0.4395522744845707, Val Loss: 0.4467866391349672, R2: 0.5517596668265399\n",
            "Epoch: 700, Train Loss: 0.4395216845559445, Val Loss: 0.4467513239202383, R2: 0.5517950969451461\n",
            "Epoch: 800, Train Loss: 0.43950379137540596, Val Loss: 0.4467329584755538, R2: 0.5518135221448346\n",
            "Epoch: 900, Train Loss: 0.43949190263314947, Val Loss: 0.44672239069600145, R2: 0.5518241243084011\n",
            "(array([     0,      1,      2, ..., 120563, 120564, 120565]), array([ 96454,  96455,  96456, ..., 108507, 108508, 108509]))\n",
            "Epoch: 0, Train Loss: 1.0007984035361257, Val Loss: 0.9713026087532158, R2: 0.02802285730448162\n",
            "Epoch: 100, Train Loss: 0.45901260485080336, Val Loss: 0.45876358276943635, R2: 0.5409178227932775\n",
            "Epoch: 200, Train Loss: 0.44318900747076995, Val Loss: 0.4427919182881174, R2: 0.5569005790082237\n",
            "Epoch: 300, Train Loss: 0.44099447602521846, Val Loss: 0.440634491094202, R2: 0.5590595044559863\n",
            "Epoch: 400, Train Loss: 0.44049510427291816, Val Loss: 0.4402182426994021, R2: 0.5594760419199889\n",
            "Epoch: 500, Train Loss: 0.4403388261454974, Val Loss: 0.44013138394263335, R2: 0.55956296099697\n",
            "Epoch: 600, Train Loss: 0.4402755881925313, Val Loss: 0.4401165015265665, R2: 0.5595778537483276\n",
            "Epoch: 700, Train Loss: 0.44024424058527145, Val Loss: 0.4401170251995925, R2: 0.5595773297116298\n",
            "Epoch: 800, Train Loss: 0.44022604190218284, Val Loss: 0.440119524772341, R2: 0.55957482840302\n",
            "Epoch: 900, Train Loss: 0.4402140461163239, Val Loss: 0.4401209892561393, R2: 0.5595733629021915\n",
            "(array([     0,      1,      2, ..., 108507, 108508, 108509]), array([108510, 108511, 108512, ..., 120563, 120564, 120565]))\n",
            "Epoch: 0, Train Loss: 0.9982740286161402, Val Loss: 0.9838814251959698, R2: 0.029513996177023993\n",
            "Epoch: 100, Train Loss: 0.45920791510834885, Val Loss: 0.45910023877102707, R2: 0.5471503530109603\n",
            "Epoch: 200, Train Loss: 0.4434718683867671, Val Loss: 0.44162972307399545, R2: 0.5643830098427138\n",
            "Epoch: 300, Train Loss: 0.4412949035123385, Val Loss: 0.43864901892543345, R2: 0.5673231320806557\n",
            "Epoch: 400, Train Loss: 0.44079954581579894, Val Loss: 0.43784508003947414, R2: 0.568116125440193\n",
            "Epoch: 500, Train Loss: 0.44064462391694625, Val Loss: 0.43757587896898853, R2: 0.568381661372095\n",
            "Epoch: 600, Train Loss: 0.44058201022647353, Val Loss: 0.43747242659683006, R2: 0.5684837052532691\n",
            "Epoch: 700, Train Loss: 0.4405510203918685, Val Loss: 0.4374278696444696, R2: 0.5685276555683492\n",
            "Epoch: 800, Train Loss: 0.44053306115991747, Val Loss: 0.4374061108876424, R2: 0.5685491180824496\n",
            "Epoch: 900, Train Loss: 0.44052124433941514, Val Loss: 0.43739370037853376, R2: 0.5685613596240437\n",
            "porc_ACERT_lp\n",
            "(array([ 12057,  12058,  12059, ..., 120563, 120564, 120565]), array([    0,     1,     2, ..., 12054, 12055, 12056]))\n",
            "Epoch: 0, Train Loss: 0.9993999251955705, Val Loss: 0.976498818755145, R2: 0.02741580006952382\n",
            "Epoch: 100, Train Loss: 0.46562751323909357, Val Loss: 0.4709526150540455, R2: 0.530935354431435\n",
            "Epoch: 200, Train Loss: 0.444403964376816, Val Loss: 0.44906957213860516, R2: 0.5527306719240767\n",
            "Epoch: 300, Train Loss: 0.44065079634815374, Val Loss: 0.4448581086588601, R2: 0.5569252523580868\n",
            "Epoch: 400, Train Loss: 0.43972415501014184, Val Loss: 0.4437021870359979, R2: 0.5580765400864087\n",
            "Epoch: 500, Train Loss: 0.4394491840620491, Val Loss: 0.4433059430007738, R2: 0.5584711956462249\n",
            "Epoch: 600, Train Loss: 0.43934655320747124, Val Loss: 0.4431344027910466, R2: 0.5586420481802261\n",
            "Epoch: 700, Train Loss: 0.4392951520438454, Val Loss: 0.44304140619427324, R2: 0.5587346719693509\n",
            "Epoch: 800, Train Loss: 0.4392612374644523, Val Loss: 0.4429809395118621, R2: 0.5587948962510456\n",
            "Epoch: 900, Train Loss: 0.4392344603625278, Val Loss: 0.4429362089987083, R2: 0.5588394474471277\n",
            "(array([     0,      1,      2, ..., 120563, 120564, 120565]), array([12057, 12058, 12059, ..., 24111, 24112, 24113]))\n",
            "Epoch: 0, Train Loss: 1.0002062874528488, Val Loss: 0.9784249484553416, R2: 0.02597321859035784\n",
            "Epoch: 100, Train Loss: 0.46571727578632877, Val Loss: 0.4700214858501034, R2: 0.5320913312986214\n",
            "Epoch: 200, Train Loss: 0.4445810314729083, Val Loss: 0.4475897268088612, R2: 0.5544222562150305\n",
            "Epoch: 300, Train Loss: 0.44085446966604697, Val Loss: 0.4431195064258006, R2: 0.5588723822863028\n",
            "Epoch: 400, Train Loss: 0.4399319447170756, Val Loss: 0.44184529988639965, R2: 0.5601408610759976\n",
            "Epoch: 500, Train Loss: 0.4396559484752813, Val Loss: 0.4414161672572498, R2: 0.5605680646895488\n",
            "Epoch: 600, Train Loss: 0.43955160848996144, Val Loss: 0.4412502194812222, R2: 0.5607332665054074\n",
            "Epoch: 700, Train Loss: 0.4394986787033677, Val Loss: 0.44117574120060316, R2: 0.5608074099949727\n",
            "Epoch: 800, Train Loss: 0.4394634832637964, Val Loss: 0.44113558587098545, R2: 0.5608473848203548\n",
            "Epoch: 900, Train Loss: 0.43943561456590174, Val Loss: 0.4411089878373694, R2: 0.5608738632918163\n",
            "(array([     0,      1,      2, ..., 120563, 120564, 120565]), array([24114, 24115, 24116, ..., 36168, 36169, 36170]))\n",
            "Epoch: 0, Train Loss: 1.0001226567493908, Val Loss: 0.9777525828354199, R2: 0.027120837659681096\n",
            "Epoch: 100, Train Loss: 0.46642586421431126, Val Loss: 0.4618108728223202, R2: 0.5404909350296685\n",
            "Epoch: 200, Train Loss: 0.4451074801186213, Val Loss: 0.4413648259309955, R2: 0.560835072515983\n",
            "Epoch: 300, Train Loss: 0.4413258325860627, Val Loss: 0.4380298391839375, R2: 0.5641534366602994\n",
            "Epoch: 400, Train Loss: 0.44038756184018296, Val Loss: 0.43731112161416774, R2: 0.5648685719199876\n",
            "Epoch: 500, Train Loss: 0.4401077818855067, Val Loss: 0.43714377103396734, R2: 0.5650350883732711\n",
            "Epoch: 600, Train Loss: 0.4400031459867609, Val Loss: 0.4370992514774777, R2: 0.5650793860305576\n",
            "Epoch: 700, Train Loss: 0.43995089726978603, Val Loss: 0.4370796673787036, R2: 0.565098872516142\n",
            "Epoch: 800, Train Loss: 0.4399166226962699, Val Loss: 0.4370627014926024, R2: 0.5651157538390332\n",
            "Epoch: 900, Train Loss: 0.43988969826408575, Val Loss: 0.4370441026498877, R2: 0.5651342599793783\n",
            "(array([     0,      1,      2, ..., 120563, 120564, 120565]), array([36171, 36172, 36173, ..., 48225, 48226, 48227]))\n",
            "Epoch: 0, Train Loss: 1.0019841666297449, Val Loss: 0.9676579215826706, R2: 0.0263518381258232\n",
            "Epoch: 100, Train Loss: 0.466483549132641, Val Loss: 0.46243156391711937, R2: 0.5347057755037062\n",
            "Epoch: 200, Train Loss: 0.4452780317101236, Val Loss: 0.44080318308330935, R2: 0.5564680457992992\n",
            "Epoch: 300, Train Loss: 0.44153773717561345, Val Loss: 0.43670509932892315, R2: 0.5605914985460494\n",
            "Epoch: 400, Train Loss: 0.44061458134162623, Val Loss: 0.435606853001434, R2: 0.5616965435151392\n",
            "Epoch: 500, Train Loss: 0.440339091887401, Val Loss: 0.4352517493163465, R2: 0.562053845452682\n",
            "Epoch: 600, Train Loss: 0.4402344326164603, Val Loss: 0.4351132890067632, R2: 0.5621931628942194\n",
            "Epoch: 700, Train Loss: 0.4401805437790694, Val Loss: 0.4350471608066273, R2: 0.5622597004578298\n",
            "Epoch: 800, Train Loss: 0.44014409477823857, Val Loss: 0.4350086018556682, R2: 0.562298498106139\n",
            "Epoch: 900, Train Loss: 0.4401148908922652, Val Loss: 0.43498207369473424, R2: 0.5623251904883901\n",
            "(array([     0,      1,      2, ..., 120563, 120564, 120565]), array([48228, 48229, 48230, ..., 60282, 60283, 60284]))\n",
            "Epoch: 0, Train Loss: 1.001134000078649, Val Loss: 0.9626568842572714, R2: 0.027694478844340398\n",
            "Epoch: 100, Train Loss: 0.46554770712957466, Val Loss: 0.4675028997927549, R2: 0.5278113541197135\n",
            "Epoch: 200, Train Loss: 0.4441502725494529, Val Loss: 0.44913084953291077, R2: 0.546367546045124\n",
            "Epoch: 300, Train Loss: 0.44036216283527096, Val Loss: 0.44634732635908964, R2: 0.5491789682604851\n",
            "Epoch: 400, Train Loss: 0.4394246594934872, Val Loss: 0.4458479277846874, R2: 0.549683372268901\n",
            "Epoch: 500, Train Loss: 0.4391453648285854, Val Loss: 0.44578253698887293, R2: 0.5497494184716996\n",
            "Epoch: 600, Train Loss: 0.43904090834407156, Val Loss: 0.4457883548219906, R2: 0.549743542326882\n",
            "Epoch: 700, Train Loss: 0.43898877196603575, Val Loss: 0.44579411330027435, R2: 0.5497377261318075\n",
            "Epoch: 800, Train Loss: 0.43895463008397234, Val Loss: 0.44578991149385927, R2: 0.5497419700526094\n",
            "Epoch: 900, Train Loss: 0.438927877539525, Val Loss: 0.44577764226703154, R2: 0.5497543622529666\n",
            "(array([     0,      1,      2, ..., 120563, 120564, 120565]), array([60285, 60286, 60287, ..., 72339, 72340, 72341]))\n",
            "Epoch: 0, Train Loss: 1.000418564320994, Val Loss: 0.9680679950954347, R2: 0.02782176219436794\n",
            "Epoch: 100, Train Loss: 0.4666461308158284, Val Loss: 0.4605131856947721, R2: 0.5375315580897126\n",
            "Epoch: 200, Train Loss: 0.4453703036858818, Val Loss: 0.43935460904358487, R2: 0.5587799702543961\n",
            "Epoch: 300, Train Loss: 0.4416196782263044, Val Loss: 0.43559579798405834, R2: 0.5625547405500866\n",
            "Epoch: 400, Train Loss: 0.440693538111731, Val Loss: 0.4346782629793728, R2: 0.5634761712434877\n",
            "Epoch: 500, Train Loss: 0.4404167709850332, Val Loss: 0.4344109425549311, R2: 0.5637446266624043\n",
            "Epoch: 600, Train Loss: 0.4403116603841703, Val Loss: 0.4343140227423455, R2: 0.5638419579790942\n",
            "Epoch: 700, Train Loss: 0.4402577507013382, Val Loss: 0.4342677283994297, R2: 0.5638884488794692\n",
            "Epoch: 800, Train Loss: 0.44022149791953236, Val Loss: 0.4342390519148804, R2: 0.5639172471192178\n",
            "Epoch: 900, Train Loss: 0.44019259458970866, Val Loss: 0.4342178274490692, R2: 0.5639385617002959\n",
            "(array([     0,      1,      2, ..., 120563, 120564, 120565]), array([72342, 72343, 72344, ..., 84395, 84396, 84397]))\n",
            "Epoch: 0, Train Loss: 1.0009173165411562, Val Loss: 0.9691250593739003, R2: 0.027254761466220523\n",
            "Epoch: 100, Train Loss: 0.4651687674024309, Val Loss: 0.4716749704988945, R2: 0.5265630815647474\n",
            "Epoch: 200, Train Loss: 0.44397256551354003, Val Loss: 0.45204916881595075, R2: 0.5462621956830278\n",
            "Epoch: 300, Train Loss: 0.4402476277182545, Val Loss: 0.4483015880350052, R2: 0.5500237756003201\n",
            "Epoch: 400, Train Loss: 0.43932995465110597, Val Loss: 0.44722271438182, R2: 0.5511066793999531\n",
            "Epoch: 500, Train Loss: 0.4390564895349275, Val Loss: 0.44682207863280193, R2: 0.5515088117289793\n",
            "Epoch: 600, Train Loss: 0.4389529213924042, Val Loss: 0.4466366391077956, R2: 0.5516949439657232\n",
            "Epoch: 700, Train Loss: 0.43889984360084594, Val Loss: 0.44653456050622914, R2: 0.5517974038832225\n",
            "Epoch: 800, Train Loss: 0.43886407031291047, Val Loss: 0.4464707835413988, R2: 0.5518614190877276\n",
            "Epoch: 900, Train Loss: 0.43883544090513293, Val Loss: 0.4464270405593323, R2: 0.5519053254722679\n",
            "(array([     0,      1,      2, ..., 120563, 120564, 120565]), array([84398, 84399, 84400, ..., 96451, 96452, 96453]))\n",
            "Epoch: 0, Train Loss: 0.9999151809072202, Val Loss: 0.9661517420444462, R2: 0.028410777104322715\n",
            "Epoch: 100, Train Loss: 0.466178948593532, Val Loss: 0.4639626667549747, R2: 0.5334261615145599\n",
            "Epoch: 200, Train Loss: 0.44477175781639233, Val Loss: 0.44421201519076764, R2: 0.5532879693133482\n",
            "Epoch: 300, Train Loss: 0.4409829821518778, Val Loss: 0.440959731758444, R2: 0.5565585565256232\n",
            "Epoch: 400, Train Loss: 0.44004839190750206, Val Loss: 0.44028430155343595, R2: 0.5572377880370372\n",
            "Epoch: 500, Train Loss: 0.4397718041117058, Val Loss: 0.4401420151265244, R2: 0.5573808752488442\n",
            "Epoch: 600, Train Loss: 0.439669283545367, Val Loss: 0.44010797181833283, R2: 0.5574151101520288\n",
            "Epoch: 700, Train Loss: 0.4396185284382709, Val Loss: 0.44008972814006564, R2: 0.557433456505318\n",
            "Epoch: 800, Train Loss: 0.43958543602290934, Val Loss: 0.44006939270196493, R2: 0.557453906390819\n",
            "Epoch: 900, Train Loss: 0.43955953327889796, Val Loss: 0.44004542102292815, R2: 0.5574780129819406\n",
            "(array([     0,      1,      2, ..., 120563, 120564, 120565]), array([ 96454,  96455,  96456, ..., 108507, 108508, 108509]))\n",
            "Epoch: 0, Train Loss: 1.00156321427662, Val Loss: 0.9676564999338664, R2: 0.02653500261195063\n",
            "Epoch: 100, Train Loss: 0.46613158352097994, Val Loss: 0.4646558765416501, R2: 0.5325549596629868\n",
            "Epoch: 200, Train Loss: 0.4447474166446503, Val Loss: 0.44448743672995344, R2: 0.5528444634382997\n",
            "Epoch: 300, Train Loss: 0.4409560114705064, Val Loss: 0.4412099802134259, R2: 0.5561415933594225\n",
            "Epoch: 400, Train Loss: 0.44001665662191575, Val Loss: 0.44052714240697727, R2: 0.5568285299981124\n",
            "Epoch: 500, Train Loss: 0.43973560818528235, Val Loss: 0.4403775328420075, R2: 0.5569790376160352\n",
            "Epoch: 600, Train Loss: 0.43962919721761423, Val Loss: 0.4403401411229604, R2: 0.5570166537842591\n",
            "Epoch: 700, Train Loss: 0.439575019935922, Val Loss: 0.4403236654861891, R2: 0.5570332283184122\n",
            "Epoch: 800, Train Loss: 0.43953885295141315, Val Loss: 0.4403093249159838, R2: 0.5570476549699548\n",
            "Epoch: 900, Train Loss: 0.43951014384445364, Val Loss: 0.4402942550305207, R2: 0.5570628153145749\n",
            "(array([     0,      1,      2, ..., 108507, 108508, 108509]), array([108510, 108511, 108512, ..., 120563, 120564, 120565]))\n",
            "Epoch: 0, Train Loss: 0.9971271759904785, Val Loss: 0.9920602137133985, R2: 0.02830886214021655\n",
            "Epoch: 100, Train Loss: 0.4662506567991718, Val Loss: 0.4655582204352976, R2: 0.544000665784748\n",
            "Epoch: 200, Train Loss: 0.4448714045174915, Val Loss: 0.4437638430173523, R2: 0.5653475589465243\n",
            "Epoch: 300, Train Loss: 0.4410791491437835, Val Loss: 0.4402460833293875, R2: 0.5687930916537792\n",
            "Epoch: 400, Train Loss: 0.44014143242461445, Val Loss: 0.439498547969365, R2: 0.5695252785457944\n",
            "Epoch: 500, Train Loss: 0.439861324677873, Val Loss: 0.43931615937096924, R2: 0.569703922323922\n",
            "Epoch: 600, Train Loss: 0.43975497842810596, Val Loss: 0.4392578658058226, R2: 0.5697610189999747\n",
            "Epoch: 700, Train Loss: 0.439700369547116, Val Loss: 0.4392279870458156, R2: 0.5697902842864035\n",
            "Epoch: 800, Train Loss: 0.43966355433457244, Val Loss: 0.4392056339364674, R2: 0.5698121784395578\n",
            "Epoch: 900, Train Loss: 0.4396341279087646, Val Loss: 0.43918640712808477, R2: 0.569831010481259\n",
            "media cie: 0.5211545033844794\n",
            "media mat: 0.5591701851997585\n",
            "media lp: 0.5597364211760745\n"
          ]
        }
      ],
      "source": [
        "from sklearn.model_selection import KFold\n",
        "\n",
        "def k_fold_lin_reg(df, target):\n",
        "    \n",
        "    kf = KFold(n_splits=10)\n",
        "    y = df[target]\n",
        "    X = df.drop(columns=[target])\n",
        "    final_r2 = []\n",
        "    print(f\"{target}\")\n",
        "    \n",
        "    for i in kf.split(X):\n",
        "        print(i)\n",
        "        X_train = X.iloc[i[0]]\n",
        "        X_val = X.iloc[i[1]]\n",
        "        y_train = y.iloc[i[0]]\n",
        "        y_val = y.iloc[i[1]]\n",
        "        \n",
        "        w, b, train_loss, val_loss, r2 = linear_regression(\n",
        "        X_train, y_train, X_val, y_val, 0.01, 1000)\n",
        "        final_r2.append(r2[-1])\n",
        "    \n",
        "    return final_r2\n",
        "\n",
        "final_r2_cie = k_fold_lin_reg(df_cie_lr, 'porc_ACERT_CIE')\n",
        "final_r2_mat = k_fold_lin_reg(df_mat_lr, 'porc_ACERT_MAT')\n",
        "final_r2_lp = k_fold_lin_reg(df_lp_lr, 'porc_ACERT_lp')\n",
        "\n",
        "media_cie = 0\n",
        "for i in final_r2_cie:\n",
        "    media_cie = media_cie + i\n",
        "print(f\"media cie: {media_cie/10}\")\n",
        "\n",
        "media_mat = 0\n",
        "for i in final_r2_mat:\n",
        "    media_mat = media_mat + i\n",
        "print(f\"media mat: {media_mat/10}\")\n",
        "\n",
        "media_lp = 0\n",
        "for i in final_r2_lp:\n",
        "    media_lp = media_lp + i\n",
        "print(f\"media lp: {media_lp/10}\")\n",
        "\n",
        "        \n"
      ]
    },
    {
      "cell_type": "code",
      "execution_count": 42,
      "metadata": {
        "id": "e4nZrMr_C2X7"
      },
      "outputs": [
        {
          "name": "stdout",
          "output_type": "stream",
          "text": [
            "0.5278231743443579\n",
            "0.5641338909335655\n",
            "0.5590048019083095\n",
            "CPU times: user 11 s, sys: 9 s, total: 20 s\n",
            "Wall time: 1.91 s\n"
          ]
        }
      ],
      "source": [
        "%%time\n",
        "# TODO: Linear Regression. You can use scikit-learn libraries.\n",
        "from sklearn.linear_model import LinearRegression\n",
        "def linear_regression_sklearn(X_train, y_train):\n",
        "    model = LinearRegression()\n",
        "    model.fit(X_train, y_train)\n",
        "    return model\n",
        "model_cie = linear_regression_sklearn(X_train_cie, y_train_cie )\n",
        "model_mat = linear_regression_sklearn(X_train_mat, y_train_mat)\n",
        "model_lp = linear_regression_sklearn(X_train_lp, y_train_lp)\n",
        "print(model_cie.score(X_val_cie, y_val_cie))\n",
        "print(model_mat.score(X_val_mat, y_val_mat))\n",
        "print(model_lp.score(X_val_lp, y_val_lp))\n",
        "\n"
      ]
    },
    {
      "cell_type": "markdown",
      "metadata": {
        "id": "zBNZQNImKQeo"
      },
      "source": [
        "\n",
        "> What are the conclusions? (1-2 paragraphs)\n",
        "The most obvious conclusion is about time, when the scikit learn library was used to train and validate the models, the total time was 1 s, and when we used our function it took 30 seconds to train. It happened because the library is better optimized than our code, using multi thread programming and many other things.\n",
        "In terms of results, both produced the same R^2 score for all the models, showing that our solution may be as good as the one from library but much slower\n",
        "\n"
      ]
    },
    {
      "cell_type": "markdown",
      "metadata": {
        "id": "ADxPBRhuK_Vq"
      },
      "source": [
        "2. (1 point) Use different Gradient Descent (GD) learning rates when optimizing. Compare the GD-based solutions with Normal Equation. What are the conclusions?\n"
      ]
    },
    {
      "cell_type": "code",
      "execution_count": 43,
      "metadata": {
        "id": "RSZ1pLItNVbU"
      },
      "outputs": [
        {
          "name": "stdout",
          "output_type": "stream",
          "text": [
            "Learning rate:  0.01\n",
            "0.5187501784822446\n",
            "0.5579244827782425\n",
            "0.5527596718112967\n",
            "Learning rate:  0.001\n",
            "0.5233539800193253\n",
            "0.5587029676946329\n",
            "0.5539154667853021\n",
            "Learning rate:  0.0001\n",
            "0.5225551205617351\n",
            "0.5593011854217729\n",
            "0.5535474364406399\n"
          ]
        }
      ],
      "source": [
        "# TODO: Gradient Descent (GD) with 3 different learning rates. You can use scikit-learn libraries.\n",
        "from sklearn.linear_model import SGDRegressor\n",
        "def linear_regression_sklearn(X_train, y_train, X_val, y_val, learning_rate, epochs):\n",
        "    model = SGDRegressor(alpha=learning_rate, max_iter=epochs)\n",
        "    model.fit(X_train, y_train)\n",
        "    return model\n",
        "lrs = [0.01, 0.001, 0.0001]\n",
        "for lr in lrs:\n",
        "    print(\"Learning rate: \", lr)\n",
        "    model_cie = linear_regression_sklearn(X_train_cie, y_train_cie, X_val_cie, y_val_cie, lr, 1000)\n",
        "    model_mat = linear_regression_sklearn(X_train_mat, y_train_mat, X_val_mat, y_val_mat, lr, 1000)\n",
        "    model_lp = linear_regression_sklearn(X_train_lp, y_train_lp, X_val_lp, y_val_lp, lr, 1000)\n",
        "    print(model_cie.score(X_val_cie, y_val_cie))\n",
        "    print(model_mat.score(X_val_mat, y_val_mat))\n",
        "    print(model_lp.score(X_val_lp, y_val_lp))"
      ]
    },
    {
      "cell_type": "markdown",
      "metadata": {
        "id": "XrPl7jKgJPW6"
      },
      "source": [
        "\n",
        "3. (0.75 point) Sometimes, we need some more complex function to make good prediction. Devise and evaluate a Polynomial Linear Regression model. \n"
      ]
    },
    {
      "cell_type": "code",
      "execution_count": 44,
      "metadata": {
        "id": "GjGbg41PMHR9"
      },
      "outputs": [
        {
          "name": "stdout",
          "output_type": "stream",
          "text": [
            "-1.9240610146477337e+21\n",
            "-8.074752193926429e+19\n",
            "-5.673740135754602e+18\n"
          ]
        }
      ],
      "source": [
        "# TODO: Complex model. You can use scikit-learn libraries.\n",
        "\"\"\"Multi polynomial regression\"\"\"\n",
        "from sklearn.preprocessing import PolynomialFeatures\n",
        "from sklearn.pipeline import make_pipeline\n",
        "def polynomial_regression(X_train, y_train, X_val, y_val, degree):\n",
        "    model = make_pipeline(PolynomialFeatures(degree), LinearRegression())\n",
        "    model.fit(X_train, y_train)\n",
        "    return model\n",
        "model_cie = polynomial_regression(X_train_cie, y_train_cie, X_val_cie, y_val_cie, 2)\n",
        "model_mat = polynomial_regression(X_train_mat, y_train_mat, X_val_mat, y_val_mat, 2)\n",
        "model_lp = polynomial_regression(X_train_lp, y_train_lp, X_val_lp, y_val_lp, 2)\n",
        "print(model_cie.score(X_val_cie, y_val_cie))\n",
        "print(model_mat.score(X_val_mat, y_val_mat))\n",
        "print(model_lp.score(X_val_lp, y_val_lp))\n",
        "\n"
      ]
    },
    {
      "cell_type": "markdown",
      "metadata": {
        "id": "rBLKtosaLaCw"
      },
      "source": [
        "*texto em itálico*\n",
        " > What are the conclusions? What are the actions after such analyses? (1-2 paragraphs)\n",
        "\n",
        " \n"
      ]
    },
    {
      "cell_type": "markdown",
      "metadata": {
        "id": "ldSh1vtWK5Zk"
      },
      "source": [
        "4. (0.5) Plot the cost function vs. number of epochs in the training/validation set and analyze the model. "
      ]
    },
    {
      "cell_type": "code",
      "execution_count": 45,
      "metadata": {
        "id": "mg7aNkl_LG4P"
      },
      "outputs": [
        {
          "data": {
            "image/png": "[encoded data removed]",
            "text/plain": [
              "<Figure size 720x432 with 1 Axes>"
            ]
          },
          "metadata": {
            "needs_background": "light"
          },
          "output_type": "display_data"
        },
        {
          "data": {
            "image/png": "[encoded data removed]",
            "text/plain": [
              "<Figure size 720x432 with 1 Axes>"
            ]
          },
          "metadata": {
            "needs_background": "light"
          },
          "output_type": "display_data"
        },
        {
          "data": {
            "image/png": "[encoded data removed]",
            "text/plain": [
              "<Figure size 720x432 with 1 Axes>"
            ]
          },
          "metadata": {
            "needs_background": "light"
          },
          "output_type": "display_data"
        }
      ],
      "source": [
        "# TODO: Plot the cost function vs. number of iterations in the training set.\n",
        "\n",
        "def plot_cost_function(train_loss,   title):\n",
        "    plt.figure(figsize=(10, 6))\n",
        "    plt.plot(train_loss, label='train loss')\n",
        "    plt.legend()\n",
        "    plt.title(title)\n",
        "    plt.xlabel('Epochs')\n",
        "    plt.ylabel('Loss')\n",
        "    plt.show()\n",
        "\n",
        "\n",
        "plot_cost_function(train_loss_cie,  'Science')\n",
        "plot_cost_function(train_loss_mat,  'Math')\n",
        "plot_cost_function(train_loss_lp,  'Portuguese')\n"
      ]
    },
    {
      "cell_type": "code",
      "execution_count": 46,
      "metadata": {
        "id": "CfR862UoK9j6"
      },
      "outputs": [
        {
          "ename": "SyntaxError",
          "evalue": "invalid syntax (449369750.py, line 1)",
          "output_type": "error",
          "traceback": [
            "\u001b[0;36m  Input \u001b[0;32mIn [46]\u001b[0;36m\u001b[0m\n\u001b[0;31m    *texto em itálico*\u001b[0m\n\u001b[0m           ^\u001b[0m\n\u001b[0;31mSyntaxError\u001b[0m\u001b[0;31m:\u001b[0m invalid syntax\n"
          ]
        }
      ],
      "source": [
        "*texto em itálico*\n",
        "> What are the conclusions? What are the actions after such analyses? (1-2 paragraphs)\n"
      ]
    },
    {
      "cell_type": "markdown",
      "metadata": {
        "id": "8Xij-E5UUseS"
      },
      "source": [
        "5. (0.25 point) Pick **your best model**, based on your validation set, and predict the target values for the test set."
      ]
    },
    {
      "cell_type": "markdown",
      "metadata": {
        "id": "h_PobUahUseS"
      },
      "source": [
        "## Logistic Regression"
      ]
    },
    {
      "cell_type": "code",
      "execution_count": 47,
      "metadata": {},
      "outputs": [
        {
          "data": {
            "text/plain": [
              "pandas.core.frame.DataFrame"
            ]
          },
          "execution_count": 47,
          "metadata": {},
          "output_type": "execute_result"
        }
      ],
      "source": [
        "type(df)"
      ]
    },
    {
      "cell_type": "code",
      "execution_count": 48,
      "metadata": {},
      "outputs": [
        {
          "data": {
            "text/plain": [
              "pandas.core.frame.DataFrame"
            ]
          },
          "execution_count": 48,
          "metadata": {},
          "output_type": "execute_result"
        }
      ],
      "source": [
        "\"\"\"Remove the columns used as target in the linear regression\"\"\"\n",
        "def tranform_into_log_reg(df):\n",
        "    df = df.drop(columns=['porc_ACERT_lp',\n",
        "       'porc_ACERT_MAT', 'porc_ACERT_CIE'], axis=1)\n",
        "    return df\n",
        "df = tranform_into_log_reg(df)\n",
        "type(df) "
      ]
    },
    {
      "cell_type": "code",
      "execution_count": 68,
      "metadata": {},
      "outputs": [
        {
          "data": {
            "text/plain": [
              "Index(['Q1', 'Q2', 'Q3', 'Q4', 'Q5', 'Q6', 'Q7', 'Q8', 'Q9', 'Q10', 'Q11',\n",
              "       'Q12', 'Q13', 'Q14', 'Q15', 'Q16', 'Q17', 'Q18', 'Q19', 'Q20', 'Q21',\n",
              "       'Q22', 'Q23', 'Q24', 'Q25', 'Q26', 'Q27', 'Q28', 'Q29', 'Q30', 'Q31',\n",
              "       'Q32', 'Q33', 'Q34', 'Q35', 'Q36', 'Q37', 'Q38', 'Q39', 'Q40', 'Q41',\n",
              "       'Q42', 'Q43', 'Q44', 'Q45', 'Q46', 'Q47', 'Q48', 'Q49', 'Q50', 'Q51',\n",
              "       'Q52', 'Q53', 'Q54', 'Q55', 'Q56', 'Q57', 'Q58', 'Q59', 'Q60', 'Q61',\n",
              "       'Q62', 'SERIE_ANO', 'TP_SEXO', 'Tem_Nec', 'nivel_profic_lp',\n",
              "       'nivel_profic_mat', 'nivel_profic_cie', 'Q63_A', 'Q63_B', 'Q63_C',\n",
              "       'Q63_D', 'RegiaoMetropolitana_Interior',\n",
              "       'RegiaoMetropolitana_Região Metropolitana da Baixada Santista',\n",
              "       'RegiaoMetropolitana_Região Metropolitana de Campinas',\n",
              "       'RegiaoMetropolitana_Região Metropolitana de Ribeirão Preto',\n",
              "       'RegiaoMetropolitana_Região Metropolitana de Sorocaba',\n",
              "       'RegiaoMetropolitana_Região Metropolitana de São Paulo',\n",
              "       'RegiaoMetropolitana_Região Metropolitana do Vale do Paraíba e Litoral Norte',\n",
              "       'idade', 'PERIODO_MANHÃ', 'PERIODO_NOITE', 'PERIODO_TARDE',\n",
              "       'Tipo_PROVA_A', 'Tipo_PROVA_C'],\n",
              "      dtype='object')"
            ]
          },
          "execution_count": 68,
          "metadata": {},
          "output_type": "execute_result"
        }
      ],
      "source": [
        "df.columns"
      ]
    },
    {
      "cell_type": "code",
      "execution_count": 66,
      "metadata": {},
      "outputs": [
        {
          "data": {
            "text/plain": [
              "pandas.core.frame.DataFrame"
            ]
          },
          "execution_count": 66,
          "metadata": {},
          "output_type": "execute_result"
        }
      ],
      "source": [
        "df_log = df\n",
        "type(df_log)"
      ]
    },
    {
      "cell_type": "code",
      "execution_count": 67,
      "metadata": {},
      "outputs": [
        {
          "ename": "KeyError",
          "evalue": "\"['CD_ALUNO'] not found in axis\"",
          "output_type": "error",
          "traceback": [
            "\u001b[0;31m---------------------------------------------------------------------------\u001b[0m",
            "\u001b[0;31mKeyError\u001b[0m                                  Traceback (most recent call last)",
            "\u001b[1;32m/home/arthur/Documents/unicamp/mc886/Copy_of_2022s2_mc886mo444_assignment_02.ipynb Cell 76\u001b[0m in \u001b[0;36m<cell line: 1>\u001b[0;34m()\u001b[0m\n\u001b[0;32m----> <a href='vscode-notebook-cell:/home/arthur/Documents/unicamp/mc886/Copy_of_2022s2_mc886mo444_assignment_02.ipynb#Y162sZmlsZQ%3D%3D?line=0'>1</a>\u001b[0m df_log\u001b[39m.\u001b[39;49mdrop(columns\u001b[39m=\u001b[39;49m[\u001b[39m'\u001b[39;49m\u001b[39mCD_ALUNO\u001b[39;49m\u001b[39m'\u001b[39;49m], axis\u001b[39m=\u001b[39;49m\u001b[39m1\u001b[39;49m, inplace\u001b[39m=\u001b[39;49m\u001b[39mTrue\u001b[39;49;00m)\n\u001b[1;32m      <a href='vscode-notebook-cell:/home/arthur/Documents/unicamp/mc886/Copy_of_2022s2_mc886mo444_assignment_02.ipynb#Y162sZmlsZQ%3D%3D?line=1'>2</a>\u001b[0m df\u001b[39m.\u001b[39mcolumns\n",
            "File \u001b[0;32m~/.local/lib/python3.8/site-packages/pandas/util/_decorators.py:311\u001b[0m, in \u001b[0;36mdeprecate_nonkeyword_arguments.<locals>.decorate.<locals>.wrapper\u001b[0;34m(*args, **kwargs)\u001b[0m\n\u001b[1;32m    305\u001b[0m \u001b[39mif\u001b[39;00m \u001b[39mlen\u001b[39m(args) \u001b[39m>\u001b[39m num_allow_args:\n\u001b[1;32m    306\u001b[0m     warnings\u001b[39m.\u001b[39mwarn(\n\u001b[1;32m    307\u001b[0m         msg\u001b[39m.\u001b[39mformat(arguments\u001b[39m=\u001b[39marguments),\n\u001b[1;32m    308\u001b[0m         \u001b[39mFutureWarning\u001b[39;00m,\n\u001b[1;32m    309\u001b[0m         stacklevel\u001b[39m=\u001b[39mstacklevel,\n\u001b[1;32m    310\u001b[0m     )\n\u001b[0;32m--> 311\u001b[0m \u001b[39mreturn\u001b[39;00m func(\u001b[39m*\u001b[39;49margs, \u001b[39m*\u001b[39;49m\u001b[39m*\u001b[39;49mkwargs)\n",
            "File \u001b[0;32m~/.local/lib/python3.8/site-packages/pandas/core/frame.py:4954\u001b[0m, in \u001b[0;36mDataFrame.drop\u001b[0;34m(self, labels, axis, index, columns, level, inplace, errors)\u001b[0m\n\u001b[1;32m   4806\u001b[0m \u001b[39m@deprecate_nonkeyword_arguments\u001b[39m(version\u001b[39m=\u001b[39m\u001b[39mNone\u001b[39;00m, allowed_args\u001b[39m=\u001b[39m[\u001b[39m\"\u001b[39m\u001b[39mself\u001b[39m\u001b[39m\"\u001b[39m, \u001b[39m\"\u001b[39m\u001b[39mlabels\u001b[39m\u001b[39m\"\u001b[39m])\n\u001b[1;32m   4807\u001b[0m \u001b[39mdef\u001b[39;00m \u001b[39mdrop\u001b[39m(\n\u001b[1;32m   4808\u001b[0m     \u001b[39mself\u001b[39m,\n\u001b[0;32m   (...)\u001b[0m\n\u001b[1;32m   4815\u001b[0m     errors: \u001b[39mstr\u001b[39m \u001b[39m=\u001b[39m \u001b[39m\"\u001b[39m\u001b[39mraise\u001b[39m\u001b[39m\"\u001b[39m,\n\u001b[1;32m   4816\u001b[0m ):\n\u001b[1;32m   4817\u001b[0m     \u001b[39m\"\"\"\u001b[39;00m\n\u001b[1;32m   4818\u001b[0m \u001b[39m    Drop specified labels from rows or columns.\u001b[39;00m\n\u001b[1;32m   4819\u001b[0m \n\u001b[0;32m   (...)\u001b[0m\n\u001b[1;32m   4952\u001b[0m \u001b[39m            weight  1.0     0.8\u001b[39;00m\n\u001b[1;32m   4953\u001b[0m \u001b[39m    \"\"\"\u001b[39;00m\n\u001b[0;32m-> 4954\u001b[0m     \u001b[39mreturn\u001b[39;00m \u001b[39msuper\u001b[39;49m()\u001b[39m.\u001b[39;49mdrop(\n\u001b[1;32m   4955\u001b[0m         labels\u001b[39m=\u001b[39;49mlabels,\n\u001b[1;32m   4956\u001b[0m         axis\u001b[39m=\u001b[39;49maxis,\n\u001b[1;32m   4957\u001b[0m         index\u001b[39m=\u001b[39;49mindex,\n\u001b[1;32m   4958\u001b[0m         columns\u001b[39m=\u001b[39;49mcolumns,\n\u001b[1;32m   4959\u001b[0m         level\u001b[39m=\u001b[39;49mlevel,\n\u001b[1;32m   4960\u001b[0m         inplace\u001b[39m=\u001b[39;49minplace,\n\u001b[1;32m   4961\u001b[0m         errors\u001b[39m=\u001b[39;49merrors,\n\u001b[1;32m   4962\u001b[0m     )\n",
            "File \u001b[0;32m~/.local/lib/python3.8/site-packages/pandas/core/generic.py:4267\u001b[0m, in \u001b[0;36mNDFrame.drop\u001b[0;34m(self, labels, axis, index, columns, level, inplace, errors)\u001b[0m\n\u001b[1;32m   4265\u001b[0m \u001b[39mfor\u001b[39;00m axis, labels \u001b[39min\u001b[39;00m axes\u001b[39m.\u001b[39mitems():\n\u001b[1;32m   4266\u001b[0m     \u001b[39mif\u001b[39;00m labels \u001b[39mis\u001b[39;00m \u001b[39mnot\u001b[39;00m \u001b[39mNone\u001b[39;00m:\n\u001b[0;32m-> 4267\u001b[0m         obj \u001b[39m=\u001b[39m obj\u001b[39m.\u001b[39;49m_drop_axis(labels, axis, level\u001b[39m=\u001b[39;49mlevel, errors\u001b[39m=\u001b[39;49merrors)\n\u001b[1;32m   4269\u001b[0m \u001b[39mif\u001b[39;00m inplace:\n\u001b[1;32m   4270\u001b[0m     \u001b[39mself\u001b[39m\u001b[39m.\u001b[39m_update_inplace(obj)\n",
            "File \u001b[0;32m~/.local/lib/python3.8/site-packages/pandas/core/generic.py:4311\u001b[0m, in \u001b[0;36mNDFrame._drop_axis\u001b[0;34m(self, labels, axis, level, errors, consolidate, only_slice)\u001b[0m\n\u001b[1;32m   4309\u001b[0m         new_axis \u001b[39m=\u001b[39m axis\u001b[39m.\u001b[39mdrop(labels, level\u001b[39m=\u001b[39mlevel, errors\u001b[39m=\u001b[39merrors)\n\u001b[1;32m   4310\u001b[0m     \u001b[39melse\u001b[39;00m:\n\u001b[0;32m-> 4311\u001b[0m         new_axis \u001b[39m=\u001b[39m axis\u001b[39m.\u001b[39;49mdrop(labels, errors\u001b[39m=\u001b[39;49merrors)\n\u001b[1;32m   4312\u001b[0m     indexer \u001b[39m=\u001b[39m axis\u001b[39m.\u001b[39mget_indexer(new_axis)\n\u001b[1;32m   4314\u001b[0m \u001b[39m# Case for non-unique axis\u001b[39;00m\n\u001b[1;32m   4315\u001b[0m \u001b[39melse\u001b[39;00m:\n",
            "File \u001b[0;32m~/.local/lib/python3.8/site-packages/pandas/core/indexes/base.py:6644\u001b[0m, in \u001b[0;36mIndex.drop\u001b[0;34m(self, labels, errors)\u001b[0m\n\u001b[1;32m   6642\u001b[0m \u001b[39mif\u001b[39;00m mask\u001b[39m.\u001b[39many():\n\u001b[1;32m   6643\u001b[0m     \u001b[39mif\u001b[39;00m errors \u001b[39m!=\u001b[39m \u001b[39m\"\u001b[39m\u001b[39mignore\u001b[39m\u001b[39m\"\u001b[39m:\n\u001b[0;32m-> 6644\u001b[0m         \u001b[39mraise\u001b[39;00m \u001b[39mKeyError\u001b[39;00m(\u001b[39mf\u001b[39m\u001b[39m\"\u001b[39m\u001b[39m{\u001b[39;00m\u001b[39mlist\u001b[39m(labels[mask])\u001b[39m}\u001b[39;00m\u001b[39m not found in axis\u001b[39m\u001b[39m\"\u001b[39m)\n\u001b[1;32m   6645\u001b[0m     indexer \u001b[39m=\u001b[39m indexer[\u001b[39m~\u001b[39mmask]\n\u001b[1;32m   6646\u001b[0m \u001b[39mreturn\u001b[39;00m \u001b[39mself\u001b[39m\u001b[39m.\u001b[39mdelete(indexer)\n",
            "\u001b[0;31mKeyError\u001b[0m: \"['CD_ALUNO'] not found in axis\""
          ]
        }
      ],
      "source": [
        "df_log.drop(columns=['CD_ALUNO'], axis=1, inplace=True)\n",
        "df.columns"
      ]
    },
    {
      "cell_type": "code",
      "execution_count": 69,
      "metadata": {},
      "outputs": [],
      "source": [
        "from sklearn.model_selection import train_test_split\n",
        "def split_data(df, target, validation_size):\n",
        "    X = df.drop(columns=[target])\n",
        "    y = df[target]\n",
        "    return train_test_split(X, y, test_size=validation_size, random_state=42)\n",
        "X_train_cie, X_val_cie, y_train_cie, y_val_cie = split_data(df_log, 'nivel_profic_cie', 0.2)\n",
        "X_train_mat, X_val_mat, y_train_mat, y_val_mat = split_data(df_log, 'nivel_profic_mat', 0.2)\n",
        "X_train_lp, X_val_lp, y_train_lp, y_val_lp = split_data(df_log, 'nivel_profic_lp', 0.2)\n"
      ]
    },
    {
      "cell_type": "code",
      "execution_count": 70,
      "metadata": {},
      "outputs": [],
      "source": [
        "def normalize_data(df):\n",
        "    from sklearn.preprocessing import StandardScaler, MinMaxScaler\n",
        "    scaler = StandardScaler()\n",
        "    scaler.fit(df)\n",
        "    return scaler.transform(df)\n",
        "X_train_cie = normalize_data(X_train_cie)\n",
        "X_val_cie = normalize_data(X_val_cie)\n",
        "X_train_mat = normalize_data(X_train_mat)\n",
        "X_val_mat = normalize_data(X_val_mat)\n",
        "X_train_lp = normalize_data(X_train_lp)\n",
        "X_val_lp = normalize_data(X_val_lp)\n",
        "\n"
      ]
    },
    {
      "cell_type": "code",
      "execution_count": 71,
      "metadata": {},
      "outputs": [
        {
          "data": {
            "text/plain": [
              "numpy.ndarray"
            ]
          },
          "execution_count": 71,
          "metadata": {},
          "output_type": "execute_result"
        }
      ],
      "source": [
        "type(X_train_cie)"
      ]
    },
    {
      "cell_type": "markdown",
      "metadata": {
        "id": "SCJuwjrAUseS"
      },
      "source": [
        "Now, this part of the assignment aims to predict students' proeficiency level on Portuguese, Mathematics, and Natural Sciences (target values: `nivel_profic_lp`, `nivel_profic_mat` and `nivel_profic_cie`) based on their socioeconomic data. Then, you have to **drop the columns `porc_ACERT_lp`,  `porc_ACERT_MAT`** and  **`porc_ACERT_CIE`**."
      ]
    },
    {
      "cell_type": "markdown",
      "metadata": {
        "id": "joYtn8avUseS"
      },
      "source": [
        "### Activities\n",
        "\n",
        "1. (2.75 points) Perform Multinomial Logistic Regression (_i.e._, softmax regression). It is a generalization of Logistic Regression to the case where we want to handle multiple classes. Try different combinations of features, dropping the ones less correlated to the target variables."
      ]
    },
    {
      "cell_type": "code",
      "execution_count": 78,
      "metadata": {
        "id": "-36Dt2V_UseT"
      },
      "outputs": [
        {
          "name": "stdout",
          "output_type": "stream",
          "text": [
            "Science\n",
            "LogisticRegression(max_iter=1000, multi_class='multinomial', solver='sag')\n",
            "Accuracy:  0.6312100854275524\n",
            "Math\n"
          ]
        },
        {
          "ename": "KeyboardInterrupt",
          "evalue": "",
          "output_type": "error",
          "traceback": [
            "\u001b[0;31m---------------------------------------------------------------------------\u001b[0m",
            "\u001b[0;31mKeyboardInterrupt\u001b[0m                         Traceback (most recent call last)",
            "\u001b[1;32m/home/arthur/Documents/unicamp/mc886/Copy_of_2022s2_mc886mo444_assignment_02.ipynb Cell 82\u001b[0m in \u001b[0;36m<cell line: 12>\u001b[0;34m()\u001b[0m\n\u001b[1;32m     <a href='vscode-notebook-cell:/home/arthur/Documents/unicamp/mc886/Copy_of_2022s2_mc886mo444_assignment_02.ipynb#Y134sZmlsZQ%3D%3D?line=9'>10</a>\u001b[0m \u001b[39mprint\u001b[39m(\u001b[39m\"\u001b[39m\u001b[39mAccuracy: \u001b[39m\u001b[39m\"\u001b[39m, model_cie\u001b[39m.\u001b[39mscore(X_val_cie, y_val_cie))\n\u001b[1;32m     <a href='vscode-notebook-cell:/home/arthur/Documents/unicamp/mc886/Copy_of_2022s2_mc886mo444_assignment_02.ipynb#Y134sZmlsZQ%3D%3D?line=10'>11</a>\u001b[0m \u001b[39mprint\u001b[39m(\u001b[39m\"\u001b[39m\u001b[39mMath\u001b[39m\u001b[39m\"\u001b[39m)\n\u001b[0;32m---> <a href='vscode-notebook-cell:/home/arthur/Documents/unicamp/mc886/Copy_of_2022s2_mc886mo444_assignment_02.ipynb#Y134sZmlsZQ%3D%3D?line=11'>12</a>\u001b[0m model_mat \u001b[39m=\u001b[39m multinomial_logistic_regression(X_train_mat, y_train_mat, X_val_mat, y_val_mat)\n\u001b[1;32m     <a href='vscode-notebook-cell:/home/arthur/Documents/unicamp/mc886/Copy_of_2022s2_mc886mo444_assignment_02.ipynb#Y134sZmlsZQ%3D%3D?line=12'>13</a>\u001b[0m \u001b[39mprint\u001b[39m(\u001b[39m\"\u001b[39m\u001b[39mAccuracy: \u001b[39m\u001b[39m\"\u001b[39m, model_mat\u001b[39m.\u001b[39mscore(X_val_mat, y_val_mat))\n\u001b[1;32m     <a href='vscode-notebook-cell:/home/arthur/Documents/unicamp/mc886/Copy_of_2022s2_mc886mo444_assignment_02.ipynb#Y134sZmlsZQ%3D%3D?line=13'>14</a>\u001b[0m \u001b[39mprint\u001b[39m(\u001b[39m\"\u001b[39m\u001b[39mPortuguese\u001b[39m\u001b[39m\"\u001b[39m)\n",
            "\u001b[1;32m/home/arthur/Documents/unicamp/mc886/Copy_of_2022s2_mc886mo444_assignment_02.ipynb Cell 82\u001b[0m in \u001b[0;36mmultinomial_logistic_regression\u001b[0;34m(X_train, y_train, X_val, y_val, num_epochs)\u001b[0m\n\u001b[1;32m      <a href='vscode-notebook-cell:/home/arthur/Documents/unicamp/mc886/Copy_of_2022s2_mc886mo444_assignment_02.ipynb#Y134sZmlsZQ%3D%3D?line=2'>3</a>\u001b[0m \u001b[39mdef\u001b[39;00m \u001b[39mmultinomial_logistic_regression\u001b[39m(X_train, y_train, X_val, y_val, num_epochs \u001b[39m=\u001b[39m \u001b[39m1000\u001b[39m):\n\u001b[1;32m      <a href='vscode-notebook-cell:/home/arthur/Documents/unicamp/mc886/Copy_of_2022s2_mc886mo444_assignment_02.ipynb#Y134sZmlsZQ%3D%3D?line=3'>4</a>\u001b[0m     model \u001b[39m=\u001b[39m LogisticRegression(multi_class\u001b[39m=\u001b[39m\u001b[39m'\u001b[39m\u001b[39mmultinomial\u001b[39m\u001b[39m'\u001b[39m, solver\u001b[39m=\u001b[39m\u001b[39m'\u001b[39m\u001b[39msag\u001b[39m\u001b[39m'\u001b[39m, max_iter\u001b[39m=\u001b[39m num_epochs)\n\u001b[0;32m----> <a href='vscode-notebook-cell:/home/arthur/Documents/unicamp/mc886/Copy_of_2022s2_mc886mo444_assignment_02.ipynb#Y134sZmlsZQ%3D%3D?line=4'>5</a>\u001b[0m     model\u001b[39m.\u001b[39;49mfit(X_train, y_train)\n\u001b[1;32m      <a href='vscode-notebook-cell:/home/arthur/Documents/unicamp/mc886/Copy_of_2022s2_mc886mo444_assignment_02.ipynb#Y134sZmlsZQ%3D%3D?line=5'>6</a>\u001b[0m     \u001b[39mprint\u001b[39m(model)\n\u001b[1;32m      <a href='vscode-notebook-cell:/home/arthur/Documents/unicamp/mc886/Copy_of_2022s2_mc886mo444_assignment_02.ipynb#Y134sZmlsZQ%3D%3D?line=6'>7</a>\u001b[0m     \u001b[39mreturn\u001b[39;00m model\n",
            "File \u001b[0;32m~/.local/lib/python3.8/site-packages/sklearn/linear_model/_logistic.py:1589\u001b[0m, in \u001b[0;36mLogisticRegression.fit\u001b[0;34m(self, X, y, sample_weight)\u001b[0m\n\u001b[1;32m   1587\u001b[0m \u001b[39melse\u001b[39;00m:\n\u001b[1;32m   1588\u001b[0m     prefer \u001b[39m=\u001b[39m \u001b[39m\"\u001b[39m\u001b[39mprocesses\u001b[39m\u001b[39m\"\u001b[39m\n\u001b[0;32m-> 1589\u001b[0m fold_coefs_ \u001b[39m=\u001b[39m Parallel(\n\u001b[1;32m   1590\u001b[0m     n_jobs\u001b[39m=\u001b[39;49m\u001b[39mself\u001b[39;49m\u001b[39m.\u001b[39;49mn_jobs,\n\u001b[1;32m   1591\u001b[0m     verbose\u001b[39m=\u001b[39;49m\u001b[39mself\u001b[39;49m\u001b[39m.\u001b[39;49mverbose,\n\u001b[1;32m   1592\u001b[0m     \u001b[39m*\u001b[39;49m\u001b[39m*\u001b[39;49m_joblib_parallel_args(prefer\u001b[39m=\u001b[39;49mprefer),\n\u001b[1;32m   1593\u001b[0m )(\n\u001b[1;32m   1594\u001b[0m     path_func(\n\u001b[1;32m   1595\u001b[0m         X,\n\u001b[1;32m   1596\u001b[0m         y,\n\u001b[1;32m   1597\u001b[0m         pos_class\u001b[39m=\u001b[39;49mclass_,\n\u001b[1;32m   1598\u001b[0m         Cs\u001b[39m=\u001b[39;49m[C_],\n\u001b[1;32m   1599\u001b[0m         l1_ratio\u001b[39m=\u001b[39;49m\u001b[39mself\u001b[39;49m\u001b[39m.\u001b[39;49ml1_ratio,\n\u001b[1;32m   1600\u001b[0m         fit_intercept\u001b[39m=\u001b[39;49m\u001b[39mself\u001b[39;49m\u001b[39m.\u001b[39;49mfit_intercept,\n\u001b[1;32m   1601\u001b[0m         tol\u001b[39m=\u001b[39;49m\u001b[39mself\u001b[39;49m\u001b[39m.\u001b[39;49mtol,\n\u001b[1;32m   1602\u001b[0m         verbose\u001b[39m=\u001b[39;49m\u001b[39mself\u001b[39;49m\u001b[39m.\u001b[39;49mverbose,\n\u001b[1;32m   1603\u001b[0m         solver\u001b[39m=\u001b[39;49msolver,\n\u001b[1;32m   1604\u001b[0m         multi_class\u001b[39m=\u001b[39;49mmulti_class,\n\u001b[1;32m   1605\u001b[0m         max_iter\u001b[39m=\u001b[39;49m\u001b[39mself\u001b[39;49m\u001b[39m.\u001b[39;49mmax_iter,\n\u001b[1;32m   1606\u001b[0m         class_weight\u001b[39m=\u001b[39;49m\u001b[39mself\u001b[39;49m\u001b[39m.\u001b[39;49mclass_weight,\n\u001b[1;32m   1607\u001b[0m         check_input\u001b[39m=\u001b[39;49m\u001b[39mFalse\u001b[39;49;00m,\n\u001b[1;32m   1608\u001b[0m         random_state\u001b[39m=\u001b[39;49m\u001b[39mself\u001b[39;49m\u001b[39m.\u001b[39;49mrandom_state,\n\u001b[1;32m   1609\u001b[0m         coef\u001b[39m=\u001b[39;49mwarm_start_coef_,\n\u001b[1;32m   1610\u001b[0m         penalty\u001b[39m=\u001b[39;49mpenalty,\n\u001b[1;32m   1611\u001b[0m         max_squared_sum\u001b[39m=\u001b[39;49mmax_squared_sum,\n\u001b[1;32m   1612\u001b[0m         sample_weight\u001b[39m=\u001b[39;49msample_weight,\n\u001b[1;32m   1613\u001b[0m     )\n\u001b[1;32m   1614\u001b[0m     \u001b[39mfor\u001b[39;49;00m class_, warm_start_coef_ \u001b[39min\u001b[39;49;00m \u001b[39mzip\u001b[39;49m(classes_, warm_start_coef)\n\u001b[1;32m   1615\u001b[0m )\n\u001b[1;32m   1617\u001b[0m fold_coefs_, _, n_iter_ \u001b[39m=\u001b[39m \u001b[39mzip\u001b[39m(\u001b[39m*\u001b[39mfold_coefs_)\n\u001b[1;32m   1618\u001b[0m \u001b[39mself\u001b[39m\u001b[39m.\u001b[39mn_iter_ \u001b[39m=\u001b[39m np\u001b[39m.\u001b[39masarray(n_iter_, dtype\u001b[39m=\u001b[39mnp\u001b[39m.\u001b[39mint32)[:, \u001b[39m0\u001b[39m]\n",
            "File \u001b[0;32m~/.local/lib/python3.8/site-packages/joblib/parallel.py:1043\u001b[0m, in \u001b[0;36mParallel.__call__\u001b[0;34m(self, iterable)\u001b[0m\n\u001b[1;32m   1034\u001b[0m \u001b[39mtry\u001b[39;00m:\n\u001b[1;32m   1035\u001b[0m     \u001b[39m# Only set self._iterating to True if at least a batch\u001b[39;00m\n\u001b[1;32m   1036\u001b[0m     \u001b[39m# was dispatched. In particular this covers the edge\u001b[39;00m\n\u001b[0;32m   (...)\u001b[0m\n\u001b[1;32m   1040\u001b[0m     \u001b[39m# was very quick and its callback already dispatched all the\u001b[39;00m\n\u001b[1;32m   1041\u001b[0m     \u001b[39m# remaining jobs.\u001b[39;00m\n\u001b[1;32m   1042\u001b[0m     \u001b[39mself\u001b[39m\u001b[39m.\u001b[39m_iterating \u001b[39m=\u001b[39m \u001b[39mFalse\u001b[39;00m\n\u001b[0;32m-> 1043\u001b[0m     \u001b[39mif\u001b[39;00m \u001b[39mself\u001b[39;49m\u001b[39m.\u001b[39;49mdispatch_one_batch(iterator):\n\u001b[1;32m   1044\u001b[0m         \u001b[39mself\u001b[39m\u001b[39m.\u001b[39m_iterating \u001b[39m=\u001b[39m \u001b[39mself\u001b[39m\u001b[39m.\u001b[39m_original_iterator \u001b[39mis\u001b[39;00m \u001b[39mnot\u001b[39;00m \u001b[39mNone\u001b[39;00m\n\u001b[1;32m   1046\u001b[0m     \u001b[39mwhile\u001b[39;00m \u001b[39mself\u001b[39m\u001b[39m.\u001b[39mdispatch_one_batch(iterator):\n",
            "File \u001b[0;32m~/.local/lib/python3.8/site-packages/joblib/parallel.py:861\u001b[0m, in \u001b[0;36mParallel.dispatch_one_batch\u001b[0;34m(self, iterator)\u001b[0m\n\u001b[1;32m    859\u001b[0m     \u001b[39mreturn\u001b[39;00m \u001b[39mFalse\u001b[39;00m\n\u001b[1;32m    860\u001b[0m \u001b[39melse\u001b[39;00m:\n\u001b[0;32m--> 861\u001b[0m     \u001b[39mself\u001b[39;49m\u001b[39m.\u001b[39;49m_dispatch(tasks)\n\u001b[1;32m    862\u001b[0m     \u001b[39mreturn\u001b[39;00m \u001b[39mTrue\u001b[39;00m\n",
            "File \u001b[0;32m~/.local/lib/python3.8/site-packages/joblib/parallel.py:779\u001b[0m, in \u001b[0;36mParallel._dispatch\u001b[0;34m(self, batch)\u001b[0m\n\u001b[1;32m    777\u001b[0m \u001b[39mwith\u001b[39;00m \u001b[39mself\u001b[39m\u001b[39m.\u001b[39m_lock:\n\u001b[1;32m    778\u001b[0m     job_idx \u001b[39m=\u001b[39m \u001b[39mlen\u001b[39m(\u001b[39mself\u001b[39m\u001b[39m.\u001b[39m_jobs)\n\u001b[0;32m--> 779\u001b[0m     job \u001b[39m=\u001b[39m \u001b[39mself\u001b[39;49m\u001b[39m.\u001b[39;49m_backend\u001b[39m.\u001b[39;49mapply_async(batch, callback\u001b[39m=\u001b[39;49mcb)\n\u001b[1;32m    780\u001b[0m     \u001b[39m# A job can complete so quickly than its callback is\u001b[39;00m\n\u001b[1;32m    781\u001b[0m     \u001b[39m# called before we get here, causing self._jobs to\u001b[39;00m\n\u001b[1;32m    782\u001b[0m     \u001b[39m# grow. To ensure correct results ordering, .insert is\u001b[39;00m\n\u001b[1;32m    783\u001b[0m     \u001b[39m# used (rather than .append) in the following line\u001b[39;00m\n\u001b[1;32m    784\u001b[0m     \u001b[39mself\u001b[39m\u001b[39m.\u001b[39m_jobs\u001b[39m.\u001b[39minsert(job_idx, job)\n",
            "File \u001b[0;32m~/.local/lib/python3.8/site-packages/joblib/_parallel_backends.py:208\u001b[0m, in \u001b[0;36mSequentialBackend.apply_async\u001b[0;34m(self, func, callback)\u001b[0m\n\u001b[1;32m    206\u001b[0m \u001b[39mdef\u001b[39;00m \u001b[39mapply_async\u001b[39m(\u001b[39mself\u001b[39m, func, callback\u001b[39m=\u001b[39m\u001b[39mNone\u001b[39;00m):\n\u001b[1;32m    207\u001b[0m     \u001b[39m\"\"\"Schedule a func to be run\"\"\"\u001b[39;00m\n\u001b[0;32m--> 208\u001b[0m     result \u001b[39m=\u001b[39m ImmediateResult(func)\n\u001b[1;32m    209\u001b[0m     \u001b[39mif\u001b[39;00m callback:\n\u001b[1;32m    210\u001b[0m         callback(result)\n",
            "File \u001b[0;32m~/.local/lib/python3.8/site-packages/joblib/_parallel_backends.py:572\u001b[0m, in \u001b[0;36mImmediateResult.__init__\u001b[0;34m(self, batch)\u001b[0m\n\u001b[1;32m    569\u001b[0m \u001b[39mdef\u001b[39;00m \u001b[39m__init__\u001b[39m(\u001b[39mself\u001b[39m, batch):\n\u001b[1;32m    570\u001b[0m     \u001b[39m# Don't delay the application, to avoid keeping the input\u001b[39;00m\n\u001b[1;32m    571\u001b[0m     \u001b[39m# arguments in memory\u001b[39;00m\n\u001b[0;32m--> 572\u001b[0m     \u001b[39mself\u001b[39m\u001b[39m.\u001b[39mresults \u001b[39m=\u001b[39m batch()\n",
            "File \u001b[0;32m~/.local/lib/python3.8/site-packages/joblib/parallel.py:262\u001b[0m, in \u001b[0;36mBatchedCalls.__call__\u001b[0;34m(self)\u001b[0m\n\u001b[1;32m    258\u001b[0m \u001b[39mdef\u001b[39;00m \u001b[39m__call__\u001b[39m(\u001b[39mself\u001b[39m):\n\u001b[1;32m    259\u001b[0m     \u001b[39m# Set the default nested backend to self._backend but do not set the\u001b[39;00m\n\u001b[1;32m    260\u001b[0m     \u001b[39m# change the default number of processes to -1\u001b[39;00m\n\u001b[1;32m    261\u001b[0m     \u001b[39mwith\u001b[39;00m parallel_backend(\u001b[39mself\u001b[39m\u001b[39m.\u001b[39m_backend, n_jobs\u001b[39m=\u001b[39m\u001b[39mself\u001b[39m\u001b[39m.\u001b[39m_n_jobs):\n\u001b[0;32m--> 262\u001b[0m         \u001b[39mreturn\u001b[39;00m [func(\u001b[39m*\u001b[39margs, \u001b[39m*\u001b[39m\u001b[39m*\u001b[39mkwargs)\n\u001b[1;32m    263\u001b[0m                 \u001b[39mfor\u001b[39;00m func, args, kwargs \u001b[39min\u001b[39;00m \u001b[39mself\u001b[39m\u001b[39m.\u001b[39mitems]\n",
            "File \u001b[0;32m~/.local/lib/python3.8/site-packages/joblib/parallel.py:262\u001b[0m, in \u001b[0;36m<listcomp>\u001b[0;34m(.0)\u001b[0m\n\u001b[1;32m    258\u001b[0m \u001b[39mdef\u001b[39;00m \u001b[39m__call__\u001b[39m(\u001b[39mself\u001b[39m):\n\u001b[1;32m    259\u001b[0m     \u001b[39m# Set the default nested backend to self._backend but do not set the\u001b[39;00m\n\u001b[1;32m    260\u001b[0m     \u001b[39m# change the default number of processes to -1\u001b[39;00m\n\u001b[1;32m    261\u001b[0m     \u001b[39mwith\u001b[39;00m parallel_backend(\u001b[39mself\u001b[39m\u001b[39m.\u001b[39m_backend, n_jobs\u001b[39m=\u001b[39m\u001b[39mself\u001b[39m\u001b[39m.\u001b[39m_n_jobs):\n\u001b[0;32m--> 262\u001b[0m         \u001b[39mreturn\u001b[39;00m [func(\u001b[39m*\u001b[39;49margs, \u001b[39m*\u001b[39;49m\u001b[39m*\u001b[39;49mkwargs)\n\u001b[1;32m    263\u001b[0m                 \u001b[39mfor\u001b[39;00m func, args, kwargs \u001b[39min\u001b[39;00m \u001b[39mself\u001b[39m\u001b[39m.\u001b[39mitems]\n",
            "File \u001b[0;32m~/.local/lib/python3.8/site-packages/sklearn/utils/fixes.py:216\u001b[0m, in \u001b[0;36m_FuncWrapper.__call__\u001b[0;34m(self, *args, **kwargs)\u001b[0m\n\u001b[1;32m    214\u001b[0m \u001b[39mdef\u001b[39;00m \u001b[39m__call__\u001b[39m(\u001b[39mself\u001b[39m, \u001b[39m*\u001b[39margs, \u001b[39m*\u001b[39m\u001b[39m*\u001b[39mkwargs):\n\u001b[1;32m    215\u001b[0m     \u001b[39mwith\u001b[39;00m config_context(\u001b[39m*\u001b[39m\u001b[39m*\u001b[39m\u001b[39mself\u001b[39m\u001b[39m.\u001b[39mconfig):\n\u001b[0;32m--> 216\u001b[0m         \u001b[39mreturn\u001b[39;00m \u001b[39mself\u001b[39;49m\u001b[39m.\u001b[39;49mfunction(\u001b[39m*\u001b[39;49margs, \u001b[39m*\u001b[39;49m\u001b[39m*\u001b[39;49mkwargs)\n",
            "File \u001b[0;32m~/.local/lib/python3.8/site-packages/sklearn/linear_model/_logistic.py:864\u001b[0m, in \u001b[0;36m_logistic_regression_path\u001b[0;34m(X, y, pos_class, Cs, fit_intercept, max_iter, tol, verbose, solver, coef, class_weight, dual, penalty, intercept_scaling, multi_class, random_state, check_input, max_squared_sum, sample_weight, l1_ratio)\u001b[0m\n\u001b[1;32m    861\u001b[0m         alpha \u001b[39m=\u001b[39m (\u001b[39m1.0\u001b[39m \u001b[39m/\u001b[39m C) \u001b[39m*\u001b[39m (\u001b[39m1\u001b[39m \u001b[39m-\u001b[39m l1_ratio)\n\u001b[1;32m    862\u001b[0m         beta \u001b[39m=\u001b[39m (\u001b[39m1.0\u001b[39m \u001b[39m/\u001b[39m C) \u001b[39m*\u001b[39m l1_ratio\n\u001b[0;32m--> 864\u001b[0m     w0, n_iter_i, warm_start_sag \u001b[39m=\u001b[39m sag_solver(\n\u001b[1;32m    865\u001b[0m         X,\n\u001b[1;32m    866\u001b[0m         target,\n\u001b[1;32m    867\u001b[0m         sample_weight,\n\u001b[1;32m    868\u001b[0m         loss,\n\u001b[1;32m    869\u001b[0m         alpha,\n\u001b[1;32m    870\u001b[0m         beta,\n\u001b[1;32m    871\u001b[0m         max_iter,\n\u001b[1;32m    872\u001b[0m         tol,\n\u001b[1;32m    873\u001b[0m         verbose,\n\u001b[1;32m    874\u001b[0m         random_state,\n\u001b[1;32m    875\u001b[0m         \u001b[39mFalse\u001b[39;49;00m,\n\u001b[1;32m    876\u001b[0m         max_squared_sum,\n\u001b[1;32m    877\u001b[0m         warm_start_sag,\n\u001b[1;32m    878\u001b[0m         is_saga\u001b[39m=\u001b[39;49m(solver \u001b[39m==\u001b[39;49m \u001b[39m\"\u001b[39;49m\u001b[39msaga\u001b[39;49m\u001b[39m\"\u001b[39;49m),\n\u001b[1;32m    879\u001b[0m     )\n\u001b[1;32m    881\u001b[0m \u001b[39melse\u001b[39;00m:\n\u001b[1;32m    882\u001b[0m     \u001b[39mraise\u001b[39;00m \u001b[39mValueError\u001b[39;00m(\n\u001b[1;32m    883\u001b[0m         \u001b[39m\"\u001b[39m\u001b[39msolver must be one of \u001b[39m\u001b[39m{\u001b[39m\u001b[39m'\u001b[39m\u001b[39mliblinear\u001b[39m\u001b[39m'\u001b[39m\u001b[39m, \u001b[39m\u001b[39m'\u001b[39m\u001b[39mlbfgs\u001b[39m\u001b[39m'\u001b[39m\u001b[39m, \u001b[39m\u001b[39m\"\u001b[39m\n\u001b[1;32m    884\u001b[0m         \u001b[39m\"\u001b[39m\u001b[39m'\u001b[39m\u001b[39mnewton-cg\u001b[39m\u001b[39m'\u001b[39m\u001b[39m, \u001b[39m\u001b[39m'\u001b[39m\u001b[39msag\u001b[39m\u001b[39m'\u001b[39m\u001b[39m}, got \u001b[39m\u001b[39m'\u001b[39m\u001b[39m%s\u001b[39;00m\u001b[39m'\u001b[39m\u001b[39m instead\u001b[39m\u001b[39m\"\u001b[39m \u001b[39m%\u001b[39m solver\n\u001b[1;32m    885\u001b[0m     )\n",
            "File \u001b[0;32m~/.local/lib/python3.8/site-packages/sklearn/linear_model/_sag.py:327\u001b[0m, in \u001b[0;36msag_solver\u001b[0;34m(X, y, sample_weight, loss, alpha, beta, max_iter, tol, verbose, random_state, check_input, max_squared_sum, warm_start_mem, is_saga)\u001b[0m\n\u001b[1;32m    321\u001b[0m     \u001b[39mraise\u001b[39;00m \u001b[39mZeroDivisionError\u001b[39;00m(\n\u001b[1;32m    322\u001b[0m         \u001b[39m\"\u001b[39m\u001b[39mCurrent sag implementation does not handle \u001b[39m\u001b[39m\"\u001b[39m\n\u001b[1;32m    323\u001b[0m         \u001b[39m\"\u001b[39m\u001b[39mthe case step_size * alpha_scaled == 1\u001b[39m\u001b[39m\"\u001b[39m\n\u001b[1;32m    324\u001b[0m     )\n\u001b[1;32m    326\u001b[0m sag \u001b[39m=\u001b[39m sag64 \u001b[39mif\u001b[39;00m X\u001b[39m.\u001b[39mdtype \u001b[39m==\u001b[39m np\u001b[39m.\u001b[39mfloat64 \u001b[39melse\u001b[39;00m sag32\n\u001b[0;32m--> 327\u001b[0m num_seen, n_iter_ \u001b[39m=\u001b[39m sag(\n\u001b[1;32m    328\u001b[0m     dataset,\n\u001b[1;32m    329\u001b[0m     coef_init,\n\u001b[1;32m    330\u001b[0m     intercept_init,\n\u001b[1;32m    331\u001b[0m     n_samples,\n\u001b[1;32m    332\u001b[0m     n_features,\n\u001b[1;32m    333\u001b[0m     n_classes,\n\u001b[1;32m    334\u001b[0m     tol,\n\u001b[1;32m    335\u001b[0m     max_iter,\n\u001b[1;32m    336\u001b[0m     loss,\n\u001b[1;32m    337\u001b[0m     step_size,\n\u001b[1;32m    338\u001b[0m     alpha_scaled,\n\u001b[1;32m    339\u001b[0m     beta_scaled,\n\u001b[1;32m    340\u001b[0m     sum_gradient_init,\n\u001b[1;32m    341\u001b[0m     gradient_memory_init,\n\u001b[1;32m    342\u001b[0m     seen_init,\n\u001b[1;32m    343\u001b[0m     num_seen_init,\n\u001b[1;32m    344\u001b[0m     fit_intercept,\n\u001b[1;32m    345\u001b[0m     intercept_sum_gradient,\n\u001b[1;32m    346\u001b[0m     intercept_decay,\n\u001b[1;32m    347\u001b[0m     is_saga,\n\u001b[1;32m    348\u001b[0m     verbose,\n\u001b[1;32m    349\u001b[0m )\n\u001b[1;32m    351\u001b[0m \u001b[39mif\u001b[39;00m n_iter_ \u001b[39m==\u001b[39m max_iter:\n\u001b[1;32m    352\u001b[0m     warnings\u001b[39m.\u001b[39mwarn(\n\u001b[1;32m    353\u001b[0m         \u001b[39m\"\u001b[39m\u001b[39mThe max_iter was reached which means the coef_ did not converge\u001b[39m\u001b[39m\"\u001b[39m,\n\u001b[1;32m    354\u001b[0m         ConvergenceWarning,\n\u001b[1;32m    355\u001b[0m     )\n",
            "\u001b[0;31mKeyboardInterrupt\u001b[0m: "
          ]
        }
      ],
      "source": [
        "# TODO: Multinomial Logistic Regression. You can use scikit-learn libraries.\n",
        "from sklearn.linear_model import LogisticRegression\n",
        "def multinomial_logistic_regression(X_train, y_train, X_val, y_val, num_epochs = 1000):\n",
        "    model = LogisticRegression(multi_class='multinomial', solver='sag', max_iter= num_epochs)\n",
        "    model.fit(X_train, y_train)\n",
        "    return model\n",
        "print(\"Science\")\n",
        "model_cie = multinomial_logistic_regression(X_train_cie, y_train_cie, X_val_cie, y_val_cie)\n",
        "print(\"Accuracy: \", model_cie.score(X_val_cie, y_val_cie))\n",
        "print(\"Math\")\n",
        "model_mat = multinomial_logistic_regression(X_train_mat, y_train_mat, X_val_mat, y_val_mat)\n",
        "print(\"Accuracy: \", model_mat.score(X_val_mat, y_val_mat))\n",
        "print(\"Portuguese\")\n",
        "model_lp = multinomial_logistic_regression(X_train_lp, y_train_lp, X_val_lp, y_val_lp)\n",
        "print(\"Accuracy: \", model_lp.score(X_val_lp, y_val_lp))\n"
      ]
    },
    {
      "cell_type": "markdown",
      "metadata": {
        "id": "WQj3oImUUseT"
      },
      "source": [
        "> What are the conclusions? (1-2 paragraphs)\n"
      ]
    },
    {
      "cell_type": "markdown",
      "metadata": {
        "id": "yb1KNEqLUseT"
      },
      "source": [
        "2. (0.5 point) Plot the cost function vs. number of epochs in the training/validation set and analyze the model. "
      ]
    },
    {
      "cell_type": "code",
      "execution_count": null,
      "metadata": {
        "id": "wfECeHi3UseT"
      },
      "outputs": [],
      "source": [
        "# TODO: Plot the cost function vs. number of iterations in the training set.\n"
      ]
    },
    {
      "cell_type": "markdown",
      "metadata": {
        "id": "-IM4mx23UseT"
      },
      "source": [
        "> What are the conclusions? (1-2 paragraphs)\n"
      ]
    },
    {
      "cell_type": "markdown",
      "metadata": {
        "id": "Lqlv9-6OUseT"
      },
      "source": [
        "3. (0.75 point) Pick **your best model** and plot the confusion matrix in the **test set**. \n"
      ]
    },
    {
      "cell_type": "code",
      "execution_count": null,
      "metadata": {
        "id": "-jdyJuS0UseT"
      },
      "outputs": [],
      "source": [
        "# TODO: Plot the confusion matrix. You can use scikit-learn, seaborn, matplotlib libraries.\n"
      ]
    },
    {
      "cell_type": "markdown",
      "metadata": {
        "id": "xAmCj0cpUseT"
      },
      "source": [
        "> What are the conclusions? (1-2 paragraphs)\n"
      ]
    },
    {
      "cell_type": "markdown",
      "metadata": {
        "id": "kdSGS4brHnAi"
      },
      "source": [
        "## Deadline\n",
        "\n",
        "Monday, September 19, 11:59 pm. \n",
        "\n",
        "Penalty policy for late submission: You are not encouraged to submit your assignment after due date. However, in case you do, your grade will be penalized as follows:\n",
        "- September 20, 11:59 pm : grade * 0.75\n",
        "- September 21, 11:59 pm : grade * 0.5\n",
        "- September 22, 11:59 pm : grade * 0.25\n"
      ]
    },
    {
      "cell_type": "markdown",
      "metadata": {
        "id": "joN9pvZJIfW5"
      },
      "source": [
        "## Submission\n",
        "\n",
        "On Google Classroom, submit your Jupyter Notebook (in Portuguese or English).\n",
        "\n",
        "**This activity is NOT individual, it must be done in pairs (two-person group).**"
      ]
    }
  ],
  "metadata": {
    "colab": {
      "provenance": []
    },
    "gpuClass": "standard",
    "kernelspec": {
      "display_name": "Python 3.8.8 ('base')",
      "language": "python",
      "name": "python3"
    },
    "language_info": {
      "codemirror_mode": {
        "name": "ipython",
        "version": 3
      },
      "file_extension": ".py",
      "mimetype": "text/x-python",
      "name": "python",
      "nbconvert_exporter": "python",
      "pygments_lexer": "ipython3",
      "version": "3.8.8"
    },
    "vscode": {
      "interpreter": {
        "hash": "7758e92e9a61d7a3490898707f7eeb937c85e9d1e8d4e877cc6c187218f226d5"
      }
    }
  },
  "nbformat": 4,
  "nbformat_minor": 0
}
